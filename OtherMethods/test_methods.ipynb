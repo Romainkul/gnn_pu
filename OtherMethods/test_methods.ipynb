{
 "cells": [
  {
   "cell_type": "code",
   "execution_count": 1,
   "metadata": {},
   "outputs": [
    {
     "name": "stderr",
     "output_type": "stream",
     "text": [
      "c:\\Users\\romai\\AppData\\Local\\Programs\\Python\\Python313\\Lib\\site-packages\\tqdm\\auto.py:21: TqdmWarning: IProgress not found. Please update jupyter and ipywidgets. See https://ipywidgets.readthedocs.io/en/stable/user_install.html\n",
      "  from .autonotebook import tqdm as notebook_tqdm\n"
     ]
    },
    {
     "name": "stdout",
     "output_type": "stream",
     "text": [
      "[Epoch 005/50] Loss: 0.0500\n",
      "[Epoch 010/50] Loss: 0.0113\n",
      "[Epoch 015/50] Loss: 0.0032\n",
      "[Epoch 020/50] Loss: 0.0013\n",
      "[Epoch 025/50] Loss: 0.0006\n",
      "[Epoch 030/50] Loss: 0.0004\n",
      "[Epoch 035/50] Loss: 0.0003\n",
      "[Epoch 040/50] Loss: 0.0002\n",
      "[Epoch 045/50] Loss: 0.0002\n",
      "[Epoch 050/50] Loss: 0.0002\n",
      "Training Complete!\n",
      "\n",
      "=== Evaluation on Test Set ===\n",
      "Accuracy  : 0.7896\n",
      "F1 Score  : 0.0028\n",
      "Recall    : 0.0014\n",
      "Precision : 1.0000\n"
     ]
    }
   ],
   "source": [
    "from base_test import train_and_evaluate\n",
    "\n",
    "train_and_evaluate(dataset_name=\"citeseer\",mechanism= \"SCAR\",seed= 1,train_pct= 0.5, hidden_dim=256, output_dim=1, num_layers=2, dropout=0, num_epochs=50, lr=0.001, weight_decay=5e-4, model_type=\"GCN\", imbalance=False)\n"
   ]
  },
  {
   "cell_type": "code",
   "execution_count": null,
   "metadata": {},
   "outputs": [],
   "source": [
    "from LSDAN import train_and_evaluate_LSDAN\n"
   ]
  }
 ],
 "metadata": {
  "kernelspec": {
   "display_name": "Python 3",
   "language": "python",
   "name": "python3"
  },
  "language_info": {
   "codemirror_mode": {
    "name": "ipython",
    "version": 3
   },
   "file_extension": ".py",
   "mimetype": "text/x-python",
   "name": "python",
   "nbconvert_exporter": "python",
   "pygments_lexer": "ipython3",
   "version": "3.13.2"
  }
 },
 "nbformat": 4,
 "nbformat_minor": 2
}
