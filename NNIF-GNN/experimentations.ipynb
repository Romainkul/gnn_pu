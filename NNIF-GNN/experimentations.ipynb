{
 "cells": [
  {
   "cell_type": "code",
   "execution_count": 1,
   "metadata": {},
   "outputs": [],
   "source": [
    "#%pip install torch==2.5.1 torchvision==0.20.1 torchaudio==2.5.1 --index-url https://download.pytorch.org/whl/cu124 --force-reinstall"
   ]
  },
  {
   "cell_type": "code",
   "execution_count": 2,
   "metadata": {},
   "outputs": [
    {
     "name": "stdout",
     "output_type": "stream",
     "text": [
      "Installing packages for torch-2.5.1+cu124...\n",
      "Looking in links: https://data.pyg.org/whl/torch-2.5.1+cu124.html\n",
      "Requirement already satisfied: pyg_lib in c:\\users\\romai\\desktop\\gnn\\gnn_pu\\.conda\\lib\\site-packages (0.4.0+pt25cu124)\n",
      "Requirement already satisfied: torch_scatter in c:\\users\\romai\\desktop\\gnn\\gnn_pu\\.conda\\lib\\site-packages (2.1.2+pt25cu124)\n",
      "Requirement already satisfied: torch_sparse in c:\\users\\romai\\desktop\\gnn\\gnn_pu\\.conda\\lib\\site-packages (0.6.18+pt25cu124)\n",
      "Requirement already satisfied: torch_cluster in c:\\users\\romai\\desktop\\gnn\\gnn_pu\\.conda\\lib\\site-packages (1.6.3+pt25cu124)\n",
      "Requirement already satisfied: torch_spline_conv in c:\\users\\romai\\desktop\\gnn\\gnn_pu\\.conda\\lib\\site-packages (1.2.2+pt25cu124)\n",
      "Requirement already satisfied: scipy in c:\\users\\romai\\desktop\\gnn\\gnn_pu\\.conda\\lib\\site-packages (from torch_sparse) (1.15.2)\n",
      "Requirement already satisfied: numpy<2.5,>=1.23.5 in c:\\users\\romai\\desktop\\gnn\\gnn_pu\\.conda\\lib\\site-packages (from scipy->torch_sparse) (2.1.2)\n",
      "Note: you may need to restart the kernel to use updated packages.\n",
      "Requirement already satisfied: torch_geometric in c:\\users\\romai\\desktop\\gnn\\gnn_pu\\.conda\\lib\\site-packages (2.6.1)\n",
      "Requirement already satisfied: aiohttp in c:\\users\\romai\\desktop\\gnn\\gnn_pu\\.conda\\lib\\site-packages (from torch_geometric) (3.11.12)\n",
      "Requirement already satisfied: fsspec in c:\\users\\romai\\desktop\\gnn\\gnn_pu\\.conda\\lib\\site-packages (from torch_geometric) (2024.6.1)\n",
      "Requirement already satisfied: jinja2 in c:\\users\\romai\\desktop\\gnn\\gnn_pu\\.conda\\lib\\site-packages (from torch_geometric) (3.1.4)\n",
      "Requirement already satisfied: numpy in c:\\users\\romai\\desktop\\gnn\\gnn_pu\\.conda\\lib\\site-packages (from torch_geometric) (2.1.2)\n",
      "Requirement already satisfied: psutil>=5.8.0 in c:\\users\\romai\\desktop\\gnn\\gnn_pu\\.conda\\lib\\site-packages (from torch_geometric) (6.1.1)\n",
      "Requirement already satisfied: pyparsing in c:\\users\\romai\\desktop\\gnn\\gnn_pu\\.conda\\lib\\site-packages (from torch_geometric) (3.2.1)\n",
      "Requirement already satisfied: requests in c:\\users\\romai\\desktop\\gnn\\gnn_pu\\.conda\\lib\\site-packages (from torch_geometric) (2.32.3)\n",
      "Requirement already satisfied: tqdm in c:\\users\\romai\\desktop\\gnn\\gnn_pu\\.conda\\lib\\site-packages (from torch_geometric) (4.67.1)\n",
      "Requirement already satisfied: aiohappyeyeballs>=2.3.0 in c:\\users\\romai\\desktop\\gnn\\gnn_pu\\.conda\\lib\\site-packages (from aiohttp->torch_geometric) (2.4.6)\n",
      "Requirement already satisfied: aiosignal>=1.1.2 in c:\\users\\romai\\desktop\\gnn\\gnn_pu\\.conda\\lib\\site-packages (from aiohttp->torch_geometric) (1.3.2)\n",
      "Requirement already satisfied: attrs>=17.3.0 in c:\\users\\romai\\desktop\\gnn\\gnn_pu\\.conda\\lib\\site-packages (from aiohttp->torch_geometric) (25.1.0)\n",
      "Requirement already satisfied: frozenlist>=1.1.1 in c:\\users\\romai\\desktop\\gnn\\gnn_pu\\.conda\\lib\\site-packages (from aiohttp->torch_geometric) (1.5.0)\n",
      "Requirement already satisfied: multidict<7.0,>=4.5 in c:\\users\\romai\\desktop\\gnn\\gnn_pu\\.conda\\lib\\site-packages (from aiohttp->torch_geometric) (6.1.0)\n",
      "Requirement already satisfied: propcache>=0.2.0 in c:\\users\\romai\\desktop\\gnn\\gnn_pu\\.conda\\lib\\site-packages (from aiohttp->torch_geometric) (0.2.1)\n",
      "Requirement already satisfied: yarl<2.0,>=1.17.0 in c:\\users\\romai\\desktop\\gnn\\gnn_pu\\.conda\\lib\\site-packages (from aiohttp->torch_geometric) (1.18.3)\n",
      "Requirement already satisfied: MarkupSafe>=2.0 in c:\\users\\romai\\desktop\\gnn\\gnn_pu\\.conda\\lib\\site-packages (from jinja2->torch_geometric) (2.1.5)\n",
      "Requirement already satisfied: charset-normalizer<4,>=2 in c:\\users\\romai\\desktop\\gnn\\gnn_pu\\.conda\\lib\\site-packages (from requests->torch_geometric) (3.4.1)\n",
      "Requirement already satisfied: idna<4,>=2.5 in c:\\users\\romai\\desktop\\gnn\\gnn_pu\\.conda\\lib\\site-packages (from requests->torch_geometric) (3.10)\n",
      "Requirement already satisfied: urllib3<3,>=1.21.1 in c:\\users\\romai\\desktop\\gnn\\gnn_pu\\.conda\\lib\\site-packages (from requests->torch_geometric) (2.3.0)\n",
      "Requirement already satisfied: certifi>=2017.4.17 in c:\\users\\romai\\desktop\\gnn\\gnn_pu\\.conda\\lib\\site-packages (from requests->torch_geometric) (2025.1.31)\n",
      "Requirement already satisfied: colorama in c:\\users\\romai\\desktop\\gnn\\gnn_pu\\.conda\\lib\\site-packages (from tqdm->torch_geometric) (0.4.6)\n",
      "Note: you may need to restart the kernel to use updated packages.\n"
     ]
    }
   ],
   "source": [
    "import torch\n",
    "\n",
    "def format_pytorch_version(version_str):\n",
    "    # Example input: \"2.0.1+cu118\" -> returns \"2.0.1\"\n",
    "    return version_str.split('+')[0]\n",
    "\n",
    "def format_cuda_version(cuda_str):\n",
    "    # If CUDA is None (CPU-only PyTorch), return \"cpu\"\n",
    "    if cuda_str is None:\n",
    "        return \"cpu\"\n",
    "    # Example: \"11.8\" -> \"cu118\"\n",
    "    return \"cu\" + cuda_str.replace('.', '')\n",
    "\n",
    "TORCH_version = torch.__version__\n",
    "TORCH = format_pytorch_version(TORCH_version)\n",
    "CUDA_version = torch.version.cuda\n",
    "CUDA = format_cuda_version(CUDA_version)\n",
    "\n",
    "print(f\"Installing packages for torch-{TORCH}+{CUDA}...\")\n",
    "\n",
    "%pip install --upgrade --no-cache-dir pyg_lib torch_scatter torch_sparse torch_cluster torch_spline_conv -f https://data.pyg.org/whl/torch-{TORCH}+{CUDA}.html\n",
    "\n",
    "%pip install torch_geometric"
   ]
  },
  {
   "cell_type": "code",
   "execution_count": 3,
   "metadata": {},
   "outputs": [
    {
     "name": "stdout",
     "output_type": "stream",
     "text": [
      "Requirement already satisfied: scikit-learn in c:\\users\\romai\\desktop\\gnn\\gnn_pu\\.conda\\lib\\site-packages (1.6.1)\n",
      "Requirement already satisfied: imbalanced-learn in c:\\users\\romai\\desktop\\gnn\\gnn_pu\\.conda\\lib\\site-packages (0.13.0)\n",
      "Requirement already satisfied: xgboost in c:\\users\\romai\\desktop\\gnn\\gnn_pu\\.conda\\lib\\site-packages (2.1.4)\n",
      "Requirement already satisfied: numpy>=1.19.5 in c:\\users\\romai\\desktop\\gnn\\gnn_pu\\.conda\\lib\\site-packages (from scikit-learn) (2.1.2)\n",
      "Requirement already satisfied: scipy>=1.6.0 in c:\\users\\romai\\desktop\\gnn\\gnn_pu\\.conda\\lib\\site-packages (from scikit-learn) (1.15.2)\n",
      "Requirement already satisfied: joblib>=1.2.0 in c:\\users\\romai\\desktop\\gnn\\gnn_pu\\.conda\\lib\\site-packages (from scikit-learn) (1.4.2)\n",
      "Requirement already satisfied: threadpoolctl>=3.1.0 in c:\\users\\romai\\desktop\\gnn\\gnn_pu\\.conda\\lib\\site-packages (from scikit-learn) (3.5.0)\n",
      "Requirement already satisfied: sklearn-compat<1,>=0.1 in c:\\users\\romai\\desktop\\gnn\\gnn_pu\\.conda\\lib\\site-packages (from imbalanced-learn) (0.1.3)\n",
      "Note: you may need to restart the kernel to use updated packages.\n"
     ]
    }
   ],
   "source": [
    "%pip install scikit-learn imbalanced-learn xgboost"
   ]
  },
  {
   "cell_type": "code",
   "execution_count": 4,
   "metadata": {},
   "outputs": [
    {
     "name": "stdout",
     "output_type": "stream",
     "text": [
      "Requirement already satisfied: optuna in c:\\users\\romai\\desktop\\gnn\\gnn_pu\\.conda\\lib\\site-packages (4.2.1)\n",
      "Requirement already satisfied: alembic>=1.5.0 in c:\\users\\romai\\desktop\\gnn\\gnn_pu\\.conda\\lib\\site-packages (from optuna) (1.14.1)\n",
      "Requirement already satisfied: colorlog in c:\\users\\romai\\desktop\\gnn\\gnn_pu\\.conda\\lib\\site-packages (from optuna) (6.9.0)\n",
      "Requirement already satisfied: numpy in c:\\users\\romai\\desktop\\gnn\\gnn_pu\\.conda\\lib\\site-packages (from optuna) (2.1.2)\n",
      "Requirement already satisfied: packaging>=20.0 in c:\\users\\romai\\desktop\\gnn\\gnn_pu\\.conda\\lib\\site-packages (from optuna) (24.2)\n",
      "Requirement already satisfied: sqlalchemy>=1.4.2 in c:\\users\\romai\\desktop\\gnn\\gnn_pu\\.conda\\lib\\site-packages (from optuna) (2.0.38)\n",
      "Requirement already satisfied: tqdm in c:\\users\\romai\\desktop\\gnn\\gnn_pu\\.conda\\lib\\site-packages (from optuna) (4.67.1)\n",
      "Requirement already satisfied: PyYAML in c:\\users\\romai\\desktop\\gnn\\gnn_pu\\.conda\\lib\\site-packages (from optuna) (6.0.2)\n",
      "Requirement already satisfied: Mako in c:\\users\\romai\\desktop\\gnn\\gnn_pu\\.conda\\lib\\site-packages (from alembic>=1.5.0->optuna) (1.3.9)\n",
      "Requirement already satisfied: typing-extensions>=4 in c:\\users\\romai\\desktop\\gnn\\gnn_pu\\.conda\\lib\\site-packages (from alembic>=1.5.0->optuna) (4.12.2)\n",
      "Requirement already satisfied: greenlet!=0.4.17 in c:\\users\\romai\\desktop\\gnn\\gnn_pu\\.conda\\lib\\site-packages (from sqlalchemy>=1.4.2->optuna) (3.1.1)\n",
      "Requirement already satisfied: colorama in c:\\users\\romai\\desktop\\gnn\\gnn_pu\\.conda\\lib\\site-packages (from colorlog->optuna) (0.4.6)\n",
      "Requirement already satisfied: MarkupSafe>=0.9.2 in c:\\users\\romai\\desktop\\gnn\\gnn_pu\\.conda\\lib\\site-packages (from Mako->alembic>=1.5.0->optuna) (2.1.5)\n",
      "Note: you may need to restart the kernel to use updated packages.\n"
     ]
    }
   ],
   "source": [
    "%pip install optuna"
   ]
  },
  {
   "cell_type": "markdown",
   "metadata": {},
   "source": [
    "### Hyperparameter Optimization Citeseer\n",
    "#### SCAR "
   ]
  },
  {
   "cell_type": "code",
   "execution_count": null,
   "metadata": {},
   "outputs": [
    {
     "name": "stderr",
     "output_type": "stream",
     "text": [
      "[I 2025-03-12 11:20:21,411] A new study created in memory with name: no-name-c7765fdb-3828-49f5-bbd8-fe3279a0a332\n"
     ]
    },
    {
     "name": "stdout",
     "output_type": "stream",
     "text": [
      "Running experiment with seed=654:\n",
      " - K=4, layers=2, hidden=256, out=64\n",
      " - norm=None, dropout=0, batch_size=15, reliable_mini_batch=True\n",
      " - ratio=0.09767575025383361, aggregation=sum, treatment=relabeling\n",
      " - model_type=SAGEConv, rate_pairs=10, clusters=100, lr=0.00901690252087701\n"
     ]
    },
    {
     "name": "stderr",
     "output_type": "stream",
     "text": [
      "Computing METIS partitioning...\n",
      "Done!\n"
     ]
    },
    {
     "name": "stdout",
     "output_type": "stream",
     "text": [
      "Epoch 0, Loss: 4.0619\n",
      "Epoch 10, Loss: 3.1184\n",
      "Epoch 20, Loss: 2.0205\n",
      "Epoch 30, Loss: 1.3516\n",
      "Epoch 40, Loss: 0.9404\n"
     ]
    },
    {
     "name": "stderr",
     "output_type": "stream",
     "text": [
      "[I 2025-03-12 11:20:52,031] Trial 0 finished with value: 0.676602086438152 and parameters: {'K': 4, 'layers': 2, 'hidden_channels': 256, 'out_channels': 64, 'ratio': 0.09767575025383361, 'aggregation': 'sum', 'treatment': 'relabeling', 'model_type': 'SAGEConv', 'rate_pairs': 10, 'batch_size': 15, 'lr': 0.00901690252087701, 'clusters': 100}. Best is trial 0 with value: 0.676602086438152.\n"
     ]
    },
    {
     "name": "stdout",
     "output_type": "stream",
     "text": [
      " - Metrics: Accuracy=0.8696, F1=0.6766, Recall=0.6476, Precision=0.7083\n",
      "F1 = 0.68 < 0.835, skipping ...\n",
      "Done. Results written to citeseer_experimentations\\citeseer_scar_sampling_nnif_batch_cluster_1203112021.csv.\n",
      "Average F1 over valid seeds: 0.6766 ± 0.0000\n",
      "Running experiment with seed=654:\n",
      " - K=4, layers=1, hidden=64, out=64\n",
      " - norm=None, dropout=0, batch_size=1, reliable_mini_batch=True\n",
      " - ratio=0.10150501612558517, aggregation=sum, treatment=removal\n",
      " - model_type=GINConv, rate_pairs=9, clusters=100, lr=0.007912856249357784\n"
     ]
    },
    {
     "name": "stderr",
     "output_type": "stream",
     "text": [
      "Computing METIS partitioning...\n",
      "Done!\n",
      "[I 2025-03-12 11:20:55,441] Trial 1 finished with value: 0.0 and parameters: {'K': 4, 'layers': 1, 'hidden_channels': 64, 'out_channels': 64, 'ratio': 0.10150501612558517, 'aggregation': 'sum', 'treatment': 'removal', 'model_type': 'GINConv', 'rate_pairs': 9, 'batch_size': 1, 'lr': 0.007912856249357784, 'clusters': 100}. Best is trial 0 with value: 0.676602086438152.\n"
     ]
    },
    {
     "name": "stdout",
     "output_type": "stream",
     "text": [
      "Error: Labels must be in {0,1}, got [0].\n",
      "Done. Results written to citeseer_experimentations\\citeseer_scar_sampling_nnif_batch_cluster_1203112052.csv.\n",
      "Average F1 over valid seeds: 0.0000 ± 0.0000\n",
      "Running experiment with seed=654:\n",
      " - K=3, layers=1, hidden=256, out=64\n",
      " - norm=None, dropout=0, batch_size=5, reliable_mini_batch=True\n",
      " - ratio=0.09189430602320858, aggregation=sum, treatment=removal\n",
      " - model_type=GATConv, rate_pairs=1, clusters=100, lr=0.004221047121711186\n"
     ]
    },
    {
     "name": "stderr",
     "output_type": "stream",
     "text": [
      "Computing METIS partitioning...\n",
      "Done!\n"
     ]
    },
    {
     "name": "stdout",
     "output_type": "stream",
     "text": [
      "Epoch 0, Loss: 14.4128\n",
      "Epoch 10, Loss: 8.5733\n",
      "Epoch 20, Loss: 4.9554\n",
      "Epoch 30, Loss: 3.1662\n",
      "Epoch 40, Loss: 2.0765\n",
      " - Metrics: Accuracy=0.9363, F1=0.8374, Recall=0.7789, Precision=0.9055\n",
      "Running experiment with seed=114:\n",
      " - K=3, layers=1, hidden=256, out=64\n",
      " - norm=None, dropout=0, batch_size=5, reliable_mini_batch=True\n",
      " - ratio=0.09189430602320858, aggregation=sum, treatment=removal\n",
      " - model_type=GATConv, rate_pairs=1, clusters=100, lr=0.004221047121711186\n"
     ]
    },
    {
     "name": "stderr",
     "output_type": "stream",
     "text": [
      "Computing METIS partitioning...\n",
      "Done!\n"
     ]
    },
    {
     "name": "stdout",
     "output_type": "stream",
     "text": [
      "Epoch 0, Loss: 13.7376\n",
      "Epoch 10, Loss: 8.4432\n",
      "Epoch 20, Loss: 4.9204\n",
      "Epoch 30, Loss: 3.0099\n",
      "Epoch 40, Loss: 2.0471\n"
     ]
    },
    {
     "name": "stderr",
     "output_type": "stream",
     "text": [
      "[I 2025-03-12 11:22:34,153] Trial 2 finished with value: 0.8327194385428851 and parameters: {'K': 3, 'layers': 1, 'hidden_channels': 256, 'out_channels': 64, 'ratio': 0.09189430602320858, 'aggregation': 'sum', 'treatment': 'removal', 'model_type': 'GATConv', 'rate_pairs': 1, 'batch_size': 5, 'lr': 0.004221047121711186, 'clusters': 100}. Best is trial 2 with value: 0.8327194385428851.\n"
     ]
    },
    {
     "name": "stdout",
     "output_type": "stream",
     "text": [
      " - Metrics: Accuracy=0.9336, F1=0.8280, Recall=0.7589, Precision=0.9110\n",
      "F1 = 0.83 < 0.835, skipping ...\n",
      "Done. Results written to citeseer_experimentations\\citeseer_scar_sampling_nnif_batch_cluster_1203112055.csv.\n",
      "Average F1 over valid seeds: 0.8327 ± 0.0047\n",
      "Running experiment with seed=654:\n",
      " - K=6, layers=1, hidden=128, out=128\n",
      " - norm=None, dropout=0, batch_size=15, reliable_mini_batch=True\n",
      " - ratio=0.15170399263676432, aggregation=sum, treatment=removal\n",
      " - model_type=SAGEConv, rate_pairs=7, clusters=100, lr=0.006462110144348366\n"
     ]
    },
    {
     "name": "stderr",
     "output_type": "stream",
     "text": [
      "Computing METIS partitioning...\n",
      "Done!\n"
     ]
    },
    {
     "name": "stdout",
     "output_type": "stream",
     "text": [
      "Epoch 0, Loss: 6.6433\n",
      "Epoch 10, Loss: 5.5582\n",
      "Epoch 20, Loss: 4.3949\n",
      "Epoch 30, Loss: 3.4133\n",
      "Epoch 40, Loss: 2.4660\n",
      " - Metrics: Accuracy=0.9339, F1=0.8363, Recall=0.8017, Precision=0.8740\n",
      "Running experiment with seed=114:\n",
      " - K=6, layers=1, hidden=128, out=128\n",
      " - norm=None, dropout=0, batch_size=15, reliable_mini_batch=True\n",
      " - ratio=0.15170399263676432, aggregation=sum, treatment=removal\n",
      " - model_type=SAGEConv, rate_pairs=7, clusters=100, lr=0.006462110144348366\n"
     ]
    },
    {
     "name": "stderr",
     "output_type": "stream",
     "text": [
      "Computing METIS partitioning...\n",
      "Done!\n"
     ]
    },
    {
     "name": "stdout",
     "output_type": "stream",
     "text": [
      "Epoch 0, Loss: 6.3378\n",
      "Epoch 10, Loss: 5.3669\n",
      "Epoch 20, Loss: 4.2918\n",
      "Epoch 30, Loss: 3.2252\n",
      "Epoch 40, Loss: 2.3322\n",
      " - Metrics: Accuracy=0.9375, F1=0.8429, Recall=0.7960, Precision=0.8957\n",
      "Running experiment with seed=25:\n",
      " - K=6, layers=1, hidden=128, out=128\n",
      " - norm=None, dropout=0, batch_size=15, reliable_mini_batch=True\n",
      " - ratio=0.15170399263676432, aggregation=sum, treatment=removal\n",
      " - model_type=SAGEConv, rate_pairs=7, clusters=100, lr=0.006462110144348366\n"
     ]
    },
    {
     "name": "stderr",
     "output_type": "stream",
     "text": [
      "Computing METIS partitioning...\n",
      "Done!\n"
     ]
    },
    {
     "name": "stdout",
     "output_type": "stream",
     "text": [
      "Epoch 0, Loss: 6.3378\n",
      "Epoch 10, Loss: 5.3669\n",
      "Epoch 20, Loss: 4.2918\n",
      "Epoch 30, Loss: 3.2252\n",
      "Epoch 40, Loss: 2.3322\n",
      " - Metrics: Accuracy=0.9375, F1=0.8429, Recall=0.7960, Precision=0.8957\n",
      "Running experiment with seed=759:\n",
      " - K=6, layers=1, hidden=128, out=128\n",
      " - norm=None, dropout=0, batch_size=15, reliable_mini_batch=True\n",
      " - ratio=0.15170399263676432, aggregation=sum, treatment=removal\n",
      " - model_type=SAGEConv, rate_pairs=7, clusters=100, lr=0.006462110144348366\n"
     ]
    },
    {
     "name": "stderr",
     "output_type": "stream",
     "text": [
      "Computing METIS partitioning...\n",
      "Done!\n"
     ]
    },
    {
     "name": "stdout",
     "output_type": "stream",
     "text": [
      "Epoch 0, Loss: 6.3378\n",
      "Epoch 10, Loss: 5.3669\n",
      "Epoch 20, Loss: 4.2918\n",
      "Epoch 30, Loss: 3.2252\n",
      "Epoch 40, Loss: 2.3322\n",
      " - Metrics: Accuracy=0.9375, F1=0.8429, Recall=0.7960, Precision=0.8957\n",
      "Running experiment with seed=281:\n",
      " - K=6, layers=1, hidden=128, out=128\n",
      " - norm=None, dropout=0, batch_size=15, reliable_mini_batch=True\n",
      " - ratio=0.15170399263676432, aggregation=sum, treatment=removal\n",
      " - model_type=SAGEConv, rate_pairs=7, clusters=100, lr=0.006462110144348366\n"
     ]
    },
    {
     "name": "stderr",
     "output_type": "stream",
     "text": [
      "Computing METIS partitioning...\n",
      "Done!\n"
     ]
    },
    {
     "name": "stdout",
     "output_type": "stream",
     "text": [
      "Epoch 0, Loss: 6.3378\n",
      "Epoch 10, Loss: 5.3669\n",
      "Epoch 20, Loss: 4.2918\n",
      "Epoch 30, Loss: 3.2252\n",
      "Epoch 40, Loss: 2.3322\n"
     ]
    },
    {
     "name": "stderr",
     "output_type": "stream",
     "text": [
      "[I 2025-03-12 11:24:29,396] Trial 3 finished with value: 0.8415821464537476 and parameters: {'K': 6, 'layers': 1, 'hidden_channels': 128, 'out_channels': 128, 'ratio': 0.15170399263676432, 'aggregation': 'sum', 'treatment': 'removal', 'model_type': 'SAGEConv', 'rate_pairs': 7, 'batch_size': 15, 'lr': 0.006462110144348366, 'clusters': 100}. Best is trial 3 with value: 0.8415821464537476.\n"
     ]
    },
    {
     "name": "stdout",
     "output_type": "stream",
     "text": [
      " - Metrics: Accuracy=0.9375, F1=0.8429, Recall=0.7960, Precision=0.8957\n",
      "Done. Results written to citeseer_experimentations\\citeseer_scar_sampling_nnif_batch_cluster_1203112234.csv.\n",
      "Average F1 over valid seeds: 0.8416 ± 0.0026\n",
      "Running experiment with seed=654:\n",
      " - K=3, layers=1, hidden=256, out=64\n",
      " - norm=None, dropout=0, batch_size=5, reliable_mini_batch=True\n",
      " - ratio=0.09995200434788334, aggregation=sum, treatment=relabeling\n",
      " - model_type=SAGEConv, rate_pairs=2, clusters=100, lr=0.0046282584481635745\n"
     ]
    },
    {
     "name": "stderr",
     "output_type": "stream",
     "text": [
      "Computing METIS partitioning...\n",
      "Done!\n"
     ]
    },
    {
     "name": "stdout",
     "output_type": "stream",
     "text": [
      "Epoch 0, Loss: 10.7261\n",
      "Epoch 10, Loss: 6.5355\n",
      "Epoch 20, Loss: 3.6068\n",
      "Epoch 30, Loss: 2.1407\n",
      "Epoch 40, Loss: 1.4231\n"
     ]
    },
    {
     "name": "stderr",
     "output_type": "stream",
     "text": [
      "[I 2025-03-12 11:25:08,393] Trial 4 finished with value: 0.8065233506300964 and parameters: {'K': 3, 'layers': 1, 'hidden_channels': 256, 'out_channels': 64, 'ratio': 0.09995200434788334, 'aggregation': 'sum', 'treatment': 'relabeling', 'model_type': 'SAGEConv', 'rate_pairs': 2, 'batch_size': 5, 'lr': 0.0046282584481635745, 'clusters': 100}. Best is trial 3 with value: 0.8415821464537476.\n"
     ]
    },
    {
     "name": "stdout",
     "output_type": "stream",
     "text": [
      " - Metrics: Accuracy=0.9216, F1=0.8065, Recall=0.7760, Precision=0.8395\n",
      "F1 = 0.81 < 0.835, skipping ...\n",
      "Done. Results written to citeseer_experimentations\\citeseer_scar_sampling_nnif_batch_cluster_1203112429.csv.\n",
      "Average F1 over valid seeds: 0.8065 ± 0.0000\n",
      "Running experiment with seed=654:\n",
      " - K=6, layers=2, hidden=128, out=256\n",
      " - norm=None, dropout=0, batch_size=15, reliable_mini_batch=True\n",
      " - ratio=0.09011499618450577, aggregation=mean, treatment=removal\n",
      " - model_type=SAGEConv, rate_pairs=8, clusters=400, lr=0.002905981320972891\n"
     ]
    },
    {
     "name": "stderr",
     "output_type": "stream",
     "text": [
      "Computing METIS partitioning...\n",
      "Done!\n"
     ]
    },
    {
     "name": "stdout",
     "output_type": "stream",
     "text": [
      "Epoch 0, Loss: 27.7845\n",
      "Epoch 10, Loss: 20.8952\n",
      "Epoch 20, Loss: 13.7306\n",
      "Epoch 30, Loss: 8.6050\n",
      "Epoch 40, Loss: 5.5550\n"
     ]
    },
    {
     "name": "stderr",
     "output_type": "stream",
     "text": [
      "[I 2025-03-12 11:26:12,580] Trial 5 finished with value: 0.7348678601875532 and parameters: {'K': 6, 'layers': 2, 'hidden_channels': 128, 'out_channels': 256, 'ratio': 0.09011499618450577, 'aggregation': 'mean', 'treatment': 'removal', 'model_type': 'SAGEConv', 'rate_pairs': 8, 'batch_size': 15, 'lr': 0.002905981320972891, 'clusters': 400}. Best is trial 3 with value: 0.8415821464537476.\n"
     ]
    },
    {
     "name": "stdout",
     "output_type": "stream",
     "text": [
      " - Metrics: Accuracy=0.9065, F1=0.7349, Recall=0.6148, Precision=0.9131\n",
      "F1 = 0.73 < 0.835, skipping ...\n",
      "Done. Results written to citeseer_experimentations\\citeseer_scar_sampling_nnif_batch_cluster_1203112508.csv.\n",
      "Average F1 over valid seeds: 0.7349 ± 0.0000\n",
      "Running experiment with seed=654:\n",
      " - K=7, layers=1, hidden=64, out=256\n",
      " - norm=None, dropout=0, batch_size=5, reliable_mini_batch=True\n",
      " - ratio=0.10668373684487059, aggregation=mean, treatment=removal\n",
      " - model_type=GCNConv, rate_pairs=12, clusters=300, lr=0.006720837041918412\n"
     ]
    },
    {
     "name": "stderr",
     "output_type": "stream",
     "text": [
      "Computing METIS partitioning...\n",
      "Done!\n",
      "[I 2025-03-12 11:26:24,861] Trial 6 finished with value: 0.0 and parameters: {'K': 7, 'layers': 1, 'hidden_channels': 64, 'out_channels': 256, 'ratio': 0.10668373684487059, 'aggregation': 'mean', 'treatment': 'removal', 'model_type': 'GCNConv', 'rate_pairs': 12, 'batch_size': 5, 'lr': 0.006720837041918412, 'clusters': 300}. Best is trial 3 with value: 0.8415821464537476.\n"
     ]
    },
    {
     "name": "stdout",
     "output_type": "stream",
     "text": [
      "Error: Labels must be in {0,1}, got [0].\n",
      "Done. Results written to citeseer_experimentations\\citeseer_scar_sampling_nnif_batch_cluster_1203112612.csv.\n",
      "Average F1 over valid seeds: 0.0000 ± 0.0000\n",
      "Running experiment with seed=654:\n",
      " - K=6, layers=2, hidden=64, out=128\n",
      " - norm=None, dropout=0, batch_size=10, reliable_mini_batch=True\n",
      " - ratio=0.15492807994742971, aggregation=sum, treatment=relabeling\n",
      " - model_type=SAGEConv, rate_pairs=15, clusters=300, lr=0.008021408288491322\n"
     ]
    },
    {
     "name": "stderr",
     "output_type": "stream",
     "text": [
      "Computing METIS partitioning...\n",
      "Done!\n"
     ]
    },
    {
     "name": "stdout",
     "output_type": "stream",
     "text": [
      "Epoch 0, Loss: 30.1619\n",
      "Epoch 10, Loss: 9.0335\n",
      "Epoch 20, Loss: 3.3952\n",
      "Epoch 30, Loss: 1.7778\n",
      "Epoch 40, Loss: 1.1290\n"
     ]
    },
    {
     "name": "stderr",
     "output_type": "stream",
     "text": [
      "[I 2025-03-12 11:27:30,940] Trial 7 finished with value: 0.7032385988103106 and parameters: {'K': 6, 'layers': 2, 'hidden_channels': 64, 'out_channels': 128, 'ratio': 0.15492807994742971, 'aggregation': 'sum', 'treatment': 'relabeling', 'model_type': 'SAGEConv', 'rate_pairs': 15, 'batch_size': 10, 'lr': 0.008021408288491322, 'clusters': 300}. Best is trial 3 with value: 0.8415821464537476.\n",
      "Computing METIS partitioning...\n",
      "Done!\n"
     ]
    },
    {
     "name": "stdout",
     "output_type": "stream",
     "text": [
      " - Metrics: Accuracy=0.8650, F1=0.7032, Recall=0.7589, Precision=0.6552\n",
      "F1 = 0.70 < 0.835, skipping ...\n",
      "Done. Results written to citeseer_experimentations\\citeseer_scar_sampling_nnif_batch_cluster_1203112624.csv.\n",
      "Average F1 over valid seeds: 0.7032 ± 0.0000\n",
      "Running experiment with seed=654:\n",
      " - K=5, layers=2, hidden=256, out=256\n",
      " - norm=None, dropout=0, batch_size=15, reliable_mini_batch=True\n",
      " - ratio=0.13294599853778824, aggregation=sum, treatment=removal\n",
      " - model_type=GCNConv, rate_pairs=2, clusters=100, lr=0.002571750499567785\n",
      "Epoch 0, Loss: 5.7582\n",
      "Epoch 10, Loss: 5.4669\n",
      "Epoch 20, Loss: 5.0953\n",
      "Epoch 30, Loss: 4.5516\n",
      "Epoch 40, Loss: 4.2394\n",
      " - Metrics: Accuracy=0.9402, F1=0.8477, Recall=0.7903, Precision=0.9142\n",
      "Running experiment with seed=114:\n",
      " - K=5, layers=2, hidden=256, out=256\n",
      " - norm=None, dropout=0, batch_size=15, reliable_mini_batch=True\n",
      " - ratio=0.13294599853778824, aggregation=sum, treatment=removal\n",
      " - model_type=GCNConv, rate_pairs=2, clusters=100, lr=0.002571750499567785\n"
     ]
    },
    {
     "name": "stderr",
     "output_type": "stream",
     "text": [
      "Computing METIS partitioning...\n",
      "Done!\n"
     ]
    },
    {
     "name": "stdout",
     "output_type": "stream",
     "text": [
      "Epoch 0, Loss: 5.5436\n",
      "Epoch 10, Loss: 5.2523\n",
      "Epoch 20, Loss: 4.7921\n",
      "Epoch 30, Loss: 4.4962\n",
      "Epoch 40, Loss: 4.0764\n",
      " - Metrics: Accuracy=0.9450, F1=0.8641, Recall=0.8302, Precision=0.9009\n",
      "Running experiment with seed=25:\n",
      " - K=5, layers=2, hidden=256, out=256\n",
      " - norm=None, dropout=0, batch_size=15, reliable_mini_batch=True\n",
      " - ratio=0.13294599853778824, aggregation=sum, treatment=removal\n",
      " - model_type=GCNConv, rate_pairs=2, clusters=100, lr=0.002571750499567785\n"
     ]
    },
    {
     "name": "stderr",
     "output_type": "stream",
     "text": [
      "Computing METIS partitioning...\n",
      "Done!\n"
     ]
    },
    {
     "name": "stdout",
     "output_type": "stream",
     "text": [
      "Epoch 0, Loss: 5.5436\n",
      "Epoch 10, Loss: 5.2523\n",
      "Epoch 20, Loss: 4.7921\n",
      "Epoch 30, Loss: 4.4962\n",
      "Epoch 40, Loss: 4.0764\n",
      " - Metrics: Accuracy=0.9453, F1=0.8644, Recall=0.8274, Precision=0.9048\n",
      "Running experiment with seed=759:\n",
      " - K=5, layers=2, hidden=256, out=256\n",
      " - norm=None, dropout=0, batch_size=15, reliable_mini_batch=True\n",
      " - ratio=0.13294599853778824, aggregation=sum, treatment=removal\n",
      " - model_type=GCNConv, rate_pairs=2, clusters=100, lr=0.002571750499567785\n"
     ]
    },
    {
     "name": "stderr",
     "output_type": "stream",
     "text": [
      "Computing METIS partitioning...\n",
      "Done!\n"
     ]
    },
    {
     "name": "stdout",
     "output_type": "stream",
     "text": [
      "Epoch 0, Loss: 5.5436\n",
      "Epoch 10, Loss: 5.2523\n",
      "Epoch 20, Loss: 4.7921\n",
      "Epoch 30, Loss: 4.4962\n",
      "Epoch 40, Loss: 4.0764\n",
      " - Metrics: Accuracy=0.9453, F1=0.8644, Recall=0.8274, Precision=0.9048\n",
      "Running experiment with seed=281:\n",
      " - K=5, layers=2, hidden=256, out=256\n",
      " - norm=None, dropout=0, batch_size=15, reliable_mini_batch=True\n",
      " - ratio=0.13294599853778824, aggregation=sum, treatment=removal\n",
      " - model_type=GCNConv, rate_pairs=2, clusters=100, lr=0.002571750499567785\n"
     ]
    },
    {
     "name": "stderr",
     "output_type": "stream",
     "text": [
      "Computing METIS partitioning...\n",
      "Done!\n"
     ]
    },
    {
     "name": "stdout",
     "output_type": "stream",
     "text": [
      "Epoch 0, Loss: 5.5436\n",
      "Epoch 10, Loss: 5.2523\n",
      "Epoch 20, Loss: 4.7921\n",
      "Epoch 30, Loss: 4.4962\n",
      "Epoch 40, Loss: 4.0764\n"
     ]
    },
    {
     "name": "stderr",
     "output_type": "stream",
     "text": [
      "[I 2025-03-12 11:29:47,442] Trial 8 finished with value: 0.8606204067072518 and parameters: {'K': 5, 'layers': 2, 'hidden_channels': 256, 'out_channels': 256, 'ratio': 0.13294599853778824, 'aggregation': 'sum', 'treatment': 'removal', 'model_type': 'GCNConv', 'rate_pairs': 2, 'batch_size': 15, 'lr': 0.002571750499567785, 'clusters': 100}. Best is trial 8 with value: 0.8606204067072518.\n"
     ]
    },
    {
     "name": "stdout",
     "output_type": "stream",
     "text": [
      " - Metrics: Accuracy=0.9444, F1=0.8625, Recall=0.8274, Precision=0.9006\n",
      "Done. Results written to citeseer_experimentations\\citeseer_scar_sampling_nnif_batch_cluster_1203112730.csv.\n",
      "Average F1 over valid seeds: 0.8606 ± 0.0065\n",
      "Running experiment with seed=654:\n",
      " - K=6, layers=1, hidden=128, out=64\n",
      " - norm=None, dropout=0, batch_size=10, reliable_mini_batch=True\n",
      " - ratio=0.1571620836634286, aggregation=sum, treatment=removal\n",
      " - model_type=SAGEConv, rate_pairs=7, clusters=200, lr=0.0028223045878203973\n"
     ]
    },
    {
     "name": "stderr",
     "output_type": "stream",
     "text": [
      "Computing METIS partitioning...\n",
      "Done!\n"
     ]
    },
    {
     "name": "stdout",
     "output_type": "stream",
     "text": [
      "Epoch 0, Loss: 19.2620\n",
      "Epoch 10, Loss: 15.9374\n",
      "Epoch 20, Loss: 11.6934\n",
      "Epoch 30, Loss: 8.5708\n",
      "Epoch 40, Loss: 5.8723\n"
     ]
    },
    {
     "name": "stderr",
     "output_type": "stream",
     "text": [
      "[I 2025-03-12 11:30:30,923] Trial 9 finished with value: 0.8196022727272727 and parameters: {'K': 6, 'layers': 1, 'hidden_channels': 128, 'out_channels': 64, 'ratio': 0.1571620836634286, 'aggregation': 'sum', 'treatment': 'removal', 'model_type': 'SAGEConv', 'rate_pairs': 7, 'batch_size': 10, 'lr': 0.0028223045878203973, 'clusters': 200}. Best is trial 8 with value: 0.8606204067072518.\n"
     ]
    },
    {
     "name": "stdout",
     "output_type": "stream",
     "text": [
      " - Metrics: Accuracy=0.9237, F1=0.8196, Recall=0.8231, Precision=0.8161\n",
      "F1 = 0.82 < 0.835, skipping ...\n",
      "Done. Results written to citeseer_experimentations\\citeseer_scar_sampling_nnif_batch_cluster_1203112947.csv.\n",
      "Average F1 over valid seeds: 0.8196 ± 0.0000\n",
      "Running experiment with seed=654:\n",
      " - K=2, layers=2, hidden=256, out=256\n",
      " - norm=None, dropout=0, batch_size=1, reliable_mini_batch=True\n",
      " - ratio=0.12948260999670316, aggregation=mean, treatment=relabeling\n",
      " - model_type=GCNConv, rate_pairs=4, clusters=500, lr=0.0001778946258292136\n"
     ]
    },
    {
     "name": "stderr",
     "output_type": "stream",
     "text": [
      "Computing METIS partitioning...\n",
      "Done!\n",
      "[I 2025-03-12 11:30:31,497] Trial 10 finished with value: 0.0 and parameters: {'K': 2, 'layers': 2, 'hidden_channels': 256, 'out_channels': 256, 'ratio': 0.12948260999670316, 'aggregation': 'mean', 'treatment': 'relabeling', 'model_type': 'GCNConv', 'rate_pairs': 4, 'batch_size': 1, 'lr': 0.0001778946258292136, 'clusters': 500}. Best is trial 8 with value: 0.8606204067072518.\n"
     ]
    },
    {
     "name": "stdout",
     "output_type": "stream",
     "text": [
      "Error: Labels must be in {0,1}, got [0].\n",
      "Done. Results written to citeseer_experimentations\\citeseer_scar_sampling_nnif_batch_cluster_1203113030.csv.\n",
      "Average F1 over valid seeds: 0.0000 ± 0.0000\n",
      "Running experiment with seed=654:\n",
      " - K=5, layers=2, hidden=128, out=128\n",
      " - norm=None, dropout=0, batch_size=15, reliable_mini_batch=True\n",
      " - ratio=0.17996381226916014, aggregation=sum, treatment=removal\n",
      " - model_type=GCNConv, rate_pairs=4, clusters=100, lr=0.0009606488866982579\n"
     ]
    },
    {
     "name": "stderr",
     "output_type": "stream",
     "text": [
      "Computing METIS partitioning...\n",
      "Done!\n"
     ]
    },
    {
     "name": "stdout",
     "output_type": "stream",
     "text": [
      "Epoch 0, Loss: 5.8771\n",
      "Epoch 10, Loss: 5.6074\n",
      "Epoch 20, Loss: 5.5699\n",
      "Epoch 30, Loss: 5.3423\n",
      "Epoch 40, Loss: 5.3908\n"
     ]
    },
    {
     "name": "stderr",
     "output_type": "stream",
     "text": [
      "[I 2025-03-12 11:30:55,389] Trial 11 finished with value: 0.8102941176470588 and parameters: {'K': 5, 'layers': 2, 'hidden_channels': 128, 'out_channels': 128, 'ratio': 0.17996381226916014, 'aggregation': 'sum', 'treatment': 'removal', 'model_type': 'GCNConv', 'rate_pairs': 4, 'batch_size': 15, 'lr': 0.0009606488866982579, 'clusters': 100}. Best is trial 8 with value: 0.8606204067072518.\n"
     ]
    },
    {
     "name": "stdout",
     "output_type": "stream",
     "text": [
      " - Metrics: Accuracy=0.9225, F1=0.8103, Recall=0.7860, Precision=0.8361\n",
      "F1 = 0.81 < 0.835, skipping ...\n",
      "Done. Results written to citeseer_experimentations\\citeseer_scar_sampling_nnif_batch_cluster_1203113031.csv.\n",
      "Average F1 over valid seeds: 0.8103 ± 0.0000\n",
      "Running experiment with seed=654:\n",
      " - K=5, layers=2, hidden=128, out=128\n",
      " - norm=None, dropout=0, batch_size=15, reliable_mini_batch=True\n",
      " - ratio=0.13201514358082062, aggregation=sum, treatment=removal\n",
      " - model_type=GINConv, rate_pairs=5, clusters=500, lr=0.005988292306995523\n"
     ]
    },
    {
     "name": "stderr",
     "output_type": "stream",
     "text": [
      "Computing METIS partitioning...\n",
      "Done!\n"
     ]
    },
    {
     "name": "stdout",
     "output_type": "stream",
     "text": [
      "Epoch 0, Loss: 37.4326\n",
      "Epoch 10, Loss: 12.2163\n",
      "Epoch 20, Loss: 4.7693\n",
      "Epoch 30, Loss: 2.5026\n",
      "Epoch 40, Loss: 1.5006\n"
     ]
    },
    {
     "name": "stderr",
     "output_type": "stream",
     "text": [
      "[I 2025-03-12 11:32:12,993] Trial 12 finished with value: 0.7520259319286872 and parameters: {'K': 5, 'layers': 2, 'hidden_channels': 128, 'out_channels': 128, 'ratio': 0.13201514358082062, 'aggregation': 'sum', 'treatment': 'removal', 'model_type': 'GINConv', 'rate_pairs': 5, 'batch_size': 15, 'lr': 0.005988292306995523, 'clusters': 500}. Best is trial 8 with value: 0.8606204067072518.\n"
     ]
    },
    {
     "name": "stdout",
     "output_type": "stream",
     "text": [
      " - Metrics: Accuracy=0.9080, F1=0.7520, Recall=0.6619, Precision=0.8705\n",
      "F1 = 0.75 < 0.835, skipping ...\n",
      "Done. Results written to citeseer_experimentations\\citeseer_scar_sampling_nnif_batch_cluster_1203113055.csv.\n",
      "Average F1 over valid seeds: 0.7520 ± 0.0000\n",
      "Running experiment with seed=654:\n",
      " - K=7, layers=1, hidden=256, out=128\n",
      " - norm=None, dropout=0, batch_size=15, reliable_mini_batch=True\n",
      " - ratio=0.1465240499655928, aggregation=sum, treatment=removal\n",
      " - model_type=GATConv, rate_pairs=6, clusters=400, lr=0.0023439493787869104\n"
     ]
    },
    {
     "name": "stderr",
     "output_type": "stream",
     "text": [
      "Computing METIS partitioning...\n",
      "Done!\n"
     ]
    },
    {
     "name": "stdout",
     "output_type": "stream",
     "text": [
      "Epoch 0, Loss: 29.4223\n",
      "Epoch 10, Loss: 24.0193\n",
      "Epoch 20, Loss: 17.6409\n",
      "Epoch 30, Loss: 12.9147\n",
      "Epoch 40, Loss: 9.1368\n",
      " - Metrics: Accuracy=0.9354, F1=0.8420, Recall=0.8174, Precision=0.8682\n",
      "Running experiment with seed=114:\n",
      " - K=7, layers=1, hidden=256, out=128\n",
      " - norm=None, dropout=0, batch_size=15, reliable_mini_batch=True\n",
      " - ratio=0.1465240499655928, aggregation=sum, treatment=removal\n",
      " - model_type=GATConv, rate_pairs=6, clusters=400, lr=0.0023439493787869104\n"
     ]
    },
    {
     "name": "stderr",
     "output_type": "stream",
     "text": [
      "Computing METIS partitioning...\n",
      "Done!\n"
     ]
    },
    {
     "name": "stdout",
     "output_type": "stream",
     "text": [
      "Epoch 0, Loss: 28.0998\n",
      "Epoch 10, Loss: 23.1459\n",
      "Epoch 20, Loss: 17.0646\n",
      "Epoch 30, Loss: 12.6393\n",
      "Epoch 40, Loss: 8.9336\n"
     ]
    },
    {
     "name": "stderr",
     "output_type": "stream",
     "text": [
      "[I 2025-03-12 11:34:33,624] Trial 13 finished with value: 0.8378606125911103 and parameters: {'K': 7, 'layers': 1, 'hidden_channels': 256, 'out_channels': 128, 'ratio': 0.1465240499655928, 'aggregation': 'sum', 'treatment': 'removal', 'model_type': 'GATConv', 'rate_pairs': 6, 'batch_size': 15, 'lr': 0.0023439493787869104, 'clusters': 400}. Best is trial 8 with value: 0.8606204067072518.\n"
     ]
    },
    {
     "name": "stdout",
     "output_type": "stream",
     "text": [
      " - Metrics: Accuracy=0.9306, F1=0.8337, Recall=0.8260, Precision=0.8416\n",
      "F1 = 0.83 < 0.835, skipping ...\n",
      "Done. Results written to citeseer_experimentations\\citeseer_scar_sampling_nnif_batch_cluster_1203113213.csv.\n",
      "Average F1 over valid seeds: 0.8379 ± 0.0042\n",
      "Running experiment with seed=654:\n",
      " - K=5, layers=1, hidden=128, out=256\n",
      " - norm=None, dropout=0, batch_size=15, reliable_mini_batch=True\n",
      " - ratio=0.12039007919598863, aggregation=mean, treatment=removal\n",
      " - model_type=GCNConv, rate_pairs=3, clusters=200, lr=0.005705748916036479\n"
     ]
    },
    {
     "name": "stderr",
     "output_type": "stream",
     "text": [
      "Computing METIS partitioning...\n",
      "Done!\n"
     ]
    },
    {
     "name": "stdout",
     "output_type": "stream",
     "text": [
      "Epoch 0, Loss: 12.1702\n",
      "Epoch 10, Loss: 8.4388\n",
      "Epoch 20, Loss: 5.2641\n",
      "Epoch 30, Loss: 3.0987\n",
      "Epoch 40, Loss: 2.0739\n",
      " - Metrics: Accuracy=0.9378, F1=0.8442, Recall=0.8003, Precision=0.8933\n",
      "Running experiment with seed=114:\n",
      " - K=5, layers=1, hidden=128, out=256\n",
      " - norm=None, dropout=0, batch_size=15, reliable_mini_batch=True\n",
      " - ratio=0.12039007919598863, aggregation=mean, treatment=removal\n",
      " - model_type=GCNConv, rate_pairs=3, clusters=200, lr=0.005705748916036479\n"
     ]
    },
    {
     "name": "stderr",
     "output_type": "stream",
     "text": [
      "Computing METIS partitioning...\n",
      "Done!\n"
     ]
    },
    {
     "name": "stdout",
     "output_type": "stream",
     "text": [
      "Epoch 0, Loss: 11.1898\n",
      "Epoch 10, Loss: 7.7942\n",
      "Epoch 20, Loss: 4.7222\n",
      "Epoch 30, Loss: 2.8213\n",
      "Epoch 40, Loss: 1.8811\n",
      " - Metrics: Accuracy=0.9387, F1=0.8466, Recall=0.8031, Precision=0.8951\n",
      "Running experiment with seed=25:\n",
      " - K=5, layers=1, hidden=128, out=256\n",
      " - norm=None, dropout=0, batch_size=15, reliable_mini_batch=True\n",
      " - ratio=0.12039007919598863, aggregation=mean, treatment=removal\n",
      " - model_type=GCNConv, rate_pairs=3, clusters=200, lr=0.005705748916036479\n"
     ]
    },
    {
     "name": "stderr",
     "output_type": "stream",
     "text": [
      "Computing METIS partitioning...\n",
      "Done!\n"
     ]
    },
    {
     "name": "stdout",
     "output_type": "stream",
     "text": [
      "Epoch 0, Loss: 11.1898\n",
      "Epoch 10, Loss: 7.7942\n",
      "Epoch 20, Loss: 4.7222\n",
      "Epoch 30, Loss: 2.8213\n",
      "Epoch 40, Loss: 1.8811\n",
      " - Metrics: Accuracy=0.9390, F1=0.8468, Recall=0.8003, Precision=0.8990\n",
      "Running experiment with seed=759:\n",
      " - K=5, layers=1, hidden=128, out=256\n",
      " - norm=None, dropout=0, batch_size=15, reliable_mini_batch=True\n",
      " - ratio=0.12039007919598863, aggregation=mean, treatment=removal\n",
      " - model_type=GCNConv, rate_pairs=3, clusters=200, lr=0.005705748916036479\n"
     ]
    },
    {
     "name": "stderr",
     "output_type": "stream",
     "text": [
      "Computing METIS partitioning...\n",
      "Done!\n"
     ]
    },
    {
     "name": "stdout",
     "output_type": "stream",
     "text": [
      "Epoch 0, Loss: 11.1898\n",
      "Epoch 10, Loss: 7.7942\n",
      "Epoch 20, Loss: 4.7222\n",
      "Epoch 30, Loss: 2.8213\n",
      "Epoch 40, Loss: 1.8811\n",
      " - Metrics: Accuracy=0.9387, F1=0.8466, Recall=0.8031, Precision=0.8951\n",
      "Running experiment with seed=281:\n",
      " - K=5, layers=1, hidden=128, out=256\n",
      " - norm=None, dropout=0, batch_size=15, reliable_mini_batch=True\n",
      " - ratio=0.12039007919598863, aggregation=mean, treatment=removal\n",
      " - model_type=GCNConv, rate_pairs=3, clusters=200, lr=0.005705748916036479\n"
     ]
    },
    {
     "name": "stderr",
     "output_type": "stream",
     "text": [
      "Computing METIS partitioning...\n",
      "Done!\n"
     ]
    },
    {
     "name": "stdout",
     "output_type": "stream",
     "text": [
      "Epoch 0, Loss: 11.1898\n",
      "Epoch 10, Loss: 7.7942\n",
      "Epoch 20, Loss: 4.7222\n",
      "Epoch 30, Loss: 2.8213\n",
      "Epoch 40, Loss: 1.8811\n"
     ]
    },
    {
     "name": "stderr",
     "output_type": "stream",
     "text": [
      "[I 2025-03-12 11:37:56,837] Trial 14 finished with value: 0.8459915357690742 and parameters: {'K': 5, 'layers': 1, 'hidden_channels': 128, 'out_channels': 256, 'ratio': 0.12039007919598863, 'aggregation': 'mean', 'treatment': 'removal', 'model_type': 'GCNConv', 'rate_pairs': 3, 'batch_size': 15, 'lr': 0.005705748916036479, 'clusters': 200}. Best is trial 8 with value: 0.8606204067072518.\n"
     ]
    },
    {
     "name": "stdout",
     "output_type": "stream",
     "text": [
      " - Metrics: Accuracy=0.9387, F1=0.8457, Recall=0.7974, Precision=0.9002\n",
      "Done. Results written to citeseer_experimentations\\citeseer_scar_sampling_nnif_batch_cluster_1203113433.csv.\n",
      "Average F1 over valid seeds: 0.8460 ± 0.0010\n",
      "Running experiment with seed=654:\n",
      " - K=5, layers=2, hidden=256, out=256\n",
      " - norm=None, dropout=0, batch_size=15, reliable_mini_batch=True\n",
      " - ratio=0.11976286417058378, aggregation=mean, treatment=removal\n",
      " - model_type=GCNConv, rate_pairs=3, clusters=200, lr=0.0038472656312509342\n"
     ]
    },
    {
     "name": "stderr",
     "output_type": "stream",
     "text": [
      "Computing METIS partitioning...\n",
      "Done!\n"
     ]
    },
    {
     "name": "stdout",
     "output_type": "stream",
     "text": [
      "Epoch 0, Loss: 11.5794\n",
      "Epoch 10, Loss: 9.1034\n",
      "Epoch 20, Loss: 7.1396\n",
      "Epoch 30, Loss: 4.8775\n",
      "Epoch 40, Loss: 3.5211\n",
      " - Metrics: Accuracy=0.9384, F1=0.8448, Recall=0.7960, Precision=0.9000\n",
      "Running experiment with seed=114:\n",
      " - K=5, layers=2, hidden=256, out=256\n",
      " - norm=None, dropout=0, batch_size=15, reliable_mini_batch=True\n",
      " - ratio=0.11976286417058378, aggregation=mean, treatment=removal\n",
      " - model_type=GCNConv, rate_pairs=3, clusters=200, lr=0.0038472656312509342\n"
     ]
    },
    {
     "name": "stderr",
     "output_type": "stream",
     "text": [
      "Computing METIS partitioning...\n",
      "Done!\n"
     ]
    },
    {
     "name": "stdout",
     "output_type": "stream",
     "text": [
      "Epoch 0, Loss: 10.9601\n",
      "Epoch 10, Loss: 8.6238\n",
      "Epoch 20, Loss: 6.5136\n",
      "Epoch 30, Loss: 4.5169\n",
      "Epoch 40, Loss: 3.2943\n",
      " - Metrics: Accuracy=0.9351, F1=0.8371, Recall=0.7917, Precision=0.8880\n",
      "Running experiment with seed=25:\n",
      " - K=5, layers=2, hidden=256, out=256\n",
      " - norm=None, dropout=0, batch_size=15, reliable_mini_batch=True\n",
      " - ratio=0.11976286417058378, aggregation=mean, treatment=removal\n",
      " - model_type=GCNConv, rate_pairs=3, clusters=200, lr=0.0038472656312509342\n"
     ]
    },
    {
     "name": "stderr",
     "output_type": "stream",
     "text": [
      "Computing METIS partitioning...\n",
      "Done!\n"
     ]
    },
    {
     "name": "stdout",
     "output_type": "stream",
     "text": [
      "Epoch 0, Loss: 10.9601\n",
      "Epoch 10, Loss: 8.6238\n",
      "Epoch 20, Loss: 6.5136\n",
      "Epoch 30, Loss: 4.5169\n",
      "Epoch 40, Loss: 3.2943\n",
      " - Metrics: Accuracy=0.9348, F1=0.8365, Recall=0.7917, Precision=0.8866\n",
      "Running experiment with seed=759:\n",
      " - K=5, layers=2, hidden=256, out=256\n",
      " - norm=None, dropout=0, batch_size=15, reliable_mini_batch=True\n",
      " - ratio=0.11976286417058378, aggregation=mean, treatment=removal\n",
      " - model_type=GCNConv, rate_pairs=3, clusters=200, lr=0.0038472656312509342\n"
     ]
    },
    {
     "name": "stderr",
     "output_type": "stream",
     "text": [
      "Computing METIS partitioning...\n",
      "Done!\n"
     ]
    },
    {
     "name": "stdout",
     "output_type": "stream",
     "text": [
      "Epoch 0, Loss: 10.9601\n",
      "Epoch 10, Loss: 8.6238\n",
      "Epoch 20, Loss: 6.5136\n",
      "Epoch 30, Loss: 4.5169\n",
      "Epoch 40, Loss: 3.2943\n",
      " - Metrics: Accuracy=0.9357, F1=0.8391, Recall=0.7960, Precision=0.8871\n",
      "Running experiment with seed=281:\n",
      " - K=5, layers=2, hidden=256, out=256\n",
      " - norm=None, dropout=0, batch_size=15, reliable_mini_batch=True\n",
      " - ratio=0.11976286417058378, aggregation=mean, treatment=removal\n",
      " - model_type=GCNConv, rate_pairs=3, clusters=200, lr=0.0038472656312509342\n"
     ]
    },
    {
     "name": "stderr",
     "output_type": "stream",
     "text": [
      "Computing METIS partitioning...\n",
      "Done!\n"
     ]
    },
    {
     "name": "stdout",
     "output_type": "stream",
     "text": [
      "Epoch 0, Loss: 10.9601\n",
      "Epoch 10, Loss: 8.6238\n",
      "Epoch 20, Loss: 6.5136\n",
      "Epoch 30, Loss: 4.5169\n",
      "Epoch 40, Loss: 3.2943\n"
     ]
    },
    {
     "name": "stderr",
     "output_type": "stream",
     "text": [
      "[I 2025-03-12 11:41:37,315] Trial 15 finished with value: 0.8393954330137117 and parameters: {'K': 5, 'layers': 2, 'hidden_channels': 256, 'out_channels': 256, 'ratio': 0.11976286417058378, 'aggregation': 'mean', 'treatment': 'removal', 'model_type': 'GCNConv', 'rate_pairs': 3, 'batch_size': 15, 'lr': 0.0038472656312509342, 'clusters': 200}. Best is trial 8 with value: 0.8606204067072518.\n"
     ]
    },
    {
     "name": "stdout",
     "output_type": "stream",
     "text": [
      " - Metrics: Accuracy=0.9360, F1=0.8395, Recall=0.7946, Precision=0.8898\n",
      "Done. Results written to citeseer_experimentations\\citeseer_scar_sampling_nnif_batch_cluster_1203113756.csv.\n",
      "Average F1 over valid seeds: 0.8394 ± 0.0029\n",
      "Running experiment with seed=654:\n",
      " - K=4, layers=2, hidden=128, out=256\n",
      " - norm=None, dropout=0, batch_size=15, reliable_mini_batch=True\n",
      " - ratio=0.11710820303196876, aggregation=mean, treatment=removal\n",
      " - model_type=GCNConv, rate_pairs=1, clusters=200, lr=0.0015936632990730824\n"
     ]
    },
    {
     "name": "stderr",
     "output_type": "stream",
     "text": [
      "Computing METIS partitioning...\n",
      "Done!\n"
     ]
    },
    {
     "name": "stdout",
     "output_type": "stream",
     "text": [
      "Epoch 0, Loss: 10.5633\n",
      "Epoch 10, Loss: 9.7832\n",
      "Epoch 20, Loss: 8.5632\n",
      "Epoch 30, Loss: 7.9373\n",
      "Epoch 40, Loss: 6.9572\n"
     ]
    },
    {
     "name": "stderr",
     "output_type": "stream",
     "text": [
      "[I 2025-03-12 11:42:20,945] Trial 16 finished with value: 0.8329554043839759 and parameters: {'K': 4, 'layers': 2, 'hidden_channels': 128, 'out_channels': 256, 'ratio': 0.11710820303196876, 'aggregation': 'mean', 'treatment': 'removal', 'model_type': 'GCNConv', 'rate_pairs': 1, 'batch_size': 15, 'lr': 0.0015936632990730824, 'clusters': 200}. Best is trial 8 with value: 0.8606204067072518.\n"
     ]
    },
    {
     "name": "stdout",
     "output_type": "stream",
     "text": [
      " - Metrics: Accuracy=0.9336, F1=0.8330, Recall=0.7860, Precision=0.8859\n",
      "F1 = 0.83 < 0.835, skipping ...\n",
      "Done. Results written to citeseer_experimentations\\citeseer_scar_sampling_nnif_batch_cluster_1203114137.csv.\n",
      "Average F1 over valid seeds: 0.8330 ± 0.0000\n",
      "Running experiment with seed=654:\n",
      " - K=3, layers=1, hidden=256, out=256\n",
      " - norm=None, dropout=0, batch_size=10, reliable_mini_batch=True\n",
      " - ratio=0.14112266497069934, aggregation=mean, treatment=removal\n",
      " - model_type=GCNConv, rate_pairs=3, clusters=200, lr=0.005500169673917698\n"
     ]
    },
    {
     "name": "stderr",
     "output_type": "stream",
     "text": [
      "Computing METIS partitioning...\n",
      "Done!\n"
     ]
    },
    {
     "name": "stdout",
     "output_type": "stream",
     "text": [
      "Epoch 0, Loss: 13.8137\n",
      "Epoch 10, Loss: 7.0595\n",
      "Epoch 20, Loss: 3.5916\n",
      "Epoch 30, Loss: 2.0637\n",
      "Epoch 40, Loss: 1.3426\n",
      " - Metrics: Accuracy=0.9396, F1=0.8536, Recall=0.8359, Precision=0.8720\n",
      "Running experiment with seed=114:\n",
      " - K=3, layers=1, hidden=256, out=256\n",
      " - norm=None, dropout=0, batch_size=10, reliable_mini_batch=True\n",
      " - ratio=0.14112266497069934, aggregation=mean, treatment=removal\n",
      " - model_type=GCNConv, rate_pairs=3, clusters=200, lr=0.005500169673917698\n"
     ]
    },
    {
     "name": "stderr",
     "output_type": "stream",
     "text": [
      "Computing METIS partitioning...\n",
      "Done!\n"
     ]
    },
    {
     "name": "stdout",
     "output_type": "stream",
     "text": [
      "Epoch 0, Loss: 13.0238\n",
      "Epoch 10, Loss: 6.6151\n",
      "Epoch 20, Loss: 3.2901\n",
      "Epoch 30, Loss: 2.0262\n",
      "Epoch 40, Loss: 1.2654\n",
      " - Metrics: Accuracy=0.9411, F1=0.8588, Recall=0.8502, Precision=0.8675\n",
      "Running experiment with seed=25:\n",
      " - K=3, layers=1, hidden=256, out=256\n",
      " - norm=None, dropout=0, batch_size=10, reliable_mini_batch=True\n",
      " - ratio=0.14112266497069934, aggregation=mean, treatment=removal\n",
      " - model_type=GCNConv, rate_pairs=3, clusters=200, lr=0.005500169673917698\n"
     ]
    },
    {
     "name": "stderr",
     "output_type": "stream",
     "text": [
      "Computing METIS partitioning...\n",
      "Done!\n"
     ]
    },
    {
     "name": "stdout",
     "output_type": "stream",
     "text": [
      "Epoch 0, Loss: 13.0238\n",
      "Epoch 10, Loss: 6.6151\n",
      "Epoch 20, Loss: 3.2901\n",
      "Epoch 30, Loss: 2.0262\n",
      "Epoch 40, Loss: 1.2654\n",
      " - Metrics: Accuracy=0.9411, F1=0.8588, Recall=0.8502, Precision=0.8675\n",
      "Running experiment with seed=759:\n",
      " - K=3, layers=1, hidden=256, out=256\n",
      " - norm=None, dropout=0, batch_size=10, reliable_mini_batch=True\n",
      " - ratio=0.14112266497069934, aggregation=mean, treatment=removal\n",
      " - model_type=GCNConv, rate_pairs=3, clusters=200, lr=0.005500169673917698\n"
     ]
    },
    {
     "name": "stderr",
     "output_type": "stream",
     "text": [
      "Computing METIS partitioning...\n",
      "Done!\n"
     ]
    },
    {
     "name": "stdout",
     "output_type": "stream",
     "text": [
      "Epoch 0, Loss: 13.0238\n",
      "Epoch 10, Loss: 6.6151\n",
      "Epoch 20, Loss: 3.2901\n",
      "Epoch 30, Loss: 2.0262\n",
      "Epoch 40, Loss: 1.2654\n",
      " - Metrics: Accuracy=0.9420, F1=0.8611, Recall=0.8531, Precision=0.8692\n",
      "Running experiment with seed=281:\n",
      " - K=3, layers=1, hidden=256, out=256\n",
      " - norm=None, dropout=0, batch_size=10, reliable_mini_batch=True\n",
      " - ratio=0.14112266497069934, aggregation=mean, treatment=removal\n",
      " - model_type=GCNConv, rate_pairs=3, clusters=200, lr=0.005500169673917698\n"
     ]
    },
    {
     "name": "stderr",
     "output_type": "stream",
     "text": [
      "Computing METIS partitioning...\n",
      "Done!\n"
     ]
    },
    {
     "name": "stdout",
     "output_type": "stream",
     "text": [
      "Epoch 0, Loss: 13.0238\n",
      "Epoch 10, Loss: 6.6151\n",
      "Epoch 20, Loss: 3.2901\n",
      "Epoch 30, Loss: 2.0262\n",
      "Epoch 40, Loss: 1.2654\n"
     ]
    },
    {
     "name": "stderr",
     "output_type": "stream",
     "text": [
      "[I 2025-03-12 11:46:31,321] Trial 17 finished with value: 0.8582050471965358 and parameters: {'K': 3, 'layers': 1, 'hidden_channels': 256, 'out_channels': 256, 'ratio': 0.14112266497069934, 'aggregation': 'mean', 'treatment': 'removal', 'model_type': 'GCNConv', 'rate_pairs': 3, 'batch_size': 10, 'lr': 0.005500169673917698, 'clusters': 200}. Best is trial 8 with value: 0.8606204067072518.\n"
     ]
    },
    {
     "name": "stdout",
     "output_type": "stream",
     "text": [
      " - Metrics: Accuracy=0.9411, F1=0.8588, Recall=0.8502, Precision=0.8675\n",
      "Done. Results written to citeseer_experimentations\\citeseer_scar_sampling_nnif_batch_cluster_1203114221.csv.\n",
      "Average F1 over valid seeds: 0.8582 ± 0.0025\n",
      "Running experiment with seed=654:\n",
      " - K=2, layers=1, hidden=256, out=256\n",
      " - norm=None, dropout=0, batch_size=10, reliable_mini_batch=True\n",
      " - ratio=0.1405809790087525, aggregation=mean, treatment=relabeling\n",
      " - model_type=GCNConv, rate_pairs=5, clusters=200, lr=0.0036259639266007257\n"
     ]
    },
    {
     "name": "stderr",
     "output_type": "stream",
     "text": [
      "Computing METIS partitioning...\n",
      "Done!\n"
     ]
    },
    {
     "name": "stdout",
     "output_type": "stream",
     "text": [
      "Epoch 0, Loss: 7.6333\n",
      "Epoch 10, Loss: 4.2527\n",
      "Epoch 20, Loss: 2.6078\n",
      "Epoch 30, Loss: 1.8324\n",
      "Epoch 40, Loss: 1.2602\n"
     ]
    },
    {
     "name": "stderr",
     "output_type": "stream",
     "text": [
      "[I 2025-03-12 11:47:19,918] Trial 18 finished with value: 0.7932432432432432 and parameters: {'K': 2, 'layers': 1, 'hidden_channels': 256, 'out_channels': 256, 'ratio': 0.1405809790087525, 'aggregation': 'mean', 'treatment': 'relabeling', 'model_type': 'GCNConv', 'rate_pairs': 5, 'batch_size': 10, 'lr': 0.0036259639266007257, 'clusters': 200}. Best is trial 8 with value: 0.8606204067072518.\n"
     ]
    },
    {
     "name": "stdout",
     "output_type": "stream",
     "text": [
      " - Metrics: Accuracy=0.9080, F1=0.7932, Recall=0.8374, Precision=0.7535\n",
      "F1 = 0.79 < 0.835, skipping ...\n",
      "Done. Results written to citeseer_experimentations\\citeseer_scar_sampling_nnif_batch_cluster_1203114631.csv.\n",
      "Average F1 over valid seeds: 0.7932 ± 0.0000\n",
      "Running experiment with seed=654:\n",
      " - K=3, layers=2, hidden=256, out=256\n",
      " - norm=None, dropout=0, batch_size=10, reliable_mini_batch=True\n",
      " - ratio=0.16528908700069375, aggregation=mean, treatment=removal\n",
      " - model_type=GCNConv, rate_pairs=11, clusters=300, lr=0.005082846777979041\n"
     ]
    },
    {
     "name": "stderr",
     "output_type": "stream",
     "text": [
      "Computing METIS partitioning...\n",
      "Done!\n"
     ]
    },
    {
     "name": "stdout",
     "output_type": "stream",
     "text": [
      "Epoch 0, Loss: 19.6009\n",
      "Epoch 10, Loss: 8.3228\n",
      "Epoch 20, Loss: 3.4881\n",
      "Epoch 30, Loss: 2.0107\n",
      "Epoch 40, Loss: 1.2723\n",
      " - Metrics: Accuracy=0.9336, F1=0.8367, Recall=0.8074, Precision=0.8681\n",
      "Running experiment with seed=114:\n",
      " - K=3, layers=2, hidden=256, out=256\n",
      " - norm=None, dropout=0, batch_size=10, reliable_mini_batch=True\n",
      " - ratio=0.16528908700069375, aggregation=mean, treatment=removal\n",
      " - model_type=GCNConv, rate_pairs=11, clusters=300, lr=0.005082846777979041\n"
     ]
    },
    {
     "name": "stderr",
     "output_type": "stream",
     "text": [
      "Computing METIS partitioning...\n",
      "Done!\n"
     ]
    },
    {
     "name": "stdout",
     "output_type": "stream",
     "text": [
      "Epoch 0, Loss: 20.0559\n",
      "Epoch 10, Loss: 8.0495\n",
      "Epoch 20, Loss: 3.5823\n",
      "Epoch 30, Loss: 1.8942\n",
      "Epoch 40, Loss: 1.2565\n",
      " - Metrics: Accuracy=0.9360, F1=0.8435, Recall=0.8188, Precision=0.8697\n",
      "Running experiment with seed=25:\n",
      " - K=3, layers=2, hidden=256, out=256\n",
      " - norm=None, dropout=0, batch_size=10, reliable_mini_batch=True\n",
      " - ratio=0.16528908700069375, aggregation=mean, treatment=removal\n",
      " - model_type=GCNConv, rate_pairs=11, clusters=300, lr=0.005082846777979041\n"
     ]
    },
    {
     "name": "stderr",
     "output_type": "stream",
     "text": [
      "Computing METIS partitioning...\n",
      "Done!\n"
     ]
    },
    {
     "name": "stdout",
     "output_type": "stream",
     "text": [
      "Epoch 0, Loss: 20.0559\n",
      "Epoch 10, Loss: 8.0495\n",
      "Epoch 20, Loss: 3.5823\n",
      "Epoch 30, Loss: 1.8942\n",
      "Epoch 40, Loss: 1.2565\n",
      " - Metrics: Accuracy=0.9384, F1=0.8489, Recall=0.8217, Precision=0.8780\n",
      "Running experiment with seed=759:\n",
      " - K=3, layers=2, hidden=256, out=256\n",
      " - norm=None, dropout=0, batch_size=10, reliable_mini_batch=True\n",
      " - ratio=0.16528908700069375, aggregation=mean, treatment=removal\n",
      " - model_type=GCNConv, rate_pairs=11, clusters=300, lr=0.005082846777979041\n"
     ]
    },
    {
     "name": "stderr",
     "output_type": "stream",
     "text": [
      "Computing METIS partitioning...\n",
      "Done!\n"
     ]
    },
    {
     "name": "stdout",
     "output_type": "stream",
     "text": [
      "Epoch 0, Loss: 20.0559\n",
      "Epoch 10, Loss: 8.0495\n",
      "Epoch 20, Loss: 3.5823\n",
      "Epoch 30, Loss: 1.8942\n",
      "Epoch 40, Loss: 1.2565\n",
      " - Metrics: Accuracy=0.9354, F1=0.8418, Recall=0.8160, Precision=0.8693\n",
      "Running experiment with seed=281:\n",
      " - K=3, layers=2, hidden=256, out=256\n",
      " - norm=None, dropout=0, batch_size=10, reliable_mini_batch=True\n",
      " - ratio=0.16528908700069375, aggregation=mean, treatment=removal\n",
      " - model_type=GCNConv, rate_pairs=11, clusters=300, lr=0.005082846777979041\n"
     ]
    },
    {
     "name": "stderr",
     "output_type": "stream",
     "text": [
      "Computing METIS partitioning...\n",
      "Done!\n"
     ]
    },
    {
     "name": "stdout",
     "output_type": "stream",
     "text": [
      "Epoch 0, Loss: 20.0559\n",
      "Epoch 10, Loss: 8.0495\n",
      "Epoch 20, Loss: 3.5823\n",
      "Epoch 30, Loss: 1.8942\n",
      "Epoch 40, Loss: 1.2565\n"
     ]
    },
    {
     "name": "stderr",
     "output_type": "stream",
     "text": [
      "[I 2025-03-12 11:53:27,221] Trial 19 finished with value: 0.8427839434802719 and parameters: {'K': 3, 'layers': 2, 'hidden_channels': 256, 'out_channels': 256, 'ratio': 0.16528908700069375, 'aggregation': 'mean', 'treatment': 'removal', 'model_type': 'GCNConv', 'rate_pairs': 11, 'batch_size': 10, 'lr': 0.005082846777979041, 'clusters': 300}. Best is trial 8 with value: 0.8606204067072518.\n"
     ]
    },
    {
     "name": "stdout",
     "output_type": "stream",
     "text": [
      " - Metrics: Accuracy=0.9360, F1=0.8430, Recall=0.8160, Precision=0.8720\n",
      "Done. Results written to citeseer_experimentations\\citeseer_scar_sampling_nnif_batch_cluster_1203114719.csv.\n",
      "Average F1 over valid seeds: 0.8428 ± 0.0039\n",
      "Running experiment with seed=654:\n",
      " - K=3, layers=1, hidden=256, out=256\n",
      " - norm=None, dropout=0, batch_size=10, reliable_mini_batch=True\n",
      " - ratio=0.13725987851690888, aggregation=mean, treatment=removal\n",
      " - model_type=GINConv, rate_pairs=1, clusters=400, lr=0.001762056978634764\n"
     ]
    },
    {
     "name": "stderr",
     "output_type": "stream",
     "text": [
      "Computing METIS partitioning...\n",
      "Done!\n"
     ]
    },
    {
     "name": "stdout",
     "output_type": "stream",
     "text": [
      "Epoch 0, Loss: 30.5309\n",
      "Epoch 10, Loss: 21.6358\n",
      "Epoch 20, Loss: 13.1523\n",
      "Epoch 30, Loss: 8.6939\n",
      "Epoch 40, Loss: 6.3205\n"
     ]
    },
    {
     "name": "stderr",
     "output_type": "stream",
     "text": [
      "[I 2025-03-12 11:54:46,396] Trial 20 finished with value: 0.8274809160305343 and parameters: {'K': 3, 'layers': 1, 'hidden_channels': 256, 'out_channels': 256, 'ratio': 0.13725987851690888, 'aggregation': 'mean', 'treatment': 'removal', 'model_type': 'GINConv', 'rate_pairs': 1, 'batch_size': 10, 'lr': 0.001762056978634764, 'clusters': 400}. Best is trial 8 with value: 0.8606204067072518.\n"
     ]
    },
    {
     "name": "stdout",
     "output_type": "stream",
     "text": [
      " - Metrics: Accuracy=0.9321, F1=0.8275, Recall=0.7732, Precision=0.8900\n",
      "F1 = 0.83 < 0.835, skipping ...\n",
      "Done. Results written to citeseer_experimentations\\citeseer_scar_sampling_nnif_batch_cluster_1203115327.csv.\n",
      "Average F1 over valid seeds: 0.8275 ± 0.0000\n",
      "Running experiment with seed=654:\n",
      " - K=5, layers=1, hidden=256, out=256\n",
      " - norm=None, dropout=0, batch_size=1, reliable_mini_batch=True\n",
      " - ratio=0.12272595196358928, aggregation=mean, treatment=removal\n",
      " - model_type=GCNConv, rate_pairs=3, clusters=200, lr=0.005458697769105394\n"
     ]
    },
    {
     "name": "stderr",
     "output_type": "stream",
     "text": [
      "Computing METIS partitioning...\n",
      "Done!\n",
      "[I 2025-03-12 11:54:47,008] Trial 21 finished with value: 0.0 and parameters: {'K': 5, 'layers': 1, 'hidden_channels': 256, 'out_channels': 256, 'ratio': 0.12272595196358928, 'aggregation': 'mean', 'treatment': 'removal', 'model_type': 'GCNConv', 'rate_pairs': 3, 'batch_size': 1, 'lr': 0.005458697769105394, 'clusters': 200}. Best is trial 8 with value: 0.8606204067072518.\n"
     ]
    },
    {
     "name": "stdout",
     "output_type": "stream",
     "text": [
      "Error: Labels must be in {0,1}, got [0].\n",
      "Done. Results written to citeseer_experimentations\\citeseer_scar_sampling_nnif_batch_cluster_1203115446.csv.\n",
      "Average F1 over valid seeds: 0.0000 ± 0.0000\n",
      "Running experiment with seed=654:\n",
      " - K=4, layers=1, hidden=128, out=256\n",
      " - norm=None, dropout=0, batch_size=10, reliable_mini_batch=True\n",
      " - ratio=0.11102068852822272, aggregation=mean, treatment=removal\n",
      " - model_type=GCNConv, rate_pairs=3, clusters=200, lr=0.007317922798187254\n"
     ]
    },
    {
     "name": "stderr",
     "output_type": "stream",
     "text": [
      "Computing METIS partitioning...\n",
      "Done!\n"
     ]
    },
    {
     "name": "stdout",
     "output_type": "stream",
     "text": [
      "Epoch 0, Loss: 15.8221\n",
      "Epoch 10, Loss: 6.8447\n",
      "Epoch 20, Loss: 2.9447\n",
      "Epoch 30, Loss: 1.5835\n",
      "Epoch 40, Loss: 0.9989\n",
      " - Metrics: Accuracy=0.9351, F1=0.8378, Recall=0.7960, Precision=0.8843\n",
      "Running experiment with seed=114:\n",
      " - K=4, layers=1, hidden=128, out=256\n",
      " - norm=None, dropout=0, batch_size=10, reliable_mini_batch=True\n",
      " - ratio=0.11102068852822272, aggregation=mean, treatment=removal\n",
      " - model_type=GCNConv, rate_pairs=3, clusters=200, lr=0.007317922798187254\n"
     ]
    },
    {
     "name": "stderr",
     "output_type": "stream",
     "text": [
      "Computing METIS partitioning...\n",
      "Done!\n"
     ]
    },
    {
     "name": "stdout",
     "output_type": "stream",
     "text": [
      "Epoch 0, Loss: 14.8856\n",
      "Epoch 10, Loss: 6.3419\n",
      "Epoch 20, Loss: 2.6719\n",
      "Epoch 30, Loss: 1.5401\n",
      "Epoch 40, Loss: 0.9341\n",
      " - Metrics: Accuracy=0.9333, F1=0.8360, Recall=0.8074, Precision=0.8668\n",
      "Running experiment with seed=25:\n",
      " - K=4, layers=1, hidden=128, out=256\n",
      " - norm=None, dropout=0, batch_size=10, reliable_mini_batch=True\n",
      " - ratio=0.11102068852822272, aggregation=mean, treatment=removal\n",
      " - model_type=GCNConv, rate_pairs=3, clusters=200, lr=0.007317922798187254\n"
     ]
    },
    {
     "name": "stderr",
     "output_type": "stream",
     "text": [
      "Computing METIS partitioning...\n",
      "Done!\n"
     ]
    },
    {
     "name": "stdout",
     "output_type": "stream",
     "text": [
      "Epoch 0, Loss: 14.8856\n",
      "Epoch 10, Loss: 6.3419\n",
      "Epoch 20, Loss: 2.6719\n",
      "Epoch 30, Loss: 1.5401\n",
      "Epoch 40, Loss: 0.9341\n",
      " - Metrics: Accuracy=0.9333, F1=0.8360, Recall=0.8074, Precision=0.8668\n",
      "Running experiment with seed=759:\n",
      " - K=4, layers=1, hidden=128, out=256\n",
      " - norm=None, dropout=0, batch_size=10, reliable_mini_batch=True\n",
      " - ratio=0.11102068852822272, aggregation=mean, treatment=removal\n",
      " - model_type=GCNConv, rate_pairs=3, clusters=200, lr=0.007317922798187254\n"
     ]
    },
    {
     "name": "stderr",
     "output_type": "stream",
     "text": [
      "Computing METIS partitioning...\n",
      "Done!\n"
     ]
    },
    {
     "name": "stdout",
     "output_type": "stream",
     "text": [
      "Epoch 0, Loss: 14.8856\n",
      "Epoch 10, Loss: 6.3419\n",
      "Epoch 20, Loss: 2.6719\n",
      "Epoch 30, Loss: 1.5401\n",
      "Epoch 40, Loss: 0.9341\n",
      " - Metrics: Accuracy=0.9333, F1=0.8360, Recall=0.8074, Precision=0.8668\n",
      "Running experiment with seed=281:\n",
      " - K=4, layers=1, hidden=128, out=256\n",
      " - norm=None, dropout=0, batch_size=10, reliable_mini_batch=True\n",
      " - ratio=0.11102068852822272, aggregation=mean, treatment=removal\n",
      " - model_type=GCNConv, rate_pairs=3, clusters=200, lr=0.007317922798187254\n"
     ]
    },
    {
     "name": "stderr",
     "output_type": "stream",
     "text": [
      "Computing METIS partitioning...\n",
      "Done!\n"
     ]
    },
    {
     "name": "stdout",
     "output_type": "stream",
     "text": [
      "Epoch 0, Loss: 14.8856\n",
      "Epoch 10, Loss: 6.3419\n",
      "Epoch 20, Loss: 2.6719\n",
      "Epoch 30, Loss: 1.5401\n",
      "Epoch 40, Loss: 0.9341\n"
     ]
    },
    {
     "name": "stderr",
     "output_type": "stream",
     "text": [
      "[I 2025-03-12 11:58:58,639] Trial 22 finished with value: 0.8364006547167552 and parameters: {'K': 4, 'layers': 1, 'hidden_channels': 128, 'out_channels': 256, 'ratio': 0.11102068852822272, 'aggregation': 'mean', 'treatment': 'removal', 'model_type': 'GCNConv', 'rate_pairs': 3, 'batch_size': 10, 'lr': 0.007317922798187254, 'clusters': 200}. Best is trial 8 with value: 0.8606204067072518.\n"
     ]
    },
    {
     "name": "stdout",
     "output_type": "stream",
     "text": [
      " - Metrics: Accuracy=0.9333, F1=0.8360, Recall=0.8074, Precision=0.8668\n",
      "Done. Results written to citeseer_experimentations\\citeseer_scar_sampling_nnif_batch_cluster_1203115447.csv.\n",
      "Average F1 over valid seeds: 0.8364 ± 0.0007\n",
      "Running experiment with seed=654:\n",
      " - K=5, layers=1, hidden=64, out=256\n",
      " - norm=None, dropout=0, batch_size=15, reliable_mini_batch=True\n",
      " - ratio=0.1259484588791383, aggregation=mean, treatment=removal\n",
      " - model_type=GCNConv, rate_pairs=2, clusters=200, lr=0.005711600788268741\n"
     ]
    },
    {
     "name": "stderr",
     "output_type": "stream",
     "text": [
      "Computing METIS partitioning...\n",
      "Done!\n"
     ]
    },
    {
     "name": "stdout",
     "output_type": "stream",
     "text": [
      "Epoch 0, Loss: 12.1403\n",
      "Epoch 10, Loss: 8.4303\n",
      "Epoch 20, Loss: 5.2552\n",
      "Epoch 30, Loss: 3.0849\n",
      "Epoch 40, Loss: 2.0685\n",
      " - Metrics: Accuracy=0.9402, F1=0.8500, Recall=0.8046, Precision=0.9010\n",
      "Running experiment with seed=114:\n",
      " - K=5, layers=1, hidden=64, out=256\n",
      " - norm=None, dropout=0, batch_size=15, reliable_mini_batch=True\n",
      " - ratio=0.1259484588791383, aggregation=mean, treatment=removal\n",
      " - model_type=GCNConv, rate_pairs=2, clusters=200, lr=0.005711600788268741\n"
     ]
    },
    {
     "name": "stderr",
     "output_type": "stream",
     "text": [
      "Computing METIS partitioning...\n",
      "Done!\n"
     ]
    },
    {
     "name": "stdout",
     "output_type": "stream",
     "text": [
      "Epoch 0, Loss: 11.2538\n",
      "Epoch 10, Loss: 7.8262\n",
      "Epoch 20, Loss: 4.7409\n",
      "Epoch 30, Loss: 2.8289\n",
      "Epoch 40, Loss: 1.8857\n",
      " - Metrics: Accuracy=0.9372, F1=0.8403, Recall=0.7846, Precision=0.9046\n",
      "Running experiment with seed=25:\n",
      " - K=5, layers=1, hidden=64, out=256\n",
      " - norm=None, dropout=0, batch_size=15, reliable_mini_batch=True\n",
      " - ratio=0.1259484588791383, aggregation=mean, treatment=removal\n",
      " - model_type=GCNConv, rate_pairs=2, clusters=200, lr=0.005711600788268741\n"
     ]
    },
    {
     "name": "stderr",
     "output_type": "stream",
     "text": [
      "Computing METIS partitioning...\n",
      "Done!\n"
     ]
    },
    {
     "name": "stdout",
     "output_type": "stream",
     "text": [
      "Epoch 0, Loss: 11.2538\n",
      "Epoch 10, Loss: 7.8262\n",
      "Epoch 20, Loss: 4.7409\n",
      "Epoch 30, Loss: 2.8289\n",
      "Epoch 40, Loss: 1.8857\n",
      " - Metrics: Accuracy=0.9381, F1=0.8427, Recall=0.7874, Precision=0.9064\n",
      "Running experiment with seed=759:\n",
      " - K=5, layers=1, hidden=64, out=256\n",
      " - norm=None, dropout=0, batch_size=15, reliable_mini_batch=True\n",
      " - ratio=0.1259484588791383, aggregation=mean, treatment=removal\n",
      " - model_type=GCNConv, rate_pairs=2, clusters=200, lr=0.005711600788268741\n"
     ]
    },
    {
     "name": "stderr",
     "output_type": "stream",
     "text": [
      "Computing METIS partitioning...\n",
      "Done!\n"
     ]
    },
    {
     "name": "stdout",
     "output_type": "stream",
     "text": [
      "Epoch 0, Loss: 11.2538\n",
      "Epoch 10, Loss: 7.8262\n",
      "Epoch 20, Loss: 4.7409\n",
      "Epoch 30, Loss: 2.8289\n",
      "Epoch 40, Loss: 1.8857\n",
      " - Metrics: Accuracy=0.9378, F1=0.8426, Recall=0.7903, Precision=0.9023\n",
      "Running experiment with seed=281:\n",
      " - K=5, layers=1, hidden=64, out=256\n",
      " - norm=None, dropout=0, batch_size=15, reliable_mini_batch=True\n",
      " - ratio=0.1259484588791383, aggregation=mean, treatment=removal\n",
      " - model_type=GCNConv, rate_pairs=2, clusters=200, lr=0.005711600788268741\n"
     ]
    },
    {
     "name": "stderr",
     "output_type": "stream",
     "text": [
      "Computing METIS partitioning...\n",
      "Done!\n"
     ]
    },
    {
     "name": "stdout",
     "output_type": "stream",
     "text": [
      "Epoch 0, Loss: 11.2538\n",
      "Epoch 10, Loss: 7.8262\n",
      "Epoch 20, Loss: 4.7409\n",
      "Epoch 30, Loss: 2.8289\n",
      "Epoch 40, Loss: 1.8857\n"
     ]
    },
    {
     "name": "stderr",
     "output_type": "stream",
     "text": [
      "[I 2025-03-12 12:02:20,001] Trial 23 finished with value: 0.8432574333015385 and parameters: {'K': 5, 'layers': 1, 'hidden_channels': 64, 'out_channels': 256, 'ratio': 0.1259484588791383, 'aggregation': 'mean', 'treatment': 'removal', 'model_type': 'GCNConv', 'rate_pairs': 2, 'batch_size': 15, 'lr': 0.005711600788268741, 'clusters': 200}. Best is trial 8 with value: 0.8606204067072518.\n"
     ]
    },
    {
     "name": "stdout",
     "output_type": "stream",
     "text": [
      " - Metrics: Accuracy=0.9372, F1=0.8406, Recall=0.7860, Precision=0.9033\n",
      "Done. Results written to citeseer_experimentations\\citeseer_scar_sampling_nnif_batch_cluster_1203115858.csv.\n",
      "Average F1 over valid seeds: 0.8433 ± 0.0035\n",
      "Running experiment with seed=654:\n",
      " - K=4, layers=1, hidden=256, out=256\n",
      " - norm=None, dropout=0, batch_size=15, reliable_mini_batch=True\n",
      " - ratio=0.14217333201613575, aggregation=mean, treatment=removal\n",
      " - model_type=GATConv, rate_pairs=5, clusters=200, lr=0.009652418957963236\n"
     ]
    },
    {
     "name": "stderr",
     "output_type": "stream",
     "text": [
      "Computing METIS partitioning...\n",
      "Done!\n"
     ]
    },
    {
     "name": "stdout",
     "output_type": "stream",
     "text": [
      "Epoch 0, Loss: 10.2443\n",
      "Epoch 10, Loss: 4.7293\n",
      "Epoch 20, Loss: 2.1292\n",
      "Epoch 30, Loss: 1.2143\n",
      "Epoch 40, Loss: 0.7418\n"
     ]
    },
    {
     "name": "stderr",
     "output_type": "stream",
     "text": [
      "[I 2025-03-12 12:02:58,822] Trial 24 finished with value: 0.828673835125448 and parameters: {'K': 4, 'layers': 1, 'hidden_channels': 256, 'out_channels': 256, 'ratio': 0.14217333201613575, 'aggregation': 'mean', 'treatment': 'removal', 'model_type': 'GATConv', 'rate_pairs': 5, 'batch_size': 15, 'lr': 0.009652418957963236, 'clusters': 200}. Best is trial 8 with value: 0.8606204067072518.\n"
     ]
    },
    {
     "name": "stdout",
     "output_type": "stream",
     "text": [
      " - Metrics: Accuracy=0.9282, F1=0.8287, Recall=0.8245, Precision=0.8329\n",
      "F1 = 0.83 < 0.835, skipping ...\n",
      "Done. Results written to citeseer_experimentations\\citeseer_scar_sampling_nnif_batch_cluster_1203120220.csv.\n",
      "Average F1 over valid seeds: 0.8287 ± 0.0000\n",
      "Running experiment with seed=654:\n",
      " - K=2, layers=1, hidden=128, out=256\n",
      " - norm=None, dropout=0, batch_size=10, reliable_mini_batch=True\n",
      " - ratio=0.11542983078142026, aggregation=mean, treatment=removal\n",
      " - model_type=GCNConv, rate_pairs=2, clusters=200, lr=0.004612720770835479\n"
     ]
    },
    {
     "name": "stderr",
     "output_type": "stream",
     "text": [
      "Computing METIS partitioning...\n",
      "Done!\n"
     ]
    },
    {
     "name": "stdout",
     "output_type": "stream",
     "text": [
      "Epoch 0, Loss: 11.2229\n",
      "Epoch 10, Loss: 5.9432\n",
      "Epoch 20, Loss: 3.3671\n",
      "Epoch 30, Loss: 2.0644\n",
      "Epoch 40, Loss: 1.3934\n",
      " - Metrics: Accuracy=0.9357, F1=0.8386, Recall=0.7932, Precision=0.8896\n",
      "Running experiment with seed=114:\n",
      " - K=2, layers=1, hidden=128, out=256\n",
      " - norm=None, dropout=0, batch_size=10, reliable_mini_batch=True\n",
      " - ratio=0.11542983078142026, aggregation=mean, treatment=removal\n",
      " - model_type=GCNConv, rate_pairs=2, clusters=200, lr=0.004612720770835479\n"
     ]
    },
    {
     "name": "stderr",
     "output_type": "stream",
     "text": [
      "Computing METIS partitioning...\n",
      "Done!\n"
     ]
    },
    {
     "name": "stdout",
     "output_type": "stream",
     "text": [
      "Epoch 0, Loss: 10.5106\n",
      "Epoch 10, Loss: 5.5597\n",
      "Epoch 20, Loss: 3.0885\n",
      "Epoch 30, Loss: 2.0304\n",
      "Epoch 40, Loss: 1.3135\n"
     ]
    },
    {
     "name": "stderr",
     "output_type": "stream",
     "text": [
      "[I 2025-03-12 12:04:36,746] Trial 25 finished with value: 0.835036521090718 and parameters: {'K': 2, 'layers': 1, 'hidden_channels': 128, 'out_channels': 256, 'ratio': 0.11542983078142026, 'aggregation': 'mean', 'treatment': 'removal', 'model_type': 'GCNConv', 'rate_pairs': 2, 'batch_size': 10, 'lr': 0.004612720770835479, 'clusters': 200}. Best is trial 8 with value: 0.8606204067072518.\n"
     ]
    },
    {
     "name": "stdout",
     "output_type": "stream",
     "text": [
      " - Metrics: Accuracy=0.9324, F1=0.8315, Recall=0.7917, Precision=0.8754\n",
      "F1 = 0.83 < 0.835, skipping ...\n",
      "Done. Results written to citeseer_experimentations\\citeseer_scar_sampling_nnif_batch_cluster_1203120258.csv.\n",
      "Average F1 over valid seeds: 0.8350 ± 0.0036\n",
      "Running experiment with seed=654:\n",
      " - K=6, layers=2, hidden=256, out=256\n",
      " - norm=None, dropout=0, batch_size=1, reliable_mini_batch=True\n",
      " - ratio=0.13172261849605524, aggregation=mean, treatment=relabeling\n",
      " - model_type=GCNConv, rate_pairs=4, clusters=500, lr=0.003434639229832512\n"
     ]
    },
    {
     "name": "stderr",
     "output_type": "stream",
     "text": [
      "Computing METIS partitioning...\n",
      "Done!\n",
      "[I 2025-03-12 12:04:37,533] Trial 26 finished with value: 0.0 and parameters: {'K': 6, 'layers': 2, 'hidden_channels': 256, 'out_channels': 256, 'ratio': 0.13172261849605524, 'aggregation': 'mean', 'treatment': 'relabeling', 'model_type': 'GCNConv', 'rate_pairs': 4, 'batch_size': 1, 'lr': 0.003434639229832512, 'clusters': 500}. Best is trial 8 with value: 0.8606204067072518.\n"
     ]
    },
    {
     "name": "stdout",
     "output_type": "stream",
     "text": [
      "Error: Labels must be in {0,1}, got [0].\n",
      "Done. Results written to citeseer_experimentations\\citeseer_scar_sampling_nnif_batch_cluster_1203120436.csv.\n",
      "Average F1 over valid seeds: 0.0000 ± 0.0000\n",
      "Running experiment with seed=654:\n",
      " - K=5, layers=1, hidden=256, out=256\n",
      " - norm=None, dropout=0, batch_size=5, reliable_mini_batch=True\n",
      " - ratio=0.16933590509014274, aggregation=mean, treatment=removal\n",
      " - model_type=GCNConv, rate_pairs=13, clusters=200, lr=0.006854341246360084\n"
     ]
    },
    {
     "name": "stderr",
     "output_type": "stream",
     "text": [
      "Computing METIS partitioning...\n",
      "Done!\n"
     ]
    },
    {
     "name": "stdout",
     "output_type": "stream",
     "text": [
      "Epoch 0, Loss: 37.9494\n",
      "Epoch 10, Loss: 10.0313\n",
      "Epoch 20, Loss: 3.3802\n",
      "Epoch 30, Loss: 1.6866\n",
      "Epoch 40, Loss: 1.0472\n",
      " - Metrics: Accuracy=0.9321, F1=0.8362, Recall=0.8231, Precision=0.8498\n",
      "Running experiment with seed=114:\n",
      " - K=5, layers=1, hidden=256, out=256\n",
      " - norm=None, dropout=0, batch_size=5, reliable_mini_batch=True\n",
      " - ratio=0.16933590509014274, aggregation=mean, treatment=removal\n",
      " - model_type=GCNConv, rate_pairs=13, clusters=200, lr=0.006854341246360084\n"
     ]
    },
    {
     "name": "stderr",
     "output_type": "stream",
     "text": [
      "Computing METIS partitioning...\n",
      "Done!\n",
      "[I 2025-03-12 12:06:13,795] Trial 27 finished with value: 0.836231884057971 and parameters: {'K': 5, 'layers': 1, 'hidden_channels': 256, 'out_channels': 256, 'ratio': 0.16933590509014274, 'aggregation': 'mean', 'treatment': 'removal', 'model_type': 'GCNConv', 'rate_pairs': 13, 'batch_size': 5, 'lr': 0.006854341246360084, 'clusters': 200}. Best is trial 8 with value: 0.8606204067072518.\n"
     ]
    },
    {
     "name": "stdout",
     "output_type": "stream",
     "text": [
      "Error: Labels must be in {0,1}, got [0].\n",
      "Done. Results written to citeseer_experimentations\\citeseer_scar_sampling_nnif_batch_cluster_1203120437.csv.\n",
      "Average F1 over valid seeds: 0.8362 ± 0.0000\n",
      "Running experiment with seed=654:\n",
      " - K=3, layers=2, hidden=64, out=256\n",
      " - norm=None, dropout=0, batch_size=15, reliable_mini_batch=True\n",
      " - ratio=0.1467339333750041, aggregation=sum, treatment=removal\n",
      " - model_type=GCNConv, rate_pairs=6, clusters=100, lr=0.0047981596938137805\n"
     ]
    },
    {
     "name": "stderr",
     "output_type": "stream",
     "text": [
      "Computing METIS partitioning...\n",
      "Done!\n"
     ]
    },
    {
     "name": "stdout",
     "output_type": "stream",
     "text": [
      "Epoch 0, Loss: 4.4707\n",
      "Epoch 10, Loss: 4.0803\n",
      "Epoch 20, Loss: 3.1388\n",
      "Epoch 30, Loss: 2.5650\n",
      "Epoch 40, Loss: 2.0277\n"
     ]
    },
    {
     "name": "stderr",
     "output_type": "stream",
     "text": [
      "[I 2025-03-12 12:06:37,414] Trial 28 finished with value: 0.8280647648419429 and parameters: {'K': 3, 'layers': 2, 'hidden_channels': 64, 'out_channels': 256, 'ratio': 0.1467339333750041, 'aggregation': 'sum', 'treatment': 'removal', 'model_type': 'GCNConv', 'rate_pairs': 6, 'batch_size': 15, 'lr': 0.0047981596938137805, 'clusters': 100}. Best is trial 8 with value: 0.8606204067072518.\n"
     ]
    },
    {
     "name": "stdout",
     "output_type": "stream",
     "text": [
      " - Metrics: Accuracy=0.9330, F1=0.8281, Recall=0.7660, Precision=0.9010\n",
      "F1 = 0.83 < 0.835, skipping ...\n",
      "Done. Results written to citeseer_experimentations\\citeseer_scar_sampling_nnif_batch_cluster_1203120613.csv.\n",
      "Average F1 over valid seeds: 0.8281 ± 0.0000\n",
      "Running experiment with seed=654:\n",
      " - K=4, layers=1, hidden=128, out=256\n",
      " - norm=None, dropout=0, batch_size=15, reliable_mini_batch=True\n",
      " - ratio=0.12588021856857023, aggregation=sum, treatment=relabeling\n",
      " - model_type=GINConv, rate_pairs=3, clusters=100, lr=0.008278072171213544\n"
     ]
    },
    {
     "name": "stderr",
     "output_type": "stream",
     "text": [
      "Computing METIS partitioning...\n",
      "Done!\n"
     ]
    },
    {
     "name": "stdout",
     "output_type": "stream",
     "text": [
      "Epoch 0, Loss: 3.4041\n",
      "Epoch 10, Loss: 2.4953\n",
      "Epoch 20, Loss: 1.7821\n",
      "Epoch 30, Loss: 1.2008\n",
      "Epoch 40, Loss: 0.8636\n"
     ]
    },
    {
     "name": "stderr",
     "output_type": "stream",
     "text": [
      "[I 2025-03-12 12:07:01,703] Trial 29 finished with value: 0.7647467036780013 and parameters: {'K': 4, 'layers': 1, 'hidden_channels': 128, 'out_channels': 256, 'ratio': 0.12588021856857023, 'aggregation': 'sum', 'treatment': 'relabeling', 'model_type': 'GINConv', 'rate_pairs': 3, 'batch_size': 15, 'lr': 0.008278072171213544, 'clusters': 100}. Best is trial 8 with value: 0.8606204067072518.\n"
     ]
    },
    {
     "name": "stdout",
     "output_type": "stream",
     "text": [
      " - Metrics: Accuracy=0.8981, F1=0.7647, Recall=0.7860, Precision=0.7446\n",
      "F1 = 0.76 < 0.835, skipping ...\n",
      "Done. Results written to citeseer_experimentations\\citeseer_scar_sampling_nnif_batch_cluster_1203120637.csv.\n",
      "Average F1 over valid seeds: 0.7647 ± 0.0000\n",
      "Running experiment with seed=654:\n",
      " - K=4, layers=2, hidden=256, out=64\n",
      " - norm=None, dropout=0, batch_size=10, reliable_mini_batch=True\n",
      " - ratio=0.13536457576310823, aggregation=mean, treatment=removal\n",
      " - model_type=GATConv, rate_pairs=2, clusters=300, lr=0.005905886474961268\n"
     ]
    },
    {
     "name": "stderr",
     "output_type": "stream",
     "text": [
      "Computing METIS partitioning...\n",
      "Done!\n"
     ]
    },
    {
     "name": "stdout",
     "output_type": "stream",
     "text": [
      "Epoch 0, Loss: 22.8542\n",
      "Epoch 10, Loss: 8.6695\n",
      "Epoch 20, Loss: 3.4109\n",
      "Epoch 30, Loss: 1.8476\n",
      "Epoch 40, Loss: 1.1532\n"
     ]
    },
    {
     "name": "stderr",
     "output_type": "stream",
     "text": [
      "[I 2025-03-12 12:08:20,545] Trial 30 finished with value: 0.8197456993268512 and parameters: {'K': 4, 'layers': 2, 'hidden_channels': 256, 'out_channels': 64, 'ratio': 0.13536457576310823, 'aggregation': 'mean', 'treatment': 'removal', 'model_type': 'GATConv', 'rate_pairs': 2, 'batch_size': 10, 'lr': 0.005905886474961268, 'clusters': 300}. Best is trial 8 with value: 0.8606204067072518.\n"
     ]
    },
    {
     "name": "stdout",
     "output_type": "stream",
     "text": [
      " - Metrics: Accuracy=0.9276, F1=0.8197, Recall=0.7817, Precision=0.8616\n",
      "F1 = 0.82 < 0.835, skipping ...\n",
      "Done. Results written to citeseer_experimentations\\citeseer_scar_sampling_nnif_batch_cluster_1203120701.csv.\n",
      "Average F1 over valid seeds: 0.8197 ± 0.0000\n",
      "Running experiment with seed=654:\n",
      " - K=5, layers=1, hidden=64, out=256\n",
      " - norm=None, dropout=0, batch_size=15, reliable_mini_batch=True\n",
      " - ratio=0.124475064542442, aggregation=mean, treatment=removal\n",
      " - model_type=GCNConv, rate_pairs=2, clusters=200, lr=0.005606348411984263\n"
     ]
    },
    {
     "name": "stderr",
     "output_type": "stream",
     "text": [
      "Computing METIS partitioning...\n",
      "Done!\n"
     ]
    },
    {
     "name": "stdout",
     "output_type": "stream",
     "text": [
      "Epoch 0, Loss: 12.1347\n",
      "Epoch 10, Loss: 8.4844\n",
      "Epoch 20, Loss: 5.3585\n",
      "Epoch 30, Loss: 3.1689\n",
      "Epoch 40, Loss: 2.1283\n",
      " - Metrics: Accuracy=0.9387, F1=0.8462, Recall=0.8003, Precision=0.8976\n",
      "Running experiment with seed=114:\n",
      " - K=5, layers=1, hidden=64, out=256\n",
      " - norm=None, dropout=0, batch_size=15, reliable_mini_batch=True\n",
      " - ratio=0.124475064542442, aggregation=mean, treatment=removal\n",
      " - model_type=GCNConv, rate_pairs=2, clusters=200, lr=0.005606348411984263\n"
     ]
    },
    {
     "name": "stderr",
     "output_type": "stream",
     "text": [
      "Computing METIS partitioning...\n",
      "Done!\n"
     ]
    },
    {
     "name": "stdout",
     "output_type": "stream",
     "text": [
      "Epoch 0, Loss: 11.2827\n",
      "Epoch 10, Loss: 7.8989\n",
      "Epoch 20, Loss: 4.8436\n",
      "Epoch 30, Loss: 2.9075\n",
      "Epoch 40, Loss: 1.9438\n",
      " - Metrics: Accuracy=0.9384, F1=0.8439, Recall=0.7903, Precision=0.9052\n",
      "Running experiment with seed=25:\n",
      " - K=5, layers=1, hidden=64, out=256\n",
      " - norm=None, dropout=0, batch_size=15, reliable_mini_batch=True\n",
      " - ratio=0.124475064542442, aggregation=mean, treatment=removal\n",
      " - model_type=GCNConv, rate_pairs=2, clusters=200, lr=0.005606348411984263\n"
     ]
    },
    {
     "name": "stderr",
     "output_type": "stream",
     "text": [
      "Computing METIS partitioning...\n",
      "Done!\n"
     ]
    },
    {
     "name": "stdout",
     "output_type": "stream",
     "text": [
      "Epoch 0, Loss: 11.2827\n",
      "Epoch 10, Loss: 7.8989\n",
      "Epoch 20, Loss: 4.8436\n",
      "Epoch 30, Loss: 2.9075\n",
      "Epoch 40, Loss: 1.9438\n",
      " - Metrics: Accuracy=0.9390, F1=0.8461, Recall=0.7960, Precision=0.9029\n",
      "Running experiment with seed=759:\n",
      " - K=5, layers=1, hidden=64, out=256\n",
      " - norm=None, dropout=0, batch_size=15, reliable_mini_batch=True\n",
      " - ratio=0.124475064542442, aggregation=mean, treatment=removal\n",
      " - model_type=GCNConv, rate_pairs=2, clusters=200, lr=0.005606348411984263\n"
     ]
    },
    {
     "name": "stderr",
     "output_type": "stream",
     "text": [
      "Computing METIS partitioning...\n",
      "Done!\n"
     ]
    },
    {
     "name": "stdout",
     "output_type": "stream",
     "text": [
      "Epoch 0, Loss: 11.2827\n",
      "Epoch 10, Loss: 7.8989\n",
      "Epoch 20, Loss: 4.8436\n",
      "Epoch 30, Loss: 2.9075\n",
      "Epoch 40, Loss: 1.9438\n",
      " - Metrics: Accuracy=0.9381, F1=0.8432, Recall=0.7903, Precision=0.9038\n",
      "Running experiment with seed=281:\n",
      " - K=5, layers=1, hidden=64, out=256\n",
      " - norm=None, dropout=0, batch_size=15, reliable_mini_batch=True\n",
      " - ratio=0.124475064542442, aggregation=mean, treatment=removal\n",
      " - model_type=GCNConv, rate_pairs=2, clusters=200, lr=0.005606348411984263\n"
     ]
    },
    {
     "name": "stderr",
     "output_type": "stream",
     "text": [
      "Computing METIS partitioning...\n",
      "Done!\n"
     ]
    },
    {
     "name": "stdout",
     "output_type": "stream",
     "text": [
      "Epoch 0, Loss: 11.2827\n",
      "Epoch 10, Loss: 7.8989\n",
      "Epoch 20, Loss: 4.8436\n",
      "Epoch 30, Loss: 2.9075\n",
      "Epoch 40, Loss: 1.9438\n"
     ]
    },
    {
     "name": "stderr",
     "output_type": "stream",
     "text": [
      "[I 2025-03-12 12:11:43,448] Trial 31 finished with value: 0.8446903255327227 and parameters: {'K': 5, 'layers': 1, 'hidden_channels': 64, 'out_channels': 256, 'ratio': 0.124475064542442, 'aggregation': 'mean', 'treatment': 'removal', 'model_type': 'GCNConv', 'rate_pairs': 2, 'batch_size': 15, 'lr': 0.005606348411984263, 'clusters': 200}. Best is trial 8 with value: 0.8606204067072518.\n"
     ]
    },
    {
     "name": "stdout",
     "output_type": "stream",
     "text": [
      " - Metrics: Accuracy=0.9384, F1=0.8441, Recall=0.7917, Precision=0.9039\n",
      "Done. Results written to citeseer_experimentations\\citeseer_scar_sampling_nnif_batch_cluster_1203120820.csv.\n",
      "Average F1 over valid seeds: 0.8447 ± 0.0012\n",
      "Running experiment with seed=654:\n",
      " - K=5, layers=1, hidden=64, out=256\n",
      " - norm=None, dropout=0, batch_size=15, reliable_mini_batch=True\n",
      " - ratio=0.11130162896754928, aggregation=mean, treatment=removal\n",
      " - model_type=GCNConv, rate_pairs=1, clusters=200, lr=0.0053480128174226696\n"
     ]
    },
    {
     "name": "stderr",
     "output_type": "stream",
     "text": [
      "Computing METIS partitioning...\n",
      "Done!\n"
     ]
    },
    {
     "name": "stdout",
     "output_type": "stream",
     "text": [
      "Epoch 0, Loss: 12.2716\n",
      "Epoch 10, Loss: 8.6766\n",
      "Epoch 20, Loss: 5.6342\n",
      "Epoch 30, Loss: 3.3946\n",
      "Epoch 40, Loss: 2.2907\n",
      " - Metrics: Accuracy=0.9372, F1=0.8413, Recall=0.7903, Precision=0.8994\n",
      "Running experiment with seed=114:\n",
      " - K=5, layers=1, hidden=64, out=256\n",
      " - norm=None, dropout=0, batch_size=15, reliable_mini_batch=True\n",
      " - ratio=0.11130162896754928, aggregation=mean, treatment=removal\n",
      " - model_type=GCNConv, rate_pairs=1, clusters=200, lr=0.0053480128174226696\n"
     ]
    },
    {
     "name": "stderr",
     "output_type": "stream",
     "text": [
      "Computing METIS partitioning...\n",
      "Done!\n"
     ]
    },
    {
     "name": "stdout",
     "output_type": "stream",
     "text": [
      "Epoch 0, Loss: 11.2457\n",
      "Epoch 10, Loss: 8.0416\n",
      "Epoch 20, Loss: 5.0854\n",
      "Epoch 30, Loss: 3.1031\n",
      "Epoch 40, Loss: 2.0871\n",
      " - Metrics: Accuracy=0.9378, F1=0.8406, Recall=0.7789, Precision=0.9130\n",
      "Running experiment with seed=25:\n",
      " - K=5, layers=1, hidden=64, out=256\n",
      " - norm=None, dropout=0, batch_size=15, reliable_mini_batch=True\n",
      " - ratio=0.11130162896754928, aggregation=mean, treatment=removal\n",
      " - model_type=GCNConv, rate_pairs=1, clusters=200, lr=0.0053480128174226696\n"
     ]
    },
    {
     "name": "stderr",
     "output_type": "stream",
     "text": [
      "Computing METIS partitioning...\n",
      "Done!\n"
     ]
    },
    {
     "name": "stdout",
     "output_type": "stream",
     "text": [
      "Epoch 0, Loss: 11.2457\n",
      "Epoch 10, Loss: 8.0416\n",
      "Epoch 20, Loss: 5.0854\n",
      "Epoch 30, Loss: 3.1031\n",
      "Epoch 40, Loss: 2.0871\n",
      " - Metrics: Accuracy=0.9372, F1=0.8384, Recall=0.7732, Precision=0.9155\n",
      "Running experiment with seed=759:\n",
      " - K=5, layers=1, hidden=64, out=256\n",
      " - norm=None, dropout=0, batch_size=15, reliable_mini_batch=True\n",
      " - ratio=0.11130162896754928, aggregation=mean, treatment=removal\n",
      " - model_type=GCNConv, rate_pairs=1, clusters=200, lr=0.0053480128174226696\n"
     ]
    },
    {
     "name": "stderr",
     "output_type": "stream",
     "text": [
      "Computing METIS partitioning...\n",
      "Done!\n"
     ]
    },
    {
     "name": "stdout",
     "output_type": "stream",
     "text": [
      "Epoch 0, Loss: 11.2457\n",
      "Epoch 10, Loss: 8.0416\n",
      "Epoch 20, Loss: 5.0854\n",
      "Epoch 30, Loss: 3.1031\n",
      "Epoch 40, Loss: 2.0871\n",
      " - Metrics: Accuracy=0.9375, F1=0.8393, Recall=0.7746, Precision=0.9157\n",
      "Running experiment with seed=281:\n",
      " - K=5, layers=1, hidden=64, out=256\n",
      " - norm=None, dropout=0, batch_size=15, reliable_mini_batch=True\n",
      " - ratio=0.11130162896754928, aggregation=mean, treatment=removal\n",
      " - model_type=GCNConv, rate_pairs=1, clusters=200, lr=0.0053480128174226696\n"
     ]
    },
    {
     "name": "stderr",
     "output_type": "stream",
     "text": [
      "Computing METIS partitioning...\n",
      "Done!\n"
     ]
    },
    {
     "name": "stdout",
     "output_type": "stream",
     "text": [
      "Epoch 0, Loss: 11.2457\n",
      "Epoch 10, Loss: 8.0416\n",
      "Epoch 20, Loss: 5.0854\n",
      "Epoch 30, Loss: 3.1031\n",
      "Epoch 40, Loss: 2.0871\n"
     ]
    },
    {
     "name": "stderr",
     "output_type": "stream",
     "text": [
      "[I 2025-03-12 12:15:05,680] Trial 32 finished with value: 0.8400435635122706 and parameters: {'K': 5, 'layers': 1, 'hidden_channels': 64, 'out_channels': 256, 'ratio': 0.11130162896754928, 'aggregation': 'mean', 'treatment': 'removal', 'model_type': 'GCNConv', 'rate_pairs': 1, 'batch_size': 15, 'lr': 0.0053480128174226696, 'clusters': 200}. Best is trial 8 with value: 0.8606204067072518.\n"
     ]
    },
    {
     "name": "stdout",
     "output_type": "stream",
     "text": [
      " - Metrics: Accuracy=0.9378, F1=0.8406, Recall=0.7789, Precision=0.9130\n",
      "Done. Results written to citeseer_experimentations\\citeseer_scar_sampling_nnif_batch_cluster_1203121143.csv.\n",
      "Average F1 over valid seeds: 0.8400 ± 0.0011\n",
      "Running experiment with seed=654:\n",
      " - K=5, layers=1, hidden=64, out=256\n",
      " - norm=None, dropout=0, batch_size=15, reliable_mini_batch=True\n",
      " - ratio=0.1268984264297222, aggregation=mean, treatment=removal\n",
      " - model_type=GCNConv, rate_pairs=4, clusters=200, lr=0.007462350896943843\n"
     ]
    },
    {
     "name": "stderr",
     "output_type": "stream",
     "text": [
      "Computing METIS partitioning...\n",
      "Done!\n"
     ]
    },
    {
     "name": "stdout",
     "output_type": "stream",
     "text": [
      "Epoch 0, Loss: 12.0225\n",
      "Epoch 10, Loss: 7.3082\n",
      "Epoch 20, Loss: 3.7961\n",
      "Epoch 30, Loss: 2.0640\n",
      "Epoch 40, Loss: 1.3508\n",
      " - Metrics: Accuracy=0.9357, F1=0.8391, Recall=0.7960, Precision=0.8871\n",
      "Running experiment with seed=114:\n",
      " - K=5, layers=1, hidden=64, out=256\n",
      " - norm=None, dropout=0, batch_size=15, reliable_mini_batch=True\n",
      " - ratio=0.1268984264297222, aggregation=mean, treatment=removal\n",
      " - model_type=GCNConv, rate_pairs=4, clusters=200, lr=0.007462350896943843\n"
     ]
    },
    {
     "name": "stderr",
     "output_type": "stream",
     "text": [
      "Computing METIS partitioning...\n",
      "Done!\n"
     ]
    },
    {
     "name": "stdout",
     "output_type": "stream",
     "text": [
      "Epoch 0, Loss: 11.2422\n",
      "Epoch 10, Loss: 6.7321\n",
      "Epoch 20, Loss: 3.4039\n",
      "Epoch 30, Loss: 1.8955\n",
      "Epoch 40, Loss: 1.2391\n",
      " - Metrics: Accuracy=0.9357, F1=0.8403, Recall=0.8031, Precision=0.8811\n",
      "Running experiment with seed=25:\n",
      " - K=5, layers=1, hidden=64, out=256\n",
      " - norm=None, dropout=0, batch_size=15, reliable_mini_batch=True\n",
      " - ratio=0.1268984264297222, aggregation=mean, treatment=removal\n",
      " - model_type=GCNConv, rate_pairs=4, clusters=200, lr=0.007462350896943843\n"
     ]
    },
    {
     "name": "stderr",
     "output_type": "stream",
     "text": [
      "Computing METIS partitioning...\n",
      "Done!\n"
     ]
    },
    {
     "name": "stdout",
     "output_type": "stream",
     "text": [
      "Epoch 0, Loss: 11.2422\n",
      "Epoch 10, Loss: 6.7321\n",
      "Epoch 20, Loss: 3.4039\n",
      "Epoch 30, Loss: 1.8955\n",
      "Epoch 40, Loss: 1.2391\n",
      " - Metrics: Accuracy=0.9357, F1=0.8403, Recall=0.8031, Precision=0.8811\n",
      "Running experiment with seed=759:\n",
      " - K=5, layers=1, hidden=64, out=256\n",
      " - norm=None, dropout=0, batch_size=15, reliable_mini_batch=True\n",
      " - ratio=0.1268984264297222, aggregation=mean, treatment=removal\n",
      " - model_type=GCNConv, rate_pairs=4, clusters=200, lr=0.007462350896943843\n"
     ]
    },
    {
     "name": "stderr",
     "output_type": "stream",
     "text": [
      "Computing METIS partitioning...\n",
      "Done!\n"
     ]
    },
    {
     "name": "stdout",
     "output_type": "stream",
     "text": [
      "Epoch 0, Loss: 11.2422\n",
      "Epoch 10, Loss: 6.7321\n",
      "Epoch 20, Loss: 3.4039\n",
      "Epoch 30, Loss: 1.8955\n",
      "Epoch 40, Loss: 1.2391\n",
      " - Metrics: Accuracy=0.9345, F1=0.8378, Recall=0.8031, Precision=0.8756\n",
      "Running experiment with seed=281:\n",
      " - K=5, layers=1, hidden=64, out=256\n",
      " - norm=None, dropout=0, batch_size=15, reliable_mini_batch=True\n",
      " - ratio=0.1268984264297222, aggregation=mean, treatment=removal\n",
      " - model_type=GCNConv, rate_pairs=4, clusters=200, lr=0.007462350896943843\n"
     ]
    },
    {
     "name": "stderr",
     "output_type": "stream",
     "text": [
      "Computing METIS partitioning...\n",
      "Done!\n"
     ]
    },
    {
     "name": "stdout",
     "output_type": "stream",
     "text": [
      "Epoch 0, Loss: 11.2422\n",
      "Epoch 10, Loss: 6.7321\n",
      "Epoch 20, Loss: 3.4039\n",
      "Epoch 30, Loss: 1.8955\n",
      "Epoch 40, Loss: 1.2391\n"
     ]
    },
    {
     "name": "stderr",
     "output_type": "stream",
     "text": [
      "[I 2025-03-12 12:18:26,455] Trial 33 finished with value: 0.8387115904208773 and parameters: {'K': 5, 'layers': 1, 'hidden_channels': 64, 'out_channels': 256, 'ratio': 0.1268984264297222, 'aggregation': 'mean', 'treatment': 'removal', 'model_type': 'GCNConv', 'rate_pairs': 4, 'batch_size': 15, 'lr': 0.007462350896943843, 'clusters': 200}. Best is trial 8 with value: 0.8606204067072518.\n"
     ]
    },
    {
     "name": "stdout",
     "output_type": "stream",
     "text": [
      " - Metrics: Accuracy=0.9339, F1=0.8361, Recall=0.8003, Precision=0.8752\n",
      "Done. Results written to citeseer_experimentations\\citeseer_scar_sampling_nnif_batch_cluster_1203121505.csv.\n",
      "Average F1 over valid seeds: 0.8387 ± 0.0016\n",
      "Running experiment with seed=654:\n",
      " - K=6, layers=1, hidden=64, out=256\n",
      " - norm=None, dropout=0, batch_size=15, reliable_mini_batch=True\n",
      " - ratio=0.1391779793763493, aggregation=mean, treatment=removal\n",
      " - model_type=GCNConv, rate_pairs=9, clusters=100, lr=0.006120847405036598\n"
     ]
    },
    {
     "name": "stderr",
     "output_type": "stream",
     "text": [
      "Computing METIS partitioning...\n",
      "Done!\n"
     ]
    },
    {
     "name": "stdout",
     "output_type": "stream",
     "text": [
      "Epoch 0, Loss: 6.2053\n",
      "Epoch 10, Loss: 5.4369\n",
      "Epoch 20, Loss: 4.5693\n",
      "Epoch 30, Loss: 3.3412\n",
      "Epoch 40, Loss: 2.4958\n",
      " - Metrics: Accuracy=0.9432, F1=0.8637, Recall=0.8545, Precision=0.8732\n",
      "Running experiment with seed=114:\n",
      " - K=6, layers=1, hidden=64, out=256\n",
      " - norm=None, dropout=0, batch_size=15, reliable_mini_batch=True\n",
      " - ratio=0.1391779793763493, aggregation=mean, treatment=removal\n",
      " - model_type=GCNConv, rate_pairs=9, clusters=100, lr=0.006120847405036598\n"
     ]
    },
    {
     "name": "stderr",
     "output_type": "stream",
     "text": [
      "Computing METIS partitioning...\n",
      "Done!\n"
     ]
    },
    {
     "name": "stdout",
     "output_type": "stream",
     "text": [
      "Epoch 0, Loss: 5.9089\n",
      "Epoch 10, Loss: 5.1852\n",
      "Epoch 20, Loss: 4.5712\n",
      "Epoch 30, Loss: 3.1441\n",
      "Epoch 40, Loss: 2.3575\n",
      " - Metrics: Accuracy=0.9384, F1=0.8489, Recall=0.8217, Precision=0.8780\n",
      "Running experiment with seed=25:\n",
      " - K=6, layers=1, hidden=64, out=256\n",
      " - norm=None, dropout=0, batch_size=15, reliable_mini_batch=True\n",
      " - ratio=0.1391779793763493, aggregation=mean, treatment=removal\n",
      " - model_type=GCNConv, rate_pairs=9, clusters=100, lr=0.006120847405036598\n"
     ]
    },
    {
     "name": "stderr",
     "output_type": "stream",
     "text": [
      "Computing METIS partitioning...\n",
      "Done!\n"
     ]
    },
    {
     "name": "stdout",
     "output_type": "stream",
     "text": [
      "Epoch 0, Loss: 5.9089\n",
      "Epoch 10, Loss: 5.1852\n",
      "Epoch 20, Loss: 4.5712\n",
      "Epoch 30, Loss: 3.1441\n",
      "Epoch 40, Loss: 2.3575\n",
      " - Metrics: Accuracy=0.9384, F1=0.8489, Recall=0.8217, Precision=0.8780\n",
      "Running experiment with seed=759:\n",
      " - K=6, layers=1, hidden=64, out=256\n",
      " - norm=None, dropout=0, batch_size=15, reliable_mini_batch=True\n",
      " - ratio=0.1391779793763493, aggregation=mean, treatment=removal\n",
      " - model_type=GCNConv, rate_pairs=9, clusters=100, lr=0.006120847405036598\n"
     ]
    },
    {
     "name": "stderr",
     "output_type": "stream",
     "text": [
      "Computing METIS partitioning...\n",
      "Done!\n"
     ]
    },
    {
     "name": "stdout",
     "output_type": "stream",
     "text": [
      "Epoch 0, Loss: 5.9089\n",
      "Epoch 10, Loss: 5.1852\n",
      "Epoch 20, Loss: 4.5712\n",
      "Epoch 30, Loss: 3.1441\n",
      "Epoch 40, Loss: 2.3575\n",
      " - Metrics: Accuracy=0.9384, F1=0.8489, Recall=0.8217, Precision=0.8780\n",
      "Running experiment with seed=281:\n",
      " - K=6, layers=1, hidden=64, out=256\n",
      " - norm=None, dropout=0, batch_size=15, reliable_mini_batch=True\n",
      " - ratio=0.1391779793763493, aggregation=mean, treatment=removal\n",
      " - model_type=GCNConv, rate_pairs=9, clusters=100, lr=0.006120847405036598\n"
     ]
    },
    {
     "name": "stderr",
     "output_type": "stream",
     "text": [
      "Computing METIS partitioning...\n",
      "Done!\n"
     ]
    },
    {
     "name": "stdout",
     "output_type": "stream",
     "text": [
      "Epoch 0, Loss: 5.9089\n",
      "Epoch 10, Loss: 5.1852\n",
      "Epoch 20, Loss: 4.5712\n",
      "Epoch 30, Loss: 3.1441\n",
      "Epoch 40, Loss: 2.3575\n"
     ]
    },
    {
     "name": "stderr",
     "output_type": "stream",
     "text": [
      "[I 2025-03-12 12:20:34,518] Trial 34 finished with value: 0.8518921090088563 and parameters: {'K': 6, 'layers': 1, 'hidden_channels': 64, 'out_channels': 256, 'ratio': 0.1391779793763493, 'aggregation': 'mean', 'treatment': 'removal', 'model_type': 'GCNConv', 'rate_pairs': 9, 'batch_size': 15, 'lr': 0.006120847405036598, 'clusters': 100}. Best is trial 8 with value: 0.8606204067072518.\n"
     ]
    },
    {
     "name": "stdout",
     "output_type": "stream",
     "text": [
      " - Metrics: Accuracy=0.9384, F1=0.8489, Recall=0.8217, Precision=0.8780\n",
      "Done. Results written to citeseer_experimentations\\citeseer_scar_sampling_nnif_batch_cluster_1203121826.csv.\n",
      "Average F1 over valid seeds: 0.8519 ± 0.0059\n",
      "Running experiment with seed=654:\n",
      " - K=6, layers=1, hidden=64, out=64\n",
      " - norm=None, dropout=0, batch_size=15, reliable_mini_batch=True\n",
      " - ratio=0.1456281025651417, aggregation=sum, treatment=removal\n",
      " - model_type=GCNConv, rate_pairs=9, clusters=100, lr=0.006290867820140867\n"
     ]
    },
    {
     "name": "stderr",
     "output_type": "stream",
     "text": [
      "Computing METIS partitioning...\n",
      "Done!\n"
     ]
    },
    {
     "name": "stdout",
     "output_type": "stream",
     "text": [
      "Epoch 0, Loss: 6.2491\n",
      "Epoch 10, Loss: 5.4886\n",
      "Epoch 20, Loss: 4.4398\n",
      "Epoch 30, Loss: 3.3236\n",
      "Epoch 40, Loss: 2.4819\n"
     ]
    },
    {
     "name": "stderr",
     "output_type": "stream",
     "text": [
      "[I 2025-03-12 12:20:56,536] Trial 35 finished with value: 0.8234410217881293 and parameters: {'K': 6, 'layers': 1, 'hidden_channels': 64, 'out_channels': 64, 'ratio': 0.1456281025651417, 'aggregation': 'sum', 'treatment': 'removal', 'model_type': 'GCNConv', 'rate_pairs': 9, 'batch_size': 15, 'lr': 0.006290867820140867, 'clusters': 100}. Best is trial 8 with value: 0.8606204067072518.\n"
     ]
    },
    {
     "name": "stdout",
     "output_type": "stream",
     "text": [
      " - Metrics: Accuracy=0.9294, F1=0.8234, Recall=0.7817, Precision=0.8698\n",
      "F1 = 0.82 < 0.835, skipping ...\n",
      "Done. Results written to citeseer_experimentations\\citeseer_scar_sampling_nnif_batch_cluster_1203122034.csv.\n",
      "Average F1 over valid seeds: 0.8234 ± 0.0000\n",
      "Running experiment with seed=654:\n",
      " - K=6, layers=1, hidden=256, out=256\n",
      " - norm=None, dropout=0, batch_size=5, reliable_mini_batch=True\n",
      " - ratio=0.13900132606065319, aggregation=sum, treatment=removal\n",
      " - model_type=GINConv, rate_pairs=10, clusters=100, lr=0.008554037661011905\n"
     ]
    },
    {
     "name": "stderr",
     "output_type": "stream",
     "text": [
      "Computing METIS partitioning...\n",
      "Done!\n"
     ]
    },
    {
     "name": "stdout",
     "output_type": "stream",
     "text": [
      "Epoch 0, Loss: 18.9872\n",
      "Epoch 10, Loss: 8.5747\n",
      "Epoch 20, Loss: 3.1272\n",
      "Epoch 30, Loss: 1.6268\n",
      "Epoch 40, Loss: 0.9931\n"
     ]
    },
    {
     "name": "stderr",
     "output_type": "stream",
     "text": [
      "[I 2025-03-12 12:21:44,692] Trial 36 finished with value: 0.8215892053973014 and parameters: {'K': 6, 'layers': 1, 'hidden_channels': 256, 'out_channels': 256, 'ratio': 0.13900132606065319, 'aggregation': 'sum', 'treatment': 'removal', 'model_type': 'GINConv', 'rate_pairs': 10, 'batch_size': 5, 'lr': 0.008554037661011905, 'clusters': 100}. Best is trial 8 with value: 0.8606204067072518.\n"
     ]
    },
    {
     "name": "stdout",
     "output_type": "stream",
     "text": [
      " - Metrics: Accuracy=0.9285, F1=0.8216, Recall=0.7817, Precision=0.8657\n",
      "F1 = 0.82 < 0.835, skipping ...\n",
      "Done. Results written to citeseer_experimentations\\citeseer_scar_sampling_nnif_batch_cluster_1203122056.csv.\n",
      "Average F1 over valid seeds: 0.8216 ± 0.0000\n",
      "Running experiment with seed=654:\n",
      " - K=7, layers=1, hidden=64, out=64\n",
      " - norm=None, dropout=0, batch_size=1, reliable_mini_batch=True\n",
      " - ratio=0.14993998385933666, aggregation=mean, treatment=removal\n",
      " - model_type=GCNConv, rate_pairs=8, clusters=100, lr=0.007219804734490598\n"
     ]
    },
    {
     "name": "stderr",
     "output_type": "stream",
     "text": [
      "Computing METIS partitioning...\n",
      "Done!\n",
      "[I 2025-03-12 12:21:45,525] Trial 37 finished with value: 0.0 and parameters: {'K': 7, 'layers': 1, 'hidden_channels': 64, 'out_channels': 64, 'ratio': 0.14993998385933666, 'aggregation': 'mean', 'treatment': 'removal', 'model_type': 'GCNConv', 'rate_pairs': 8, 'batch_size': 1, 'lr': 0.007219804734490598, 'clusters': 100}. Best is trial 8 with value: 0.8606204067072518.\n"
     ]
    },
    {
     "name": "stdout",
     "output_type": "stream",
     "text": [
      "Error: Labels must be in {0,1}, got [0].\n",
      "Done. Results written to citeseer_experimentations\\citeseer_scar_sampling_nnif_batch_cluster_1203122144.csv.\n",
      "Average F1 over valid seeds: 0.0000 ± 0.0000\n",
      "Running experiment with seed=654:\n",
      " - K=6, layers=1, hidden=128, out=256\n",
      " - norm=None, dropout=0, batch_size=15, reliable_mini_batch=True\n",
      " - ratio=0.09616756582645608, aggregation=mean, treatment=relabeling\n",
      " - model_type=GATConv, rate_pairs=10, clusters=100, lr=0.0043225293835087485\n"
     ]
    },
    {
     "name": "stderr",
     "output_type": "stream",
     "text": [
      "Computing METIS partitioning...\n",
      "Done!\n"
     ]
    },
    {
     "name": "stdout",
     "output_type": "stream",
     "text": [
      "Epoch 0, Loss: 4.8191\n",
      "Epoch 10, Loss: 3.5236\n",
      "Epoch 20, Loss: 3.2161\n",
      "Epoch 30, Loss: 2.7218\n",
      "Epoch 40, Loss: 2.2796\n"
     ]
    },
    {
     "name": "stderr",
     "output_type": "stream",
     "text": [
      "[I 2025-03-12 12:22:13,675] Trial 38 finished with value: 0.827123695976155 and parameters: {'K': 6, 'layers': 1, 'hidden_channels': 128, 'out_channels': 256, 'ratio': 0.09616756582645608, 'aggregation': 'mean', 'treatment': 'relabeling', 'model_type': 'GATConv', 'rate_pairs': 10, 'batch_size': 15, 'lr': 0.0043225293835087485, 'clusters': 100}. Best is trial 8 with value: 0.8606204067072518.\n"
     ]
    },
    {
     "name": "stdout",
     "output_type": "stream",
     "text": [
      " - Metrics: Accuracy=0.9303, F1=0.8271, Recall=0.7917, Precision=0.8658\n",
      "F1 = 0.83 < 0.835, skipping ...\n",
      "Done. Results written to citeseer_experimentations\\citeseer_scar_sampling_nnif_batch_cluster_1203122145.csv.\n",
      "Average F1 over valid seeds: 0.8271 ± 0.0000\n",
      "Running experiment with seed=654:\n",
      " - K=7, layers=1, hidden=256, out=128\n",
      " - norm=None, dropout=0, batch_size=5, reliable_mini_batch=True\n",
      " - ratio=0.10618184978074928, aggregation=sum, treatment=removal\n",
      " - model_type=SAGEConv, rate_pairs=6, clusters=100, lr=0.006428700757110828\n"
     ]
    },
    {
     "name": "stderr",
     "output_type": "stream",
     "text": [
      "Computing METIS partitioning...\n",
      "Done!\n"
     ]
    },
    {
     "name": "stdout",
     "output_type": "stream",
     "text": [
      "Epoch 0, Loss: 20.1609\n",
      "Epoch 10, Loss: 12.2238\n",
      "Epoch 20, Loss: 5.3538\n",
      "Epoch 30, Loss: 2.7809\n",
      "Epoch 40, Loss: 1.7070\n"
     ]
    },
    {
     "name": "stderr",
     "output_type": "stream",
     "text": [
      "[I 2025-03-12 12:22:58,270] Trial 39 finished with value: 0.8143074581430746 and parameters: {'K': 7, 'layers': 1, 'hidden_channels': 256, 'out_channels': 128, 'ratio': 0.10618184978074928, 'aggregation': 'sum', 'treatment': 'removal', 'model_type': 'SAGEConv', 'rate_pairs': 6, 'batch_size': 5, 'lr': 0.006428700757110828, 'clusters': 100}. Best is trial 8 with value: 0.8606204067072518.\n"
     ]
    },
    {
     "name": "stdout",
     "output_type": "stream",
     "text": [
      " - Metrics: Accuracy=0.9267, F1=0.8143, Recall=0.7632, Precision=0.8728\n",
      "F1 = 0.81 < 0.835, skipping ...\n",
      "Done. Results written to citeseer_experimentations\\citeseer_scar_sampling_nnif_batch_cluster_1203122213.csv.\n",
      "Average F1 over valid seeds: 0.8143 ± 0.0000\n",
      "Running experiment with seed=654:\n",
      " - K=4, layers=1, hidden=64, out=256\n",
      " - norm=None, dropout=0, batch_size=15, reliable_mini_batch=True\n",
      " - ratio=0.15943822838698143, aggregation=mean, treatment=removal\n",
      " - model_type=GCNConv, rate_pairs=7, clusters=400, lr=0.004103906113407946\n"
     ]
    },
    {
     "name": "stderr",
     "output_type": "stream",
     "text": [
      "Computing METIS partitioning...\n",
      "Done!\n"
     ]
    },
    {
     "name": "stdout",
     "output_type": "stream",
     "text": [
      "Epoch 0, Loss: 21.9255\n",
      "Epoch 10, Loss: 12.5703\n",
      "Epoch 20, Loss: 6.5111\n",
      "Epoch 30, Loss: 3.5570\n",
      "Epoch 40, Loss: 2.3498\n",
      " - Metrics: Accuracy=0.9315, F1=0.8394, Recall=0.8502, Precision=0.8289\n",
      "Running experiment with seed=114:\n",
      " - K=4, layers=1, hidden=64, out=256\n",
      " - norm=None, dropout=0, batch_size=15, reliable_mini_batch=True\n",
      " - ratio=0.15943822838698143, aggregation=mean, treatment=removal\n",
      " - model_type=GCNConv, rate_pairs=7, clusters=400, lr=0.004103906113407946\n"
     ]
    },
    {
     "name": "stderr",
     "output_type": "stream",
     "text": [
      "Computing METIS partitioning...\n",
      "Done!\n"
     ]
    },
    {
     "name": "stdout",
     "output_type": "stream",
     "text": [
      "Epoch 0, Loss: 21.9862\n",
      "Epoch 10, Loss: 12.1254\n",
      "Epoch 20, Loss: 6.2246\n",
      "Epoch 30, Loss: 3.5521\n",
      "Epoch 40, Loss: 2.3007\n"
     ]
    },
    {
     "name": "stderr",
     "output_type": "stream",
     "text": [
      "[I 2025-03-12 12:25:06,211] Trial 40 finished with value: 0.8355456479886513 and parameters: {'K': 4, 'layers': 1, 'hidden_channels': 64, 'out_channels': 256, 'ratio': 0.15943822838698143, 'aggregation': 'mean', 'treatment': 'removal', 'model_type': 'GCNConv', 'rate_pairs': 7, 'batch_size': 15, 'lr': 0.004103906113407946, 'clusters': 400}. Best is trial 8 with value: 0.8606204067072518.\n"
     ]
    },
    {
     "name": "stdout",
     "output_type": "stream",
     "text": [
      " - Metrics: Accuracy=0.9297, F1=0.8317, Recall=0.8245, Precision=0.8389\n",
      "F1 = 0.83 < 0.835, skipping ...\n",
      "Done. Results written to citeseer_experimentations\\citeseer_scar_sampling_nnif_batch_cluster_1203122258.csv.\n",
      "Average F1 over valid seeds: 0.8355 ± 0.0039\n",
      "Running experiment with seed=654:\n",
      " - K=5, layers=1, hidden=64, out=256\n",
      " - norm=None, dropout=0, batch_size=15, reliable_mini_batch=True\n",
      " - ratio=0.12195341726046191, aggregation=mean, treatment=removal\n",
      " - model_type=GCNConv, rate_pairs=2, clusters=200, lr=0.005276166274074566\n"
     ]
    },
    {
     "name": "stderr",
     "output_type": "stream",
     "text": [
      "Computing METIS partitioning...\n",
      "Done!\n"
     ]
    },
    {
     "name": "stdout",
     "output_type": "stream",
     "text": [
      "Epoch 0, Loss: 12.1497\n",
      "Epoch 10, Loss: 8.7043\n",
      "Epoch 20, Loss: 5.7009\n",
      "Epoch 30, Loss: 3.4467\n",
      "Epoch 40, Loss: 2.3317\n",
      " - Metrics: Accuracy=0.9390, F1=0.8461, Recall=0.7960, Precision=0.9029\n",
      "Running experiment with seed=114:\n",
      " - K=5, layers=1, hidden=64, out=256\n",
      " - norm=None, dropout=0, batch_size=15, reliable_mini_batch=True\n",
      " - ratio=0.12195341726046191, aggregation=mean, treatment=removal\n",
      " - model_type=GCNConv, rate_pairs=2, clusters=200, lr=0.005276166274074566\n"
     ]
    },
    {
     "name": "stderr",
     "output_type": "stream",
     "text": [
      "Computing METIS partitioning...\n",
      "Done!\n"
     ]
    },
    {
     "name": "stdout",
     "output_type": "stream",
     "text": [
      "Epoch 0, Loss: 11.2248\n",
      "Epoch 10, Loss: 8.0868\n",
      "Epoch 20, Loss: 5.1514\n",
      "Epoch 30, Loss: 3.1592\n",
      "Epoch 40, Loss: 2.1307\n",
      " - Metrics: Accuracy=0.9381, F1=0.8435, Recall=0.7917, Precision=0.9024\n",
      "Running experiment with seed=25:\n",
      " - K=5, layers=1, hidden=64, out=256\n",
      " - norm=None, dropout=0, batch_size=15, reliable_mini_batch=True\n",
      " - ratio=0.12195341726046191, aggregation=mean, treatment=removal\n",
      " - model_type=GCNConv, rate_pairs=2, clusters=200, lr=0.005276166274074566\n"
     ]
    },
    {
     "name": "stderr",
     "output_type": "stream",
     "text": [
      "Computing METIS partitioning...\n",
      "Done!\n"
     ]
    },
    {
     "name": "stdout",
     "output_type": "stream",
     "text": [
      "Epoch 0, Loss: 11.2248\n",
      "Epoch 10, Loss: 8.0868\n",
      "Epoch 20, Loss: 5.1514\n",
      "Epoch 30, Loss: 3.1592\n",
      "Epoch 40, Loss: 2.1307\n",
      " - Metrics: Accuracy=0.9384, F1=0.8448, Recall=0.7960, Precision=0.9000\n",
      "Running experiment with seed=759:\n",
      " - K=5, layers=1, hidden=64, out=256\n",
      " - norm=None, dropout=0, batch_size=15, reliable_mini_batch=True\n",
      " - ratio=0.12195341726046191, aggregation=mean, treatment=removal\n",
      " - model_type=GCNConv, rate_pairs=2, clusters=200, lr=0.005276166274074566\n"
     ]
    },
    {
     "name": "stderr",
     "output_type": "stream",
     "text": [
      "Computing METIS partitioning...\n",
      "Done!\n"
     ]
    },
    {
     "name": "stdout",
     "output_type": "stream",
     "text": [
      "Epoch 0, Loss: 11.2248\n",
      "Epoch 10, Loss: 8.0868\n",
      "Epoch 20, Loss: 5.1514\n",
      "Epoch 30, Loss: 3.1592\n",
      "Epoch 40, Loss: 2.1307\n",
      " - Metrics: Accuracy=0.9381, F1=0.8435, Recall=0.7917, Precision=0.9024\n",
      "Running experiment with seed=281:\n",
      " - K=5, layers=1, hidden=64, out=256\n",
      " - norm=None, dropout=0, batch_size=15, reliable_mini_batch=True\n",
      " - ratio=0.12195341726046191, aggregation=mean, treatment=removal\n",
      " - model_type=GCNConv, rate_pairs=2, clusters=200, lr=0.005276166274074566\n"
     ]
    },
    {
     "name": "stderr",
     "output_type": "stream",
     "text": [
      "Computing METIS partitioning...\n",
      "Done!\n"
     ]
    },
    {
     "name": "stdout",
     "output_type": "stream",
     "text": [
      "Epoch 0, Loss: 11.2248\n",
      "Epoch 10, Loss: 8.0868\n",
      "Epoch 20, Loss: 5.1514\n",
      "Epoch 30, Loss: 3.1592\n",
      "Epoch 40, Loss: 2.1307\n"
     ]
    },
    {
     "name": "stderr",
     "output_type": "stream",
     "text": [
      "[I 2025-03-12 12:28:27,778] Trial 41 finished with value: 0.8446935057938395 and parameters: {'K': 5, 'layers': 1, 'hidden_channels': 64, 'out_channels': 256, 'ratio': 0.12195341726046191, 'aggregation': 'mean', 'treatment': 'removal', 'model_type': 'GCNConv', 'rate_pairs': 2, 'batch_size': 15, 'lr': 0.005276166274074566, 'clusters': 200}. Best is trial 8 with value: 0.8606204067072518.\n"
     ]
    },
    {
     "name": "stdout",
     "output_type": "stream",
     "text": [
      " - Metrics: Accuracy=0.9390, F1=0.8456, Recall=0.7932, Precision=0.9055\n",
      "Done. Results written to citeseer_experimentations\\citeseer_scar_sampling_nnif_batch_cluster_1203122506.csv.\n",
      "Average F1 over valid seeds: 0.8447 ± 0.0011\n",
      "Running experiment with seed=654:\n",
      " - K=6, layers=1, hidden=64, out=256\n",
      " - norm=None, dropout=0, batch_size=15, reliable_mini_batch=True\n",
      " - ratio=0.13457265485181982, aggregation=mean, treatment=removal\n",
      " - model_type=GCNConv, rate_pairs=9, clusters=100, lr=0.0052550993025996424\n"
     ]
    },
    {
     "name": "stderr",
     "output_type": "stream",
     "text": [
      "Computing METIS partitioning...\n",
      "Done!\n"
     ]
    },
    {
     "name": "stdout",
     "output_type": "stream",
     "text": [
      "Epoch 0, Loss: 6.1966\n",
      "Epoch 10, Loss: 5.5507\n",
      "Epoch 20, Loss: 4.8594\n",
      "Epoch 30, Loss: 3.7505\n",
      "Epoch 40, Loss: 2.9522\n",
      " - Metrics: Accuracy=0.9426, F1=0.8613, Recall=0.8459, Precision=0.8772\n",
      "Running experiment with seed=114:\n",
      " - K=6, layers=1, hidden=64, out=256\n",
      " - norm=None, dropout=0, batch_size=15, reliable_mini_batch=True\n",
      " - ratio=0.13457265485181982, aggregation=mean, treatment=removal\n",
      " - model_type=GCNConv, rate_pairs=9, clusters=100, lr=0.0052550993025996424\n"
     ]
    },
    {
     "name": "stderr",
     "output_type": "stream",
     "text": [
      "Computing METIS partitioning...\n",
      "Done!\n"
     ]
    },
    {
     "name": "stdout",
     "output_type": "stream",
     "text": [
      "Epoch 0, Loss: 5.9772\n",
      "Epoch 10, Loss: 5.3467\n",
      "Epoch 20, Loss: 4.9141\n",
      "Epoch 30, Loss: 3.5809\n",
      "Epoch 40, Loss: 2.8354\n",
      " - Metrics: Accuracy=0.9384, F1=0.8489, Recall=0.8217, Precision=0.8780\n",
      "Running experiment with seed=25:\n",
      " - K=6, layers=1, hidden=64, out=256\n",
      " - norm=None, dropout=0, batch_size=15, reliable_mini_batch=True\n",
      " - ratio=0.13457265485181982, aggregation=mean, treatment=removal\n",
      " - model_type=GCNConv, rate_pairs=9, clusters=100, lr=0.0052550993025996424\n"
     ]
    },
    {
     "name": "stderr",
     "output_type": "stream",
     "text": [
      "Computing METIS partitioning...\n",
      "Done!\n"
     ]
    },
    {
     "name": "stdout",
     "output_type": "stream",
     "text": [
      "Epoch 0, Loss: 5.9772\n",
      "Epoch 10, Loss: 5.3467\n",
      "Epoch 20, Loss: 4.9141\n",
      "Epoch 30, Loss: 3.5809\n",
      "Epoch 40, Loss: 2.8354\n",
      " - Metrics: Accuracy=0.9393, F1=0.8504, Recall=0.8188, Precision=0.8844\n",
      "Running experiment with seed=759:\n",
      " - K=6, layers=1, hidden=64, out=256\n",
      " - norm=None, dropout=0, batch_size=15, reliable_mini_batch=True\n",
      " - ratio=0.13457265485181982, aggregation=mean, treatment=removal\n",
      " - model_type=GCNConv, rate_pairs=9, clusters=100, lr=0.0052550993025996424\n"
     ]
    },
    {
     "name": "stderr",
     "output_type": "stream",
     "text": [
      "Computing METIS partitioning...\n",
      "Done!\n"
     ]
    },
    {
     "name": "stdout",
     "output_type": "stream",
     "text": [
      "Epoch 0, Loss: 5.9772\n",
      "Epoch 10, Loss: 5.3467\n",
      "Epoch 20, Loss: 4.9141\n",
      "Epoch 30, Loss: 3.5809\n",
      "Epoch 40, Loss: 2.8354\n",
      " - Metrics: Accuracy=0.9393, F1=0.8519, Recall=0.8288, Precision=0.8763\n",
      "Running experiment with seed=281:\n",
      " - K=6, layers=1, hidden=64, out=256\n",
      " - norm=None, dropout=0, batch_size=15, reliable_mini_batch=True\n",
      " - ratio=0.13457265485181982, aggregation=mean, treatment=removal\n",
      " - model_type=GCNConv, rate_pairs=9, clusters=100, lr=0.0052550993025996424\n"
     ]
    },
    {
     "name": "stderr",
     "output_type": "stream",
     "text": [
      "Computing METIS partitioning...\n",
      "Done!\n"
     ]
    },
    {
     "name": "stdout",
     "output_type": "stream",
     "text": [
      "Epoch 0, Loss: 5.9772\n",
      "Epoch 10, Loss: 5.3467\n",
      "Epoch 20, Loss: 4.9141\n",
      "Epoch 30, Loss: 3.5809\n",
      "Epoch 40, Loss: 2.8354\n"
     ]
    },
    {
     "name": "stderr",
     "output_type": "stream",
     "text": [
      "[I 2025-03-12 12:30:34,163] Trial 42 finished with value: 0.8524559494610038 and parameters: {'K': 6, 'layers': 1, 'hidden_channels': 64, 'out_channels': 256, 'ratio': 0.13457265485181982, 'aggregation': 'mean', 'treatment': 'removal', 'model_type': 'GCNConv', 'rate_pairs': 9, 'batch_size': 15, 'lr': 0.0052550993025996424, 'clusters': 100}. Best is trial 8 with value: 0.8606204067072518.\n"
     ]
    },
    {
     "name": "stdout",
     "output_type": "stream",
     "text": [
      " - Metrics: Accuracy=0.9387, F1=0.8498, Recall=0.8231, Precision=0.8782\n",
      "Done. Results written to citeseer_experimentations\\citeseer_scar_sampling_nnif_batch_cluster_1203122827.csv.\n",
      "Average F1 over valid seeds: 0.8525 ± 0.0045\n",
      "Running experiment with seed=654:\n",
      " - K=6, layers=1, hidden=64, out=256\n",
      " - norm=None, dropout=0, batch_size=15, reliable_mini_batch=True\n",
      " - ratio=0.1308471441104792, aggregation=mean, treatment=removal\n",
      " - model_type=GCNConv, rate_pairs=9, clusters=100, lr=0.006845151061908359\n"
     ]
    },
    {
     "name": "stderr",
     "output_type": "stream",
     "text": [
      "Computing METIS partitioning...\n",
      "Done!\n"
     ]
    },
    {
     "name": "stdout",
     "output_type": "stream",
     "text": [
      "Epoch 0, Loss: 6.1924\n",
      "Epoch 10, Loss: 5.3120\n",
      "Epoch 20, Loss: 4.3047\n",
      "Epoch 30, Loss: 3.0014\n",
      "Epoch 40, Loss: 2.1596\n",
      " - Metrics: Accuracy=0.9408, F1=0.8576, Recall=0.8459, Precision=0.8695\n",
      "Running experiment with seed=114:\n",
      " - K=6, layers=1, hidden=64, out=256\n",
      " - norm=None, dropout=0, batch_size=15, reliable_mini_batch=True\n",
      " - ratio=0.1308471441104792, aggregation=mean, treatment=removal\n",
      " - model_type=GCNConv, rate_pairs=9, clusters=100, lr=0.006845151061908359\n"
     ]
    },
    {
     "name": "stderr",
     "output_type": "stream",
     "text": [
      "Computing METIS partitioning...\n",
      "Done!\n"
     ]
    },
    {
     "name": "stdout",
     "output_type": "stream",
     "text": [
      "Epoch 0, Loss: 5.9657\n",
      "Epoch 10, Loss: 5.1243\n",
      "Epoch 20, Loss: 4.3301\n",
      "Epoch 30, Loss: 2.8448\n",
      "Epoch 40, Loss: 2.0589\n",
      " - Metrics: Accuracy=0.9393, F1=0.8519, Recall=0.8288, Precision=0.8763\n",
      "Running experiment with seed=25:\n",
      " - K=6, layers=1, hidden=64, out=256\n",
      " - norm=None, dropout=0, batch_size=15, reliable_mini_batch=True\n",
      " - ratio=0.1308471441104792, aggregation=mean, treatment=removal\n",
      " - model_type=GCNConv, rate_pairs=9, clusters=100, lr=0.006845151061908359\n"
     ]
    },
    {
     "name": "stderr",
     "output_type": "stream",
     "text": [
      "Computing METIS partitioning...\n",
      "Done!\n"
     ]
    },
    {
     "name": "stdout",
     "output_type": "stream",
     "text": [
      "Epoch 0, Loss: 5.9657\n",
      "Epoch 10, Loss: 5.1243\n",
      "Epoch 20, Loss: 4.3301\n",
      "Epoch 30, Loss: 2.8448\n",
      "Epoch 40, Loss: 2.0589\n",
      " - Metrics: Accuracy=0.9372, F1=0.8462, Recall=0.8203, Precision=0.8739\n",
      "Running experiment with seed=759:\n",
      " - K=6, layers=1, hidden=64, out=256\n",
      " - norm=None, dropout=0, batch_size=15, reliable_mini_batch=True\n",
      " - ratio=0.1308471441104792, aggregation=mean, treatment=removal\n",
      " - model_type=GCNConv, rate_pairs=9, clusters=100, lr=0.006845151061908359\n"
     ]
    },
    {
     "name": "stderr",
     "output_type": "stream",
     "text": [
      "Computing METIS partitioning...\n",
      "Done!\n"
     ]
    },
    {
     "name": "stdout",
     "output_type": "stream",
     "text": [
      "Epoch 0, Loss: 5.9657\n",
      "Epoch 10, Loss: 5.1243\n",
      "Epoch 20, Loss: 4.3301\n",
      "Epoch 30, Loss: 2.8448\n",
      "Epoch 40, Loss: 2.0589\n",
      " - Metrics: Accuracy=0.9411, F1=0.8561, Recall=0.8317, Precision=0.8820\n",
      "Running experiment with seed=281:\n",
      " - K=6, layers=1, hidden=64, out=256\n",
      " - norm=None, dropout=0, batch_size=15, reliable_mini_batch=True\n",
      " - ratio=0.1308471441104792, aggregation=mean, treatment=removal\n",
      " - model_type=GCNConv, rate_pairs=9, clusters=100, lr=0.006845151061908359\n"
     ]
    },
    {
     "name": "stderr",
     "output_type": "stream",
     "text": [
      "Computing METIS partitioning...\n",
      "Done!\n"
     ]
    },
    {
     "name": "stdout",
     "output_type": "stream",
     "text": [
      "Epoch 0, Loss: 5.9657\n",
      "Epoch 10, Loss: 5.1243\n",
      "Epoch 20, Loss: 4.3301\n",
      "Epoch 30, Loss: 2.8448\n",
      "Epoch 40, Loss: 2.0589\n"
     ]
    },
    {
     "name": "stderr",
     "output_type": "stream",
     "text": [
      "[I 2025-03-12 12:32:41,135] Trial 43 finished with value: 0.8529027754011796 and parameters: {'K': 6, 'layers': 1, 'hidden_channels': 64, 'out_channels': 256, 'ratio': 0.1308471441104792, 'aggregation': 'mean', 'treatment': 'removal', 'model_type': 'GCNConv', 'rate_pairs': 9, 'batch_size': 15, 'lr': 0.006845151061908359, 'clusters': 100}. Best is trial 8 with value: 0.8606204067072518.\n"
     ]
    },
    {
     "name": "stdout",
     "output_type": "stream",
     "text": [
      " - Metrics: Accuracy=0.9396, F1=0.8527, Recall=0.8302, Precision=0.8765\n",
      "Done. Results written to citeseer_experimentations\\citeseer_scar_sampling_nnif_batch_cluster_1203123034.csv.\n",
      "Average F1 over valid seeds: 0.8529 ± 0.0039\n",
      "Running experiment with seed=654:\n",
      " - K=6, layers=1, hidden=64, out=256\n",
      " - norm=None, dropout=0, batch_size=15, reliable_mini_batch=True\n",
      " - ratio=0.13359006335972556, aggregation=mean, treatment=removal\n",
      " - model_type=SAGEConv, rate_pairs=9, clusters=100, lr=0.006655386264402018\n"
     ]
    },
    {
     "name": "stderr",
     "output_type": "stream",
     "text": [
      "Computing METIS partitioning...\n",
      "Done!\n"
     ]
    },
    {
     "name": "stdout",
     "output_type": "stream",
     "text": [
      "Epoch 0, Loss: 6.6090\n",
      "Epoch 10, Loss: 5.5955\n",
      "Epoch 20, Loss: 4.2362\n",
      "Epoch 30, Loss: 3.2180\n",
      "Epoch 40, Loss: 2.3183\n",
      " - Metrics: Accuracy=0.9351, F1=0.8390, Recall=0.8031, Precision=0.8783\n",
      "Running experiment with seed=114:\n",
      " - K=6, layers=1, hidden=64, out=256\n",
      " - norm=None, dropout=0, batch_size=15, reliable_mini_batch=True\n",
      " - ratio=0.13359006335972556, aggregation=mean, treatment=removal\n",
      " - model_type=SAGEConv, rate_pairs=9, clusters=100, lr=0.006655386264402018\n"
     ]
    },
    {
     "name": "stderr",
     "output_type": "stream",
     "text": [
      "Computing METIS partitioning...\n",
      "Done!\n"
     ]
    },
    {
     "name": "stdout",
     "output_type": "stream",
     "text": [
      "Epoch 0, Loss: 6.5488\n",
      "Epoch 10, Loss: 5.4855\n",
      "Epoch 20, Loss: 4.0894\n",
      "Epoch 30, Loss: 3.0433\n",
      "Epoch 40, Loss: 2.1748\n",
      " - Metrics: Accuracy=0.9354, F1=0.8368, Recall=0.7860, Precision=0.8945\n",
      "Running experiment with seed=25:\n",
      " - K=6, layers=1, hidden=64, out=256\n",
      " - norm=None, dropout=0, batch_size=15, reliable_mini_batch=True\n",
      " - ratio=0.13359006335972556, aggregation=mean, treatment=removal\n",
      " - model_type=SAGEConv, rate_pairs=9, clusters=100, lr=0.006655386264402018\n"
     ]
    },
    {
     "name": "stderr",
     "output_type": "stream",
     "text": [
      "Computing METIS partitioning...\n",
      "Done!\n"
     ]
    },
    {
     "name": "stdout",
     "output_type": "stream",
     "text": [
      "Epoch 0, Loss: 6.5488\n",
      "Epoch 10, Loss: 5.4855\n",
      "Epoch 20, Loss: 4.0894\n",
      "Epoch 30, Loss: 3.0433\n",
      "Epoch 40, Loss: 2.1748\n",
      " - Metrics: Accuracy=0.9354, F1=0.8368, Recall=0.7860, Precision=0.8945\n",
      "Running experiment with seed=759:\n",
      " - K=6, layers=1, hidden=64, out=256\n",
      " - norm=None, dropout=0, batch_size=15, reliable_mini_batch=True\n",
      " - ratio=0.13359006335972556, aggregation=mean, treatment=removal\n",
      " - model_type=SAGEConv, rate_pairs=9, clusters=100, lr=0.006655386264402018\n"
     ]
    },
    {
     "name": "stderr",
     "output_type": "stream",
     "text": [
      "Computing METIS partitioning...\n",
      "Done!\n"
     ]
    },
    {
     "name": "stdout",
     "output_type": "stream",
     "text": [
      "Epoch 0, Loss: 6.5488\n",
      "Epoch 10, Loss: 5.4855\n",
      "Epoch 20, Loss: 4.0894\n",
      "Epoch 30, Loss: 3.0433\n",
      "Epoch 40, Loss: 2.1748\n",
      " - Metrics: Accuracy=0.9354, F1=0.8368, Recall=0.7860, Precision=0.8945\n",
      "Running experiment with seed=281:\n",
      " - K=6, layers=1, hidden=64, out=256\n",
      " - norm=None, dropout=0, batch_size=15, reliable_mini_batch=True\n",
      " - ratio=0.13359006335972556, aggregation=mean, treatment=removal\n",
      " - model_type=SAGEConv, rate_pairs=9, clusters=100, lr=0.006655386264402018\n"
     ]
    },
    {
     "name": "stderr",
     "output_type": "stream",
     "text": [
      "Computing METIS partitioning...\n",
      "Done!\n"
     ]
    },
    {
     "name": "stdout",
     "output_type": "stream",
     "text": [
      "Epoch 0, Loss: 6.5488\n",
      "Epoch 10, Loss: 5.4855\n",
      "Epoch 20, Loss: 4.0894\n",
      "Epoch 30, Loss: 3.0433\n",
      "Epoch 40, Loss: 2.1748\n"
     ]
    },
    {
     "name": "stderr",
     "output_type": "stream",
     "text": [
      "[I 2025-03-12 12:34:47,663] Trial 44 finished with value: 0.837209391800676 and parameters: {'K': 6, 'layers': 1, 'hidden_channels': 64, 'out_channels': 256, 'ratio': 0.13359006335972556, 'aggregation': 'mean', 'treatment': 'removal', 'model_type': 'SAGEConv', 'rate_pairs': 9, 'batch_size': 15, 'lr': 0.006655386264402018, 'clusters': 100}. Best is trial 8 with value: 0.8606204067072518.\n"
     ]
    },
    {
     "name": "stdout",
     "output_type": "stream",
     "text": [
      " - Metrics: Accuracy=0.9354, F1=0.8368, Recall=0.7860, Precision=0.8945\n",
      "Done. Results written to citeseer_experimentations\\citeseer_scar_sampling_nnif_batch_cluster_1203123241.csv.\n",
      "Average F1 over valid seeds: 0.8372 ± 0.0009\n",
      "Running experiment with seed=654:\n",
      " - K=7, layers=1, hidden=64, out=128\n",
      " - norm=None, dropout=0, batch_size=15, reliable_mini_batch=True\n",
      " - ratio=0.1428595037111636, aggregation=sum, treatment=removal\n",
      " - model_type=GCNConv, rate_pairs=11, clusters=100, lr=0.007777252070707624\n"
     ]
    },
    {
     "name": "stderr",
     "output_type": "stream",
     "text": [
      "Computing METIS partitioning...\n",
      "Done!\n"
     ]
    },
    {
     "name": "stdout",
     "output_type": "stream",
     "text": [
      "Epoch 0, Loss: 6.8848\n",
      "Epoch 10, Loss: 5.5255\n",
      "Epoch 20, Loss: 4.2399\n",
      "Epoch 30, Loss: 2.9661\n",
      "Epoch 40, Loss: 2.0494\n"
     ]
    },
    {
     "name": "stderr",
     "output_type": "stream",
     "text": [
      "[I 2025-03-12 12:35:12,167] Trial 45 finished with value: 0.8328445747800587 and parameters: {'K': 7, 'layers': 1, 'hidden_channels': 64, 'out_channels': 128, 'ratio': 0.1428595037111636, 'aggregation': 'sum', 'treatment': 'removal', 'model_type': 'GCNConv', 'rate_pairs': 11, 'batch_size': 15, 'lr': 0.007777252070707624, 'clusters': 100}. Best is trial 8 with value: 0.8606204067072518.\n"
     ]
    },
    {
     "name": "stdout",
     "output_type": "stream",
     "text": [
      " - Metrics: Accuracy=0.9315, F1=0.8328, Recall=0.8103, Precision=0.8567\n",
      "F1 = 0.83 < 0.835, skipping ...\n",
      "Done. Results written to citeseer_experimentations\\citeseer_scar_sampling_nnif_batch_cluster_1203123447.csv.\n",
      "Average F1 over valid seeds: 0.8328 ± 0.0000\n",
      "Running experiment with seed=654:\n",
      " - K=6, layers=1, hidden=64, out=64\n",
      " - norm=None, dropout=0, batch_size=10, reliable_mini_batch=True\n",
      " - ratio=0.1297294898813285, aggregation=mean, treatment=relabeling\n",
      " - model_type=GCNConv, rate_pairs=9, clusters=100, lr=0.0030008234153499494\n"
     ]
    },
    {
     "name": "stderr",
     "output_type": "stream",
     "text": [
      "Computing METIS partitioning...\n",
      "Done!\n"
     ]
    },
    {
     "name": "stdout",
     "output_type": "stream",
     "text": [
      "Epoch 0, Loss: 8.1547\n",
      "Epoch 10, Loss: 6.3378\n",
      "Epoch 20, Loss: 5.7219\n",
      "Epoch 30, Loss: 4.7652\n",
      "Epoch 40, Loss: 4.0911\n"
     ]
    },
    {
     "name": "stderr",
     "output_type": "stream",
     "text": [
      "[I 2025-03-12 12:35:40,223] Trial 46 finished with value: 0.7487889273356402 and parameters: {'K': 6, 'layers': 1, 'hidden_channels': 64, 'out_channels': 64, 'ratio': 0.1297294898813285, 'aggregation': 'mean', 'treatment': 'relabeling', 'model_type': 'GCNConv', 'rate_pairs': 9, 'batch_size': 10, 'lr': 0.0030008234153499494, 'clusters': 100}. Best is trial 8 with value: 0.8606204067072518.\n"
     ]
    },
    {
     "name": "stdout",
     "output_type": "stream",
     "text": [
      " - Metrics: Accuracy=0.8909, F1=0.7488, Recall=0.7718, Precision=0.7272\n",
      "F1 = 0.75 < 0.835, skipping ...\n",
      "Done. Results written to citeseer_experimentations\\citeseer_scar_sampling_nnif_batch_cluster_1203123512.csv.\n",
      "Average F1 over valid seeds: 0.7488 ± 0.0000\n",
      "Running experiment with seed=654:\n",
      " - K=6, layers=2, hidden=64, out=256\n",
      " - norm=None, dropout=0, batch_size=15, reliable_mini_batch=True\n",
      " - ratio=0.15249492415449872, aggregation=sum, treatment=removal\n",
      " - model_type=GCNConv, rate_pairs=8, clusters=100, lr=0.004805453455088331\n"
     ]
    },
    {
     "name": "stderr",
     "output_type": "stream",
     "text": [
      "Computing METIS partitioning...\n",
      "Done!\n"
     ]
    },
    {
     "name": "stdout",
     "output_type": "stream",
     "text": [
      "Epoch 0, Loss: 6.0638\n",
      "Epoch 10, Loss: 5.9543\n",
      "Epoch 20, Loss: 4.8163\n",
      "Epoch 30, Loss: 4.1277\n",
      "Epoch 40, Loss: 3.3277\n"
     ]
    },
    {
     "name": "stderr",
     "output_type": "stream",
     "text": [
      "[I 2025-03-12 12:36:05,126] Trial 47 finished with value: 0.8330804248861912 and parameters: {'K': 6, 'layers': 2, 'hidden_channels': 64, 'out_channels': 256, 'ratio': 0.15249492415449872, 'aggregation': 'sum', 'treatment': 'removal', 'model_type': 'GCNConv', 'rate_pairs': 8, 'batch_size': 15, 'lr': 0.004805453455088331, 'clusters': 100}. Best is trial 8 with value: 0.8606204067072518.\n"
     ]
    },
    {
     "name": "stdout",
     "output_type": "stream",
     "text": [
      " - Metrics: Accuracy=0.9339, F1=0.8331, Recall=0.7832, Precision=0.8898\n",
      "F1 = 0.83 < 0.835, skipping ...\n",
      "Done. Results written to citeseer_experimentations\\citeseer_scar_sampling_nnif_batch_cluster_1203123540.csv.\n",
      "Average F1 over valid seeds: 0.8331 ± 0.0000\n",
      "Running experiment with seed=654:\n",
      " - K=7, layers=1, hidden=64, out=256\n",
      " - norm=None, dropout=0, batch_size=15, reliable_mini_batch=True\n",
      " - ratio=0.1358042092203855, aggregation=mean, treatment=removal\n",
      " - model_type=SAGEConv, rate_pairs=11, clusters=100, lr=0.006192018183847595\n"
     ]
    },
    {
     "name": "stderr",
     "output_type": "stream",
     "text": [
      "Computing METIS partitioning...\n",
      "Done!\n"
     ]
    },
    {
     "name": "stdout",
     "output_type": "stream",
     "text": [
      "Epoch 0, Loss: 6.9821\n",
      "Epoch 10, Loss: 6.1083\n",
      "Epoch 20, Loss: 4.7928\n",
      "Epoch 30, Loss: 3.8389\n",
      "Epoch 40, Loss: 2.8559\n",
      " - Metrics: Accuracy=0.9363, F1=0.8408, Recall=0.7989, Precision=0.8875\n",
      "Running experiment with seed=114:\n",
      " - K=7, layers=1, hidden=64, out=256\n",
      " - norm=None, dropout=0, batch_size=15, reliable_mini_batch=True\n",
      " - ratio=0.1358042092203855, aggregation=mean, treatment=removal\n",
      " - model_type=SAGEConv, rate_pairs=11, clusters=100, lr=0.006192018183847595\n"
     ]
    },
    {
     "name": "stderr",
     "output_type": "stream",
     "text": [
      "Computing METIS partitioning...\n",
      "Done!\n"
     ]
    },
    {
     "name": "stdout",
     "output_type": "stream",
     "text": [
      "Epoch 0, Loss: 6.8199\n",
      "Epoch 10, Loss: 5.9375\n",
      "Epoch 20, Loss: 4.6124\n",
      "Epoch 30, Loss: 3.6166\n",
      "Epoch 40, Loss: 2.6425\n",
      " - Metrics: Accuracy=0.9381, F1=0.8442, Recall=0.7960, Precision=0.8986\n",
      "Running experiment with seed=25:\n",
      " - K=7, layers=1, hidden=64, out=256\n",
      " - norm=None, dropout=0, batch_size=15, reliable_mini_batch=True\n",
      " - ratio=0.1358042092203855, aggregation=mean, treatment=removal\n",
      " - model_type=SAGEConv, rate_pairs=11, clusters=100, lr=0.006192018183847595\n"
     ]
    },
    {
     "name": "stderr",
     "output_type": "stream",
     "text": [
      "Computing METIS partitioning...\n",
      "Done!\n"
     ]
    },
    {
     "name": "stdout",
     "output_type": "stream",
     "text": [
      "Epoch 0, Loss: 6.8199\n",
      "Epoch 10, Loss: 5.9375\n",
      "Epoch 20, Loss: 4.6124\n",
      "Epoch 30, Loss: 3.6166\n",
      "Epoch 40, Loss: 2.6425\n",
      " - Metrics: Accuracy=0.9381, F1=0.8442, Recall=0.7960, Precision=0.8986\n",
      "Running experiment with seed=759:\n",
      " - K=7, layers=1, hidden=64, out=256\n",
      " - norm=None, dropout=0, batch_size=15, reliable_mini_batch=True\n",
      " - ratio=0.1358042092203855, aggregation=mean, treatment=removal\n",
      " - model_type=SAGEConv, rate_pairs=11, clusters=100, lr=0.006192018183847595\n"
     ]
    },
    {
     "name": "stderr",
     "output_type": "stream",
     "text": [
      "Computing METIS partitioning...\n",
      "Done!\n"
     ]
    },
    {
     "name": "stdout",
     "output_type": "stream",
     "text": [
      "Epoch 0, Loss: 6.8199\n",
      "Epoch 10, Loss: 5.9375\n",
      "Epoch 20, Loss: 4.6124\n",
      "Epoch 30, Loss: 3.6166\n",
      "Epoch 40, Loss: 2.6425\n",
      " - Metrics: Accuracy=0.9381, F1=0.8442, Recall=0.7960, Precision=0.8986\n",
      "Running experiment with seed=281:\n",
      " - K=7, layers=1, hidden=64, out=256\n",
      " - norm=None, dropout=0, batch_size=15, reliable_mini_batch=True\n",
      " - ratio=0.1358042092203855, aggregation=mean, treatment=removal\n",
      " - model_type=SAGEConv, rate_pairs=11, clusters=100, lr=0.006192018183847595\n"
     ]
    },
    {
     "name": "stderr",
     "output_type": "stream",
     "text": [
      "Computing METIS partitioning...\n",
      "Done!\n"
     ]
    },
    {
     "name": "stdout",
     "output_type": "stream",
     "text": [
      "Epoch 0, Loss: 6.8199\n",
      "Epoch 10, Loss: 5.9375\n",
      "Epoch 20, Loss: 4.6124\n",
      "Epoch 30, Loss: 3.6166\n",
      "Epoch 40, Loss: 2.6425\n"
     ]
    },
    {
     "name": "stderr",
     "output_type": "stream",
     "text": [
      "[I 2025-03-12 12:38:16,378] Trial 48 finished with value: 0.8435085615115872 and parameters: {'K': 7, 'layers': 1, 'hidden_channels': 64, 'out_channels': 256, 'ratio': 0.1358042092203855, 'aggregation': 'mean', 'treatment': 'removal', 'model_type': 'SAGEConv', 'rate_pairs': 11, 'batch_size': 15, 'lr': 0.006192018183847595, 'clusters': 100}. Best is trial 8 with value: 0.8606204067072518.\n"
     ]
    },
    {
     "name": "stdout",
     "output_type": "stream",
     "text": [
      " - Metrics: Accuracy=0.9381, F1=0.8442, Recall=0.7960, Precision=0.8986\n",
      "Done. Results written to citeseer_experimentations\\citeseer_scar_sampling_nnif_batch_cluster_1203123605.csv.\n",
      "Average F1 over valid seeds: 0.8435 ± 0.0013\n",
      "Running experiment with seed=654:\n",
      " - K=6, layers=2, hidden=64, out=256\n",
      " - norm=None, dropout=0, batch_size=1, reliable_mini_batch=True\n",
      " - ratio=0.13922697058066286, aggregation=mean, treatment=removal\n",
      " - model_type=GCNConv, rate_pairs=13, clusters=500, lr=0.000309781484557293\n"
     ]
    },
    {
     "name": "stderr",
     "output_type": "stream",
     "text": [
      "Computing METIS partitioning...\n",
      "Done!\n",
      "[I 2025-03-12 12:38:16,804] Trial 49 finished with value: 0.0 and parameters: {'K': 6, 'layers': 2, 'hidden_channels': 64, 'out_channels': 256, 'ratio': 0.13922697058066286, 'aggregation': 'mean', 'treatment': 'removal', 'model_type': 'GCNConv', 'rate_pairs': 13, 'batch_size': 1, 'lr': 0.000309781484557293, 'clusters': 500}. Best is trial 8 with value: 0.8606204067072518.\n"
     ]
    },
    {
     "name": "stdout",
     "output_type": "stream",
     "text": [
      "Error: Labels must be in {0,1}, got [0].\n",
      "Done. Results written to citeseer_experimentations\\citeseer_scar_sampling_nnif_batch_cluster_1203123816.csv.\n",
      "Average F1 over valid seeds: 0.0000 ± 0.0000\n",
      "Running experiment with seed=654:\n",
      " - K=6, layers=1, hidden=64, out=128\n",
      " - norm=None, dropout=0, batch_size=5, reliable_mini_batch=True\n",
      " - ratio=0.13032970110947678, aggregation=sum, treatment=removal\n",
      " - model_type=GINConv, rate_pairs=9, clusters=100, lr=0.007084453017164901\n"
     ]
    },
    {
     "name": "stderr",
     "output_type": "stream",
     "text": [
      "Computing METIS partitioning...\n",
      "Done!\n"
     ]
    },
    {
     "name": "stdout",
     "output_type": "stream",
     "text": [
      "Epoch 0, Loss: 18.5658\n",
      "Epoch 10, Loss: 9.7822\n",
      "Epoch 20, Loss: 4.1668\n",
      "Epoch 30, Loss: 2.1088\n",
      "Epoch 40, Loss: 1.3532\n"
     ]
    },
    {
     "name": "stderr",
     "output_type": "stream",
     "text": [
      "[I 2025-03-12 12:38:59,889] Trial 50 finished with value: 0.8037383177570093 and parameters: {'K': 6, 'layers': 1, 'hidden_channels': 64, 'out_channels': 128, 'ratio': 0.13032970110947678, 'aggregation': 'sum', 'treatment': 'removal', 'model_type': 'GINConv', 'rate_pairs': 9, 'batch_size': 5, 'lr': 0.007084453017164901, 'clusters': 100}. Best is trial 8 with value: 0.8606204067072518.\n"
     ]
    },
    {
     "name": "stdout",
     "output_type": "stream",
     "text": [
      " - Metrics: Accuracy=0.9243, F1=0.8037, Recall=0.7361, Precision=0.8851\n",
      "F1 = 0.80 < 0.835, skipping ...\n",
      "Done. Results written to citeseer_experimentations\\citeseer_scar_sampling_nnif_batch_cluster_1203123816.csv.\n",
      "Average F1 over valid seeds: 0.8037 ± 0.0000\n",
      "Running experiment with seed=654:\n",
      " - K=5, layers=1, hidden=128, out=256\n",
      " - norm=None, dropout=0, batch_size=15, reliable_mini_batch=True\n",
      " - ratio=0.11656804195189957, aggregation=mean, treatment=removal\n",
      " - model_type=GCNConv, rate_pairs=8, clusters=100, lr=0.005843358551262602\n"
     ]
    },
    {
     "name": "stderr",
     "output_type": "stream",
     "text": [
      "Computing METIS partitioning...\n",
      "Done!\n"
     ]
    },
    {
     "name": "stdout",
     "output_type": "stream",
     "text": [
      "Epoch 0, Loss: 5.8086\n",
      "Epoch 10, Loss: 5.0121\n",
      "Epoch 20, Loss: 4.1758\n",
      "Epoch 30, Loss: 3.0568\n",
      "Epoch 40, Loss: 2.3143\n",
      " - Metrics: Accuracy=0.9384, F1=0.8489, Recall=0.8217, Precision=0.8780\n",
      "Running experiment with seed=114:\n",
      " - K=5, layers=1, hidden=128, out=256\n",
      " - norm=None, dropout=0, batch_size=15, reliable_mini_batch=True\n",
      " - ratio=0.11656804195189957, aggregation=mean, treatment=removal\n",
      " - model_type=GCNConv, rate_pairs=8, clusters=100, lr=0.005843358551262602\n"
     ]
    },
    {
     "name": "stderr",
     "output_type": "stream",
     "text": [
      "Computing METIS partitioning...\n",
      "Done!\n"
     ]
    },
    {
     "name": "stdout",
     "output_type": "stream",
     "text": [
      "Epoch 0, Loss: 5.6216\n",
      "Epoch 10, Loss: 4.8544\n",
      "Epoch 20, Loss: 4.2354\n",
      "Epoch 30, Loss: 2.9330\n",
      "Epoch 40, Loss: 2.2368\n",
      " - Metrics: Accuracy=0.9372, F1=0.8423, Recall=0.7960, Precision=0.8942\n",
      "Running experiment with seed=25:\n",
      " - K=5, layers=1, hidden=128, out=256\n",
      " - norm=None, dropout=0, batch_size=15, reliable_mini_batch=True\n",
      " - ratio=0.11656804195189957, aggregation=mean, treatment=removal\n",
      " - model_type=GCNConv, rate_pairs=8, clusters=100, lr=0.005843358551262602\n"
     ]
    },
    {
     "name": "stderr",
     "output_type": "stream",
     "text": [
      "Computing METIS partitioning...\n",
      "Done!\n"
     ]
    },
    {
     "name": "stdout",
     "output_type": "stream",
     "text": [
      "Epoch 0, Loss: 5.6216\n",
      "Epoch 10, Loss: 4.8544\n",
      "Epoch 20, Loss: 4.2354\n",
      "Epoch 30, Loss: 2.9330\n",
      "Epoch 40, Loss: 2.2368\n",
      " - Metrics: Accuracy=0.9381, F1=0.8442, Recall=0.7960, Precision=0.8986\n",
      "Running experiment with seed=759:\n",
      " - K=5, layers=1, hidden=128, out=256\n",
      " - norm=None, dropout=0, batch_size=15, reliable_mini_batch=True\n",
      " - ratio=0.11656804195189957, aggregation=mean, treatment=removal\n",
      " - model_type=GCNConv, rate_pairs=8, clusters=100, lr=0.005843358551262602\n"
     ]
    },
    {
     "name": "stderr",
     "output_type": "stream",
     "text": [
      "Computing METIS partitioning...\n",
      "Done!\n"
     ]
    },
    {
     "name": "stdout",
     "output_type": "stream",
     "text": [
      "Epoch 0, Loss: 5.6216\n",
      "Epoch 10, Loss: 4.8544\n",
      "Epoch 20, Loss: 4.2354\n",
      "Epoch 30, Loss: 2.9330\n",
      "Epoch 40, Loss: 2.2368\n",
      " - Metrics: Accuracy=0.9351, F1=0.8366, Recall=0.7889, Precision=0.8905\n",
      "Running experiment with seed=281:\n",
      " - K=5, layers=1, hidden=128, out=256\n",
      " - norm=None, dropout=0, batch_size=15, reliable_mini_batch=True\n",
      " - ratio=0.11656804195189957, aggregation=mean, treatment=removal\n",
      " - model_type=GCNConv, rate_pairs=8, clusters=100, lr=0.005843358551262602\n"
     ]
    },
    {
     "name": "stderr",
     "output_type": "stream",
     "text": [
      "Computing METIS partitioning...\n",
      "Done!\n"
     ]
    },
    {
     "name": "stdout",
     "output_type": "stream",
     "text": [
      "Epoch 0, Loss: 5.6216\n",
      "Epoch 10, Loss: 4.8544\n",
      "Epoch 20, Loss: 4.2354\n",
      "Epoch 30, Loss: 2.9330\n",
      "Epoch 40, Loss: 2.2368\n"
     ]
    },
    {
     "name": "stderr",
     "output_type": "stream",
     "text": [
      "[I 2025-03-12 12:41:05,591] Trial 51 finished with value: 0.8428016006840462 and parameters: {'K': 5, 'layers': 1, 'hidden_channels': 128, 'out_channels': 256, 'ratio': 0.11656804195189957, 'aggregation': 'mean', 'treatment': 'removal', 'model_type': 'GCNConv', 'rate_pairs': 8, 'batch_size': 15, 'lr': 0.005843358551262602, 'clusters': 100}. Best is trial 8 with value: 0.8606204067072518.\n"
     ]
    },
    {
     "name": "stdout",
     "output_type": "stream",
     "text": [
      " - Metrics: Accuracy=0.9372, F1=0.8420, Recall=0.7946, Precision=0.8955\n",
      "Done. Results written to citeseer_experimentations\\citeseer_scar_sampling_nnif_batch_cluster_1203123859.csv.\n",
      "Average F1 over valid seeds: 0.8428 ± 0.0040\n",
      "Running experiment with seed=654:\n",
      " - K=6, layers=1, hidden=128, out=256\n",
      " - norm=None, dropout=0, batch_size=15, reliable_mini_batch=True\n",
      " - ratio=0.13517563601654195, aggregation=mean, treatment=removal\n",
      " - model_type=GCNConv, rate_pairs=10, clusters=300, lr=0.005009965366658003\n"
     ]
    },
    {
     "name": "stderr",
     "output_type": "stream",
     "text": [
      "Computing METIS partitioning...\n",
      "Done!\n"
     ]
    },
    {
     "name": "stdout",
     "output_type": "stream",
     "text": [
      "Epoch 0, Loss: 18.1929\n",
      "Epoch 10, Loss: 12.2526\n",
      "Epoch 20, Loss: 6.7724\n",
      "Epoch 30, Loss: 3.8380\n",
      "Epoch 40, Loss: 2.3055\n",
      " - Metrics: Accuracy=0.9345, F1=0.8390, Recall=0.8103, Precision=0.8698\n",
      "Running experiment with seed=114:\n",
      " - K=6, layers=1, hidden=128, out=256\n",
      " - norm=None, dropout=0, batch_size=15, reliable_mini_batch=True\n",
      " - ratio=0.13517563601654195, aggregation=mean, treatment=removal\n",
      " - model_type=GCNConv, rate_pairs=10, clusters=300, lr=0.005009965366658003\n"
     ]
    },
    {
     "name": "stderr",
     "output_type": "stream",
     "text": [
      "Computing METIS partitioning...\n",
      "Done!\n"
     ]
    },
    {
     "name": "stdout",
     "output_type": "stream",
     "text": [
      "Epoch 0, Loss: 18.4432\n",
      "Epoch 10, Loss: 11.9866\n",
      "Epoch 20, Loss: 6.4821\n",
      "Epoch 30, Loss: 3.7042\n",
      "Epoch 40, Loss: 2.2509\n",
      " - Metrics: Accuracy=0.9354, F1=0.8404, Recall=0.8074, Precision=0.8762\n",
      "Running experiment with seed=25:\n",
      " - K=6, layers=1, hidden=128, out=256\n",
      " - norm=None, dropout=0, batch_size=15, reliable_mini_batch=True\n",
      " - ratio=0.13517563601654195, aggregation=mean, treatment=removal\n",
      " - model_type=GCNConv, rate_pairs=10, clusters=300, lr=0.005009965366658003\n"
     ]
    },
    {
     "name": "stderr",
     "output_type": "stream",
     "text": [
      "Computing METIS partitioning...\n",
      "Done!\n"
     ]
    },
    {
     "name": "stdout",
     "output_type": "stream",
     "text": [
      "Epoch 0, Loss: 18.4432\n",
      "Epoch 10, Loss: 11.9866\n",
      "Epoch 20, Loss: 6.4821\n",
      "Epoch 30, Loss: 3.7042\n",
      "Epoch 40, Loss: 2.2509\n",
      " - Metrics: Accuracy=0.9360, F1=0.8407, Recall=0.8017, Precision=0.8836\n",
      "Running experiment with seed=759:\n",
      " - K=6, layers=1, hidden=128, out=256\n",
      " - norm=None, dropout=0, batch_size=15, reliable_mini_batch=True\n",
      " - ratio=0.13517563601654195, aggregation=mean, treatment=removal\n",
      " - model_type=GCNConv, rate_pairs=10, clusters=300, lr=0.005009965366658003\n"
     ]
    },
    {
     "name": "stderr",
     "output_type": "stream",
     "text": [
      "Computing METIS partitioning...\n",
      "Done!\n"
     ]
    },
    {
     "name": "stdout",
     "output_type": "stream",
     "text": [
      "Epoch 0, Loss: 18.4432\n",
      "Epoch 10, Loss: 11.9866\n",
      "Epoch 20, Loss: 6.4821\n",
      "Epoch 30, Loss: 3.7042\n",
      "Epoch 40, Loss: 2.2509\n",
      " - Metrics: Accuracy=0.9363, F1=0.8420, Recall=0.8060, Precision=0.8814\n",
      "Running experiment with seed=281:\n",
      " - K=6, layers=1, hidden=128, out=256\n",
      " - norm=None, dropout=0, batch_size=15, reliable_mini_batch=True\n",
      " - ratio=0.13517563601654195, aggregation=mean, treatment=removal\n",
      " - model_type=GCNConv, rate_pairs=10, clusters=300, lr=0.005009965366658003\n"
     ]
    },
    {
     "name": "stderr",
     "output_type": "stream",
     "text": [
      "Computing METIS partitioning...\n",
      "Done!\n"
     ]
    },
    {
     "name": "stdout",
     "output_type": "stream",
     "text": [
      "Epoch 0, Loss: 18.4432\n",
      "Epoch 10, Loss: 11.9866\n",
      "Epoch 20, Loss: 6.4821\n",
      "Epoch 30, Loss: 3.7042\n",
      "Epoch 40, Loss: 2.2509\n"
     ]
    },
    {
     "name": "stderr",
     "output_type": "stream",
     "text": [
      "[I 2025-03-12 12:45:35,751] Trial 52 finished with value: 0.840621389253986 and parameters: {'K': 6, 'layers': 1, 'hidden_channels': 128, 'out_channels': 256, 'ratio': 0.13517563601654195, 'aggregation': 'mean', 'treatment': 'removal', 'model_type': 'GCNConv', 'rate_pairs': 10, 'batch_size': 15, 'lr': 0.005009965366658003, 'clusters': 300}. Best is trial 8 with value: 0.8606204067072518.\n"
     ]
    },
    {
     "name": "stdout",
     "output_type": "stream",
     "text": [
      " - Metrics: Accuracy=0.9357, F1=0.8410, Recall=0.8074, Precision=0.8775\n",
      "Done. Results written to citeseer_experimentations\\citeseer_scar_sampling_nnif_batch_cluster_1203124105.csv.\n",
      "Average F1 over valid seeds: 0.8406 ± 0.0010\n",
      "Running experiment with seed=654:\n",
      " - K=2, layers=1, hidden=256, out=256\n",
      " - norm=None, dropout=0, batch_size=15, reliable_mini_batch=True\n",
      " - ratio=0.14409081505044885, aggregation=mean, treatment=removal\n",
      " - model_type=GCNConv, rate_pairs=7, clusters=400, lr=0.004398428004860967\n"
     ]
    },
    {
     "name": "stderr",
     "output_type": "stream",
     "text": [
      "Computing METIS partitioning...\n",
      "Done!\n"
     ]
    },
    {
     "name": "stdout",
     "output_type": "stream",
     "text": [
      "Epoch 0, Loss: 15.1606\n",
      "Epoch 10, Loss: 7.0515\n",
      "Epoch 20, Loss: 3.6924\n",
      "Epoch 30, Loss: 2.0972\n",
      "Epoch 40, Loss: 1.4282\n"
     ]
    },
    {
     "name": "stderr",
     "output_type": "stream",
     "text": [
      "[I 2025-03-12 12:46:39,323] Trial 53 finished with value: 0.8308605341246291 and parameters: {'K': 2, 'layers': 1, 'hidden_channels': 256, 'out_channels': 256, 'ratio': 0.14409081505044885, 'aggregation': 'mean', 'treatment': 'removal', 'model_type': 'GCNConv', 'rate_pairs': 7, 'batch_size': 15, 'lr': 0.004398428004860967, 'clusters': 400}. Best is trial 8 with value: 0.8606204067072518.\n"
     ]
    },
    {
     "name": "stdout",
     "output_type": "stream",
     "text": [
      " - Metrics: Accuracy=0.9315, F1=0.8309, Recall=0.7989, Precision=0.8655\n",
      "F1 = 0.83 < 0.835, skipping ...\n",
      "Done. Results written to citeseer_experimentations\\citeseer_scar_sampling_nnif_batch_cluster_1203124535.csv.\n",
      "Average F1 over valid seeds: 0.8309 ± 0.0000\n",
      "Running experiment with seed=654:\n",
      " - K=5, layers=1, hidden=256, out=256\n",
      " - norm=None, dropout=0, batch_size=10, reliable_mini_batch=True\n",
      " - ratio=0.11984966856602283, aggregation=mean, treatment=removal\n",
      " - model_type=GCNConv, rate_pairs=11, clusters=100, lr=0.0067844044324167465\n"
     ]
    },
    {
     "name": "stderr",
     "output_type": "stream",
     "text": [
      "Computing METIS partitioning...\n",
      "Done!\n"
     ]
    },
    {
     "name": "stdout",
     "output_type": "stream",
     "text": [
      "Epoch 0, Loss: 8.2262\n",
      "Epoch 10, Loss: 6.1137\n",
      "Epoch 20, Loss: 4.2018\n",
      "Epoch 30, Loss: 2.5935\n",
      "Epoch 40, Loss: 1.7201\n",
      " - Metrics: Accuracy=0.9396, F1=0.8525, Recall=0.8288, Precision=0.8776\n",
      "Running experiment with seed=114:\n",
      " - K=5, layers=1, hidden=256, out=256\n",
      " - norm=None, dropout=0, batch_size=10, reliable_mini_batch=True\n",
      " - ratio=0.11984966856602283, aggregation=mean, treatment=removal\n",
      " - model_type=GCNConv, rate_pairs=11, clusters=100, lr=0.0067844044324167465\n"
     ]
    },
    {
     "name": "stderr",
     "output_type": "stream",
     "text": [
      "Computing METIS partitioning...\n",
      "Done!\n"
     ]
    },
    {
     "name": "stdout",
     "output_type": "stream",
     "text": [
      "Epoch 0, Loss: 7.9650\n",
      "Epoch 10, Loss: 5.9069\n",
      "Epoch 20, Loss: 4.0591\n",
      "Epoch 30, Loss: 2.4443\n",
      "Epoch 40, Loss: 1.6407\n",
      " - Metrics: Accuracy=0.9393, F1=0.8481, Recall=0.8046, Precision=0.8967\n",
      "Running experiment with seed=25:\n",
      " - K=5, layers=1, hidden=256, out=256\n",
      " - norm=None, dropout=0, batch_size=10, reliable_mini_batch=True\n",
      " - ratio=0.11984966856602283, aggregation=mean, treatment=removal\n",
      " - model_type=GCNConv, rate_pairs=11, clusters=100, lr=0.0067844044324167465\n"
     ]
    },
    {
     "name": "stderr",
     "output_type": "stream",
     "text": [
      "Computing METIS partitioning...\n",
      "Done!\n"
     ]
    },
    {
     "name": "stdout",
     "output_type": "stream",
     "text": [
      "Epoch 0, Loss: 7.9650\n",
      "Epoch 10, Loss: 5.9069\n",
      "Epoch 20, Loss: 4.0591\n",
      "Epoch 30, Loss: 2.4443\n",
      "Epoch 40, Loss: 1.6407\n",
      " - Metrics: Accuracy=0.9390, F1=0.8473, Recall=0.8031, Precision=0.8965\n",
      "Running experiment with seed=759:\n",
      " - K=5, layers=1, hidden=256, out=256\n",
      " - norm=None, dropout=0, batch_size=10, reliable_mini_batch=True\n",
      " - ratio=0.11984966856602283, aggregation=mean, treatment=removal\n",
      " - model_type=GCNConv, rate_pairs=11, clusters=100, lr=0.0067844044324167465\n"
     ]
    },
    {
     "name": "stderr",
     "output_type": "stream",
     "text": [
      "Computing METIS partitioning...\n",
      "Done!\n"
     ]
    },
    {
     "name": "stdout",
     "output_type": "stream",
     "text": [
      "Epoch 0, Loss: 7.9650\n",
      "Epoch 10, Loss: 5.9069\n",
      "Epoch 20, Loss: 4.0591\n",
      "Epoch 30, Loss: 2.4443\n",
      "Epoch 40, Loss: 1.6407\n",
      " - Metrics: Accuracy=0.9387, F1=0.8471, Recall=0.8060, Precision=0.8926\n",
      "Running experiment with seed=281:\n",
      " - K=5, layers=1, hidden=256, out=256\n",
      " - norm=None, dropout=0, batch_size=10, reliable_mini_batch=True\n",
      " - ratio=0.11984966856602283, aggregation=mean, treatment=removal\n",
      " - model_type=GCNConv, rate_pairs=11, clusters=100, lr=0.0067844044324167465\n"
     ]
    },
    {
     "name": "stderr",
     "output_type": "stream",
     "text": [
      "Computing METIS partitioning...\n",
      "Done!\n"
     ]
    },
    {
     "name": "stdout",
     "output_type": "stream",
     "text": [
      "Epoch 0, Loss: 7.9650\n",
      "Epoch 10, Loss: 5.9069\n",
      "Epoch 20, Loss: 4.0591\n",
      "Epoch 30, Loss: 2.4443\n",
      "Epoch 40, Loss: 1.6407\n"
     ]
    },
    {
     "name": "stderr",
     "output_type": "stream",
     "text": [
      "[I 2025-03-12 12:49:17,992] Trial 54 finished with value: 0.8486203637213308 and parameters: {'K': 5, 'layers': 1, 'hidden_channels': 256, 'out_channels': 256, 'ratio': 0.11984966856602283, 'aggregation': 'mean', 'treatment': 'removal', 'model_type': 'GCNConv', 'rate_pairs': 11, 'batch_size': 10, 'lr': 0.0067844044324167465, 'clusters': 100}. Best is trial 8 with value: 0.8606204067072518.\n"
     ]
    },
    {
     "name": "stdout",
     "output_type": "stream",
     "text": [
      " - Metrics: Accuracy=0.9393, F1=0.8481, Recall=0.8046, Precision=0.8967\n",
      "Done. Results written to citeseer_experimentations\\citeseer_scar_sampling_nnif_batch_cluster_1203124639.csv.\n",
      "Average F1 over valid seeds: 0.8486 ± 0.0020\n",
      "Running experiment with seed=654:\n",
      " - K=3, layers=1, hidden=256, out=256\n",
      " - norm=None, dropout=0, batch_size=10, reliable_mini_batch=True\n",
      " - ratio=0.14855165977083276, aggregation=mean, treatment=removal\n",
      " - model_type=GCNConv, rate_pairs=12, clusters=100, lr=0.007608396104713356\n"
     ]
    },
    {
     "name": "stderr",
     "output_type": "stream",
     "text": [
      "Computing METIS partitioning...\n",
      "Done!\n"
     ]
    },
    {
     "name": "stdout",
     "output_type": "stream",
     "text": [
      "Epoch 0, Loss: 6.5530\n",
      "Epoch 10, Loss: 4.1907\n",
      "Epoch 20, Loss: 2.6287\n",
      "Epoch 30, Loss: 1.6221\n",
      "Epoch 40, Loss: 1.1004\n",
      " - Metrics: Accuracy=0.9384, F1=0.8509, Recall=0.8345, Precision=0.8680\n",
      "Running experiment with seed=114:\n",
      " - K=3, layers=1, hidden=256, out=256\n",
      " - norm=None, dropout=0, batch_size=10, reliable_mini_batch=True\n",
      " - ratio=0.14855165977083276, aggregation=mean, treatment=removal\n",
      " - model_type=GCNConv, rate_pairs=12, clusters=100, lr=0.007608396104713356\n"
     ]
    },
    {
     "name": "stderr",
     "output_type": "stream",
     "text": [
      "Computing METIS partitioning...\n",
      "Done!\n"
     ]
    },
    {
     "name": "stdout",
     "output_type": "stream",
     "text": [
      "Epoch 0, Loss: 6.4077\n",
      "Epoch 10, Loss: 4.0900\n",
      "Epoch 20, Loss: 2.5786\n",
      "Epoch 30, Loss: 1.5612\n",
      "Epoch 40, Loss: 1.0726\n",
      " - Metrics: Accuracy=0.9429, F1=0.8582, Recall=0.8203, Precision=0.8998\n",
      "Running experiment with seed=25:\n",
      " - K=3, layers=1, hidden=256, out=256\n",
      " - norm=None, dropout=0, batch_size=10, reliable_mini_batch=True\n",
      " - ratio=0.14855165977083276, aggregation=mean, treatment=removal\n",
      " - model_type=GCNConv, rate_pairs=12, clusters=100, lr=0.007608396104713356\n"
     ]
    },
    {
     "name": "stderr",
     "output_type": "stream",
     "text": [
      "Computing METIS partitioning...\n",
      "Done!\n"
     ]
    },
    {
     "name": "stdout",
     "output_type": "stream",
     "text": [
      "Epoch 0, Loss: 6.4077\n",
      "Epoch 10, Loss: 4.0900\n",
      "Epoch 20, Loss: 2.5786\n",
      "Epoch 30, Loss: 1.5612\n",
      "Epoch 40, Loss: 1.0726\n",
      " - Metrics: Accuracy=0.9423, F1=0.8563, Recall=0.8160, Precision=0.9008\n",
      "Running experiment with seed=759:\n",
      " - K=3, layers=1, hidden=256, out=256\n",
      " - norm=None, dropout=0, batch_size=10, reliable_mini_batch=True\n",
      " - ratio=0.14855165977083276, aggregation=mean, treatment=removal\n",
      " - model_type=GCNConv, rate_pairs=12, clusters=100, lr=0.007608396104713356\n"
     ]
    },
    {
     "name": "stderr",
     "output_type": "stream",
     "text": [
      "Computing METIS partitioning...\n",
      "Done!\n"
     ]
    },
    {
     "name": "stdout",
     "output_type": "stream",
     "text": [
      "Epoch 0, Loss: 6.4077\n",
      "Epoch 10, Loss: 4.0900\n",
      "Epoch 20, Loss: 2.5786\n",
      "Epoch 30, Loss: 1.5612\n",
      "Epoch 40, Loss: 1.0726\n",
      " - Metrics: Accuracy=0.9417, F1=0.8552, Recall=0.8174, Precision=0.8967\n",
      "Running experiment with seed=281:\n",
      " - K=3, layers=1, hidden=256, out=256\n",
      " - norm=None, dropout=0, batch_size=10, reliable_mini_batch=True\n",
      " - ratio=0.14855165977083276, aggregation=mean, treatment=removal\n",
      " - model_type=GCNConv, rate_pairs=12, clusters=100, lr=0.007608396104713356\n"
     ]
    },
    {
     "name": "stderr",
     "output_type": "stream",
     "text": [
      "Computing METIS partitioning...\n",
      "Done!\n"
     ]
    },
    {
     "name": "stdout",
     "output_type": "stream",
     "text": [
      "Epoch 0, Loss: 6.4077\n",
      "Epoch 10, Loss: 4.0900\n",
      "Epoch 20, Loss: 2.5786\n",
      "Epoch 30, Loss: 1.5612\n",
      "Epoch 40, Loss: 1.0726\n"
     ]
    },
    {
     "name": "stderr",
     "output_type": "stream",
     "text": [
      "[I 2025-03-12 12:51:50,385] Trial 55 finished with value: 0.8555116381661996 and parameters: {'K': 3, 'layers': 1, 'hidden_channels': 256, 'out_channels': 256, 'ratio': 0.14855165977083276, 'aggregation': 'mean', 'treatment': 'removal', 'model_type': 'GCNConv', 'rate_pairs': 12, 'batch_size': 10, 'lr': 0.007608396104713356, 'clusters': 100}. Best is trial 8 with value: 0.8606204067072518.\n"
     ]
    },
    {
     "name": "stdout",
     "output_type": "stream",
     "text": [
      " - Metrics: Accuracy=0.9426, F1=0.8569, Recall=0.8160, Precision=0.9022\n",
      "Done. Results written to citeseer_experimentations\\citeseer_scar_sampling_nnif_batch_cluster_1203124918.csv.\n",
      "Average F1 over valid seeds: 0.8555 ± 0.0025\n",
      "Running experiment with seed=654:\n",
      " - K=3, layers=1, hidden=256, out=256\n",
      " - norm=None, dropout=0, batch_size=10, reliable_mini_batch=True\n",
      " - ratio=0.14851073442034948, aggregation=mean, treatment=removal\n",
      " - model_type=GATConv, rate_pairs=15, clusters=100, lr=0.00905583448115157\n"
     ]
    },
    {
     "name": "stderr",
     "output_type": "stream",
     "text": [
      "Computing METIS partitioning...\n",
      "Done!\n"
     ]
    },
    {
     "name": "stdout",
     "output_type": "stream",
     "text": [
      "Epoch 0, Loss: 6.8168\n",
      "Epoch 10, Loss: 3.8296\n",
      "Epoch 20, Loss: 2.0682\n",
      "Epoch 30, Loss: 1.3244\n",
      "Epoch 40, Loss: 0.8537\n",
      " - Metrics: Accuracy=0.9405, F1=0.8555, Recall=0.8359, Precision=0.8759\n",
      "Running experiment with seed=114:\n",
      " - K=3, layers=1, hidden=256, out=256\n",
      " - norm=None, dropout=0, batch_size=10, reliable_mini_batch=True\n",
      " - ratio=0.14851073442034948, aggregation=mean, treatment=removal\n",
      " - model_type=GATConv, rate_pairs=15, clusters=100, lr=0.00905583448115157\n"
     ]
    },
    {
     "name": "stderr",
     "output_type": "stream",
     "text": [
      "Computing METIS partitioning...\n",
      "Done!\n"
     ]
    },
    {
     "name": "stdout",
     "output_type": "stream",
     "text": [
      "Epoch 0, Loss: 6.6061\n",
      "Epoch 10, Loss: 3.6770\n",
      "Epoch 20, Loss: 2.0390\n",
      "Epoch 30, Loss: 1.2763\n",
      "Epoch 40, Loss: 0.8215\n",
      " - Metrics: Accuracy=0.9399, F1=0.8538, Recall=0.8331, Precision=0.8756\n",
      "Running experiment with seed=25:\n",
      " - K=3, layers=1, hidden=256, out=256\n",
      " - norm=None, dropout=0, batch_size=10, reliable_mini_batch=True\n",
      " - ratio=0.14851073442034948, aggregation=mean, treatment=removal\n",
      " - model_type=GATConv, rate_pairs=15, clusters=100, lr=0.00905583448115157\n"
     ]
    },
    {
     "name": "stderr",
     "output_type": "stream",
     "text": [
      "Computing METIS partitioning...\n",
      "Done!\n"
     ]
    },
    {
     "name": "stdout",
     "output_type": "stream",
     "text": [
      "Epoch 0, Loss: 6.6281\n",
      "Epoch 10, Loss: 3.6885\n",
      "Epoch 20, Loss: 2.0454\n",
      "Epoch 30, Loss: 1.2807\n",
      "Epoch 40, Loss: 0.8242\n",
      " - Metrics: Accuracy=0.9417, F1=0.8582, Recall=0.8374, Precision=0.8801\n",
      "Running experiment with seed=759:\n",
      " - K=3, layers=1, hidden=256, out=256\n",
      " - norm=None, dropout=0, batch_size=10, reliable_mini_batch=True\n",
      " - ratio=0.14851073442034948, aggregation=mean, treatment=removal\n",
      " - model_type=GATConv, rate_pairs=15, clusters=100, lr=0.00905583448115157\n"
     ]
    },
    {
     "name": "stderr",
     "output_type": "stream",
     "text": [
      "Computing METIS partitioning...\n",
      "Done!\n"
     ]
    },
    {
     "name": "stdout",
     "output_type": "stream",
     "text": [
      "Epoch 0, Loss: 6.6236\n",
      "Epoch 10, Loss: 3.6897\n",
      "Epoch 20, Loss: 2.0439\n",
      "Epoch 30, Loss: 1.2804\n",
      "Epoch 40, Loss: 0.8244\n",
      " - Metrics: Accuracy=0.9423, F1=0.8603, Recall=0.8431, Precision=0.8782\n",
      "Running experiment with seed=281:\n",
      " - K=3, layers=1, hidden=256, out=256\n",
      " - norm=None, dropout=0, batch_size=10, reliable_mini_batch=True\n",
      " - ratio=0.14851073442034948, aggregation=mean, treatment=removal\n",
      " - model_type=GATConv, rate_pairs=15, clusters=100, lr=0.00905583448115157\n"
     ]
    },
    {
     "name": "stderr",
     "output_type": "stream",
     "text": [
      "Computing METIS partitioning...\n",
      "Done!\n"
     ]
    },
    {
     "name": "stdout",
     "output_type": "stream",
     "text": [
      "Epoch 0, Loss: 6.6274\n",
      "Epoch 10, Loss: 3.6892\n",
      "Epoch 20, Loss: 2.0455\n",
      "Epoch 30, Loss: 1.2819\n",
      "Epoch 40, Loss: 0.8245\n"
     ]
    },
    {
     "name": "stderr",
     "output_type": "stream",
     "text": [
      "[I 2025-03-12 12:54:26,882] Trial 56 finished with value: 0.8574313332657535 and parameters: {'K': 3, 'layers': 1, 'hidden_channels': 256, 'out_channels': 256, 'ratio': 0.14851073442034948, 'aggregation': 'mean', 'treatment': 'removal', 'model_type': 'GATConv', 'rate_pairs': 15, 'batch_size': 10, 'lr': 0.00905583448115157, 'clusters': 100}. Best is trial 8 with value: 0.8606204067072518.\n"
     ]
    },
    {
     "name": "stdout",
     "output_type": "stream",
     "text": [
      " - Metrics: Accuracy=0.9420, F1=0.8594, Recall=0.8417, Precision=0.8780\n",
      "Done. Results written to citeseer_experimentations\\citeseer_scar_sampling_nnif_batch_cluster_1203125150.csv.\n",
      "Average F1 over valid seeds: 0.8574 ± 0.0024\n",
      "Running experiment with seed=654:\n",
      " - K=3, layers=1, hidden=256, out=256\n",
      " - norm=None, dropout=0, batch_size=10, reliable_mini_batch=True\n",
      " - ratio=0.16053071551079337, aggregation=mean, treatment=relabeling\n",
      " - model_type=GATConv, rate_pairs=15, clusters=100, lr=0.009539984437434776\n"
     ]
    },
    {
     "name": "stderr",
     "output_type": "stream",
     "text": [
      "Computing METIS partitioning...\n",
      "Done!\n"
     ]
    },
    {
     "name": "stdout",
     "output_type": "stream",
     "text": [
      "Epoch 0, Loss: 4.6380\n",
      "Epoch 10, Loss: 2.2690\n",
      "Epoch 20, Loss: 1.2675\n",
      "Epoch 30, Loss: 0.8371\n",
      "Epoch 40, Loss: 0.5189\n"
     ]
    },
    {
     "name": "stderr",
     "output_type": "stream",
     "text": [
      "[I 2025-03-12 12:54:58,914] Trial 57 finished with value: 0.7678221059516024 and parameters: {'K': 3, 'layers': 1, 'hidden_channels': 256, 'out_channels': 256, 'ratio': 0.16053071551079337, 'aggregation': 'mean', 'treatment': 'relabeling', 'model_type': 'GATConv', 'rate_pairs': 15, 'batch_size': 10, 'lr': 0.009539984437434776, 'clusters': 100}. Best is trial 8 with value: 0.8606204067072518.\n"
     ]
    },
    {
     "name": "stdout",
     "output_type": "stream",
     "text": [
      " - Metrics: Accuracy=0.8933, F1=0.7678, Recall=0.8374, Precision=0.7089\n",
      "F1 = 0.77 < 0.835, skipping ...\n",
      "Done. Results written to citeseer_experimentations\\citeseer_scar_sampling_nnif_batch_cluster_1203125426.csv.\n",
      "Average F1 over valid seeds: 0.7678 ± 0.0000\n",
      "Running experiment with seed=654:\n",
      " - K=3, layers=2, hidden=256, out=256\n",
      " - norm=None, dropout=0, batch_size=10, reliable_mini_batch=True\n",
      " - ratio=0.15029017072641815, aggregation=mean, treatment=removal\n",
      " - model_type=GATConv, rate_pairs=14, clusters=100, lr=0.00910045545596399\n"
     ]
    },
    {
     "name": "stderr",
     "output_type": "stream",
     "text": [
      "Computing METIS partitioning...\n",
      "Done!\n"
     ]
    },
    {
     "name": "stdout",
     "output_type": "stream",
     "text": [
      "Epoch 0, Loss: 6.5377\n",
      "Epoch 10, Loss: 3.7958\n",
      "Epoch 20, Loss: 2.0924\n",
      "Epoch 30, Loss: 1.2544\n",
      "Epoch 40, Loss: 0.8598\n"
     ]
    },
    {
     "name": "stderr",
     "output_type": "stream",
     "text": [
      "[I 2025-03-12 12:55:34,081] Trial 58 finished with value: 0.8325859491778774 and parameters: {'K': 3, 'layers': 2, 'hidden_channels': 256, 'out_channels': 256, 'ratio': 0.15029017072641815, 'aggregation': 'mean', 'treatment': 'removal', 'model_type': 'GATConv', 'rate_pairs': 14, 'batch_size': 10, 'lr': 0.00910045545596399, 'clusters': 100}. Best is trial 8 with value: 0.8606204067072518.\n"
     ]
    },
    {
     "name": "stdout",
     "output_type": "stream",
     "text": [
      " - Metrics: Accuracy=0.9327, F1=0.8326, Recall=0.7946, Precision=0.8744\n",
      "F1 = 0.83 < 0.835, skipping ...\n",
      "Done. Results written to citeseer_experimentations\\citeseer_scar_sampling_nnif_batch_cluster_1203125459.csv.\n",
      "Average F1 over valid seeds: 0.8326 ± 0.0000\n",
      "Running experiment with seed=654:\n",
      " - K=3, layers=1, hidden=256, out=256\n",
      " - norm=None, dropout=0, batch_size=10, reliable_mini_batch=True\n",
      " - ratio=0.14799258988845002, aggregation=sum, treatment=removal\n",
      " - model_type=GATConv, rate_pairs=12, clusters=500, lr=0.009073029918022467\n"
     ]
    },
    {
     "name": "stderr",
     "output_type": "stream",
     "text": [
      "Computing METIS partitioning...\n",
      "Done!\n"
     ]
    },
    {
     "name": "stdout",
     "output_type": "stream",
     "text": [
      "Epoch 0, Loss: 38.6625\n",
      "Epoch 10, Loss: 4.1855\n",
      "Epoch 20, Loss: 1.4538\n",
      "Epoch 30, Loss: 0.7270\n",
      "Epoch 40, Loss: 0.4259\n"
     ]
    },
    {
     "name": "stderr",
     "output_type": "stream",
     "text": [
      "[I 2025-03-12 12:57:18,615] Trial 59 finished with value: 0.8038067349926794 and parameters: {'K': 3, 'layers': 1, 'hidden_channels': 256, 'out_channels': 256, 'ratio': 0.14799258988845002, 'aggregation': 'sum', 'treatment': 'removal', 'model_type': 'GATConv', 'rate_pairs': 12, 'batch_size': 10, 'lr': 0.009073029918022467, 'clusters': 500}. Best is trial 8 with value: 0.8606204067072518.\n"
     ]
    },
    {
     "name": "stdout",
     "output_type": "stream",
     "text": [
      " - Metrics: Accuracy=0.9194, F1=0.8038, Recall=0.7832, Precision=0.8256\n",
      "F1 = 0.80 < 0.835, skipping ...\n",
      "Done. Results written to citeseer_experimentations\\citeseer_scar_sampling_nnif_batch_cluster_1203125534.csv.\n",
      "Average F1 over valid seeds: 0.8038 ± 0.0000\n",
      "Running experiment with seed=654:\n",
      " - K=2, layers=1, hidden=256, out=128\n",
      " - norm=None, dropout=0, batch_size=10, reliable_mini_batch=True\n",
      " - ratio=0.15799440779581392, aggregation=mean, treatment=removal\n",
      " - model_type=GATConv, rate_pairs=14, clusters=100, lr=0.007706785484876349\n"
     ]
    },
    {
     "name": "stderr",
     "output_type": "stream",
     "text": [
      "Computing METIS partitioning...\n",
      "Done!\n"
     ]
    },
    {
     "name": "stdout",
     "output_type": "stream",
     "text": [
      "Epoch 0, Loss: 5.4592\n",
      "Epoch 10, Loss: 3.2376\n",
      "Epoch 20, Loss: 1.8847\n",
      "Epoch 30, Loss: 1.2297\n",
      "Epoch 40, Loss: 0.8560\n",
      " - Metrics: Accuracy=0.9363, F1=0.8411, Recall=0.8003, Precision=0.8863\n",
      "Running experiment with seed=114:\n",
      " - K=2, layers=1, hidden=256, out=128\n",
      " - norm=None, dropout=0, batch_size=10, reliable_mini_batch=True\n",
      " - ratio=0.15799440779581392, aggregation=mean, treatment=removal\n",
      " - model_type=GATConv, rate_pairs=14, clusters=100, lr=0.007706785484876349\n"
     ]
    },
    {
     "name": "stderr",
     "output_type": "stream",
     "text": [
      "Computing METIS partitioning...\n",
      "Done!\n"
     ]
    },
    {
     "name": "stdout",
     "output_type": "stream",
     "text": [
      "Epoch 0, Loss: 5.2811\n",
      "Epoch 10, Loss: 3.0820\n",
      "Epoch 20, Loss: 1.8187\n",
      "Epoch 30, Loss: 1.1758\n",
      "Epoch 40, Loss: 0.8404\n",
      " - Metrics: Accuracy=0.9378, F1=0.8454, Recall=0.8074, Precision=0.8871\n",
      "Running experiment with seed=25:\n",
      " - K=2, layers=1, hidden=256, out=128\n",
      " - norm=None, dropout=0, batch_size=10, reliable_mini_batch=True\n",
      " - ratio=0.15799440779581392, aggregation=mean, treatment=removal\n",
      " - model_type=GATConv, rate_pairs=14, clusters=100, lr=0.007706785484876349\n"
     ]
    },
    {
     "name": "stderr",
     "output_type": "stream",
     "text": [
      "Computing METIS partitioning...\n",
      "Done!\n"
     ]
    },
    {
     "name": "stdout",
     "output_type": "stream",
     "text": [
      "Epoch 0, Loss: 5.2641\n",
      "Epoch 10, Loss: 3.0726\n",
      "Epoch 20, Loss: 1.8125\n",
      "Epoch 30, Loss: 1.1717\n",
      "Epoch 40, Loss: 0.8379\n",
      " - Metrics: Accuracy=0.9369, F1=0.8426, Recall=0.8017, Precision=0.8878\n",
      "Running experiment with seed=759:\n",
      " - K=2, layers=1, hidden=256, out=128\n",
      " - norm=None, dropout=0, batch_size=10, reliable_mini_batch=True\n",
      " - ratio=0.15799440779581392, aggregation=mean, treatment=removal\n",
      " - model_type=GATConv, rate_pairs=14, clusters=100, lr=0.007706785484876349\n"
     ]
    },
    {
     "name": "stderr",
     "output_type": "stream",
     "text": [
      "Computing METIS partitioning...\n",
      "Done!\n"
     ]
    },
    {
     "name": "stdout",
     "output_type": "stream",
     "text": [
      "Epoch 0, Loss: 5.2874\n",
      "Epoch 10, Loss: 3.0864\n",
      "Epoch 20, Loss: 1.8213\n",
      "Epoch 30, Loss: 1.1780\n",
      "Epoch 40, Loss: 0.8415\n",
      " - Metrics: Accuracy=0.9348, F1=0.8377, Recall=0.7989, Precision=0.8805\n",
      "Running experiment with seed=281:\n",
      " - K=2, layers=1, hidden=256, out=128\n",
      " - norm=None, dropout=0, batch_size=10, reliable_mini_batch=True\n",
      " - ratio=0.15799440779581392, aggregation=mean, treatment=removal\n",
      " - model_type=GATConv, rate_pairs=14, clusters=100, lr=0.007706785484876349\n"
     ]
    },
    {
     "name": "stderr",
     "output_type": "stream",
     "text": [
      "Computing METIS partitioning...\n",
      "Done!\n"
     ]
    },
    {
     "name": "stdout",
     "output_type": "stream",
     "text": [
      "Epoch 0, Loss: 5.2696\n",
      "Epoch 10, Loss: 3.0760\n",
      "Epoch 20, Loss: 1.8143\n",
      "Epoch 30, Loss: 1.1731\n",
      "Epoch 40, Loss: 0.8384\n"
     ]
    },
    {
     "name": "stderr",
     "output_type": "stream",
     "text": [
      "[I 2025-03-12 12:59:40,576] Trial 60 finished with value: 0.8423999242790947 and parameters: {'K': 2, 'layers': 1, 'hidden_channels': 256, 'out_channels': 128, 'ratio': 0.15799440779581392, 'aggregation': 'mean', 'treatment': 'removal', 'model_type': 'GATConv', 'rate_pairs': 14, 'batch_size': 10, 'lr': 0.007706785484876349, 'clusters': 100}. Best is trial 8 with value: 0.8606204067072518.\n"
     ]
    },
    {
     "name": "stdout",
     "output_type": "stream",
     "text": [
      " - Metrics: Accuracy=0.9375, F1=0.8452, Recall=0.8103, Precision=0.8834\n",
      "Done. Results written to citeseer_experimentations\\citeseer_scar_sampling_nnif_batch_cluster_1203125718.csv.\n",
      "Average F1 over valid seeds: 0.8424 ± 0.0029\n",
      "Running experiment with seed=654:\n",
      " - K=3, layers=1, hidden=256, out=256\n",
      " - norm=None, dropout=0, batch_size=10, reliable_mini_batch=True\n",
      " - ratio=0.1414741891355806, aggregation=mean, treatment=removal\n",
      " - model_type=GCNConv, rate_pairs=14, clusters=100, lr=0.0061162542152446014\n"
     ]
    },
    {
     "name": "stderr",
     "output_type": "stream",
     "text": [
      "Computing METIS partitioning...\n",
      "Done!\n"
     ]
    },
    {
     "name": "stdout",
     "output_type": "stream",
     "text": [
      "Epoch 0, Loss: 6.5592\n",
      "Epoch 10, Loss: 4.6197\n",
      "Epoch 20, Loss: 3.2157\n",
      "Epoch 30, Loss: 2.1088\n",
      "Epoch 40, Loss: 1.4759\n",
      " - Metrics: Accuracy=0.9351, F1=0.8421, Recall=0.8217, Precision=0.8636\n",
      "Running experiment with seed=114:\n",
      " - K=3, layers=1, hidden=256, out=256\n",
      " - norm=None, dropout=0, batch_size=10, reliable_mini_batch=True\n",
      " - ratio=0.1414741891355806, aggregation=mean, treatment=removal\n",
      " - model_type=GCNConv, rate_pairs=14, clusters=100, lr=0.0061162542152446014\n"
     ]
    },
    {
     "name": "stderr",
     "output_type": "stream",
     "text": [
      "Computing METIS partitioning...\n",
      "Done!\n"
     ]
    },
    {
     "name": "stdout",
     "output_type": "stream",
     "text": [
      "Epoch 0, Loss: 6.4316\n",
      "Epoch 10, Loss: 4.5207\n",
      "Epoch 20, Loss: 3.1687\n",
      "Epoch 30, Loss: 2.0383\n",
      "Epoch 40, Loss: 1.4439\n",
      " - Metrics: Accuracy=0.9426, F1=0.8582, Recall=0.8245, Precision=0.8947\n",
      "Running experiment with seed=25:\n",
      " - K=3, layers=1, hidden=256, out=256\n",
      " - norm=None, dropout=0, batch_size=10, reliable_mini_batch=True\n",
      " - ratio=0.1414741891355806, aggregation=mean, treatment=removal\n",
      " - model_type=GCNConv, rate_pairs=14, clusters=100, lr=0.0061162542152446014\n"
     ]
    },
    {
     "name": "stderr",
     "output_type": "stream",
     "text": [
      "Computing METIS partitioning...\n",
      "Done!\n"
     ]
    },
    {
     "name": "stdout",
     "output_type": "stream",
     "text": [
      "Epoch 0, Loss: 6.4316\n",
      "Epoch 10, Loss: 4.5207\n",
      "Epoch 20, Loss: 3.1687\n",
      "Epoch 30, Loss: 2.0383\n",
      "Epoch 40, Loss: 1.4439\n",
      " - Metrics: Accuracy=0.9429, F1=0.8597, Recall=0.8302, Precision=0.8913\n",
      "Running experiment with seed=759:\n",
      " - K=3, layers=1, hidden=256, out=256\n",
      " - norm=None, dropout=0, batch_size=10, reliable_mini_batch=True\n",
      " - ratio=0.1414741891355806, aggregation=mean, treatment=removal\n",
      " - model_type=GCNConv, rate_pairs=14, clusters=100, lr=0.0061162542152446014\n"
     ]
    },
    {
     "name": "stderr",
     "output_type": "stream",
     "text": [
      "Computing METIS partitioning...\n",
      "Done!\n"
     ]
    },
    {
     "name": "stdout",
     "output_type": "stream",
     "text": [
      "Epoch 0, Loss: 6.4316\n",
      "Epoch 10, Loss: 4.5207\n",
      "Epoch 20, Loss: 3.1687\n",
      "Epoch 30, Loss: 2.0383\n",
      "Epoch 40, Loss: 1.4439\n",
      " - Metrics: Accuracy=0.9417, F1=0.8561, Recall=0.8231, Precision=0.8918\n",
      "Running experiment with seed=281:\n",
      " - K=3, layers=1, hidden=256, out=256\n",
      " - norm=None, dropout=0, batch_size=10, reliable_mini_batch=True\n",
      " - ratio=0.1414741891355806, aggregation=mean, treatment=removal\n",
      " - model_type=GCNConv, rate_pairs=14, clusters=100, lr=0.0061162542152446014\n"
     ]
    },
    {
     "name": "stderr",
     "output_type": "stream",
     "text": [
      "Computing METIS partitioning...\n",
      "Done!\n"
     ]
    },
    {
     "name": "stdout",
     "output_type": "stream",
     "text": [
      "Epoch 0, Loss: 6.4316\n",
      "Epoch 10, Loss: 4.5207\n",
      "Epoch 20, Loss: 3.1687\n",
      "Epoch 30, Loss: 2.0383\n",
      "Epoch 40, Loss: 1.4439\n"
     ]
    },
    {
     "name": "stderr",
     "output_type": "stream",
     "text": [
      "[I 2025-03-12 13:02:12,814] Trial 61 finished with value: 0.85388002689371 and parameters: {'K': 3, 'layers': 1, 'hidden_channels': 256, 'out_channels': 256, 'ratio': 0.1414741891355806, 'aggregation': 'mean', 'treatment': 'removal', 'model_type': 'GCNConv', 'rate_pairs': 14, 'batch_size': 10, 'lr': 0.0061162542152446014, 'clusters': 100}. Best is trial 8 with value: 0.8606204067072518.\n"
     ]
    },
    {
     "name": "stdout",
     "output_type": "stream",
     "text": [
      " - Metrics: Accuracy=0.9405, F1=0.8533, Recall=0.8217, Precision=0.8875\n",
      "Done. Results written to citeseer_experimentations\\citeseer_scar_sampling_nnif_batch_cluster_1203125940.csv.\n",
      "Average F1 over valid seeds: 0.8539 ± 0.0063\n",
      "Running experiment with seed=654:\n",
      " - K=3, layers=1, hidden=256, out=256\n",
      " - norm=None, dropout=0, batch_size=10, reliable_mini_batch=True\n",
      " - ratio=0.15308437868790636, aggregation=mean, treatment=removal\n",
      " - model_type=GCNConv, rate_pairs=14, clusters=100, lr=0.008349230199515912\n"
     ]
    },
    {
     "name": "stderr",
     "output_type": "stream",
     "text": [
      "Computing METIS partitioning...\n",
      "Done!\n"
     ]
    },
    {
     "name": "stdout",
     "output_type": "stream",
     "text": [
      "Epoch 0, Loss: 6.5461\n",
      "Epoch 10, Loss: 3.9792\n",
      "Epoch 20, Loss: 2.3804\n",
      "Epoch 30, Loss: 1.4371\n",
      "Epoch 40, Loss: 0.9639\n",
      " - Metrics: Accuracy=0.9363, F1=0.8453, Recall=0.8260, Precision=0.8655\n",
      "Running experiment with seed=114:\n",
      " - K=3, layers=1, hidden=256, out=256\n",
      " - norm=None, dropout=0, batch_size=10, reliable_mini_batch=True\n",
      " - ratio=0.15308437868790636, aggregation=mean, treatment=removal\n",
      " - model_type=GCNConv, rate_pairs=14, clusters=100, lr=0.008349230199515912\n"
     ]
    },
    {
     "name": "stderr",
     "output_type": "stream",
     "text": [
      "Computing METIS partitioning...\n",
      "Done!\n"
     ]
    },
    {
     "name": "stdout",
     "output_type": "stream",
     "text": [
      "Epoch 0, Loss: 6.4157\n",
      "Epoch 10, Loss: 3.8950\n",
      "Epoch 20, Loss: 2.3394\n",
      "Epoch 30, Loss: 1.3862\n",
      "Epoch 40, Loss: 0.9428\n",
      " - Metrics: Accuracy=0.9423, F1=0.8565, Recall=0.8174, Precision=0.8995\n",
      "Running experiment with seed=25:\n",
      " - K=3, layers=1, hidden=256, out=256\n",
      " - norm=None, dropout=0, batch_size=10, reliable_mini_batch=True\n",
      " - ratio=0.15308437868790636, aggregation=mean, treatment=removal\n",
      " - model_type=GCNConv, rate_pairs=14, clusters=100, lr=0.008349230199515912\n"
     ]
    },
    {
     "name": "stderr",
     "output_type": "stream",
     "text": [
      "Computing METIS partitioning...\n",
      "Done!\n"
     ]
    },
    {
     "name": "stdout",
     "output_type": "stream",
     "text": [
      "Epoch 0, Loss: 6.4157\n",
      "Epoch 10, Loss: 3.8950\n",
      "Epoch 20, Loss: 2.3394\n",
      "Epoch 30, Loss: 1.3862\n",
      "Epoch 40, Loss: 0.9428\n",
      " - Metrics: Accuracy=0.9435, F1=0.8599, Recall=0.8231, Precision=0.9002\n",
      "Running experiment with seed=759:\n",
      " - K=3, layers=1, hidden=256, out=256\n",
      " - norm=None, dropout=0, batch_size=10, reliable_mini_batch=True\n",
      " - ratio=0.15308437868790636, aggregation=mean, treatment=removal\n",
      " - model_type=GCNConv, rate_pairs=14, clusters=100, lr=0.008349230199515912\n"
     ]
    },
    {
     "name": "stderr",
     "output_type": "stream",
     "text": [
      "Computing METIS partitioning...\n",
      "Done!\n"
     ]
    },
    {
     "name": "stdout",
     "output_type": "stream",
     "text": [
      "Epoch 0, Loss: 6.4157\n",
      "Epoch 10, Loss: 3.8950\n",
      "Epoch 20, Loss: 2.3394\n",
      "Epoch 30, Loss: 1.3862\n",
      "Epoch 40, Loss: 0.9428\n",
      " - Metrics: Accuracy=0.9426, F1=0.8576, Recall=0.8203, Precision=0.8984\n",
      "Running experiment with seed=281:\n",
      " - K=3, layers=1, hidden=256, out=256\n",
      " - norm=None, dropout=0, batch_size=10, reliable_mini_batch=True\n",
      " - ratio=0.15308437868790636, aggregation=mean, treatment=removal\n",
      " - model_type=GCNConv, rate_pairs=14, clusters=100, lr=0.008349230199515912\n"
     ]
    },
    {
     "name": "stderr",
     "output_type": "stream",
     "text": [
      "Computing METIS partitioning...\n",
      "Done!\n"
     ]
    },
    {
     "name": "stdout",
     "output_type": "stream",
     "text": [
      "Epoch 0, Loss: 6.4157\n",
      "Epoch 10, Loss: 3.8950\n",
      "Epoch 20, Loss: 2.3394\n",
      "Epoch 30, Loss: 1.3862\n",
      "Epoch 40, Loss: 0.9428\n"
     ]
    },
    {
     "name": "stderr",
     "output_type": "stream",
     "text": [
      "[I 2025-03-12 13:04:41,966] Trial 62 finished with value: 0.8552760266688566 and parameters: {'K': 3, 'layers': 1, 'hidden_channels': 256, 'out_channels': 256, 'ratio': 0.15308437868790636, 'aggregation': 'mean', 'treatment': 'removal', 'model_type': 'GCNConv', 'rate_pairs': 14, 'batch_size': 10, 'lr': 0.008349230199515912, 'clusters': 100}. Best is trial 8 with value: 0.8606204067072518.\n"
     ]
    },
    {
     "name": "stdout",
     "output_type": "stream",
     "text": [
      " - Metrics: Accuracy=0.9426, F1=0.8571, Recall=0.8174, Precision=0.9009\n",
      "Done. Results written to citeseer_experimentations\\citeseer_scar_sampling_nnif_batch_cluster_1203130212.csv.\n",
      "Average F1 over valid seeds: 0.8553 ± 0.0051\n",
      "Running experiment with seed=654:\n",
      " - K=3, layers=1, hidden=256, out=256\n",
      " - norm=None, dropout=0, batch_size=10, reliable_mini_batch=True\n",
      " - ratio=0.1515712984456901, aggregation=mean, treatment=removal\n",
      " - model_type=GATConv, rate_pairs=14, clusters=100, lr=0.008692748011035365\n"
     ]
    },
    {
     "name": "stderr",
     "output_type": "stream",
     "text": [
      "Computing METIS partitioning...\n",
      "Done!\n"
     ]
    },
    {
     "name": "stdout",
     "output_type": "stream",
     "text": [
      "Epoch 0, Loss: 6.8371\n",
      "Epoch 10, Loss: 3.9498\n",
      "Epoch 20, Loss: 2.1809\n",
      "Epoch 30, Loss: 1.4096\n",
      "Epoch 40, Loss: 0.9125\n",
      " - Metrics: Accuracy=0.9399, F1=0.8538, Recall=0.8331, Precision=0.8756\n",
      "Running experiment with seed=114:\n",
      " - K=3, layers=1, hidden=256, out=256\n",
      " - norm=None, dropout=0, batch_size=10, reliable_mini_batch=True\n",
      " - ratio=0.1515712984456901, aggregation=mean, treatment=removal\n",
      " - model_type=GATConv, rate_pairs=14, clusters=100, lr=0.008692748011035365\n"
     ]
    },
    {
     "name": "stderr",
     "output_type": "stream",
     "text": [
      "Computing METIS partitioning...\n",
      "Done!\n"
     ]
    },
    {
     "name": "stdout",
     "output_type": "stream",
     "text": [
      "Epoch 0, Loss: 6.6395\n",
      "Epoch 10, Loss: 3.8100\n",
      "Epoch 20, Loss: 2.1558\n",
      "Epoch 30, Loss: 1.3626\n",
      "Epoch 40, Loss: 0.8814\n",
      " - Metrics: Accuracy=0.9414, F1=0.8571, Recall=0.8345, Precision=0.8810\n",
      "Running experiment with seed=25:\n",
      " - K=3, layers=1, hidden=256, out=256\n",
      " - norm=None, dropout=0, batch_size=10, reliable_mini_batch=True\n",
      " - ratio=0.1515712984456901, aggregation=mean, treatment=removal\n",
      " - model_type=GATConv, rate_pairs=14, clusters=100, lr=0.008692748011035365\n"
     ]
    },
    {
     "name": "stderr",
     "output_type": "stream",
     "text": [
      "Computing METIS partitioning...\n",
      "Done!\n"
     ]
    },
    {
     "name": "stdout",
     "output_type": "stream",
     "text": [
      "Epoch 0, Loss: 6.6403\n",
      "Epoch 10, Loss: 3.7901\n",
      "Epoch 20, Loss: 2.1469\n",
      "Epoch 30, Loss: 1.3556\n",
      "Epoch 40, Loss: 0.8758\n",
      " - Metrics: Accuracy=0.9420, F1=0.8584, Recall=0.8345, Precision=0.8837\n",
      "Running experiment with seed=759:\n",
      " - K=3, layers=1, hidden=256, out=256\n",
      " - norm=None, dropout=0, batch_size=10, reliable_mini_batch=True\n",
      " - ratio=0.1515712984456901, aggregation=mean, treatment=removal\n",
      " - model_type=GATConv, rate_pairs=14, clusters=100, lr=0.008692748011035365\n"
     ]
    },
    {
     "name": "stderr",
     "output_type": "stream",
     "text": [
      "Computing METIS partitioning...\n",
      "Done!\n"
     ]
    },
    {
     "name": "stdout",
     "output_type": "stream",
     "text": [
      "Epoch 0, Loss: 6.6233\n",
      "Epoch 10, Loss: 3.7979\n",
      "Epoch 20, Loss: 2.1496\n",
      "Epoch 30, Loss: 1.3594\n",
      "Epoch 40, Loss: 0.8779\n",
      " - Metrics: Accuracy=0.9399, F1=0.8532, Recall=0.8288, Precision=0.8790\n",
      "Running experiment with seed=281:\n",
      " - K=3, layers=1, hidden=256, out=256\n",
      " - norm=None, dropout=0, batch_size=10, reliable_mini_batch=True\n",
      " - ratio=0.1515712984456901, aggregation=mean, treatment=removal\n",
      " - model_type=GATConv, rate_pairs=14, clusters=100, lr=0.008692748011035365\n"
     ]
    },
    {
     "name": "stderr",
     "output_type": "stream",
     "text": [
      "Computing METIS partitioning...\n",
      "Done!\n"
     ]
    },
    {
     "name": "stdout",
     "output_type": "stream",
     "text": [
      "Epoch 0, Loss: 6.6080\n",
      "Epoch 10, Loss: 3.7870\n",
      "Epoch 20, Loss: 2.1452\n",
      "Epoch 30, Loss: 1.3547\n",
      "Epoch 40, Loss: 0.8756\n"
     ]
    },
    {
     "name": "stderr",
     "output_type": "stream",
     "text": [
      "[I 2025-03-12 13:07:17,496] Trial 63 finished with value: 0.8557191429991317 and parameters: {'K': 3, 'layers': 1, 'hidden_channels': 256, 'out_channels': 256, 'ratio': 0.1515712984456901, 'aggregation': 'mean', 'treatment': 'removal', 'model_type': 'GATConv', 'rate_pairs': 14, 'batch_size': 10, 'lr': 0.008692748011035365, 'clusters': 100}. Best is trial 8 with value: 0.8606204067072518.\n"
     ]
    },
    {
     "name": "stdout",
     "output_type": "stream",
     "text": [
      " - Metrics: Accuracy=0.9411, F1=0.8561, Recall=0.8317, Precision=0.8820\n",
      "Done. Results written to citeseer_experimentations\\citeseer_scar_sampling_nnif_batch_cluster_1203130442.csv.\n",
      "Average F1 over valid seeds: 0.8557 ± 0.0020\n",
      "Running experiment with seed=654:\n",
      " - K=3, layers=1, hidden=256, out=256\n",
      " - norm=None, dropout=0, batch_size=10, reliable_mini_batch=True\n",
      " - ratio=0.15416796386457268, aggregation=mean, treatment=removal\n",
      " - model_type=GATConv, rate_pairs=14, clusters=100, lr=0.008635117579158863\n"
     ]
    },
    {
     "name": "stderr",
     "output_type": "stream",
     "text": [
      "Computing METIS partitioning...\n",
      "Done!\n"
     ]
    },
    {
     "name": "stdout",
     "output_type": "stream",
     "text": [
      "Epoch 0, Loss: 6.8103\n",
      "Epoch 10, Loss: 3.9541\n",
      "Epoch 20, Loss: 2.1904\n",
      "Epoch 30, Loss: 1.4165\n",
      "Epoch 40, Loss: 0.9184\n",
      " - Metrics: Accuracy=0.9384, F1=0.8526, Recall=0.8459, Precision=0.8594\n",
      "Running experiment with seed=114:\n",
      " - K=3, layers=1, hidden=256, out=256\n",
      " - norm=None, dropout=0, batch_size=10, reliable_mini_batch=True\n",
      " - ratio=0.15416796386457268, aggregation=mean, treatment=removal\n",
      " - model_type=GATConv, rate_pairs=14, clusters=100, lr=0.008635117579158863\n"
     ]
    },
    {
     "name": "stderr",
     "output_type": "stream",
     "text": [
      "Computing METIS partitioning...\n",
      "Done!\n"
     ]
    },
    {
     "name": "stdout",
     "output_type": "stream",
     "text": [
      "Epoch 0, Loss: 6.6088\n",
      "Epoch 10, Loss: 3.8036\n",
      "Epoch 20, Loss: 2.1614\n",
      "Epoch 30, Loss: 1.3664\n",
      "Epoch 40, Loss: 0.8844\n",
      " - Metrics: Accuracy=0.9429, F1=0.8611, Recall=0.8402, Precision=0.8831\n",
      "Running experiment with seed=25:\n",
      " - K=3, layers=1, hidden=256, out=256\n",
      " - norm=None, dropout=0, batch_size=10, reliable_mini_batch=True\n",
      " - ratio=0.15416796386457268, aggregation=mean, treatment=removal\n",
      " - model_type=GATConv, rate_pairs=14, clusters=100, lr=0.008635117579158863\n"
     ]
    },
    {
     "name": "stderr",
     "output_type": "stream",
     "text": [
      "Computing METIS partitioning...\n",
      "Done!\n"
     ]
    },
    {
     "name": "stdout",
     "output_type": "stream",
     "text": [
      "Epoch 0, Loss: 6.6292\n",
      "Epoch 10, Loss: 3.8193\n",
      "Epoch 20, Loss: 2.1693\n",
      "Epoch 30, Loss: 1.3714\n",
      "Epoch 40, Loss: 0.8873\n",
      " - Metrics: Accuracy=0.9399, F1=0.8523, Recall=0.8231, Precision=0.8836\n",
      "Running experiment with seed=759:\n",
      " - K=3, layers=1, hidden=256, out=256\n",
      " - norm=None, dropout=0, batch_size=10, reliable_mini_batch=True\n",
      " - ratio=0.15416796386457268, aggregation=mean, treatment=removal\n",
      " - model_type=GATConv, rate_pairs=14, clusters=100, lr=0.008635117579158863\n"
     ]
    },
    {
     "name": "stderr",
     "output_type": "stream",
     "text": [
      "Computing METIS partitioning...\n",
      "Done!\n"
     ]
    },
    {
     "name": "stdout",
     "output_type": "stream",
     "text": [
      "Epoch 0, Loss: 6.6574\n",
      "Epoch 10, Loss: 3.8165\n",
      "Epoch 20, Loss: 2.1683\n",
      "Epoch 30, Loss: 1.3717\n",
      "Epoch 40, Loss: 0.8867\n",
      " - Metrics: Accuracy=0.9414, F1=0.8588, Recall=0.8459, Precision=0.8721\n",
      "Running experiment with seed=281:\n",
      " - K=3, layers=1, hidden=256, out=256\n",
      " - norm=None, dropout=0, batch_size=10, reliable_mini_batch=True\n",
      " - ratio=0.15416796386457268, aggregation=mean, treatment=removal\n",
      " - model_type=GATConv, rate_pairs=14, clusters=100, lr=0.008635117579158863\n"
     ]
    },
    {
     "name": "stderr",
     "output_type": "stream",
     "text": [
      "Computing METIS partitioning...\n",
      "Done!\n"
     ]
    },
    {
     "name": "stdout",
     "output_type": "stream",
     "text": [
      "Epoch 0, Loss: 6.6296\n",
      "Epoch 10, Loss: 3.8191\n",
      "Epoch 20, Loss: 2.1692\n",
      "Epoch 30, Loss: 1.3720\n",
      "Epoch 40, Loss: 0.8870\n"
     ]
    },
    {
     "name": "stderr",
     "output_type": "stream",
     "text": [
      "[I 2025-03-12 13:09:51,314] Trial 64 finished with value: 0.8553839475791104 and parameters: {'K': 3, 'layers': 1, 'hidden_channels': 256, 'out_channels': 256, 'ratio': 0.15416796386457268, 'aggregation': 'mean', 'treatment': 'removal', 'model_type': 'GATConv', 'rate_pairs': 14, 'batch_size': 10, 'lr': 0.008635117579158863, 'clusters': 100}. Best is trial 8 with value: 0.8606204067072518.\n"
     ]
    },
    {
     "name": "stdout",
     "output_type": "stream",
     "text": [
      " - Metrics: Accuracy=0.9396, F1=0.8521, Recall=0.8260, Precision=0.8799\n",
      "Done. Results written to citeseer_experimentations\\citeseer_scar_sampling_nnif_batch_cluster_1203130717.csv.\n",
      "Average F1 over valid seeds: 0.8554 ± 0.0038\n",
      "Running experiment with seed=654:\n",
      " - K=3, layers=1, hidden=256, out=256\n",
      " - norm=None, dropout=0, batch_size=10, reliable_mini_batch=True\n",
      " - ratio=0.16661842870764393, aggregation=mean, treatment=removal\n",
      " - model_type=GATConv, rate_pairs=15, clusters=300, lr=0.00870127071455982\n"
     ]
    },
    {
     "name": "stderr",
     "output_type": "stream",
     "text": [
      "Computing METIS partitioning...\n",
      "Done!\n"
     ]
    },
    {
     "name": "stdout",
     "output_type": "stream",
     "text": [
      "Epoch 0, Loss: 20.0742\n",
      "Epoch 10, Loss: 4.2179\n",
      "Epoch 20, Loss: 1.6887\n",
      "Epoch 30, Loss: 0.8626\n",
      "Epoch 40, Loss: 0.5547\n",
      " - Metrics: Accuracy=0.9351, F1=0.8459, Recall=0.8459, Precision=0.8459\n",
      "Running experiment with seed=114:\n",
      " - K=3, layers=1, hidden=256, out=256\n",
      " - norm=None, dropout=0, batch_size=10, reliable_mini_batch=True\n",
      " - ratio=0.16661842870764393, aggregation=mean, treatment=removal\n",
      " - model_type=GATConv, rate_pairs=15, clusters=300, lr=0.00870127071455982\n"
     ]
    },
    {
     "name": "stderr",
     "output_type": "stream",
     "text": [
      "Computing METIS partitioning...\n",
      "Done!\n"
     ]
    },
    {
     "name": "stdout",
     "output_type": "stream",
     "text": [
      "Epoch 0, Loss: 20.2980\n",
      "Epoch 10, Loss: 4.2577\n",
      "Epoch 20, Loss: 1.7334\n",
      "Epoch 30, Loss: 0.8811\n",
      "Epoch 40, Loss: 0.5585\n",
      " - Metrics: Accuracy=0.9342, F1=0.8443, Recall=0.8474, Precision=0.8414\n",
      "Running experiment with seed=25:\n",
      " - K=3, layers=1, hidden=256, out=256\n",
      " - norm=None, dropout=0, batch_size=10, reliable_mini_batch=True\n",
      " - ratio=0.16661842870764393, aggregation=mean, treatment=removal\n",
      " - model_type=GATConv, rate_pairs=15, clusters=300, lr=0.00870127071455982\n"
     ]
    },
    {
     "name": "stderr",
     "output_type": "stream",
     "text": [
      "Computing METIS partitioning...\n",
      "Done!\n"
     ]
    },
    {
     "name": "stdout",
     "output_type": "stream",
     "text": [
      "Epoch 0, Loss: 20.3649\n",
      "Epoch 10, Loss: 4.2726\n",
      "Epoch 20, Loss: 1.7381\n",
      "Epoch 30, Loss: 0.8847\n",
      "Epoch 40, Loss: 0.5597\n",
      " - Metrics: Accuracy=0.9333, F1=0.8417, Recall=0.8417, Precision=0.8417\n",
      "Running experiment with seed=759:\n",
      " - K=3, layers=1, hidden=256, out=256\n",
      " - norm=None, dropout=0, batch_size=10, reliable_mini_batch=True\n",
      " - ratio=0.16661842870764393, aggregation=mean, treatment=removal\n",
      " - model_type=GATConv, rate_pairs=15, clusters=300, lr=0.00870127071455982\n"
     ]
    },
    {
     "name": "stderr",
     "output_type": "stream",
     "text": [
      "Computing METIS partitioning...\n",
      "Done!\n"
     ]
    },
    {
     "name": "stdout",
     "output_type": "stream",
     "text": [
      "Epoch 0, Loss: 20.4156\n",
      "Epoch 10, Loss: 4.2765\n",
      "Epoch 20, Loss: 1.7402\n",
      "Epoch 30, Loss: 0.8859\n",
      "Epoch 40, Loss: 0.5613\n",
      " - Metrics: Accuracy=0.9378, F1=0.8499, Recall=0.8359, Precision=0.8643\n",
      "Running experiment with seed=281:\n",
      " - K=3, layers=1, hidden=256, out=256\n",
      " - norm=None, dropout=0, batch_size=10, reliable_mini_batch=True\n",
      " - ratio=0.16661842870764393, aggregation=mean, treatment=removal\n",
      " - model_type=GATConv, rate_pairs=15, clusters=300, lr=0.00870127071455982\n"
     ]
    },
    {
     "name": "stderr",
     "output_type": "stream",
     "text": [
      "Computing METIS partitioning...\n",
      "Done!\n"
     ]
    },
    {
     "name": "stdout",
     "output_type": "stream",
     "text": [
      "Epoch 0, Loss: 20.3133\n",
      "Epoch 10, Loss: 4.2619\n",
      "Epoch 20, Loss: 1.7358\n",
      "Epoch 30, Loss: 0.8891\n",
      "Epoch 40, Loss: 0.5593\n"
     ]
    },
    {
     "name": "stderr",
     "output_type": "stream",
     "text": [
      "[I 2025-03-12 13:15:35,940] Trial 65 finished with value: 0.8465972266811403 and parameters: {'K': 3, 'layers': 1, 'hidden_channels': 256, 'out_channels': 256, 'ratio': 0.16661842870764393, 'aggregation': 'mean', 'treatment': 'removal', 'model_type': 'GATConv', 'rate_pairs': 15, 'batch_size': 10, 'lr': 0.00870127071455982, 'clusters': 300}. Best is trial 8 with value: 0.8606204067072518.\n"
     ]
    },
    {
     "name": "stdout",
     "output_type": "stream",
     "text": [
      " - Metrics: Accuracy=0.9381, F1=0.8512, Recall=0.8402, Precision=0.8624\n",
      "Done. Results written to citeseer_experimentations\\citeseer_scar_sampling_nnif_batch_cluster_1203130951.csv.\n",
      "Average F1 over valid seeds: 0.8466 ± 0.0035\n",
      "Running experiment with seed=654:\n",
      " - K=3, layers=1, hidden=256, out=256\n",
      " - norm=None, dropout=0, batch_size=10, reliable_mini_batch=True\n",
      " - ratio=0.15424638553193099, aggregation=mean, treatment=removal\n",
      " - model_type=GATConv, rate_pairs=13, clusters=100, lr=0.009358308091743647\n"
     ]
    },
    {
     "name": "stderr",
     "output_type": "stream",
     "text": [
      "Computing METIS partitioning...\n",
      "Done!\n"
     ]
    },
    {
     "name": "stdout",
     "output_type": "stream",
     "text": [
      "Epoch 0, Loss: 6.8156\n",
      "Epoch 10, Loss: 3.7649\n",
      "Epoch 20, Loss: 1.9999\n",
      "Epoch 30, Loss: 1.2720\n",
      "Epoch 40, Loss: 0.8184\n",
      " - Metrics: Accuracy=0.9360, F1=0.8473, Recall=0.8431, Precision=0.8516\n",
      "Running experiment with seed=114:\n",
      " - K=3, layers=1, hidden=256, out=256\n",
      " - norm=None, dropout=0, batch_size=10, reliable_mini_batch=True\n",
      " - ratio=0.15424638553193099, aggregation=mean, treatment=removal\n",
      " - model_type=GATConv, rate_pairs=13, clusters=100, lr=0.009358308091743647\n"
     ]
    },
    {
     "name": "stderr",
     "output_type": "stream",
     "text": [
      "Computing METIS partitioning...\n",
      "Done!\n"
     ]
    },
    {
     "name": "stdout",
     "output_type": "stream",
     "text": [
      "Epoch 0, Loss: 6.6204\n",
      "Epoch 10, Loss: 3.6263\n",
      "Epoch 20, Loss: 1.9766\n",
      "Epoch 30, Loss: 1.2294\n",
      "Epoch 40, Loss: 0.7891\n",
      " - Metrics: Accuracy=0.9432, F1=0.8609, Recall=0.8345, Precision=0.8891\n",
      "Running experiment with seed=25:\n",
      " - K=3, layers=1, hidden=256, out=256\n",
      " - norm=None, dropout=0, batch_size=10, reliable_mini_batch=True\n",
      " - ratio=0.15424638553193099, aggregation=mean, treatment=removal\n",
      " - model_type=GATConv, rate_pairs=13, clusters=100, lr=0.009358308091743647\n"
     ]
    },
    {
     "name": "stderr",
     "output_type": "stream",
     "text": [
      "Computing METIS partitioning...\n",
      "Done!\n"
     ]
    },
    {
     "name": "stdout",
     "output_type": "stream",
     "text": [
      "Epoch 0, Loss: 6.6493\n",
      "Epoch 10, Loss: 3.6438\n",
      "Epoch 20, Loss: 1.9847\n",
      "Epoch 30, Loss: 1.2340\n",
      "Epoch 40, Loss: 0.7927\n",
      " - Metrics: Accuracy=0.9411, F1=0.8552, Recall=0.8260, Precision=0.8867\n",
      "Running experiment with seed=759:\n",
      " - K=3, layers=1, hidden=256, out=256\n",
      " - norm=None, dropout=0, batch_size=10, reliable_mini_batch=True\n",
      " - ratio=0.15424638553193099, aggregation=mean, treatment=removal\n",
      " - model_type=GATConv, rate_pairs=13, clusters=100, lr=0.009358308091743647\n"
     ]
    },
    {
     "name": "stderr",
     "output_type": "stream",
     "text": [
      "Computing METIS partitioning...\n",
      "Done!\n"
     ]
    },
    {
     "name": "stdout",
     "output_type": "stream",
     "text": [
      "Epoch 0, Loss: 6.6196\n",
      "Epoch 10, Loss: 3.6081\n",
      "Epoch 20, Loss: 1.9665\n",
      "Epoch 30, Loss: 1.2234\n",
      "Epoch 40, Loss: 0.7849\n",
      " - Metrics: Accuracy=0.9417, F1=0.8586, Recall=0.8402, Precision=0.8778\n",
      "Running experiment with seed=281:\n",
      " - K=3, layers=1, hidden=256, out=256\n",
      " - norm=None, dropout=0, batch_size=10, reliable_mini_batch=True\n",
      " - ratio=0.15424638553193099, aggregation=mean, treatment=removal\n",
      " - model_type=GATConv, rate_pairs=13, clusters=100, lr=0.009358308091743647\n"
     ]
    },
    {
     "name": "stderr",
     "output_type": "stream",
     "text": [
      "Computing METIS partitioning...\n",
      "Done!\n"
     ]
    },
    {
     "name": "stdout",
     "output_type": "stream",
     "text": [
      "Epoch 0, Loss: 6.6351\n",
      "Epoch 10, Loss: 3.6168\n",
      "Epoch 20, Loss: 1.9725\n",
      "Epoch 30, Loss: 1.2249\n",
      "Epoch 40, Loss: 0.7873\n"
     ]
    },
    {
     "name": "stderr",
     "output_type": "stream",
     "text": [
      "[I 2025-03-12 13:18:11,879] Trial 66 finished with value: 0.8554269060358098 and parameters: {'K': 3, 'layers': 1, 'hidden_channels': 256, 'out_channels': 256, 'ratio': 0.15424638553193099, 'aggregation': 'mean', 'treatment': 'removal', 'model_type': 'GATConv', 'rate_pairs': 13, 'batch_size': 10, 'lr': 0.009358308091743647, 'clusters': 100}. Best is trial 8 with value: 0.8606204067072518.\n"
     ]
    },
    {
     "name": "stdout",
     "output_type": "stream",
     "text": [
      " - Metrics: Accuracy=0.9405, F1=0.8551, Recall=0.8331, Precision=0.8782\n",
      "Done. Results written to citeseer_experimentations\\citeseer_scar_sampling_nnif_batch_cluster_1203131536.csv.\n",
      "Average F1 over valid seeds: 0.8554 ± 0.0046\n",
      "Running experiment with seed=654:\n",
      " - K=2, layers=1, hidden=256, out=64\n",
      " - norm=None, dropout=0, batch_size=10, reliable_mini_batch=True\n",
      " - ratio=0.16264338438781417, aggregation=mean, treatment=removal\n",
      " - model_type=GATConv, rate_pairs=13, clusters=400, lr=0.009263799781885533\n"
     ]
    },
    {
     "name": "stderr",
     "output_type": "stream",
     "text": [
      "Computing METIS partitioning...\n",
      "Done!\n"
     ]
    },
    {
     "name": "stdout",
     "output_type": "stream",
     "text": [
      "Epoch 0, Loss: 21.6853\n",
      "Epoch 10, Loss: 2.9325\n",
      "Epoch 20, Loss: 1.0623\n",
      "Epoch 30, Loss: 0.5972\n",
      "Epoch 40, Loss: 0.3412\n"
     ]
    },
    {
     "name": "stderr",
     "output_type": "stream",
     "text": [
      "[I 2025-03-12 13:19:30,169] Trial 67 finished with value: 0.7882268485283561 and parameters: {'K': 2, 'layers': 1, 'hidden_channels': 256, 'out_channels': 64, 'ratio': 0.16264338438781417, 'aggregation': 'mean', 'treatment': 'removal', 'model_type': 'GATConv', 'rate_pairs': 13, 'batch_size': 10, 'lr': 0.009263799781885533, 'clusters': 400}. Best is trial 8 with value: 0.8606204067072518.\n"
     ]
    },
    {
     "name": "stdout",
     "output_type": "stream",
     "text": [
      " - Metrics: Accuracy=0.9113, F1=0.7882, Recall=0.7832, Precision=0.7934\n",
      "F1 = 0.79 < 0.835, skipping ...\n",
      "Done. Results written to citeseer_experimentations\\citeseer_scar_sampling_nnif_batch_cluster_1203131811.csv.\n",
      "Average F1 over valid seeds: 0.7882 ± 0.0000\n",
      "Running experiment with seed=654:\n",
      " - K=3, layers=2, hidden=256, out=256\n",
      " - norm=None, dropout=0, batch_size=10, reliable_mini_batch=True\n",
      " - ratio=0.15643971839321477, aggregation=mean, treatment=relabeling\n",
      " - model_type=GATConv, rate_pairs=13, clusters=100, lr=0.008058080067039817\n"
     ]
    },
    {
     "name": "stderr",
     "output_type": "stream",
     "text": [
      "Computing METIS partitioning...\n",
      "Done!\n"
     ]
    },
    {
     "name": "stdout",
     "output_type": "stream",
     "text": [
      "Epoch 0, Loss: 3.5405\n",
      "Epoch 10, Loss: 2.0279\n",
      "Epoch 20, Loss: 1.2870\n",
      "Epoch 30, Loss: 0.7994\n",
      "Epoch 40, Loss: 0.5851\n"
     ]
    },
    {
     "name": "stderr",
     "output_type": "stream",
     "text": [
      "[I 2025-03-12 13:20:04,184] Trial 68 finished with value: 0.723348593852191 and parameters: {'K': 3, 'layers': 2, 'hidden_channels': 256, 'out_channels': 256, 'ratio': 0.15643971839321477, 'aggregation': 'mean', 'treatment': 'relabeling', 'model_type': 'GATConv', 'rate_pairs': 13, 'batch_size': 10, 'lr': 0.008058080067039817, 'clusters': 100}. Best is trial 8 with value: 0.8606204067072518.\n"
     ]
    },
    {
     "name": "stdout",
     "output_type": "stream",
     "text": [
      " - Metrics: Accuracy=0.8729, F1=0.7233, Recall=0.7889, Precision=0.6679\n",
      "F1 = 0.72 < 0.835, skipping ...\n",
      "Done. Results written to citeseer_experimentations\\citeseer_scar_sampling_nnif_batch_cluster_1203131930.csv.\n",
      "Average F1 over valid seeds: 0.7233 ± 0.0000\n",
      "Running experiment with seed=654:\n",
      " - K=3, layers=1, hidden=256, out=256\n",
      " - norm=None, dropout=0, batch_size=10, reliable_mini_batch=True\n",
      " - ratio=0.15491660013564035, aggregation=sum, treatment=removal\n",
      " - model_type=GATConv, rate_pairs=12, clusters=100, lr=0.009884932520384486\n"
     ]
    },
    {
     "name": "stderr",
     "output_type": "stream",
     "text": [
      "Computing METIS partitioning...\n",
      "Done!\n"
     ]
    },
    {
     "name": "stdout",
     "output_type": "stream",
     "text": [
      "Epoch 0, Loss: 6.8107\n",
      "Epoch 10, Loss: 3.6072\n",
      "Epoch 20, Loss: 1.8636\n",
      "Epoch 30, Loss: 1.1740\n",
      "Epoch 40, Loss: 0.7519\n",
      " - Metrics: Accuracy=0.9363, F1=0.8473, Recall=0.8388, Precision=0.8559\n",
      "Running experiment with seed=114:\n",
      " - K=3, layers=1, hidden=256, out=256\n",
      " - norm=None, dropout=0, batch_size=10, reliable_mini_batch=True\n",
      " - ratio=0.15491660013564035, aggregation=sum, treatment=removal\n",
      " - model_type=GATConv, rate_pairs=12, clusters=100, lr=0.009884932520384486\n"
     ]
    },
    {
     "name": "stderr",
     "output_type": "stream",
     "text": [
      "Computing METIS partitioning...\n",
      "Done!\n"
     ]
    },
    {
     "name": "stdout",
     "output_type": "stream",
     "text": [
      "Epoch 0, Loss: 6.6516\n",
      "Epoch 10, Loss: 3.4962\n",
      "Epoch 20, Loss: 1.8520\n",
      "Epoch 30, Loss: 1.1397\n",
      "Epoch 40, Loss: 0.7286\n",
      " - Metrics: Accuracy=0.9405, F1=0.8559, Recall=0.8388, Precision=0.8737\n",
      "Running experiment with seed=25:\n",
      " - K=3, layers=1, hidden=256, out=256\n",
      " - norm=None, dropout=0, batch_size=10, reliable_mini_batch=True\n",
      " - ratio=0.15491660013564035, aggregation=sum, treatment=removal\n",
      " - model_type=GATConv, rate_pairs=12, clusters=100, lr=0.009884932520384486\n"
     ]
    },
    {
     "name": "stderr",
     "output_type": "stream",
     "text": [
      "Computing METIS partitioning...\n",
      "Done!\n"
     ]
    },
    {
     "name": "stdout",
     "output_type": "stream",
     "text": [
      "Epoch 0, Loss: 6.6412\n",
      "Epoch 10, Loss: 3.4878\n",
      "Epoch 20, Loss: 1.8486\n",
      "Epoch 30, Loss: 1.1380\n",
      "Epoch 40, Loss: 0.7269\n",
      " - Metrics: Accuracy=0.9414, F1=0.8574, Recall=0.8359, Precision=0.8799\n",
      "Running experiment with seed=759:\n",
      " - K=3, layers=1, hidden=256, out=256\n",
      " - norm=None, dropout=0, batch_size=10, reliable_mini_batch=True\n",
      " - ratio=0.15491660013564035, aggregation=sum, treatment=removal\n",
      " - model_type=GATConv, rate_pairs=12, clusters=100, lr=0.009884932520384486\n"
     ]
    },
    {
     "name": "stderr",
     "output_type": "stream",
     "text": [
      "Computing METIS partitioning...\n",
      "Done!\n"
     ]
    },
    {
     "name": "stdout",
     "output_type": "stream",
     "text": [
      "Epoch 0, Loss: 6.6289\n",
      "Epoch 10, Loss: 3.4819\n",
      "Epoch 20, Loss: 1.8454\n",
      "Epoch 30, Loss: 1.1365\n",
      "Epoch 40, Loss: 0.7260\n",
      " - Metrics: Accuracy=0.9408, F1=0.8550, Recall=0.8288, Precision=0.8830\n",
      "Running experiment with seed=281:\n",
      " - K=3, layers=1, hidden=256, out=256\n",
      " - norm=None, dropout=0, batch_size=10, reliable_mini_batch=True\n",
      " - ratio=0.15491660013564035, aggregation=sum, treatment=removal\n",
      " - model_type=GATConv, rate_pairs=12, clusters=100, lr=0.009884932520384486\n"
     ]
    },
    {
     "name": "stderr",
     "output_type": "stream",
     "text": [
      "Computing METIS partitioning...\n",
      "Done!\n"
     ]
    },
    {
     "name": "stdout",
     "output_type": "stream",
     "text": [
      "Epoch 0, Loss: 6.6202\n",
      "Epoch 10, Loss: 3.4947\n",
      "Epoch 20, Loss: 1.8517\n",
      "Epoch 30, Loss: 1.1400\n",
      "Epoch 40, Loss: 0.7290\n"
     ]
    },
    {
     "name": "stderr",
     "output_type": "stream",
     "text": [
      "[I 2025-03-12 13:22:40,887] Trial 69 finished with value: 0.8552063768807414 and parameters: {'K': 3, 'layers': 1, 'hidden_channels': 256, 'out_channels': 256, 'ratio': 0.15491660013564035, 'aggregation': 'sum', 'treatment': 'removal', 'model_type': 'GATConv', 'rate_pairs': 12, 'batch_size': 10, 'lr': 0.009884932520384486, 'clusters': 100}. Best is trial 8 with value: 0.8606204067072518.\n"
     ]
    },
    {
     "name": "stdout",
     "output_type": "stream",
     "text": [
      " - Metrics: Accuracy=0.9426, F1=0.8605, Recall=0.8402, Precision=0.8817\n",
      "Done. Results written to citeseer_experimentations\\citeseer_scar_sampling_nnif_batch_cluster_1203132004.csv.\n",
      "Average F1 over valid seeds: 0.8552 ± 0.0044\n",
      "Running experiment with seed=654:\n",
      " - K=4, layers=1, hidden=256, out=256\n",
      " - norm=None, dropout=0, batch_size=10, reliable_mini_batch=True\n",
      " - ratio=0.17413253013352858, aggregation=mean, treatment=removal\n",
      " - model_type=GATConv, rate_pairs=15, clusters=500, lr=0.008759612518287708\n"
     ]
    },
    {
     "name": "stderr",
     "output_type": "stream",
     "text": [
      "Computing METIS partitioning...\n",
      "Done!\n"
     ]
    },
    {
     "name": "stdout",
     "output_type": "stream",
     "text": [
      "Epoch 0, Loss: 46.2815\n",
      "Epoch 10, Loss: 5.4835\n",
      "Epoch 20, Loss: 1.8624\n",
      "Epoch 30, Loss: 0.9200\n",
      "Epoch 40, Loss: 0.5393\n"
     ]
    },
    {
     "name": "stderr",
     "output_type": "stream",
     "text": [
      "[I 2025-03-12 13:24:29,924] Trial 70 finished with value: 0.8159203980099502 and parameters: {'K': 4, 'layers': 1, 'hidden_channels': 256, 'out_channels': 256, 'ratio': 0.17413253013352858, 'aggregation': 'mean', 'treatment': 'removal', 'model_type': 'GATConv', 'rate_pairs': 15, 'batch_size': 10, 'lr': 0.008759612518287708, 'clusters': 500}. Best is trial 8 with value: 0.8606204067072518.\n"
     ]
    },
    {
     "name": "stdout",
     "output_type": "stream",
     "text": [
      " - Metrics: Accuracy=0.9222, F1=0.8159, Recall=0.8188, Precision=0.8130\n",
      "F1 = 0.82 < 0.835, skipping ...\n",
      "Done. Results written to citeseer_experimentations\\citeseer_scar_sampling_nnif_batch_cluster_1203132240.csv.\n",
      "Average F1 over valid seeds: 0.8159 ± 0.0000\n",
      "Running experiment with seed=654:\n",
      " - K=3, layers=1, hidden=256, out=256\n",
      " - norm=None, dropout=0, batch_size=10, reliable_mini_batch=True\n",
      " - ratio=0.15329971954694424, aggregation=mean, treatment=removal\n",
      " - model_type=GATConv, rate_pairs=14, clusters=100, lr=0.008309543073790573\n"
     ]
    },
    {
     "name": "stderr",
     "output_type": "stream",
     "text": [
      "Computing METIS partitioning...\n",
      "Done!\n"
     ]
    },
    {
     "name": "stdout",
     "output_type": "stream",
     "text": [
      "Epoch 0, Loss: 6.8223\n",
      "Epoch 10, Loss: 4.0490\n",
      "Epoch 20, Loss: 2.2881\n",
      "Epoch 30, Loss: 1.4943\n",
      "Epoch 40, Loss: 0.9723\n",
      " - Metrics: Accuracy=0.9387, F1=0.8513, Recall=0.8331, Precision=0.8703\n",
      "Running experiment with seed=114:\n",
      " - K=3, layers=1, hidden=256, out=256\n",
      " - norm=None, dropout=0, batch_size=10, reliable_mini_batch=True\n",
      " - ratio=0.15329971954694424, aggregation=mean, treatment=removal\n",
      " - model_type=GATConv, rate_pairs=14, clusters=100, lr=0.008309543073790573\n"
     ]
    },
    {
     "name": "stderr",
     "output_type": "stream",
     "text": [
      "Computing METIS partitioning...\n",
      "Done!\n"
     ]
    },
    {
     "name": "stdout",
     "output_type": "stream",
     "text": [
      "Epoch 0, Loss: 6.6353\n",
      "Epoch 10, Loss: 3.9035\n",
      "Epoch 20, Loss: 2.2632\n",
      "Epoch 30, Loss: 1.4438\n",
      "Epoch 40, Loss: 0.9379\n",
      " - Metrics: Accuracy=0.9375, F1=0.8471, Recall=0.8217, Precision=0.8741\n",
      "Running experiment with seed=25:\n",
      " - K=3, layers=1, hidden=256, out=256\n",
      " - norm=None, dropout=0, batch_size=10, reliable_mini_batch=True\n",
      " - ratio=0.15329971954694424, aggregation=mean, treatment=removal\n",
      " - model_type=GATConv, rate_pairs=14, clusters=100, lr=0.008309543073790573\n"
     ]
    },
    {
     "name": "stderr",
     "output_type": "stream",
     "text": [
      "Computing METIS partitioning...\n",
      "Done!\n"
     ]
    },
    {
     "name": "stdout",
     "output_type": "stream",
     "text": [
      "Epoch 0, Loss: 6.6241\n",
      "Epoch 10, Loss: 3.8812\n",
      "Epoch 20, Loss: 2.2500\n",
      "Epoch 30, Loss: 1.4348\n",
      "Epoch 40, Loss: 0.9314\n",
      " - Metrics: Accuracy=0.9450, F1=0.8665, Recall=0.8474, Precision=0.8866\n",
      "Running experiment with seed=759:\n",
      " - K=3, layers=1, hidden=256, out=256\n",
      " - norm=None, dropout=0, batch_size=10, reliable_mini_batch=True\n",
      " - ratio=0.15329971954694424, aggregation=mean, treatment=removal\n",
      " - model_type=GATConv, rate_pairs=14, clusters=100, lr=0.008309543073790573\n"
     ]
    },
    {
     "name": "stderr",
     "output_type": "stream",
     "text": [
      "Computing METIS partitioning...\n",
      "Done!\n"
     ]
    },
    {
     "name": "stdout",
     "output_type": "stream",
     "text": [
      "Epoch 0, Loss: 6.6167\n",
      "Epoch 10, Loss: 3.8970\n",
      "Epoch 20, Loss: 2.2568\n",
      "Epoch 30, Loss: 1.4410\n",
      "Epoch 40, Loss: 0.9355\n",
      " - Metrics: Accuracy=0.9414, F1=0.8569, Recall=0.8331, Precision=0.8822\n",
      "Running experiment with seed=281:\n",
      " - K=3, layers=1, hidden=256, out=256\n",
      " - norm=None, dropout=0, batch_size=10, reliable_mini_batch=True\n",
      " - ratio=0.15329971954694424, aggregation=mean, treatment=removal\n",
      " - model_type=GATConv, rate_pairs=14, clusters=100, lr=0.008309543073790573\n"
     ]
    },
    {
     "name": "stderr",
     "output_type": "stream",
     "text": [
      "Computing METIS partitioning...\n",
      "Done!\n"
     ]
    },
    {
     "name": "stdout",
     "output_type": "stream",
     "text": [
      "Epoch 0, Loss: 6.6397\n",
      "Epoch 10, Loss: 3.8912\n",
      "Epoch 20, Loss: 2.2553\n",
      "Epoch 30, Loss: 1.4407\n",
      "Epoch 40, Loss: 0.9356\n"
     ]
    },
    {
     "name": "stderr",
     "output_type": "stream",
     "text": [
      "[I 2025-03-12 13:27:06,373] Trial 71 finished with value: 0.8564613807727207 and parameters: {'K': 3, 'layers': 1, 'hidden_channels': 256, 'out_channels': 256, 'ratio': 0.15329971954694424, 'aggregation': 'mean', 'treatment': 'removal', 'model_type': 'GATConv', 'rate_pairs': 14, 'batch_size': 10, 'lr': 0.008309543073790573, 'clusters': 100}. Best is trial 8 with value: 0.8606204067072518.\n"
     ]
    },
    {
     "name": "stdout",
     "output_type": "stream",
     "text": [
      " - Metrics: Accuracy=0.9426, F1=0.8605, Recall=0.8402, Precision=0.8817\n",
      "Done. Results written to citeseer_experimentations\\citeseer_scar_sampling_nnif_batch_cluster_1203132430.csv.\n",
      "Average F1 over valid seeds: 0.8565 ± 0.0068\n",
      "Running experiment with seed=654:\n",
      " - K=3, layers=1, hidden=256, out=256\n",
      " - norm=None, dropout=0, batch_size=10, reliable_mini_batch=True\n",
      " - ratio=0.14888830657545246, aggregation=mean, treatment=removal\n",
      " - model_type=GATConv, rate_pairs=14, clusters=100, lr=0.009509106010607915\n"
     ]
    },
    {
     "name": "stderr",
     "output_type": "stream",
     "text": [
      "Computing METIS partitioning...\n",
      "Done!\n"
     ]
    },
    {
     "name": "stdout",
     "output_type": "stream",
     "text": [
      "Epoch 0, Loss: 6.8277\n",
      "Epoch 10, Loss: 3.7155\n",
      "Epoch 20, Loss: 1.9582\n",
      "Epoch 30, Loss: 1.2413\n",
      "Epoch 40, Loss: 0.7974\n",
      " - Metrics: Accuracy=0.9372, F1=0.8489, Recall=0.8374, Precision=0.8607\n",
      "Running experiment with seed=114:\n",
      " - K=3, layers=1, hidden=256, out=256\n",
      " - norm=None, dropout=0, batch_size=10, reliable_mini_batch=True\n",
      " - ratio=0.14888830657545246, aggregation=mean, treatment=removal\n",
      " - model_type=GATConv, rate_pairs=14, clusters=100, lr=0.009509106010607915\n"
     ]
    },
    {
     "name": "stderr",
     "output_type": "stream",
     "text": [
      "Computing METIS partitioning...\n",
      "Done!\n"
     ]
    },
    {
     "name": "stdout",
     "output_type": "stream",
     "text": [
      "Epoch 0, Loss: 6.6373\n",
      "Epoch 10, Loss: 3.5798\n",
      "Epoch 20, Loss: 1.9355\n",
      "Epoch 30, Loss: 1.2001\n",
      "Epoch 40, Loss: 0.7694\n",
      " - Metrics: Accuracy=0.9396, F1=0.8519, Recall=0.8245, Precision=0.8811\n",
      "Running experiment with seed=25:\n",
      " - K=3, layers=1, hidden=256, out=256\n",
      " - norm=None, dropout=0, batch_size=10, reliable_mini_batch=True\n",
      " - ratio=0.14888830657545246, aggregation=mean, treatment=removal\n",
      " - model_type=GATConv, rate_pairs=14, clusters=100, lr=0.009509106010607915\n"
     ]
    },
    {
     "name": "stderr",
     "output_type": "stream",
     "text": [
      "Computing METIS partitioning...\n",
      "Done!\n"
     ]
    },
    {
     "name": "stdout",
     "output_type": "stream",
     "text": [
      "Epoch 0, Loss: 6.6471\n",
      "Epoch 10, Loss: 3.5859\n",
      "Epoch 20, Loss: 1.9388\n",
      "Epoch 30, Loss: 1.2018\n",
      "Epoch 40, Loss: 0.7700\n",
      " - Metrics: Accuracy=0.9405, F1=0.8540, Recall=0.8260, Precision=0.8840\n",
      "Running experiment with seed=759:\n",
      " - K=3, layers=1, hidden=256, out=256\n",
      " - norm=None, dropout=0, batch_size=10, reliable_mini_batch=True\n",
      " - ratio=0.14888830657545246, aggregation=mean, treatment=removal\n",
      " - model_type=GATConv, rate_pairs=14, clusters=100, lr=0.009509106010607915\n"
     ]
    },
    {
     "name": "stderr",
     "output_type": "stream",
     "text": [
      "Computing METIS partitioning...\n",
      "Done!\n"
     ]
    },
    {
     "name": "stdout",
     "output_type": "stream",
     "text": [
      "Epoch 0, Loss: 6.6052\n",
      "Epoch 10, Loss: 3.5621\n",
      "Epoch 20, Loss: 1.9258\n",
      "Epoch 30, Loss: 1.1941\n",
      "Epoch 40, Loss: 0.7651\n",
      " - Metrics: Accuracy=0.9414, F1=0.8571, Recall=0.8345, Precision=0.8810\n",
      "Running experiment with seed=281:\n",
      " - K=3, layers=1, hidden=256, out=256\n",
      " - norm=None, dropout=0, batch_size=10, reliable_mini_batch=True\n",
      " - ratio=0.14888830657545246, aggregation=mean, treatment=removal\n",
      " - model_type=GATConv, rate_pairs=14, clusters=100, lr=0.009509106010607915\n"
     ]
    },
    {
     "name": "stderr",
     "output_type": "stream",
     "text": [
      "Computing METIS partitioning...\n",
      "Done!\n"
     ]
    },
    {
     "name": "stdout",
     "output_type": "stream",
     "text": [
      "Epoch 0, Loss: 6.6280\n",
      "Epoch 10, Loss: 3.5762\n",
      "Epoch 20, Loss: 1.9336\n",
      "Epoch 30, Loss: 1.1977\n",
      "Epoch 40, Loss: 0.7679\n"
     ]
    },
    {
     "name": "stderr",
     "output_type": "stream",
     "text": [
      "[I 2025-03-12 13:29:41,232] Trial 72 finished with value: 0.8530433769091783 and parameters: {'K': 3, 'layers': 1, 'hidden_channels': 256, 'out_channels': 256, 'ratio': 0.14888830657545246, 'aggregation': 'mean', 'treatment': 'removal', 'model_type': 'GATConv', 'rate_pairs': 14, 'batch_size': 10, 'lr': 0.009509106010607915, 'clusters': 100}. Best is trial 8 with value: 0.8606204067072518.\n"
     ]
    },
    {
     "name": "stdout",
     "output_type": "stream",
     "text": [
      " - Metrics: Accuracy=0.9405, F1=0.8533, Recall=0.8217, Precision=0.8875\n",
      "Done. Results written to citeseer_experimentations\\citeseer_scar_sampling_nnif_batch_cluster_1203132706.csv.\n",
      "Average F1 over valid seeds: 0.8530 ± 0.0027\n",
      "Running experiment with seed=654:\n",
      " - K=3, layers=1, hidden=256, out=256\n",
      " - norm=None, dropout=0, batch_size=10, reliable_mini_batch=True\n",
      " - ratio=0.14472935602677386, aggregation=mean, treatment=removal\n",
      " - model_type=GATConv, rate_pairs=13, clusters=100, lr=0.009935481574317269\n"
     ]
    },
    {
     "name": "stderr",
     "output_type": "stream",
     "text": [
      "Computing METIS partitioning...\n",
      "Done!\n"
     ]
    },
    {
     "name": "stdout",
     "output_type": "stream",
     "text": [
      "Epoch 0, Loss: 6.8338\n",
      "Epoch 10, Loss: 3.6104\n",
      "Epoch 20, Loss: 1.8606\n",
      "Epoch 30, Loss: 1.1705\n",
      "Epoch 40, Loss: 0.7488\n",
      " - Metrics: Accuracy=0.9372, F1=0.8469, Recall=0.8245, Precision=0.8705\n",
      "Running experiment with seed=114:\n",
      " - K=3, layers=1, hidden=256, out=256\n",
      " - norm=None, dropout=0, batch_size=10, reliable_mini_batch=True\n",
      " - ratio=0.14472935602677386, aggregation=mean, treatment=removal\n",
      " - model_type=GATConv, rate_pairs=13, clusters=100, lr=0.009935481574317269\n"
     ]
    },
    {
     "name": "stderr",
     "output_type": "stream",
     "text": [
      "Computing METIS partitioning...\n",
      "Done!\n"
     ]
    },
    {
     "name": "stdout",
     "output_type": "stream",
     "text": [
      "Epoch 0, Loss: 6.6273\n",
      "Epoch 10, Loss: 3.4675\n",
      "Epoch 20, Loss: 1.8339\n",
      "Epoch 30, Loss: 1.1273\n",
      "Epoch 40, Loss: 0.7200\n",
      " - Metrics: Accuracy=0.9411, F1=0.8548, Recall=0.8231, Precision=0.8891\n",
      "Running experiment with seed=25:\n",
      " - K=3, layers=1, hidden=256, out=256\n",
      " - norm=None, dropout=0, batch_size=10, reliable_mini_batch=True\n",
      " - ratio=0.14472935602677386, aggregation=mean, treatment=removal\n",
      " - model_type=GATConv, rate_pairs=13, clusters=100, lr=0.009935481574317269\n"
     ]
    },
    {
     "name": "stderr",
     "output_type": "stream",
     "text": [
      "Computing METIS partitioning...\n",
      "Done!\n"
     ]
    },
    {
     "name": "stdout",
     "output_type": "stream",
     "text": [
      "Epoch 0, Loss: 6.6074\n",
      "Epoch 10, Loss: 3.4587\n",
      "Epoch 20, Loss: 1.8284\n",
      "Epoch 30, Loss: 1.1244\n",
      "Epoch 40, Loss: 0.7176\n",
      " - Metrics: Accuracy=0.9381, F1=0.8494, Recall=0.8288, Precision=0.8711\n",
      "Running experiment with seed=759:\n",
      " - K=3, layers=1, hidden=256, out=256\n",
      " - norm=None, dropout=0, batch_size=10, reliable_mini_batch=True\n",
      " - ratio=0.14472935602677386, aggregation=mean, treatment=removal\n",
      " - model_type=GATConv, rate_pairs=13, clusters=100, lr=0.009935481574317269\n"
     ]
    },
    {
     "name": "stderr",
     "output_type": "stream",
     "text": [
      "Computing METIS partitioning...\n",
      "Done!\n"
     ]
    },
    {
     "name": "stdout",
     "output_type": "stream",
     "text": [
      "Epoch 0, Loss: 6.6755\n",
      "Epoch 10, Loss: 3.4862\n",
      "Epoch 20, Loss: 1.8422\n",
      "Epoch 30, Loss: 1.1327\n",
      "Epoch 40, Loss: 0.7232\n",
      " - Metrics: Accuracy=0.9408, F1=0.8561, Recall=0.8359, Precision=0.8772\n",
      "Running experiment with seed=281:\n",
      " - K=3, layers=1, hidden=256, out=256\n",
      " - norm=None, dropout=0, batch_size=10, reliable_mini_batch=True\n",
      " - ratio=0.14472935602677386, aggregation=mean, treatment=removal\n",
      " - model_type=GATConv, rate_pairs=13, clusters=100, lr=0.009935481574317269\n"
     ]
    },
    {
     "name": "stderr",
     "output_type": "stream",
     "text": [
      "Computing METIS partitioning...\n",
      "Done!\n"
     ]
    },
    {
     "name": "stdout",
     "output_type": "stream",
     "text": [
      "Epoch 0, Loss: 6.6279\n",
      "Epoch 10, Loss: 3.4688\n",
      "Epoch 20, Loss: 1.8334\n",
      "Epoch 30, Loss: 1.1275\n",
      "Epoch 40, Loss: 0.7198\n"
     ]
    },
    {
     "name": "stderr",
     "output_type": "stream",
     "text": [
      "[I 2025-03-12 13:32:16,846] Trial 73 finished with value: 0.8519060567232891 and parameters: {'K': 3, 'layers': 1, 'hidden_channels': 256, 'out_channels': 256, 'ratio': 0.14472935602677386, 'aggregation': 'mean', 'treatment': 'removal', 'model_type': 'GATConv', 'rate_pairs': 13, 'batch_size': 10, 'lr': 0.009935481574317269, 'clusters': 100}. Best is trial 8 with value: 0.8606204067072518.\n"
     ]
    },
    {
     "name": "stdout",
     "output_type": "stream",
     "text": [
      " - Metrics: Accuracy=0.9396, F1=0.8523, Recall=0.8274, Precision=0.8788\n",
      "Done. Results written to citeseer_experimentations\\citeseer_scar_sampling_nnif_batch_cluster_1203132941.csv.\n",
      "Average F1 over valid seeds: 0.8519 ± 0.0034\n",
      "Running experiment with seed=654:\n",
      " - K=4, layers=1, hidden=256, out=256\n",
      " - norm=None, dropout=0, batch_size=10, reliable_mini_batch=True\n",
      " - ratio=0.1544041338896374, aggregation=mean, treatment=removal\n",
      " - model_type=GATConv, rate_pairs=15, clusters=100, lr=0.008208973501707541\n"
     ]
    },
    {
     "name": "stderr",
     "output_type": "stream",
     "text": [
      "Computing METIS partitioning...\n",
      "Done!\n"
     ]
    },
    {
     "name": "stdout",
     "output_type": "stream",
     "text": [
      "Epoch 0, Loss: 7.8688\n",
      "Epoch 10, Loss: 5.0189\n",
      "Epoch 20, Loss: 2.8469\n",
      "Epoch 30, Loss: 1.8118\n",
      "Epoch 40, Loss: 1.1560\n",
      " - Metrics: Accuracy=0.9369, F1=0.8494, Recall=0.8445, Precision=0.8543\n",
      "Running experiment with seed=114:\n",
      " - K=4, layers=1, hidden=256, out=256\n",
      " - norm=None, dropout=0, batch_size=10, reliable_mini_batch=True\n",
      " - ratio=0.1544041338896374, aggregation=mean, treatment=removal\n",
      " - model_type=GATConv, rate_pairs=15, clusters=100, lr=0.008208973501707541\n"
     ]
    },
    {
     "name": "stderr",
     "output_type": "stream",
     "text": [
      "Computing METIS partitioning...\n",
      "Done!\n"
     ]
    },
    {
     "name": "stdout",
     "output_type": "stream",
     "text": [
      "Epoch 0, Loss: 7.5710\n",
      "Epoch 10, Loss: 4.7948\n",
      "Epoch 20, Loss: 2.7750\n",
      "Epoch 30, Loss: 1.7251\n",
      "Epoch 40, Loss: 1.0977\n",
      " - Metrics: Accuracy=0.9375, F1=0.8493, Recall=0.8359, Precision=0.8630\n",
      "Running experiment with seed=25:\n",
      " - K=4, layers=1, hidden=256, out=256\n",
      " - norm=None, dropout=0, batch_size=10, reliable_mini_batch=True\n",
      " - ratio=0.1544041338896374, aggregation=mean, treatment=removal\n",
      " - model_type=GATConv, rate_pairs=15, clusters=100, lr=0.008208973501707541\n"
     ]
    },
    {
     "name": "stderr",
     "output_type": "stream",
     "text": [
      "Computing METIS partitioning...\n",
      "Done!\n"
     ]
    },
    {
     "name": "stdout",
     "output_type": "stream",
     "text": [
      "Epoch 0, Loss: 7.5544\n",
      "Epoch 10, Loss: 4.7774\n",
      "Epoch 20, Loss: 2.7698\n",
      "Epoch 30, Loss: 1.7225\n",
      "Epoch 40, Loss: 1.0962\n",
      " - Metrics: Accuracy=0.9393, F1=0.8530, Recall=0.8359, Precision=0.8707\n",
      "Running experiment with seed=759:\n",
      " - K=4, layers=1, hidden=256, out=256\n",
      " - norm=None, dropout=0, batch_size=10, reliable_mini_batch=True\n",
      " - ratio=0.1544041338896374, aggregation=mean, treatment=removal\n",
      " - model_type=GATConv, rate_pairs=15, clusters=100, lr=0.008208973501707541\n"
     ]
    },
    {
     "name": "stderr",
     "output_type": "stream",
     "text": [
      "Computing METIS partitioning...\n",
      "Done!\n"
     ]
    },
    {
     "name": "stdout",
     "output_type": "stream",
     "text": [
      "Epoch 0, Loss: 7.5668\n",
      "Epoch 10, Loss: 4.7860\n",
      "Epoch 20, Loss: 2.7756\n",
      "Epoch 30, Loss: 1.7219\n",
      "Epoch 40, Loss: 1.0970\n",
      " - Metrics: Accuracy=0.9405, F1=0.8573, Recall=0.8488, Precision=0.8661\n",
      "Running experiment with seed=281:\n",
      " - K=4, layers=1, hidden=256, out=256\n",
      " - norm=None, dropout=0, batch_size=10, reliable_mini_batch=True\n",
      " - ratio=0.1544041338896374, aggregation=mean, treatment=removal\n",
      " - model_type=GATConv, rate_pairs=15, clusters=100, lr=0.008208973501707541\n"
     ]
    },
    {
     "name": "stderr",
     "output_type": "stream",
     "text": [
      "Computing METIS partitioning...\n",
      "Done!\n"
     ]
    },
    {
     "name": "stdout",
     "output_type": "stream",
     "text": [
      "Epoch 0, Loss: 7.5600\n",
      "Epoch 10, Loss: 4.7886\n",
      "Epoch 20, Loss: 2.7714\n",
      "Epoch 30, Loss: 1.7220\n",
      "Epoch 40, Loss: 1.0959\n"
     ]
    },
    {
     "name": "stderr",
     "output_type": "stream",
     "text": [
      "[I 2025-03-12 13:34:54,805] Trial 74 finished with value: 0.853179559296005 and parameters: {'K': 4, 'layers': 1, 'hidden_channels': 256, 'out_channels': 256, 'ratio': 0.1544041338896374, 'aggregation': 'mean', 'treatment': 'removal', 'model_type': 'GATConv', 'rate_pairs': 15, 'batch_size': 10, 'lr': 0.008208973501707541, 'clusters': 100}. Best is trial 8 with value: 0.8606204067072518.\n"
     ]
    },
    {
     "name": "stdout",
     "output_type": "stream",
     "text": [
      " - Metrics: Accuracy=0.9408, F1=0.8569, Recall=0.8417, Precision=0.8728\n",
      "Done. Results written to citeseer_experimentations\\citeseer_scar_sampling_nnif_batch_cluster_1203133216.csv.\n",
      "Average F1 over valid seeds: 0.8532 ± 0.0035\n",
      "Running experiment with seed=654:\n",
      " - K=2, layers=1, hidden=256, out=256\n",
      " - norm=None, dropout=0, batch_size=10, reliable_mini_batch=True\n",
      " - ratio=0.1522791186574271, aggregation=mean, treatment=removal\n",
      " - model_type=GATConv, rate_pairs=14, clusters=100, lr=0.008878455770213919\n"
     ]
    },
    {
     "name": "stderr",
     "output_type": "stream",
     "text": [
      "Computing METIS partitioning...\n",
      "Done!\n"
     ]
    },
    {
     "name": "stdout",
     "output_type": "stream",
     "text": [
      "Epoch 0, Loss: 5.4791\n",
      "Epoch 10, Loss: 2.8646\n",
      "Epoch 20, Loss: 1.6070\n",
      "Epoch 30, Loss: 1.0677\n",
      "Epoch 40, Loss: 0.7065\n",
      " - Metrics: Accuracy=0.9354, F1=0.8390, Recall=0.7989, Precision=0.8833\n",
      "Running experiment with seed=114:\n",
      " - K=2, layers=1, hidden=256, out=256\n",
      " - norm=None, dropout=0, batch_size=10, reliable_mini_batch=True\n",
      " - ratio=0.1522791186574271, aggregation=mean, treatment=removal\n",
      " - model_type=GATConv, rate_pairs=14, clusters=100, lr=0.008878455770213919\n"
     ]
    },
    {
     "name": "stderr",
     "output_type": "stream",
     "text": [
      "Computing METIS partitioning...\n",
      "Done!\n"
     ]
    },
    {
     "name": "stdout",
     "output_type": "stream",
     "text": [
      "Epoch 0, Loss: 5.3601\n",
      "Epoch 10, Loss: 2.7989\n",
      "Epoch 20, Loss: 1.6095\n",
      "Epoch 30, Loss: 1.0435\n",
      "Epoch 40, Loss: 0.6882\n"
     ]
    },
    {
     "name": "stderr",
     "output_type": "stream",
     "text": [
      "[I 2025-03-12 13:35:56,090] Trial 75 finished with value: 0.8346115848943413 and parameters: {'K': 2, 'layers': 1, 'hidden_channels': 256, 'out_channels': 256, 'ratio': 0.1522791186574271, 'aggregation': 'mean', 'treatment': 'removal', 'model_type': 'GATConv', 'rate_pairs': 14, 'batch_size': 10, 'lr': 0.008878455770213919, 'clusters': 100}. Best is trial 8 with value: 0.8606204067072518.\n"
     ]
    },
    {
     "name": "stdout",
     "output_type": "stream",
     "text": [
      " - Metrics: Accuracy=0.9306, F1=0.8303, Recall=0.8060, Precision=0.8561\n",
      "F1 = 0.83 < 0.835, skipping ...\n",
      "Done. Results written to citeseer_experimentations\\citeseer_scar_sampling_nnif_batch_cluster_1203133454.csv.\n",
      "Average F1 over valid seeds: 0.8346 ± 0.0043\n",
      "Running experiment with seed=654:\n",
      " - K=3, layers=1, hidden=256, out=256\n",
      " - norm=None, dropout=0, batch_size=10, reliable_mini_batch=True\n",
      " - ratio=0.1466432667415389, aggregation=mean, treatment=removal\n",
      " - model_type=GATConv, rate_pairs=12, clusters=100, lr=0.00842267785234522\n"
     ]
    },
    {
     "name": "stderr",
     "output_type": "stream",
     "text": [
      "Computing METIS partitioning...\n",
      "Done!\n"
     ]
    },
    {
     "name": "stdout",
     "output_type": "stream",
     "text": [
      "Epoch 0, Loss: 6.8281\n",
      "Epoch 10, Loss: 4.0091\n",
      "Epoch 20, Loss: 2.2471\n",
      "Epoch 30, Loss: 1.4634\n",
      "Epoch 40, Loss: 0.9505\n",
      " - Metrics: Accuracy=0.9378, F1=0.8486, Recall=0.8274, Precision=0.8709\n",
      "Running experiment with seed=114:\n",
      " - K=3, layers=1, hidden=256, out=256\n",
      " - norm=None, dropout=0, batch_size=10, reliable_mini_batch=True\n",
      " - ratio=0.1466432667415389, aggregation=mean, treatment=removal\n",
      " - model_type=GATConv, rate_pairs=12, clusters=100, lr=0.00842267785234522\n"
     ]
    },
    {
     "name": "stderr",
     "output_type": "stream",
     "text": [
      "Computing METIS partitioning...\n",
      "Done!\n"
     ]
    },
    {
     "name": "stdout",
     "output_type": "stream",
     "text": [
      "Epoch 0, Loss: 6.6291\n",
      "Epoch 10, Loss: 3.8552\n",
      "Epoch 20, Loss: 2.2189\n",
      "Epoch 30, Loss: 1.4112\n",
      "Epoch 40, Loss: 0.9143\n",
      " - Metrics: Accuracy=0.9411, F1=0.8559, Recall=0.8302, Precision=0.8832\n",
      "Running experiment with seed=25:\n",
      " - K=3, layers=1, hidden=256, out=256\n",
      " - norm=None, dropout=0, batch_size=10, reliable_mini_batch=True\n",
      " - ratio=0.1466432667415389, aggregation=mean, treatment=removal\n",
      " - model_type=GATConv, rate_pairs=12, clusters=100, lr=0.00842267785234522\n"
     ]
    },
    {
     "name": "stderr",
     "output_type": "stream",
     "text": [
      "Computing METIS partitioning...\n",
      "Done!\n"
     ]
    },
    {
     "name": "stdout",
     "output_type": "stream",
     "text": [
      "Epoch 0, Loss: 6.6244\n",
      "Epoch 10, Loss: 3.8494\n",
      "Epoch 20, Loss: 2.2168\n",
      "Epoch 30, Loss: 1.4096\n",
      "Epoch 40, Loss: 0.9138\n",
      " - Metrics: Accuracy=0.9432, F1=0.8597, Recall=0.8260, Precision=0.8963\n",
      "Running experiment with seed=759:\n",
      " - K=3, layers=1, hidden=256, out=256\n",
      " - norm=None, dropout=0, batch_size=10, reliable_mini_batch=True\n",
      " - ratio=0.1466432667415389, aggregation=mean, treatment=removal\n",
      " - model_type=GATConv, rate_pairs=12, clusters=100, lr=0.00842267785234522\n"
     ]
    },
    {
     "name": "stderr",
     "output_type": "stream",
     "text": [
      "Computing METIS partitioning...\n",
      "Done!\n"
     ]
    },
    {
     "name": "stdout",
     "output_type": "stream",
     "text": [
      "Epoch 0, Loss: 6.6110\n",
      "Epoch 10, Loss: 3.8427\n",
      "Epoch 20, Loss: 2.2115\n",
      "Epoch 30, Loss: 1.4068\n",
      "Epoch 40, Loss: 0.9120\n",
      " - Metrics: Accuracy=0.9423, F1=0.8574, Recall=0.8231, Precision=0.8946\n",
      "Running experiment with seed=281:\n",
      " - K=3, layers=1, hidden=256, out=256\n",
      " - norm=None, dropout=0, batch_size=10, reliable_mini_batch=True\n",
      " - ratio=0.1466432667415389, aggregation=mean, treatment=removal\n",
      " - model_type=GATConv, rate_pairs=12, clusters=100, lr=0.00842267785234522\n"
     ]
    },
    {
     "name": "stderr",
     "output_type": "stream",
     "text": [
      "Computing METIS partitioning...\n",
      "Done!\n"
     ]
    },
    {
     "name": "stdout",
     "output_type": "stream",
     "text": [
      "Epoch 0, Loss: 6.6549\n",
      "Epoch 10, Loss: 3.8688\n",
      "Epoch 20, Loss: 2.2266\n",
      "Epoch 30, Loss: 1.4174\n",
      "Epoch 40, Loss: 0.9188\n"
     ]
    },
    {
     "name": "stderr",
     "output_type": "stream",
     "text": [
      "[I 2025-03-12 13:38:32,469] Trial 76 finished with value: 0.8563619230344868 and parameters: {'K': 3, 'layers': 1, 'hidden_channels': 256, 'out_channels': 256, 'ratio': 0.1466432667415389, 'aggregation': 'mean', 'treatment': 'removal', 'model_type': 'GATConv', 'rate_pairs': 12, 'batch_size': 10, 'lr': 0.00842267785234522, 'clusters': 100}. Best is trial 8 with value: 0.8606204067072518.\n"
     ]
    },
    {
     "name": "stdout",
     "output_type": "stream",
     "text": [
      " - Metrics: Accuracy=0.9432, F1=0.8603, Recall=0.8302, Precision=0.8926\n",
      "Done. Results written to citeseer_experimentations\\citeseer_scar_sampling_nnif_batch_cluster_1203133556.csv.\n",
      "Average F1 over valid seeds: 0.8564 ± 0.0042\n",
      "Running experiment with seed=654:\n",
      " - K=3, layers=1, hidden=256, out=256\n",
      " - norm=None, dropout=0, batch_size=10, reliable_mini_batch=True\n",
      " - ratio=0.1484153326281206, aggregation=mean, treatment=removal\n",
      " - model_type=GATConv, rate_pairs=12, clusters=300, lr=0.002085766871572254\n"
     ]
    },
    {
     "name": "stderr",
     "output_type": "stream",
     "text": [
      "Computing METIS partitioning...\n",
      "Done!\n"
     ]
    },
    {
     "name": "stdout",
     "output_type": "stream",
     "text": [
      "Epoch 0, Loss: 21.2091\n",
      "Epoch 10, Loss: 14.7303\n",
      "Epoch 20, Loss: 10.4199\n",
      "Epoch 30, Loss: 6.7393\n",
      "Epoch 40, Loss: 4.8638\n"
     ]
    },
    {
     "name": "stderr",
     "output_type": "stream",
     "text": [
      "[I 2025-03-12 13:39:40,043] Trial 77 finished with value: 0.8294460641399417 and parameters: {'K': 3, 'layers': 1, 'hidden_channels': 256, 'out_channels': 256, 'ratio': 0.1484153326281206, 'aggregation': 'mean', 'treatment': 'removal', 'model_type': 'GATConv', 'rate_pairs': 12, 'batch_size': 10, 'lr': 0.002085766871572254, 'clusters': 300}. Best is trial 8 with value: 0.8606204067072518.\n"
     ]
    },
    {
     "name": "stdout",
     "output_type": "stream",
     "text": [
      " - Metrics: Accuracy=0.9297, F1=0.8294, Recall=0.8117, Precision=0.8480\n",
      "F1 = 0.83 < 0.835, skipping ...\n",
      "Done. Results written to citeseer_experimentations\\citeseer_scar_sampling_nnif_batch_cluster_1203133832.csv.\n",
      "Average F1 over valid seeds: 0.8294 ± 0.0000\n",
      "Running experiment with seed=654:\n",
      " - K=4, layers=1, hidden=256, out=64\n",
      " - norm=None, dropout=0, batch_size=10, reliable_mini_batch=True\n",
      " - ratio=0.16209467562553004, aggregation=sum, treatment=removal\n",
      " - model_type=GATConv, rate_pairs=13, clusters=100, lr=0.00933655833746743\n"
     ]
    },
    {
     "name": "stderr",
     "output_type": "stream",
     "text": [
      "Computing METIS partitioning...\n",
      "Done!\n"
     ]
    },
    {
     "name": "stdout",
     "output_type": "stream",
     "text": [
      "Epoch 0, Loss: 8.0962\n",
      "Epoch 10, Loss: 4.9585\n",
      "Epoch 20, Loss: 2.5225\n",
      "Epoch 30, Loss: 1.5014\n",
      "Epoch 40, Loss: 0.9808\n",
      " - Metrics: Accuracy=0.9291, F1=0.8366, Recall=0.8616, Precision=0.8129\n",
      "Running experiment with seed=114:\n",
      " - K=4, layers=1, hidden=256, out=64\n",
      " - norm=None, dropout=0, batch_size=10, reliable_mini_batch=True\n",
      " - ratio=0.16209467562553004, aggregation=sum, treatment=removal\n",
      " - model_type=GATConv, rate_pairs=13, clusters=100, lr=0.00933655833746743\n"
     ]
    },
    {
     "name": "stderr",
     "output_type": "stream",
     "text": [
      "Computing METIS partitioning...\n",
      "Done!\n"
     ]
    },
    {
     "name": "stdout",
     "output_type": "stream",
     "text": [
      "Epoch 0, Loss: 7.7192\n",
      "Epoch 10, Loss: 4.7224\n",
      "Epoch 20, Loss: 2.4268\n",
      "Epoch 30, Loss: 1.4077\n",
      "Epoch 40, Loss: 0.9468\n",
      " - Metrics: Accuracy=0.9342, F1=0.8441, Recall=0.8459, Precision=0.8423\n",
      "Running experiment with seed=25:\n",
      " - K=4, layers=1, hidden=256, out=64\n",
      " - norm=None, dropout=0, batch_size=10, reliable_mini_batch=True\n",
      " - ratio=0.16209467562553004, aggregation=sum, treatment=removal\n",
      " - model_type=GATConv, rate_pairs=13, clusters=100, lr=0.00933655833746743\n"
     ]
    },
    {
     "name": "stderr",
     "output_type": "stream",
     "text": [
      "Computing METIS partitioning...\n",
      "Done!\n"
     ]
    },
    {
     "name": "stdout",
     "output_type": "stream",
     "text": [
      "Epoch 0, Loss: 7.7502\n",
      "Epoch 10, Loss: 4.7393\n",
      "Epoch 20, Loss: 2.4360\n",
      "Epoch 30, Loss: 1.4136\n",
      "Epoch 40, Loss: 0.9484\n",
      " - Metrics: Accuracy=0.9327, F1=0.8405, Recall=0.8417, Precision=0.8393\n",
      "Running experiment with seed=759:\n",
      " - K=4, layers=1, hidden=256, out=64\n",
      " - norm=None, dropout=0, batch_size=10, reliable_mini_batch=True\n",
      " - ratio=0.16209467562553004, aggregation=sum, treatment=removal\n",
      " - model_type=GATConv, rate_pairs=13, clusters=100, lr=0.00933655833746743\n"
     ]
    },
    {
     "name": "stderr",
     "output_type": "stream",
     "text": [
      "Computing METIS partitioning...\n",
      "Done!\n"
     ]
    },
    {
     "name": "stdout",
     "output_type": "stream",
     "text": [
      "Epoch 0, Loss: 7.7633\n",
      "Epoch 10, Loss: 4.7609\n",
      "Epoch 20, Loss: 2.4449\n",
      "Epoch 30, Loss: 1.4186\n",
      "Epoch 40, Loss: 0.9527\n",
      " - Metrics: Accuracy=0.9357, F1=0.8484, Recall=0.8545, Precision=0.8425\n",
      "Running experiment with seed=281:\n",
      " - K=4, layers=1, hidden=256, out=64\n",
      " - norm=None, dropout=0, batch_size=10, reliable_mini_batch=True\n",
      " - ratio=0.16209467562553004, aggregation=sum, treatment=removal\n",
      " - model_type=GATConv, rate_pairs=13, clusters=100, lr=0.00933655833746743\n"
     ]
    },
    {
     "name": "stderr",
     "output_type": "stream",
     "text": [
      "Computing METIS partitioning...\n",
      "Done!\n"
     ]
    },
    {
     "name": "stdout",
     "output_type": "stream",
     "text": [
      "Epoch 0, Loss: 7.7577\n",
      "Epoch 10, Loss: 4.7510\n",
      "Epoch 20, Loss: 2.4409\n",
      "Epoch 30, Loss: 1.4159\n",
      "Epoch 40, Loss: 0.9524\n"
     ]
    },
    {
     "name": "stderr",
     "output_type": "stream",
     "text": [
      "[I 2025-03-12 13:41:55,426] Trial 78 finished with value: 0.8438472735408566 and parameters: {'K': 4, 'layers': 1, 'hidden_channels': 256, 'out_channels': 64, 'ratio': 0.16209467562553004, 'aggregation': 'sum', 'treatment': 'removal', 'model_type': 'GATConv', 'rate_pairs': 13, 'batch_size': 10, 'lr': 0.00933655833746743, 'clusters': 100}. Best is trial 8 with value: 0.8606204067072518.\n"
     ]
    },
    {
     "name": "stdout",
     "output_type": "stream",
     "text": [
      " - Metrics: Accuracy=0.9363, F1=0.8496, Recall=0.8545, Precision=0.8449\n",
      "Done. Results written to citeseer_experimentations\\citeseer_scar_sampling_nnif_batch_cluster_1203133940.csv.\n",
      "Average F1 over valid seeds: 0.8438 ± 0.0049\n",
      "Running experiment with seed=654:\n",
      " - K=2, layers=2, hidden=256, out=256\n",
      " - norm=None, dropout=0, batch_size=10, reliable_mini_batch=True\n",
      " - ratio=0.1463261708430173, aggregation=mean, treatment=removal\n",
      " - model_type=GATConv, rate_pairs=12, clusters=100, lr=0.007631926818622618\n"
     ]
    },
    {
     "name": "stderr",
     "output_type": "stream",
     "text": [
      "Computing METIS partitioning...\n",
      "Done!\n"
     ]
    },
    {
     "name": "stdout",
     "output_type": "stream",
     "text": [
      "Epoch 0, Loss: 5.2556\n",
      "Epoch 10, Loss: 3.1556\n",
      "Epoch 20, Loss: 1.9195\n",
      "Epoch 30, Loss: 1.2340\n",
      "Epoch 40, Loss: 0.8813\n"
     ]
    },
    {
     "name": "stderr",
     "output_type": "stream",
     "text": [
      "[I 2025-03-12 13:42:30,184] Trial 79 finished with value: 0.8146453089244852 and parameters: {'K': 2, 'layers': 2, 'hidden_channels': 256, 'out_channels': 256, 'ratio': 0.1463261708430173, 'aggregation': 'mean', 'treatment': 'removal', 'model_type': 'GATConv', 'rate_pairs': 12, 'batch_size': 10, 'lr': 0.007631926818622618, 'clusters': 100}. Best is trial 8 with value: 0.8606204067072518.\n"
     ]
    },
    {
     "name": "stdout",
     "output_type": "stream",
     "text": [
      " - Metrics: Accuracy=0.9270, F1=0.8146, Recall=0.7618, Precision=0.8754\n",
      "F1 = 0.81 < 0.835, skipping ...\n",
      "Done. Results written to citeseer_experimentations\\citeseer_scar_sampling_nnif_batch_cluster_1203134155.csv.\n",
      "Average F1 over valid seeds: 0.8146 ± 0.0000\n",
      "Running experiment with seed=654:\n",
      " - K=3, layers=1, hidden=256, out=256\n",
      " - norm=None, dropout=0, batch_size=10, reliable_mini_batch=True\n",
      " - ratio=0.15067462019357902, aggregation=mean, treatment=relabeling\n",
      " - model_type=GINConv, rate_pairs=15, clusters=200, lr=0.008418569776058675\n"
     ]
    },
    {
     "name": "stderr",
     "output_type": "stream",
     "text": [
      "Computing METIS partitioning...\n",
      "Done!\n"
     ]
    },
    {
     "name": "stdout",
     "output_type": "stream",
     "text": [
      "Epoch 0, Loss: 8.0615\n",
      "Epoch 10, Loss: 2.9452\n",
      "Epoch 20, Loss: 1.2976\n",
      "Epoch 30, Loss: 0.7128\n",
      "Epoch 40, Loss: 0.4889\n"
     ]
    },
    {
     "name": "stderr",
     "output_type": "stream",
     "text": [
      "[I 2025-03-12 13:43:19,482] Trial 80 finished with value: 0.7529880478087649 and parameters: {'K': 3, 'layers': 1, 'hidden_channels': 256, 'out_channels': 256, 'ratio': 0.15067462019357902, 'aggregation': 'mean', 'treatment': 'relabeling', 'model_type': 'GINConv', 'rate_pairs': 15, 'batch_size': 10, 'lr': 0.008418569776058675, 'clusters': 200}. Best is trial 8 with value: 0.8606204067072518.\n"
     ]
    },
    {
     "name": "stdout",
     "output_type": "stream",
     "text": [
      " - Metrics: Accuracy=0.8882, F1=0.7530, Recall=0.8088, Precision=0.7043\n",
      "F1 = 0.75 < 0.835, skipping ...\n",
      "Done. Results written to citeseer_experimentations\\citeseer_scar_sampling_nnif_batch_cluster_1203134230.csv.\n",
      "Average F1 over valid seeds: 0.7530 ± 0.0000\n",
      "Running experiment with seed=654:\n",
      " - K=3, layers=1, hidden=256, out=256\n",
      " - norm=None, dropout=0, batch_size=10, reliable_mini_batch=True\n",
      " - ratio=0.14343547817012656, aggregation=mean, treatment=removal\n",
      " - model_type=GATConv, rate_pairs=14, clusters=100, lr=0.007952428324334737\n"
     ]
    },
    {
     "name": "stderr",
     "output_type": "stream",
     "text": [
      "Computing METIS partitioning...\n",
      "Done!\n"
     ]
    },
    {
     "name": "stdout",
     "output_type": "stream",
     "text": [
      "Epoch 0, Loss: 6.8341\n",
      "Epoch 10, Loss: 4.1399\n",
      "Epoch 20, Loss: 2.3935\n",
      "Epoch 30, Loss: 1.5773\n",
      "Epoch 40, Loss: 1.0321\n",
      " - Metrics: Accuracy=0.9405, F1=0.8553, Recall=0.8345, Precision=0.8771\n",
      "Running experiment with seed=114:\n",
      " - K=3, layers=1, hidden=256, out=256\n",
      " - norm=None, dropout=0, batch_size=10, reliable_mini_batch=True\n",
      " - ratio=0.14343547817012656, aggregation=mean, treatment=removal\n",
      " - model_type=GATConv, rate_pairs=14, clusters=100, lr=0.007952428324334737\n"
     ]
    },
    {
     "name": "stderr",
     "output_type": "stream",
     "text": [
      "Computing METIS partitioning...\n",
      "Done!\n"
     ]
    },
    {
     "name": "stdout",
     "output_type": "stream",
     "text": [
      "Epoch 0, Loss: 6.6240\n",
      "Epoch 10, Loss: 3.9759\n",
      "Epoch 20, Loss: 2.3577\n",
      "Epoch 30, Loss: 1.5199\n",
      "Epoch 40, Loss: 0.9917\n",
      " - Metrics: Accuracy=0.9444, F1=0.8633, Recall=0.8331, Precision=0.8957\n",
      "Running experiment with seed=25:\n",
      " - K=3, layers=1, hidden=256, out=256\n",
      " - norm=None, dropout=0, batch_size=10, reliable_mini_batch=True\n",
      " - ratio=0.14343547817012656, aggregation=mean, treatment=removal\n",
      " - model_type=GATConv, rate_pairs=14, clusters=100, lr=0.007952428324334737\n"
     ]
    },
    {
     "name": "stderr",
     "output_type": "stream",
     "text": [
      "Computing METIS partitioning...\n",
      "Done!\n"
     ]
    },
    {
     "name": "stdout",
     "output_type": "stream",
     "text": [
      "Epoch 0, Loss: 6.6214\n",
      "Epoch 10, Loss: 3.9758\n",
      "Epoch 20, Loss: 2.3562\n",
      "Epoch 30, Loss: 1.5193\n",
      "Epoch 40, Loss: 0.9912\n",
      " - Metrics: Accuracy=0.9453, F1=0.8660, Recall=0.8388, Precision=0.8950\n",
      "Running experiment with seed=759:\n",
      " - K=3, layers=1, hidden=256, out=256\n",
      " - norm=None, dropout=0, batch_size=10, reliable_mini_batch=True\n",
      " - ratio=0.14343547817012656, aggregation=mean, treatment=removal\n",
      " - model_type=GATConv, rate_pairs=14, clusters=100, lr=0.007952428324334737\n"
     ]
    },
    {
     "name": "stderr",
     "output_type": "stream",
     "text": [
      "Computing METIS partitioning...\n",
      "Done!\n"
     ]
    },
    {
     "name": "stdout",
     "output_type": "stream",
     "text": [
      "Epoch 0, Loss: 6.6361\n",
      "Epoch 10, Loss: 3.9845\n",
      "Epoch 20, Loss: 2.3627\n",
      "Epoch 30, Loss: 1.5232\n",
      "Epoch 40, Loss: 0.9938\n",
      " - Metrics: Accuracy=0.9429, F1=0.8593, Recall=0.8274, Precision=0.8937\n",
      "Running experiment with seed=281:\n",
      " - K=3, layers=1, hidden=256, out=256\n",
      " - norm=None, dropout=0, batch_size=10, reliable_mini_batch=True\n",
      " - ratio=0.14343547817012656, aggregation=mean, treatment=removal\n",
      " - model_type=GATConv, rate_pairs=14, clusters=100, lr=0.007952428324334737\n"
     ]
    },
    {
     "name": "stderr",
     "output_type": "stream",
     "text": [
      "Computing METIS partitioning...\n",
      "Done!\n"
     ]
    },
    {
     "name": "stdout",
     "output_type": "stream",
     "text": [
      "Epoch 0, Loss: 6.6412\n",
      "Epoch 10, Loss: 3.9842\n",
      "Epoch 20, Loss: 2.3622\n",
      "Epoch 30, Loss: 1.5244\n",
      "Epoch 40, Loss: 0.9942\n"
     ]
    },
    {
     "name": "stderr",
     "output_type": "stream",
     "text": [
      "[I 2025-03-12 13:45:52,220] Trial 81 finished with value: 0.8597166855796873 and parameters: {'K': 3, 'layers': 1, 'hidden_channels': 256, 'out_channels': 256, 'ratio': 0.14343547817012656, 'aggregation': 'mean', 'treatment': 'removal', 'model_type': 'GATConv', 'rate_pairs': 14, 'batch_size': 10, 'lr': 0.007952428324334737, 'clusters': 100}. Best is trial 8 with value: 0.8606204067072518.\n"
     ]
    },
    {
     "name": "stdout",
     "output_type": "stream",
     "text": [
      " - Metrics: Accuracy=0.9411, F1=0.8548, Recall=0.8231, Precision=0.8891\n",
      "Done. Results written to citeseer_experimentations\\citeseer_scar_sampling_nnif_batch_cluster_1203134319.csv.\n",
      "Average F1 over valid seeds: 0.8597 ± 0.0044\n",
      "Running experiment with seed=654:\n",
      " - K=3, layers=1, hidden=256, out=256\n",
      " - norm=None, dropout=0, batch_size=10, reliable_mini_batch=True\n",
      " - ratio=0.13768396065389804, aggregation=mean, treatment=removal\n",
      " - model_type=GATConv, rate_pairs=13, clusters=100, lr=0.00803161466537345\n"
     ]
    },
    {
     "name": "stderr",
     "output_type": "stream",
     "text": [
      "Computing METIS partitioning...\n",
      "Done!\n"
     ]
    },
    {
     "name": "stdout",
     "output_type": "stream",
     "text": [
      "Epoch 0, Loss: 6.8549\n",
      "Epoch 10, Loss: 4.1312\n",
      "Epoch 20, Loss: 2.3759\n",
      "Epoch 30, Loss: 1.5637\n",
      "Epoch 40, Loss: 1.0206\n",
      " - Metrics: Accuracy=0.9411, F1=0.8559, Recall=0.8302, Precision=0.8832\n",
      "Running experiment with seed=114:\n",
      " - K=3, layers=1, hidden=256, out=256\n",
      " - norm=None, dropout=0, batch_size=10, reliable_mini_batch=True\n",
      " - ratio=0.13768396065389804, aggregation=mean, treatment=removal\n",
      " - model_type=GATConv, rate_pairs=13, clusters=100, lr=0.00803161466537345\n"
     ]
    },
    {
     "name": "stderr",
     "output_type": "stream",
     "text": [
      "Computing METIS partitioning...\n",
      "Done!\n"
     ]
    },
    {
     "name": "stdout",
     "output_type": "stream",
     "text": [
      "Epoch 0, Loss: 6.6498\n",
      "Epoch 10, Loss: 3.9692\n",
      "Epoch 20, Loss: 2.3421\n",
      "Epoch 30, Loss: 1.5080\n",
      "Epoch 40, Loss: 0.9826\n",
      " - Metrics: Accuracy=0.9417, F1=0.8559, Recall=0.8217, Precision=0.8930\n",
      "Running experiment with seed=25:\n",
      " - K=3, layers=1, hidden=256, out=256\n",
      " - norm=None, dropout=0, batch_size=10, reliable_mini_batch=True\n",
      " - ratio=0.13768396065389804, aggregation=mean, treatment=removal\n",
      " - model_type=GATConv, rate_pairs=13, clusters=100, lr=0.00803161466537345\n"
     ]
    },
    {
     "name": "stderr",
     "output_type": "stream",
     "text": [
      "Computing METIS partitioning...\n",
      "Done!\n"
     ]
    },
    {
     "name": "stdout",
     "output_type": "stream",
     "text": [
      "Epoch 0, Loss: 6.6432\n",
      "Epoch 10, Loss: 3.9632\n",
      "Epoch 20, Loss: 2.3385\n",
      "Epoch 30, Loss: 1.5040\n",
      "Epoch 40, Loss: 0.9798\n",
      " - Metrics: Accuracy=0.9432, F1=0.8595, Recall=0.8245, Precision=0.8975\n",
      "Running experiment with seed=759:\n",
      " - K=3, layers=1, hidden=256, out=256\n",
      " - norm=None, dropout=0, batch_size=10, reliable_mini_batch=True\n",
      " - ratio=0.13768396065389804, aggregation=mean, treatment=removal\n",
      " - model_type=GATConv, rate_pairs=13, clusters=100, lr=0.00803161466537345\n"
     ]
    },
    {
     "name": "stderr",
     "output_type": "stream",
     "text": [
      "Computing METIS partitioning...\n",
      "Done!\n"
     ]
    },
    {
     "name": "stdout",
     "output_type": "stream",
     "text": [
      "Epoch 0, Loss: 6.6857\n",
      "Epoch 10, Loss: 3.9816\n",
      "Epoch 20, Loss: 2.3465\n",
      "Epoch 30, Loss: 1.5099\n",
      "Epoch 40, Loss: 0.9837\n",
      " - Metrics: Accuracy=0.9441, F1=0.8610, Recall=0.8217, Precision=0.9042\n",
      "Running experiment with seed=281:\n",
      " - K=3, layers=1, hidden=256, out=256\n",
      " - norm=None, dropout=0, batch_size=10, reliable_mini_batch=True\n",
      " - ratio=0.13768396065389804, aggregation=mean, treatment=removal\n",
      " - model_type=GATConv, rate_pairs=13, clusters=100, lr=0.00803161466537345\n"
     ]
    },
    {
     "name": "stderr",
     "output_type": "stream",
     "text": [
      "Computing METIS partitioning...\n",
      "Done!\n"
     ]
    },
    {
     "name": "stdout",
     "output_type": "stream",
     "text": [
      "Epoch 0, Loss: 6.5995\n",
      "Epoch 10, Loss: 3.9357\n",
      "Epoch 20, Loss: 2.3221\n",
      "Epoch 30, Loss: 1.4940\n",
      "Epoch 40, Loss: 0.9738\n"
     ]
    },
    {
     "name": "stderr",
     "output_type": "stream",
     "text": [
      "[I 2025-03-12 13:48:31,997] Trial 82 finished with value: 0.8581712879168659 and parameters: {'K': 3, 'layers': 1, 'hidden_channels': 256, 'out_channels': 256, 'ratio': 0.13768396065389804, 'aggregation': 'mean', 'treatment': 'removal', 'model_type': 'GATConv', 'rate_pairs': 13, 'batch_size': 10, 'lr': 0.00803161466537345, 'clusters': 100}. Best is trial 8 with value: 0.8606204067072518.\n"
     ]
    },
    {
     "name": "stdout",
     "output_type": "stream",
     "text": [
      " - Metrics: Accuracy=0.9432, F1=0.8586, Recall=0.8188, Precision=0.9025\n",
      "Done. Results written to citeseer_experimentations\\citeseer_scar_sampling_nnif_batch_cluster_1203134552.csv.\n",
      "Average F1 over valid seeds: 0.8582 ± 0.0020\n",
      "Running experiment with seed=654:\n",
      " - K=3, layers=1, hidden=256, out=256\n",
      " - norm=None, dropout=0, batch_size=10, reliable_mini_batch=True\n",
      " - ratio=0.1379177392295067, aggregation=mean, treatment=removal\n",
      " - model_type=GATConv, rate_pairs=15, clusters=100, lr=0.008027511546843577\n"
     ]
    },
    {
     "name": "stderr",
     "output_type": "stream",
     "text": [
      "Computing METIS partitioning...\n",
      "Done!\n"
     ]
    },
    {
     "name": "stdout",
     "output_type": "stream",
     "text": [
      "Epoch 0, Loss: 6.8555\n",
      "Epoch 10, Loss: 4.1302\n",
      "Epoch 20, Loss: 2.3755\n",
      "Epoch 30, Loss: 1.5635\n",
      "Epoch 40, Loss: 1.0204\n",
      " - Metrics: Accuracy=0.9408, F1=0.8550, Recall=0.8288, Precision=0.8830\n",
      "Running experiment with seed=114:\n",
      " - K=3, layers=1, hidden=256, out=256\n",
      " - norm=None, dropout=0, batch_size=10, reliable_mini_batch=True\n",
      " - ratio=0.1379177392295067, aggregation=mean, treatment=removal\n",
      " - model_type=GATConv, rate_pairs=15, clusters=100, lr=0.008027511546843577\n"
     ]
    },
    {
     "name": "stderr",
     "output_type": "stream",
     "text": [
      "Computing METIS partitioning...\n",
      "Done!\n"
     ]
    },
    {
     "name": "stdout",
     "output_type": "stream",
     "text": [
      "Epoch 0, Loss: 6.6503\n",
      "Epoch 10, Loss: 3.9676\n",
      "Epoch 20, Loss: 2.3422\n",
      "Epoch 30, Loss: 1.5084\n",
      "Epoch 40, Loss: 0.9831\n",
      " - Metrics: Accuracy=0.9402, F1=0.8518, Recall=0.8160, Precision=0.8910\n",
      "Running experiment with seed=25:\n",
      " - K=3, layers=1, hidden=256, out=256\n",
      " - norm=None, dropout=0, batch_size=10, reliable_mini_batch=True\n",
      " - ratio=0.1379177392295067, aggregation=mean, treatment=removal\n",
      " - model_type=GATConv, rate_pairs=15, clusters=100, lr=0.008027511546843577\n"
     ]
    },
    {
     "name": "stderr",
     "output_type": "stream",
     "text": [
      "Computing METIS partitioning...\n",
      "Done!\n"
     ]
    },
    {
     "name": "stdout",
     "output_type": "stream",
     "text": [
      "Epoch 0, Loss: 6.6274\n",
      "Epoch 10, Loss: 3.9582\n",
      "Epoch 20, Loss: 2.3353\n",
      "Epoch 30, Loss: 1.5036\n",
      "Epoch 40, Loss: 0.9801\n",
      " - Metrics: Accuracy=0.9432, F1=0.8591, Recall=0.8217, Precision=0.9000\n",
      "Running experiment with seed=759:\n",
      " - K=3, layers=1, hidden=256, out=256\n",
      " - norm=None, dropout=0, batch_size=10, reliable_mini_batch=True\n",
      " - ratio=0.1379177392295067, aggregation=mean, treatment=removal\n",
      " - model_type=GATConv, rate_pairs=15, clusters=100, lr=0.008027511546843577\n"
     ]
    },
    {
     "name": "stderr",
     "output_type": "stream",
     "text": [
      "Computing METIS partitioning...\n",
      "Done!\n"
     ]
    },
    {
     "name": "stdout",
     "output_type": "stream",
     "text": [
      "Epoch 0, Loss: 6.6137\n",
      "Epoch 10, Loss: 3.9484\n",
      "Epoch 20, Loss: 2.3287\n",
      "Epoch 30, Loss: 1.4988\n",
      "Epoch 40, Loss: 0.9766\n",
      " - Metrics: Accuracy=0.9423, F1=0.8578, Recall=0.8260, Precision=0.8921\n",
      "Running experiment with seed=281:\n",
      " - K=3, layers=1, hidden=256, out=256\n",
      " - norm=None, dropout=0, batch_size=10, reliable_mini_batch=True\n",
      " - ratio=0.1379177392295067, aggregation=mean, treatment=removal\n",
      " - model_type=GATConv, rate_pairs=15, clusters=100, lr=0.008027511546843577\n"
     ]
    },
    {
     "name": "stderr",
     "output_type": "stream",
     "text": [
      "Computing METIS partitioning...\n",
      "Done!\n"
     ]
    },
    {
     "name": "stdout",
     "output_type": "stream",
     "text": [
      "Epoch 0, Loss: 6.6552\n",
      "Epoch 10, Loss: 3.9747\n",
      "Epoch 20, Loss: 2.3443\n",
      "Epoch 30, Loss: 1.5096\n",
      "Epoch 40, Loss: 0.9844\n"
     ]
    },
    {
     "name": "stderr",
     "output_type": "stream",
     "text": [
      "[I 2025-03-12 13:51:06,402] Trial 83 finished with value: 0.8556986689143864 and parameters: {'K': 3, 'layers': 1, 'hidden_channels': 256, 'out_channels': 256, 'ratio': 0.1379177392295067, 'aggregation': 'mean', 'treatment': 'removal', 'model_type': 'GATConv', 'rate_pairs': 15, 'batch_size': 10, 'lr': 0.008027511546843577, 'clusters': 100}. Best is trial 8 with value: 0.8606204067072518.\n"
     ]
    },
    {
     "name": "stdout",
     "output_type": "stream",
     "text": [
      " - Metrics: Accuracy=0.9417, F1=0.8548, Recall=0.8146, Precision=0.8992\n",
      "Done. Results written to citeseer_experimentations\\citeseer_scar_sampling_nnif_batch_cluster_1203134832.csv.\n",
      "Average F1 over valid seeds: 0.8557 ± 0.0025\n",
      "Running experiment with seed=654:\n",
      " - K=3, layers=1, hidden=256, out=256\n",
      " - norm=None, dropout=0, batch_size=1, reliable_mini_batch=True\n",
      " - ratio=0.1416411744102342, aggregation=mean, treatment=removal\n",
      " - model_type=GATConv, rate_pairs=15, clusters=100, lr=0.007975527498056323\n"
     ]
    },
    {
     "name": "stderr",
     "output_type": "stream",
     "text": [
      "Computing METIS partitioning...\n",
      "Done!\n",
      "[I 2025-03-12 13:51:08,380] Trial 84 finished with value: 0.0 and parameters: {'K': 3, 'layers': 1, 'hidden_channels': 256, 'out_channels': 256, 'ratio': 0.1416411744102342, 'aggregation': 'mean', 'treatment': 'removal', 'model_type': 'GATConv', 'rate_pairs': 15, 'batch_size': 1, 'lr': 0.007975527498056323, 'clusters': 100}. Best is trial 8 with value: 0.8606204067072518.\n"
     ]
    },
    {
     "name": "stdout",
     "output_type": "stream",
     "text": [
      "Error: Labels must be in {0,1}, got [0].\n",
      "Done. Results written to citeseer_experimentations\\citeseer_scar_sampling_nnif_batch_cluster_1203135106.csv.\n",
      "Average F1 over valid seeds: 0.0000 ± 0.0000\n",
      "Running experiment with seed=654:\n",
      " - K=3, layers=1, hidden=256, out=256\n",
      " - norm=None, dropout=0, batch_size=10, reliable_mini_batch=True\n",
      " - ratio=0.13737896456050266, aggregation=mean, treatment=removal\n",
      " - model_type=GATConv, rate_pairs=14, clusters=100, lr=0.008152502286732364\n"
     ]
    },
    {
     "name": "stderr",
     "output_type": "stream",
     "text": [
      "Computing METIS partitioning...\n",
      "Done!\n"
     ]
    },
    {
     "name": "stdout",
     "output_type": "stream",
     "text": [
      "Epoch 0, Loss: 6.8439\n",
      "Epoch 10, Loss: 4.0925\n",
      "Epoch 20, Loss: 2.3352\n",
      "Epoch 30, Loss: 1.5311\n",
      "Epoch 40, Loss: 0.9986\n",
      " - Metrics: Accuracy=0.9399, F1=0.8534, Recall=0.8302, Precision=0.8778\n",
      "Running experiment with seed=114:\n",
      " - K=3, layers=1, hidden=256, out=256\n",
      " - norm=None, dropout=0, batch_size=10, reliable_mini_batch=True\n",
      " - ratio=0.13737896456050266, aggregation=mean, treatment=removal\n",
      " - model_type=GATConv, rate_pairs=14, clusters=100, lr=0.008152502286732364\n"
     ]
    },
    {
     "name": "stderr",
     "output_type": "stream",
     "text": [
      "Computing METIS partitioning...\n",
      "Done!\n"
     ]
    },
    {
     "name": "stdout",
     "output_type": "stream",
     "text": [
      "Epoch 0, Loss: 6.6307\n",
      "Epoch 10, Loss: 3.9242\n",
      "Epoch 20, Loss: 2.2967\n",
      "Epoch 30, Loss: 1.4731\n",
      "Epoch 40, Loss: 0.9581\n",
      " - Metrics: Accuracy=0.9438, F1=0.8601, Recall=0.8203, Precision=0.9041\n",
      "Running experiment with seed=25:\n",
      " - K=3, layers=1, hidden=256, out=256\n",
      " - norm=None, dropout=0, batch_size=10, reliable_mini_batch=True\n",
      " - ratio=0.13737896456050266, aggregation=mean, treatment=removal\n",
      " - model_type=GATConv, rate_pairs=14, clusters=100, lr=0.008152502286732364\n"
     ]
    },
    {
     "name": "stderr",
     "output_type": "stream",
     "text": [
      "Computing METIS partitioning...\n",
      "Done!\n"
     ]
    },
    {
     "name": "stdout",
     "output_type": "stream",
     "text": [
      "Epoch 0, Loss: 6.6471\n",
      "Epoch 10, Loss: 3.9328\n",
      "Epoch 20, Loss: 2.3029\n",
      "Epoch 30, Loss: 1.4773\n",
      "Epoch 40, Loss: 0.9604\n",
      " - Metrics: Accuracy=0.9411, F1=0.8531, Recall=0.8117, Precision=0.8989\n",
      "Running experiment with seed=759:\n",
      " - K=3, layers=1, hidden=256, out=256\n",
      " - norm=None, dropout=0, batch_size=10, reliable_mini_batch=True\n",
      " - ratio=0.13737896456050266, aggregation=mean, treatment=removal\n",
      " - model_type=GATConv, rate_pairs=14, clusters=100, lr=0.008152502286732364\n"
     ]
    },
    {
     "name": "stderr",
     "output_type": "stream",
     "text": [
      "Computing METIS partitioning...\n",
      "Done!\n"
     ]
    },
    {
     "name": "stdout",
     "output_type": "stream",
     "text": [
      "Epoch 0, Loss: 6.6292\n",
      "Epoch 10, Loss: 3.9238\n",
      "Epoch 20, Loss: 2.2974\n",
      "Epoch 30, Loss: 1.4743\n",
      "Epoch 40, Loss: 0.9581\n",
      " - Metrics: Accuracy=0.9435, F1=0.8603, Recall=0.8260, Precision=0.8977\n",
      "Running experiment with seed=281:\n",
      " - K=3, layers=1, hidden=256, out=256\n",
      " - norm=None, dropout=0, batch_size=10, reliable_mini_batch=True\n",
      " - ratio=0.13737896456050266, aggregation=mean, treatment=removal\n",
      " - model_type=GATConv, rate_pairs=14, clusters=100, lr=0.008152502286732364\n"
     ]
    },
    {
     "name": "stderr",
     "output_type": "stream",
     "text": [
      "Computing METIS partitioning...\n",
      "Done!\n"
     ]
    },
    {
     "name": "stdout",
     "output_type": "stream",
     "text": [
      "Epoch 0, Loss: 6.6245\n",
      "Epoch 10, Loss: 3.9228\n",
      "Epoch 20, Loss: 2.2951\n",
      "Epoch 30, Loss: 1.4724\n",
      "Epoch 40, Loss: 0.9577\n"
     ]
    },
    {
     "name": "stderr",
     "output_type": "stream",
     "text": [
      "[I 2025-03-12 13:53:42,568] Trial 85 finished with value: 0.8576937081698812 and parameters: {'K': 3, 'layers': 1, 'hidden_channels': 256, 'out_channels': 256, 'ratio': 0.13737896456050266, 'aggregation': 'mean', 'treatment': 'removal', 'model_type': 'GATConv', 'rate_pairs': 14, 'batch_size': 10, 'lr': 0.008152502286732364, 'clusters': 100}. Best is trial 8 with value: 0.8606204067072518.\n"
     ]
    },
    {
     "name": "stdout",
     "output_type": "stream",
     "text": [
      " - Metrics: Accuracy=0.9435, F1=0.8616, Recall=0.8345, Precision=0.8904\n",
      "Done. Results written to citeseer_experimentations\\citeseer_scar_sampling_nnif_batch_cluster_1203135108.csv.\n",
      "Average F1 over valid seeds: 0.8577 ± 0.0037\n",
      "Running experiment with seed=654:\n",
      " - K=3, layers=1, hidden=256, out=128\n",
      " - norm=None, dropout=0, batch_size=10, reliable_mini_batch=True\n",
      " - ratio=0.13266911584202024, aggregation=mean, treatment=removal\n",
      " - model_type=GATConv, rate_pairs=14, clusters=100, lr=0.001199332614636726\n"
     ]
    },
    {
     "name": "stderr",
     "output_type": "stream",
     "text": [
      "Computing METIS partitioning...\n",
      "Done!\n"
     ]
    },
    {
     "name": "stdout",
     "output_type": "stream",
     "text": [
      "Epoch 0, Loss: 7.4263\n",
      "Epoch 10, Loss: 6.4299\n",
      "Epoch 20, Loss: 5.8651\n",
      "Epoch 30, Loss: 5.5824\n",
      "Epoch 40, Loss: 5.1762\n",
      " - Metrics: Accuracy=0.9405, F1=0.8551, Recall=0.8331, Precision=0.8782\n",
      "Running experiment with seed=114:\n",
      " - K=3, layers=1, hidden=256, out=128\n",
      " - norm=None, dropout=0, batch_size=10, reliable_mini_batch=True\n",
      " - ratio=0.13266911584202024, aggregation=mean, treatment=removal\n",
      " - model_type=GATConv, rate_pairs=14, clusters=100, lr=0.001199332614636726\n"
     ]
    },
    {
     "name": "stderr",
     "output_type": "stream",
     "text": [
      "Computing METIS partitioning...\n",
      "Done!\n"
     ]
    },
    {
     "name": "stdout",
     "output_type": "stream",
     "text": [
      "Epoch 0, Loss: 7.2452\n",
      "Epoch 10, Loss: 6.1226\n",
      "Epoch 20, Loss: 5.6724\n",
      "Epoch 30, Loss: 5.3351\n",
      "Epoch 40, Loss: 5.0739\n",
      " - Metrics: Accuracy=0.9402, F1=0.8546, Recall=0.8345, Precision=0.8757\n",
      "Running experiment with seed=25:\n",
      " - K=3, layers=1, hidden=256, out=128\n",
      " - norm=None, dropout=0, batch_size=10, reliable_mini_batch=True\n",
      " - ratio=0.13266911584202024, aggregation=mean, treatment=removal\n",
      " - model_type=GATConv, rate_pairs=14, clusters=100, lr=0.001199332614636726\n"
     ]
    },
    {
     "name": "stderr",
     "output_type": "stream",
     "text": [
      "Computing METIS partitioning...\n",
      "Done!\n"
     ]
    },
    {
     "name": "stdout",
     "output_type": "stream",
     "text": [
      "Epoch 0, Loss: 7.2437\n",
      "Epoch 10, Loss: 6.1088\n",
      "Epoch 20, Loss: 5.6663\n",
      "Epoch 30, Loss: 5.3278\n",
      "Epoch 40, Loss: 5.0672\n",
      " - Metrics: Accuracy=0.9408, F1=0.8555, Recall=0.8317, Precision=0.8807\n",
      "Running experiment with seed=759:\n",
      " - K=3, layers=1, hidden=256, out=128\n",
      " - norm=None, dropout=0, batch_size=10, reliable_mini_batch=True\n",
      " - ratio=0.13266911584202024, aggregation=mean, treatment=removal\n",
      " - model_type=GATConv, rate_pairs=14, clusters=100, lr=0.001199332614636726\n"
     ]
    },
    {
     "name": "stderr",
     "output_type": "stream",
     "text": [
      "Computing METIS partitioning...\n",
      "Done!\n"
     ]
    },
    {
     "name": "stdout",
     "output_type": "stream",
     "text": [
      "Epoch 0, Loss: 7.2322\n",
      "Epoch 10, Loss: 6.1072\n",
      "Epoch 20, Loss: 5.6590\n",
      "Epoch 30, Loss: 5.3223\n",
      "Epoch 40, Loss: 5.0628\n",
      " - Metrics: Accuracy=0.9414, F1=0.8563, Recall=0.8288, Precision=0.8857\n",
      "Running experiment with seed=281:\n",
      " - K=3, layers=1, hidden=256, out=128\n",
      " - norm=None, dropout=0, batch_size=10, reliable_mini_batch=True\n",
      " - ratio=0.13266911584202024, aggregation=mean, treatment=removal\n",
      " - model_type=GATConv, rate_pairs=14, clusters=100, lr=0.001199332614636726\n"
     ]
    },
    {
     "name": "stderr",
     "output_type": "stream",
     "text": [
      "Computing METIS partitioning...\n",
      "Done!\n"
     ]
    },
    {
     "name": "stdout",
     "output_type": "stream",
     "text": [
      "Epoch 0, Loss: 7.2526\n",
      "Epoch 10, Loss: 6.1265\n",
      "Epoch 20, Loss: 5.6761\n",
      "Epoch 30, Loss: 5.3377\n",
      "Epoch 40, Loss: 5.0775\n"
     ]
    },
    {
     "name": "stderr",
     "output_type": "stream",
     "text": [
      "[I 2025-03-12 13:56:04,626] Trial 86 finished with value: 0.8558448533077726 and parameters: {'K': 3, 'layers': 1, 'hidden_channels': 256, 'out_channels': 128, 'ratio': 0.13266911584202024, 'aggregation': 'mean', 'treatment': 'removal', 'model_type': 'GATConv', 'rate_pairs': 14, 'batch_size': 10, 'lr': 0.001199332614636726, 'clusters': 100}. Best is trial 8 with value: 0.8606204067072518.\n"
     ]
    },
    {
     "name": "stdout",
     "output_type": "stream",
     "text": [
      " - Metrics: Accuracy=0.9414, F1=0.8578, Recall=0.8388, Precision=0.8776\n",
      "Done. Results written to citeseer_experimentations\\citeseer_scar_sampling_nnif_batch_cluster_1203135342.csv.\n",
      "Average F1 over valid seeds: 0.8558 ± 0.0011\n",
      "Running experiment with seed=654:\n",
      " - K=4, layers=1, hidden=256, out=128\n",
      " - norm=None, dropout=0, batch_size=5, reliable_mini_batch=True\n",
      " - ratio=0.13243388586026508, aggregation=sum, treatment=removal\n",
      " - model_type=GATConv, rate_pairs=1, clusters=400, lr=0.001343621959006463\n"
     ]
    },
    {
     "name": "stderr",
     "output_type": "stream",
     "text": [
      "Computing METIS partitioning...\n",
      "Done!\n",
      "[I 2025-03-12 13:56:14,556] Trial 87 finished with value: 0.0 and parameters: {'K': 4, 'layers': 1, 'hidden_channels': 256, 'out_channels': 128, 'ratio': 0.13243388586026508, 'aggregation': 'sum', 'treatment': 'removal', 'model_type': 'GATConv', 'rate_pairs': 1, 'batch_size': 5, 'lr': 0.001343621959006463, 'clusters': 400}. Best is trial 8 with value: 0.8606204067072518.\n"
     ]
    },
    {
     "name": "stdout",
     "output_type": "stream",
     "text": [
      "Error: Labels must be in {0,1}, got [0].\n",
      "Done. Results written to citeseer_experimentations\\citeseer_scar_sampling_nnif_batch_cluster_1203135604.csv.\n",
      "Average F1 over valid seeds: 0.0000 ± 0.0000\n",
      "Running experiment with seed=654:\n",
      " - K=2, layers=1, hidden=256, out=128\n",
      " - norm=None, dropout=0, batch_size=10, reliable_mini_batch=True\n",
      " - ratio=0.14004365663079685, aggregation=mean, treatment=removal\n",
      " - model_type=GATConv, rate_pairs=14, clusters=100, lr=0.0008287409843672404\n"
     ]
    },
    {
     "name": "stderr",
     "output_type": "stream",
     "text": [
      "Computing METIS partitioning...\n",
      "Done!\n"
     ]
    },
    {
     "name": "stdout",
     "output_type": "stream",
     "text": [
      "Epoch 0, Loss: 6.3080\n",
      "Epoch 10, Loss: 5.2017\n",
      "Epoch 20, Loss: 4.7950\n",
      "Epoch 30, Loss: 4.6129\n",
      "Epoch 40, Loss: 4.3530\n",
      " - Metrics: Accuracy=0.9345, F1=0.8380, Recall=0.8046, Precision=0.8744\n",
      "Running experiment with seed=114:\n",
      " - K=2, layers=1, hidden=256, out=128\n",
      " - norm=None, dropout=0, batch_size=10, reliable_mini_batch=True\n",
      " - ratio=0.14004365663079685, aggregation=mean, treatment=removal\n",
      " - model_type=GATConv, rate_pairs=14, clusters=100, lr=0.0008287409843672404\n"
     ]
    },
    {
     "name": "stderr",
     "output_type": "stream",
     "text": [
      "Computing METIS partitioning...\n",
      "Done!\n"
     ]
    },
    {
     "name": "stdout",
     "output_type": "stream",
     "text": [
      "Epoch 0, Loss: 6.1726\n",
      "Epoch 10, Loss: 4.9695\n",
      "Epoch 20, Loss: 4.6538\n",
      "Epoch 30, Loss: 4.4322\n",
      "Epoch 40, Loss: 4.2885\n",
      " - Metrics: Accuracy=0.9363, F1=0.8434, Recall=0.8146, Precision=0.8744\n",
      "Running experiment with seed=25:\n",
      " - K=2, layers=1, hidden=256, out=128\n",
      " - norm=None, dropout=0, batch_size=10, reliable_mini_batch=True\n",
      " - ratio=0.14004365663079685, aggregation=mean, treatment=removal\n",
      " - model_type=GATConv, rate_pairs=14, clusters=100, lr=0.0008287409843672404\n"
     ]
    },
    {
     "name": "stderr",
     "output_type": "stream",
     "text": [
      "Computing METIS partitioning...\n",
      "Done!\n"
     ]
    },
    {
     "name": "stdout",
     "output_type": "stream",
     "text": [
      "Epoch 0, Loss: 6.1884\n",
      "Epoch 10, Loss: 4.9835\n",
      "Epoch 20, Loss: 4.6655\n",
      "Epoch 30, Loss: 4.4453\n",
      "Epoch 40, Loss: 4.3026\n",
      " - Metrics: Accuracy=0.9342, F1=0.8381, Recall=0.8088, Precision=0.8696\n",
      "Running experiment with seed=759:\n",
      " - K=2, layers=1, hidden=256, out=128\n",
      " - norm=None, dropout=0, batch_size=10, reliable_mini_batch=True\n",
      " - ratio=0.14004365663079685, aggregation=mean, treatment=removal\n",
      " - model_type=GATConv, rate_pairs=14, clusters=100, lr=0.0008287409843672404\n"
     ]
    },
    {
     "name": "stderr",
     "output_type": "stream",
     "text": [
      "Computing METIS partitioning...\n",
      "Done!\n"
     ]
    },
    {
     "name": "stdout",
     "output_type": "stream",
     "text": [
      "Epoch 0, Loss: 6.1663\n",
      "Epoch 10, Loss: 4.9623\n",
      "Epoch 20, Loss: 4.6450\n",
      "Epoch 30, Loss: 4.4230\n",
      "Epoch 40, Loss: 4.2812\n",
      " - Metrics: Accuracy=0.9357, F1=0.8417, Recall=0.8117, Precision=0.8740\n",
      "Running experiment with seed=281:\n",
      " - K=2, layers=1, hidden=256, out=128\n",
      " - norm=None, dropout=0, batch_size=10, reliable_mini_batch=True\n",
      " - ratio=0.14004365663079685, aggregation=mean, treatment=removal\n",
      " - model_type=GATConv, rate_pairs=14, clusters=100, lr=0.0008287409843672404\n"
     ]
    },
    {
     "name": "stderr",
     "output_type": "stream",
     "text": [
      "Computing METIS partitioning...\n",
      "Done!\n"
     ]
    },
    {
     "name": "stdout",
     "output_type": "stream",
     "text": [
      "Epoch 0, Loss: 6.1764\n",
      "Epoch 10, Loss: 4.9660\n",
      "Epoch 20, Loss: 4.6503\n",
      "Epoch 30, Loss: 4.4294\n",
      "Epoch 40, Loss: 4.2860\n"
     ]
    },
    {
     "name": "stderr",
     "output_type": "stream",
     "text": [
      "[I 2025-03-12 13:58:34,756] Trial 88 finished with value: 0.8397876724824707 and parameters: {'K': 2, 'layers': 1, 'hidden_channels': 256, 'out_channels': 128, 'ratio': 0.14004365663079685, 'aggregation': 'mean', 'treatment': 'removal', 'model_type': 'GATConv', 'rate_pairs': 14, 'batch_size': 10, 'lr': 0.0008287409843672404, 'clusters': 100}. Best is trial 8 with value: 0.8606204067072518.\n"
     ]
    },
    {
     "name": "stdout",
     "output_type": "stream",
     "text": [
      " - Metrics: Accuracy=0.9336, F1=0.8376, Recall=0.8131, Precision=0.8636\n",
      "Done. Results written to citeseer_experimentations\\citeseer_scar_sampling_nnif_batch_cluster_1203135614.csv.\n",
      "Average F1 over valid seeds: 0.8398 ± 0.0023\n",
      "Running experiment with seed=654:\n",
      " - K=4, layers=1, hidden=256, out=128\n",
      " - norm=None, dropout=0, batch_size=10, reliable_mini_batch=True\n",
      " - ratio=0.1284485743300177, aggregation=mean, treatment=removal\n",
      " - model_type=SAGEConv, rate_pairs=13, clusters=200, lr=0.0030992616525203\n"
     ]
    },
    {
     "name": "stderr",
     "output_type": "stream",
     "text": [
      "Computing METIS partitioning...\n",
      "Done!\n"
     ]
    },
    {
     "name": "stdout",
     "output_type": "stream",
     "text": [
      "Epoch 0, Loss: 16.7968\n",
      "Epoch 10, Loss: 12.9623\n",
      "Epoch 20, Loss: 8.6395\n",
      "Epoch 30, Loss: 5.5522\n",
      "Epoch 40, Loss: 3.9183\n"
     ]
    },
    {
     "name": "stderr",
     "output_type": "stream",
     "text": [
      "[I 2025-03-12 13:59:19,436] Trial 89 finished with value: 0.8112764291307752 and parameters: {'K': 4, 'layers': 1, 'hidden_channels': 256, 'out_channels': 128, 'ratio': 0.1284485743300177, 'aggregation': 'mean', 'treatment': 'removal', 'model_type': 'SAGEConv', 'rate_pairs': 13, 'batch_size': 10, 'lr': 0.0030992616525203, 'clusters': 200}. Best is trial 8 with value: 0.8606204067072518.\n"
     ]
    },
    {
     "name": "stdout",
     "output_type": "stream",
     "text": [
      " - Metrics: Accuracy=0.9276, F1=0.8113, Recall=0.7389, Precision=0.8993\n",
      "F1 = 0.81 < 0.835, skipping ...\n",
      "Done. Results written to citeseer_experimentations\\citeseer_scar_sampling_nnif_batch_cluster_1203135834.csv.\n",
      "Average F1 over valid seeds: 0.8113 ± 0.0000\n",
      "Running experiment with seed=654:\n",
      " - K=3, layers=1, hidden=256, out=128\n",
      " - norm=None, dropout=0, batch_size=10, reliable_mini_batch=True\n",
      " - ratio=0.14331081729483522, aggregation=mean, treatment=removal\n",
      " - model_type=GATConv, rate_pairs=14, clusters=100, lr=0.007018917958273976\n"
     ]
    },
    {
     "name": "stderr",
     "output_type": "stream",
     "text": [
      "Computing METIS partitioning...\n",
      "Done!\n"
     ]
    },
    {
     "name": "stdout",
     "output_type": "stream",
     "text": [
      "Epoch 0, Loss: 6.7784\n",
      "Epoch 10, Loss: 4.5305\n",
      "Epoch 20, Loss: 2.7228\n",
      "Epoch 30, Loss: 1.7709\n",
      "Epoch 40, Loss: 1.2183\n",
      " - Metrics: Accuracy=0.9435, F1=0.8634, Recall=0.8474, Precision=0.8800\n",
      "Running experiment with seed=114:\n",
      " - K=3, layers=1, hidden=256, out=128\n",
      " - norm=None, dropout=0, batch_size=10, reliable_mini_batch=True\n",
      " - ratio=0.14331081729483522, aggregation=mean, treatment=removal\n",
      " - model_type=GATConv, rate_pairs=14, clusters=100, lr=0.007018917958273976\n"
     ]
    },
    {
     "name": "stderr",
     "output_type": "stream",
     "text": [
      "Computing METIS partitioning...\n",
      "Done!\n"
     ]
    },
    {
     "name": "stdout",
     "output_type": "stream",
     "text": [
      "Epoch 0, Loss: 6.5775\n",
      "Epoch 10, Loss: 4.3199\n",
      "Epoch 20, Loss: 2.6323\n",
      "Epoch 30, Loss: 1.6927\n",
      "Epoch 40, Loss: 1.1975\n",
      " - Metrics: Accuracy=0.9381, F1=0.8494, Recall=0.8288, Precision=0.8711\n",
      "Running experiment with seed=25:\n",
      " - K=3, layers=1, hidden=256, out=128\n",
      " - norm=None, dropout=0, batch_size=10, reliable_mini_batch=True\n",
      " - ratio=0.14331081729483522, aggregation=mean, treatment=removal\n",
      " - model_type=GATConv, rate_pairs=14, clusters=100, lr=0.007018917958273976\n"
     ]
    },
    {
     "name": "stderr",
     "output_type": "stream",
     "text": [
      "Computing METIS partitioning...\n",
      "Done!\n"
     ]
    },
    {
     "name": "stdout",
     "output_type": "stream",
     "text": [
      "Epoch 0, Loss: 6.6203\n",
      "Epoch 10, Loss: 4.3477\n",
      "Epoch 20, Loss: 2.6484\n",
      "Epoch 30, Loss: 1.7015\n",
      "Epoch 40, Loss: 1.2035\n",
      " - Metrics: Accuracy=0.9366, F1=0.8450, Recall=0.8203, Precision=0.8712\n",
      "Running experiment with seed=759:\n",
      " - K=3, layers=1, hidden=256, out=128\n",
      " - norm=None, dropout=0, batch_size=10, reliable_mini_batch=True\n",
      " - ratio=0.14331081729483522, aggregation=mean, treatment=removal\n",
      " - model_type=GATConv, rate_pairs=14, clusters=100, lr=0.007018917958273976\n"
     ]
    },
    {
     "name": "stderr",
     "output_type": "stream",
     "text": [
      "Computing METIS partitioning...\n",
      "Done!\n"
     ]
    },
    {
     "name": "stdout",
     "output_type": "stream",
     "text": [
      "Epoch 0, Loss: 6.6026\n",
      "Epoch 10, Loss: 4.3347\n",
      "Epoch 20, Loss: 2.6410\n",
      "Epoch 30, Loss: 1.6968\n",
      "Epoch 40, Loss: 1.2013\n",
      " - Metrics: Accuracy=0.9393, F1=0.8517, Recall=0.8274, Precision=0.8775\n",
      "Running experiment with seed=281:\n",
      " - K=3, layers=1, hidden=256, out=128\n",
      " - norm=None, dropout=0, batch_size=10, reliable_mini_batch=True\n",
      " - ratio=0.14331081729483522, aggregation=mean, treatment=removal\n",
      " - model_type=GATConv, rate_pairs=14, clusters=100, lr=0.007018917958273976\n"
     ]
    },
    {
     "name": "stderr",
     "output_type": "stream",
     "text": [
      "Computing METIS partitioning...\n",
      "Done!\n"
     ]
    },
    {
     "name": "stdout",
     "output_type": "stream",
     "text": [
      "Epoch 0, Loss: 6.5928\n",
      "Epoch 10, Loss: 4.3327\n",
      "Epoch 20, Loss: 2.6386\n",
      "Epoch 30, Loss: 1.6970\n",
      "Epoch 40, Loss: 1.1994\n"
     ]
    },
    {
     "name": "stderr",
     "output_type": "stream",
     "text": [
      "[I 2025-03-12 14:01:41,833] Trial 90 finished with value: 0.8526555897168177 and parameters: {'K': 3, 'layers': 1, 'hidden_channels': 256, 'out_channels': 128, 'ratio': 0.14331081729483522, 'aggregation': 'mean', 'treatment': 'removal', 'model_type': 'GATConv', 'rate_pairs': 14, 'batch_size': 10, 'lr': 0.007018917958273976, 'clusters': 100}. Best is trial 8 with value: 0.8606204067072518.\n"
     ]
    },
    {
     "name": "stdout",
     "output_type": "stream",
     "text": [
      " - Metrics: Accuracy=0.9393, F1=0.8538, Recall=0.8417, Precision=0.8664\n",
      "Done. Results written to citeseer_experimentations\\citeseer_scar_sampling_nnif_batch_cluster_1203135919.csv.\n",
      "Average F1 over valid seeds: 0.8527 ± 0.0061\n",
      "Running experiment with seed=654:\n",
      " - K=3, layers=1, hidden=256, out=128\n",
      " - norm=None, dropout=0, batch_size=10, reliable_mini_batch=True\n",
      " - ratio=0.13625735661224372, aggregation=mean, treatment=removal\n",
      " - model_type=GATConv, rate_pairs=14, clusters=100, lr=0.002650256181848158\n"
     ]
    },
    {
     "name": "stderr",
     "output_type": "stream",
     "text": [
      "Computing METIS partitioning...\n",
      "Done!\n"
     ]
    },
    {
     "name": "stdout",
     "output_type": "stream",
     "text": [
      "Epoch 0, Loss: 7.0310\n",
      "Epoch 10, Loss: 5.9198\n",
      "Epoch 20, Loss: 4.9408\n",
      "Epoch 30, Loss: 4.2162\n",
      "Epoch 40, Loss: 3.5055\n",
      " - Metrics: Accuracy=0.9447, F1=0.8641, Recall=0.8345, Precision=0.8959\n",
      "Running experiment with seed=114:\n",
      " - K=3, layers=1, hidden=256, out=128\n",
      " - norm=None, dropout=0, batch_size=10, reliable_mini_batch=True\n",
      " - ratio=0.13625735661224372, aggregation=mean, treatment=removal\n",
      " - model_type=GATConv, rate_pairs=14, clusters=100, lr=0.002650256181848158\n"
     ]
    },
    {
     "name": "stderr",
     "output_type": "stream",
     "text": [
      "Computing METIS partitioning...\n",
      "Done!\n"
     ]
    },
    {
     "name": "stdout",
     "output_type": "stream",
     "text": [
      "Epoch 0, Loss: 6.8445\n",
      "Epoch 10, Loss: 5.6647\n",
      "Epoch 20, Loss: 4.7927\n",
      "Epoch 30, Loss: 4.0476\n",
      "Epoch 40, Loss: 3.4510\n",
      " - Metrics: Accuracy=0.9387, F1=0.8482, Recall=0.8131, Precision=0.8865\n",
      "Running experiment with seed=25:\n",
      " - K=3, layers=1, hidden=256, out=128\n",
      " - norm=None, dropout=0, batch_size=10, reliable_mini_batch=True\n",
      " - ratio=0.13625735661224372, aggregation=mean, treatment=removal\n",
      " - model_type=GATConv, rate_pairs=14, clusters=100, lr=0.002650256181848158\n"
     ]
    },
    {
     "name": "stderr",
     "output_type": "stream",
     "text": [
      "Computing METIS partitioning...\n",
      "Done!\n"
     ]
    },
    {
     "name": "stdout",
     "output_type": "stream",
     "text": [
      "Epoch 0, Loss: 6.8701\n",
      "Epoch 10, Loss: 5.6872\n",
      "Epoch 20, Loss: 4.8118\n",
      "Epoch 30, Loss: 4.0666\n",
      "Epoch 40, Loss: 3.4643\n",
      " - Metrics: Accuracy=0.9387, F1=0.8478, Recall=0.8103, Precision=0.8889\n",
      "Running experiment with seed=759:\n",
      " - K=3, layers=1, hidden=256, out=128\n",
      " - norm=None, dropout=0, batch_size=10, reliable_mini_batch=True\n",
      " - ratio=0.13625735661224372, aggregation=mean, treatment=removal\n",
      " - model_type=GATConv, rate_pairs=14, clusters=100, lr=0.002650256181848158\n"
     ]
    },
    {
     "name": "stderr",
     "output_type": "stream",
     "text": [
      "Computing METIS partitioning...\n",
      "Done!\n"
     ]
    },
    {
     "name": "stdout",
     "output_type": "stream",
     "text": [
      "Epoch 0, Loss: 6.8559\n",
      "Epoch 10, Loss: 5.6567\n",
      "Epoch 20, Loss: 4.7897\n",
      "Epoch 30, Loss: 4.0455\n",
      "Epoch 40, Loss: 3.4507\n",
      " - Metrics: Accuracy=0.9411, F1=0.8535, Recall=0.8146, Precision=0.8964\n",
      "Running experiment with seed=281:\n",
      " - K=3, layers=1, hidden=256, out=128\n",
      " - norm=None, dropout=0, batch_size=10, reliable_mini_batch=True\n",
      " - ratio=0.13625735661224372, aggregation=mean, treatment=removal\n",
      " - model_type=GATConv, rate_pairs=14, clusters=100, lr=0.002650256181848158\n"
     ]
    },
    {
     "name": "stderr",
     "output_type": "stream",
     "text": [
      "Computing METIS partitioning...\n",
      "Done!\n"
     ]
    },
    {
     "name": "stdout",
     "output_type": "stream",
     "text": [
      "Epoch 0, Loss: 6.8506\n",
      "Epoch 10, Loss: 5.6707\n",
      "Epoch 20, Loss: 4.7985\n",
      "Epoch 30, Loss: 4.0524\n",
      "Epoch 40, Loss: 3.4538\n"
     ]
    },
    {
     "name": "stderr",
     "output_type": "stream",
     "text": [
      "[I 2025-03-12 14:04:05,868] Trial 91 finished with value: 0.852989177635418 and parameters: {'K': 3, 'layers': 1, 'hidden_channels': 256, 'out_channels': 128, 'ratio': 0.13625735661224372, 'aggregation': 'mean', 'treatment': 'removal', 'model_type': 'GATConv', 'rate_pairs': 14, 'batch_size': 10, 'lr': 0.002650256181848158, 'clusters': 100}. Best is trial 8 with value: 0.8606204067072518.\n"
     ]
    },
    {
     "name": "stdout",
     "output_type": "stream",
     "text": [
      " - Metrics: Accuracy=0.9405, F1=0.8514, Recall=0.8088, Precision=0.8986\n",
      "Done. Results written to citeseer_experimentations\\citeseer_scar_sampling_nnif_batch_cluster_1203140141.csv.\n",
      "Average F1 over valid seeds: 0.8530 ± 0.0059\n",
      "Running experiment with seed=654:\n",
      " - K=3, layers=1, hidden=256, out=256\n",
      " - norm=None, dropout=0, batch_size=10, reliable_mini_batch=True\n",
      " - ratio=0.13786745815763182, aggregation=mean, treatment=removal\n",
      " - model_type=GATConv, rate_pairs=13, clusters=100, lr=0.007326026075295296\n"
     ]
    },
    {
     "name": "stderr",
     "output_type": "stream",
     "text": [
      "Computing METIS partitioning...\n",
      "Done!\n"
     ]
    },
    {
     "name": "stdout",
     "output_type": "stream",
     "text": [
      "Epoch 0, Loss: 6.8966\n",
      "Epoch 10, Loss: 4.3377\n",
      "Epoch 20, Loss: 2.6110\n",
      "Epoch 30, Loss: 1.7591\n",
      "Epoch 40, Loss: 1.1608\n",
      " - Metrics: Accuracy=0.9393, F1=0.8513, Recall=0.8245, Precision=0.8798\n",
      "Running experiment with seed=114:\n",
      " - K=3, layers=1, hidden=256, out=256\n",
      " - norm=None, dropout=0, batch_size=10, reliable_mini_batch=True\n",
      " - ratio=0.13786745815763182, aggregation=mean, treatment=removal\n",
      " - model_type=GATConv, rate_pairs=13, clusters=100, lr=0.007326026075295296\n"
     ]
    },
    {
     "name": "stderr",
     "output_type": "stream",
     "text": [
      "Computing METIS partitioning...\n",
      "Done!\n"
     ]
    },
    {
     "name": "stdout",
     "output_type": "stream",
     "text": [
      "Epoch 0, Loss: 6.6378\n",
      "Epoch 10, Loss: 4.1520\n",
      "Epoch 20, Loss: 2.5662\n",
      "Epoch 30, Loss: 1.6900\n",
      "Epoch 40, Loss: 1.1134\n",
      " - Metrics: Accuracy=0.9426, F1=0.8567, Recall=0.8146, Precision=0.9035\n",
      "Running experiment with seed=25:\n",
      " - K=3, layers=1, hidden=256, out=256\n",
      " - norm=None, dropout=0, batch_size=10, reliable_mini_batch=True\n",
      " - ratio=0.13786745815763182, aggregation=mean, treatment=removal\n",
      " - model_type=GATConv, rate_pairs=13, clusters=100, lr=0.007326026075295296\n"
     ]
    },
    {
     "name": "stderr",
     "output_type": "stream",
     "text": [
      "Computing METIS partitioning...\n",
      "Done!\n"
     ]
    },
    {
     "name": "stdout",
     "output_type": "stream",
     "text": [
      "Epoch 0, Loss: 6.6363\n",
      "Epoch 10, Loss: 4.1535\n",
      "Epoch 20, Loss: 2.5660\n",
      "Epoch 30, Loss: 1.6898\n",
      "Epoch 40, Loss: 1.1141\n",
      " - Metrics: Accuracy=0.9447, F1=0.8633, Recall=0.8288, Precision=0.9008\n",
      "Running experiment with seed=759:\n",
      " - K=3, layers=1, hidden=256, out=256\n",
      " - norm=None, dropout=0, batch_size=10, reliable_mini_batch=True\n",
      " - ratio=0.13786745815763182, aggregation=mean, treatment=removal\n",
      " - model_type=GATConv, rate_pairs=13, clusters=100, lr=0.007326026075295296\n"
     ]
    },
    {
     "name": "stderr",
     "output_type": "stream",
     "text": [
      "Computing METIS partitioning...\n",
      "Done!\n"
     ]
    },
    {
     "name": "stdout",
     "output_type": "stream",
     "text": [
      "Epoch 0, Loss: 6.6322\n",
      "Epoch 10, Loss: 4.1475\n",
      "Epoch 20, Loss: 2.5637\n",
      "Epoch 30, Loss: 1.6895\n",
      "Epoch 40, Loss: 1.1131\n",
      " - Metrics: Accuracy=0.9426, F1=0.8567, Recall=0.8146, Precision=0.9035\n",
      "Running experiment with seed=281:\n",
      " - K=3, layers=1, hidden=256, out=256\n",
      " - norm=None, dropout=0, batch_size=10, reliable_mini_batch=True\n",
      " - ratio=0.13786745815763182, aggregation=mean, treatment=removal\n",
      " - model_type=GATConv, rate_pairs=13, clusters=100, lr=0.007326026075295296\n"
     ]
    },
    {
     "name": "stderr",
     "output_type": "stream",
     "text": [
      "Computing METIS partitioning...\n",
      "Done!\n"
     ]
    },
    {
     "name": "stdout",
     "output_type": "stream",
     "text": [
      "Epoch 0, Loss: 6.6487\n",
      "Epoch 10, Loss: 4.1595\n",
      "Epoch 20, Loss: 2.5702\n",
      "Epoch 30, Loss: 1.6938\n",
      "Epoch 40, Loss: 1.1161\n"
     ]
    },
    {
     "name": "stderr",
     "output_type": "stream",
     "text": [
      "[I 2025-03-12 14:06:40,290] Trial 92 finished with value: 0.8564695585549957 and parameters: {'K': 3, 'layers': 1, 'hidden_channels': 256, 'out_channels': 256, 'ratio': 0.13786745815763182, 'aggregation': 'mean', 'treatment': 'removal', 'model_type': 'GATConv', 'rate_pairs': 13, 'batch_size': 10, 'lr': 0.007326026075295296, 'clusters': 100}. Best is trial 8 with value: 0.8606204067072518.\n"
     ]
    },
    {
     "name": "stdout",
     "output_type": "stream",
     "text": [
      " - Metrics: Accuracy=0.9414, F1=0.8544, Recall=0.8160, Precision=0.8966\n",
      "Done. Results written to citeseer_experimentations\\citeseer_scar_sampling_nnif_batch_cluster_1203140405.csv.\n",
      "Average F1 over valid seeds: 0.8565 ± 0.0040\n",
      "Running experiment with seed=654:\n",
      " - K=3, layers=1, hidden=256, out=256\n",
      " - norm=None, dropout=0, batch_size=10, reliable_mini_batch=True\n",
      " - ratio=0.13784445554384053, aggregation=mean, treatment=removal\n",
      " - model_type=GATConv, rate_pairs=13, clusters=100, lr=0.007356156287376906\n"
     ]
    },
    {
     "name": "stderr",
     "output_type": "stream",
     "text": [
      "Computing METIS partitioning...\n",
      "Done!\n"
     ]
    },
    {
     "name": "stdout",
     "output_type": "stream",
     "text": [
      "Epoch 0, Loss: 6.9083\n",
      "Epoch 10, Loss: 4.3246\n",
      "Epoch 20, Loss: 2.5991\n",
      "Epoch 30, Loss: 1.7515\n",
      "Epoch 40, Loss: 1.1556\n",
      " - Metrics: Accuracy=0.9417, F1=0.8563, Recall=0.8245, Precision=0.8906\n",
      "Running experiment with seed=114:\n",
      " - K=3, layers=1, hidden=256, out=256\n",
      " - norm=None, dropout=0, batch_size=10, reliable_mini_batch=True\n",
      " - ratio=0.13784445554384053, aggregation=mean, treatment=removal\n",
      " - model_type=GATConv, rate_pairs=13, clusters=100, lr=0.007356156287376906\n"
     ]
    },
    {
     "name": "stderr",
     "output_type": "stream",
     "text": [
      "Computing METIS partitioning...\n",
      "Done!\n"
     ]
    },
    {
     "name": "stdout",
     "output_type": "stream",
     "text": [
      "Epoch 0, Loss: 6.6273\n",
      "Epoch 10, Loss: 4.1389\n",
      "Epoch 20, Loss: 2.5528\n",
      "Epoch 30, Loss: 1.6799\n",
      "Epoch 40, Loss: 1.1064\n",
      " - Metrics: Accuracy=0.9432, F1=0.8595, Recall=0.8245, Precision=0.8975\n",
      "Running experiment with seed=25:\n",
      " - K=3, layers=1, hidden=256, out=256\n",
      " - norm=None, dropout=0, batch_size=10, reliable_mini_batch=True\n",
      " - ratio=0.13784445554384053, aggregation=mean, treatment=removal\n",
      " - model_type=GATConv, rate_pairs=13, clusters=100, lr=0.007356156287376906\n"
     ]
    },
    {
     "name": "stderr",
     "output_type": "stream",
     "text": [
      "Computing METIS partitioning...\n",
      "Done!\n"
     ]
    },
    {
     "name": "stdout",
     "output_type": "stream",
     "text": [
      "Epoch 0, Loss: 6.6346\n",
      "Epoch 10, Loss: 4.1431\n",
      "Epoch 20, Loss: 2.5552\n",
      "Epoch 30, Loss: 1.6815\n",
      "Epoch 40, Loss: 1.1075\n",
      " - Metrics: Accuracy=0.9444, F1=0.8627, Recall=0.8288, Precision=0.8994\n",
      "Running experiment with seed=759:\n",
      " - K=3, layers=1, hidden=256, out=256\n",
      " - norm=None, dropout=0, batch_size=10, reliable_mini_batch=True\n",
      " - ratio=0.13784445554384053, aggregation=mean, treatment=removal\n",
      " - model_type=GATConv, rate_pairs=13, clusters=100, lr=0.007356156287376906\n"
     ]
    },
    {
     "name": "stderr",
     "output_type": "stream",
     "text": [
      "Computing METIS partitioning...\n",
      "Done!\n"
     ]
    },
    {
     "name": "stdout",
     "output_type": "stream",
     "text": [
      "Epoch 0, Loss: 6.6441\n",
      "Epoch 10, Loss: 4.1499\n",
      "Epoch 20, Loss: 2.5595\n",
      "Epoch 30, Loss: 1.6830\n",
      "Epoch 40, Loss: 1.1092\n",
      " - Metrics: Accuracy=0.9444, F1=0.8625, Recall=0.8274, Precision=0.9006\n",
      "Running experiment with seed=281:\n",
      " - K=3, layers=1, hidden=256, out=256\n",
      " - norm=None, dropout=0, batch_size=10, reliable_mini_batch=True\n",
      " - ratio=0.13784445554384053, aggregation=mean, treatment=removal\n",
      " - model_type=GATConv, rate_pairs=13, clusters=100, lr=0.007356156287376906\n"
     ]
    },
    {
     "name": "stderr",
     "output_type": "stream",
     "text": [
      "Computing METIS partitioning...\n",
      "Done!\n"
     ]
    },
    {
     "name": "stdout",
     "output_type": "stream",
     "text": [
      "Epoch 0, Loss: 6.6438\n",
      "Epoch 10, Loss: 4.1485\n",
      "Epoch 20, Loss: 2.5582\n",
      "Epoch 30, Loss: 1.6830\n",
      "Epoch 40, Loss: 1.1090\n"
     ]
    },
    {
     "name": "stderr",
     "output_type": "stream",
     "text": [
      "[I 2025-03-12 14:09:16,779] Trial 93 finished with value: 0.8593499447593553 and parameters: {'K': 3, 'layers': 1, 'hidden_channels': 256, 'out_channels': 256, 'ratio': 0.13784445554384053, 'aggregation': 'mean', 'treatment': 'removal', 'model_type': 'GATConv', 'rate_pairs': 13, 'batch_size': 10, 'lr': 0.007356156287376906, 'clusters': 100}. Best is trial 8 with value: 0.8606204067072518.\n"
     ]
    },
    {
     "name": "stdout",
     "output_type": "stream",
     "text": [
      " - Metrics: Accuracy=0.9420, F1=0.8559, Recall=0.8174, Precision=0.8981\n",
      "Done. Results written to citeseer_experimentations\\citeseer_scar_sampling_nnif_batch_cluster_1203140640.csv.\n",
      "Average F1 over valid seeds: 0.8593 ± 0.0029\n",
      "Running experiment with seed=654:\n",
      " - K=3, layers=1, hidden=256, out=256\n",
      " - norm=None, dropout=0, batch_size=10, reliable_mini_batch=True\n",
      " - ratio=0.1389087156010557, aggregation=mean, treatment=removal\n",
      " - model_type=GATConv, rate_pairs=13, clusters=100, lr=0.007292425145481704\n"
     ]
    },
    {
     "name": "stderr",
     "output_type": "stream",
     "text": [
      "Computing METIS partitioning...\n",
      "Done!\n"
     ]
    },
    {
     "name": "stdout",
     "output_type": "stream",
     "text": [
      "Epoch 0, Loss: 6.8536\n",
      "Epoch 10, Loss: 4.3268\n",
      "Epoch 20, Loss: 2.6142\n",
      "Epoch 30, Loss: 1.7631\n",
      "Epoch 40, Loss: 1.1647\n",
      " - Metrics: Accuracy=0.9429, F1=0.8607, Recall=0.8374, Precision=0.8854\n",
      "Running experiment with seed=114:\n",
      " - K=3, layers=1, hidden=256, out=256\n",
      " - norm=None, dropout=0, batch_size=10, reliable_mini_batch=True\n",
      " - ratio=0.1389087156010557, aggregation=mean, treatment=removal\n",
      " - model_type=GATConv, rate_pairs=13, clusters=100, lr=0.007292425145481704\n"
     ]
    },
    {
     "name": "stderr",
     "output_type": "stream",
     "text": [
      "Computing METIS partitioning...\n",
      "Done!\n"
     ]
    },
    {
     "name": "stdout",
     "output_type": "stream",
     "text": [
      "Epoch 0, Loss: 6.6486\n",
      "Epoch 10, Loss: 4.1696\n",
      "Epoch 20, Loss: 2.5839\n",
      "Epoch 30, Loss: 1.7027\n",
      "Epoch 40, Loss: 1.1232\n",
      " - Metrics: Accuracy=0.9435, F1=0.8609, Recall=0.8302, Precision=0.8940\n",
      "Running experiment with seed=25:\n",
      " - K=3, layers=1, hidden=256, out=256\n",
      " - norm=None, dropout=0, batch_size=10, reliable_mini_batch=True\n",
      " - ratio=0.1389087156010557, aggregation=mean, treatment=removal\n",
      " - model_type=GATConv, rate_pairs=13, clusters=100, lr=0.007292425145481704\n"
     ]
    },
    {
     "name": "stderr",
     "output_type": "stream",
     "text": [
      "Computing METIS partitioning...\n",
      "Done!\n"
     ]
    },
    {
     "name": "stdout",
     "output_type": "stream",
     "text": [
      "Epoch 0, Loss: 6.6708\n",
      "Epoch 10, Loss: 4.1855\n",
      "Epoch 20, Loss: 2.5924\n",
      "Epoch 30, Loss: 1.7096\n",
      "Epoch 40, Loss: 1.1277\n",
      " - Metrics: Accuracy=0.9447, F1=0.8629, Recall=0.8260, Precision=0.9033\n",
      "Running experiment with seed=759:\n",
      " - K=3, layers=1, hidden=256, out=256\n",
      " - norm=None, dropout=0, batch_size=10, reliable_mini_batch=True\n",
      " - ratio=0.1389087156010557, aggregation=mean, treatment=removal\n",
      " - model_type=GATConv, rate_pairs=13, clusters=100, lr=0.007292425145481704\n"
     ]
    },
    {
     "name": "stderr",
     "output_type": "stream",
     "text": [
      "Computing METIS partitioning...\n",
      "Done!\n"
     ]
    },
    {
     "name": "stdout",
     "output_type": "stream",
     "text": [
      "Epoch 0, Loss: 6.6561\n",
      "Epoch 10, Loss: 4.1741\n",
      "Epoch 20, Loss: 2.5855\n",
      "Epoch 30, Loss: 1.7047\n",
      "Epoch 40, Loss: 1.1238\n",
      " - Metrics: Accuracy=0.9405, F1=0.8531, Recall=0.8203, Precision=0.8887\n",
      "Running experiment with seed=281:\n",
      " - K=3, layers=1, hidden=256, out=256\n",
      " - norm=None, dropout=0, batch_size=10, reliable_mini_batch=True\n",
      " - ratio=0.1389087156010557, aggregation=mean, treatment=removal\n",
      " - model_type=GATConv, rate_pairs=13, clusters=100, lr=0.007292425145481704\n"
     ]
    },
    {
     "name": "stderr",
     "output_type": "stream",
     "text": [
      "Computing METIS partitioning...\n",
      "Done!\n"
     ]
    },
    {
     "name": "stdout",
     "output_type": "stream",
     "text": [
      "Epoch 0, Loss: 6.6534\n",
      "Epoch 10, Loss: 4.1725\n",
      "Epoch 20, Loss: 2.5848\n",
      "Epoch 30, Loss: 1.7053\n",
      "Epoch 40, Loss: 1.1236\n"
     ]
    },
    {
     "name": "stderr",
     "output_type": "stream",
     "text": [
      "[I 2025-03-12 14:11:51,623] Trial 94 finished with value: 0.8596871870298175 and parameters: {'K': 3, 'layers': 1, 'hidden_channels': 256, 'out_channels': 256, 'ratio': 0.1389087156010557, 'aggregation': 'mean', 'treatment': 'removal', 'model_type': 'GATConv', 'rate_pairs': 13, 'batch_size': 10, 'lr': 0.007292425145481704, 'clusters': 100}. Best is trial 8 with value: 0.8606204067072518.\n"
     ]
    },
    {
     "name": "stdout",
     "output_type": "stream",
     "text": [
      " - Metrics: Accuracy=0.9441, F1=0.8608, Recall=0.8203, Precision=0.9055\n",
      "Done. Results written to citeseer_experimentations\\citeseer_scar_sampling_nnif_batch_cluster_1203140916.csv.\n",
      "Average F1 over valid seeds: 0.8597 ± 0.0034\n",
      "Running experiment with seed=654:\n",
      " - K=3, layers=1, hidden=256, out=256\n",
      " - norm=None, dropout=0, batch_size=10, reliable_mini_batch=True\n",
      " - ratio=0.13759194607867098, aggregation=mean, treatment=removal\n",
      " - model_type=GATConv, rate_pairs=13, clusters=100, lr=0.007262800130949628\n"
     ]
    },
    {
     "name": "stderr",
     "output_type": "stream",
     "text": [
      "Computing METIS partitioning...\n",
      "Done!\n"
     ]
    },
    {
     "name": "stdout",
     "output_type": "stream",
     "text": [
      "Epoch 0, Loss: 6.8467\n",
      "Epoch 10, Loss: 4.3388\n",
      "Epoch 20, Loss: 2.6260\n",
      "Epoch 30, Loss: 1.7732\n",
      "Epoch 40, Loss: 1.1725\n",
      " - Metrics: Accuracy=0.9417, F1=0.8559, Recall=0.8217, Precision=0.8930\n",
      "Running experiment with seed=114:\n",
      " - K=3, layers=1, hidden=256, out=256\n",
      " - norm=None, dropout=0, batch_size=10, reliable_mini_batch=True\n",
      " - ratio=0.13759194607867098, aggregation=mean, treatment=removal\n",
      " - model_type=GATConv, rate_pairs=13, clusters=100, lr=0.007262800130949628\n"
     ]
    },
    {
     "name": "stderr",
     "output_type": "stream",
     "text": [
      "Computing METIS partitioning...\n",
      "Done!\n"
     ]
    },
    {
     "name": "stdout",
     "output_type": "stream",
     "text": [
      "Epoch 0, Loss: 6.6613\n",
      "Epoch 10, Loss: 4.1720\n",
      "Epoch 20, Loss: 2.5897\n",
      "Epoch 30, Loss: 1.7097\n",
      "Epoch 40, Loss: 1.1277\n",
      " - Metrics: Accuracy=0.9450, F1=0.8635, Recall=0.8260, Precision=0.9047\n",
      "Running experiment with seed=25:\n",
      " - K=3, layers=1, hidden=256, out=256\n",
      " - norm=None, dropout=0, batch_size=10, reliable_mini_batch=True\n",
      " - ratio=0.13759194607867098, aggregation=mean, treatment=removal\n",
      " - model_type=GATConv, rate_pairs=13, clusters=100, lr=0.007262800130949628\n"
     ]
    },
    {
     "name": "stderr",
     "output_type": "stream",
     "text": [
      "Computing METIS partitioning...\n",
      "Done!\n"
     ]
    },
    {
     "name": "stdout",
     "output_type": "stream",
     "text": [
      "Epoch 0, Loss: 6.6615\n",
      "Epoch 10, Loss: 4.1831\n",
      "Epoch 20, Loss: 2.5974\n",
      "Epoch 30, Loss: 1.7166\n",
      "Epoch 40, Loss: 1.1318\n",
      " - Metrics: Accuracy=0.9450, F1=0.8625, Recall=0.8188, Precision=0.9111\n",
      "Running experiment with seed=759:\n",
      " - K=3, layers=1, hidden=256, out=256\n",
      " - norm=None, dropout=0, batch_size=10, reliable_mini_batch=True\n",
      " - ratio=0.13759194607867098, aggregation=mean, treatment=removal\n",
      " - model_type=GATConv, rate_pairs=13, clusters=100, lr=0.007262800130949628\n"
     ]
    },
    {
     "name": "stderr",
     "output_type": "stream",
     "text": [
      "Computing METIS partitioning...\n",
      "Done!\n"
     ]
    },
    {
     "name": "stdout",
     "output_type": "stream",
     "text": [
      "Epoch 0, Loss: 6.6733\n",
      "Epoch 10, Loss: 4.1917\n",
      "Epoch 20, Loss: 2.6026\n",
      "Epoch 30, Loss: 1.7182\n",
      "Epoch 40, Loss: 1.1335\n",
      " - Metrics: Accuracy=0.9411, F1=0.8537, Recall=0.8160, Precision=0.8951\n",
      "Running experiment with seed=281:\n",
      " - K=3, layers=1, hidden=256, out=256\n",
      " - norm=None, dropout=0, batch_size=10, reliable_mini_batch=True\n",
      " - ratio=0.13759194607867098, aggregation=mean, treatment=removal\n",
      " - model_type=GATConv, rate_pairs=13, clusters=100, lr=0.007262800130949628\n"
     ]
    },
    {
     "name": "stderr",
     "output_type": "stream",
     "text": [
      "Computing METIS partitioning...\n",
      "Done!\n"
     ]
    },
    {
     "name": "stdout",
     "output_type": "stream",
     "text": [
      "Epoch 0, Loss: 6.6471\n",
      "Epoch 10, Loss: 4.1635\n",
      "Epoch 20, Loss: 2.5848\n",
      "Epoch 30, Loss: 1.7075\n",
      "Epoch 40, Loss: 1.1263\n"
     ]
    },
    {
     "name": "stderr",
     "output_type": "stream",
     "text": [
      "[I 2025-03-12 14:14:25,805] Trial 95 finished with value: 0.8581696544884834 and parameters: {'K': 3, 'layers': 1, 'hidden_channels': 256, 'out_channels': 256, 'ratio': 0.13759194607867098, 'aggregation': 'mean', 'treatment': 'removal', 'model_type': 'GATConv', 'rate_pairs': 13, 'batch_size': 10, 'lr': 0.007262800130949628, 'clusters': 100}. Best is trial 8 with value: 0.8606204067072518.\n"
     ]
    },
    {
     "name": "stdout",
     "output_type": "stream",
     "text": [
      " - Metrics: Accuracy=0.9423, F1=0.8552, Recall=0.8088, Precision=0.9072\n",
      "Done. Results written to citeseer_experimentations\\citeseer_scar_sampling_nnif_batch_cluster_1203141151.csv.\n",
      "Average F1 over valid seeds: 0.8582 ± 0.0040\n",
      "Running experiment with seed=654:\n",
      " - K=3, layers=1, hidden=256, out=256\n",
      " - norm=None, dropout=0, batch_size=1, reliable_mini_batch=True\n",
      " - ratio=0.13769694329584203, aggregation=sum, treatment=removal\n",
      " - model_type=GATConv, rate_pairs=13, clusters=500, lr=0.007374380007833565\n"
     ]
    },
    {
     "name": "stderr",
     "output_type": "stream",
     "text": [
      "Computing METIS partitioning...\n",
      "Done!\n",
      "[I 2025-03-12 14:14:26,533] Trial 96 finished with value: 0.0 and parameters: {'K': 3, 'layers': 1, 'hidden_channels': 256, 'out_channels': 256, 'ratio': 0.13769694329584203, 'aggregation': 'sum', 'treatment': 'removal', 'model_type': 'GATConv', 'rate_pairs': 13, 'batch_size': 1, 'lr': 0.007374380007833565, 'clusters': 500}. Best is trial 8 with value: 0.8606204067072518.\n"
     ]
    },
    {
     "name": "stdout",
     "output_type": "stream",
     "text": [
      "Error: Labels must be in {0,1}, got [0].\n",
      "Done. Results written to citeseer_experimentations\\citeseer_scar_sampling_nnif_batch_cluster_1203141425.csv.\n",
      "Average F1 over valid seeds: 0.0000 ± 0.0000\n",
      "Running experiment with seed=654:\n",
      " - K=3, layers=1, hidden=256, out=256\n",
      " - norm=None, dropout=0, batch_size=10, reliable_mini_batch=True\n",
      " - ratio=0.12774981535419083, aggregation=mean, treatment=removal\n",
      " - model_type=GATConv, rate_pairs=3, clusters=100, lr=0.007087463490086616\n"
     ]
    },
    {
     "name": "stderr",
     "output_type": "stream",
     "text": [
      "Computing METIS partitioning...\n",
      "Done!\n"
     ]
    },
    {
     "name": "stdout",
     "output_type": "stream",
     "text": [
      "Epoch 0, Loss: 6.9022\n",
      "Epoch 10, Loss: 4.4004\n",
      "Epoch 20, Loss: 2.6944\n",
      "Epoch 30, Loss: 1.8317\n",
      "Epoch 40, Loss: 1.2144\n",
      " - Metrics: Accuracy=0.9444, F1=0.8620, Recall=0.8245, Precision=0.9031\n",
      "Running experiment with seed=114:\n",
      " - K=3, layers=1, hidden=256, out=256\n",
      " - norm=None, dropout=0, batch_size=10, reliable_mini_batch=True\n",
      " - ratio=0.12774981535419083, aggregation=mean, treatment=removal\n",
      " - model_type=GATConv, rate_pairs=3, clusters=100, lr=0.007087463490086616\n"
     ]
    },
    {
     "name": "stderr",
     "output_type": "stream",
     "text": [
      "Computing METIS partitioning...\n",
      "Done!\n"
     ]
    },
    {
     "name": "stdout",
     "output_type": "stream",
     "text": [
      "Epoch 0, Loss: 6.6934\n",
      "Epoch 10, Loss: 4.2415\n",
      "Epoch 20, Loss: 2.6643\n",
      "Epoch 30, Loss: 1.7713\n",
      "Epoch 40, Loss: 1.1727\n",
      " - Metrics: Accuracy=0.9426, F1=0.8561, Recall=0.8103, Precision=0.9073\n",
      "Running experiment with seed=25:\n",
      " - K=3, layers=1, hidden=256, out=256\n",
      " - norm=None, dropout=0, batch_size=10, reliable_mini_batch=True\n",
      " - ratio=0.12774981535419083, aggregation=mean, treatment=removal\n",
      " - model_type=GATConv, rate_pairs=3, clusters=100, lr=0.007087463490086616\n"
     ]
    },
    {
     "name": "stderr",
     "output_type": "stream",
     "text": [
      "Computing METIS partitioning...\n",
      "Done!\n"
     ]
    },
    {
     "name": "stdout",
     "output_type": "stream",
     "text": [
      "Epoch 0, Loss: 6.6747\n",
      "Epoch 10, Loss: 4.2307\n",
      "Epoch 20, Loss: 2.6567\n",
      "Epoch 30, Loss: 1.7655\n",
      "Epoch 40, Loss: 1.1677\n",
      " - Metrics: Accuracy=0.9411, F1=0.8522, Recall=0.8060, Precision=0.9040\n",
      "Running experiment with seed=759:\n",
      " - K=3, layers=1, hidden=256, out=256\n",
      " - norm=None, dropout=0, batch_size=10, reliable_mini_batch=True\n",
      " - ratio=0.12774981535419083, aggregation=mean, treatment=removal\n",
      " - model_type=GATConv, rate_pairs=3, clusters=100, lr=0.007087463490086616\n"
     ]
    },
    {
     "name": "stderr",
     "output_type": "stream",
     "text": [
      "Computing METIS partitioning...\n",
      "Done!\n"
     ]
    },
    {
     "name": "stdout",
     "output_type": "stream",
     "text": [
      "Epoch 0, Loss: 6.6967\n",
      "Epoch 10, Loss: 4.2449\n",
      "Epoch 20, Loss: 2.6655\n",
      "Epoch 30, Loss: 1.7717\n",
      "Epoch 40, Loss: 1.1724\n",
      " - Metrics: Accuracy=0.9450, F1=0.8623, Recall=0.8174, Precision=0.9124\n",
      "Running experiment with seed=281:\n",
      " - K=3, layers=1, hidden=256, out=256\n",
      " - norm=None, dropout=0, batch_size=10, reliable_mini_batch=True\n",
      " - ratio=0.12774981535419083, aggregation=mean, treatment=removal\n",
      " - model_type=GATConv, rate_pairs=3, clusters=100, lr=0.007087463490086616\n"
     ]
    },
    {
     "name": "stderr",
     "output_type": "stream",
     "text": [
      "Computing METIS partitioning...\n",
      "Done!\n"
     ]
    },
    {
     "name": "stdout",
     "output_type": "stream",
     "text": [
      "Epoch 0, Loss: 6.6730\n",
      "Epoch 10, Loss: 4.2255\n",
      "Epoch 20, Loss: 2.6556\n",
      "Epoch 30, Loss: 1.7641\n",
      "Epoch 40, Loss: 1.1673\n"
     ]
    },
    {
     "name": "stderr",
     "output_type": "stream",
     "text": [
      "[I 2025-03-12 14:17:01,633] Trial 97 finished with value: 0.8563622762209183 and parameters: {'K': 3, 'layers': 1, 'hidden_channels': 256, 'out_channels': 256, 'ratio': 0.12774981535419083, 'aggregation': 'mean', 'treatment': 'removal', 'model_type': 'GATConv', 'rate_pairs': 3, 'batch_size': 10, 'lr': 0.007087463490086616, 'clusters': 100}. Best is trial 8 with value: 0.8606204067072518.\n"
     ]
    },
    {
     "name": "stdout",
     "output_type": "stream",
     "text": [
      " - Metrics: Accuracy=0.9396, F1=0.8492, Recall=0.8074, Precision=0.8956\n",
      "Done. Results written to citeseer_experimentations\\citeseer_scar_sampling_nnif_batch_cluster_1203141426.csv.\n",
      "Average F1 over valid seeds: 0.8564 ± 0.0052\n",
      "Running experiment with seed=654:\n",
      " - K=2, layers=2, hidden=256, out=256\n",
      " - norm=None, dropout=0, batch_size=10, reliable_mini_batch=True\n",
      " - ratio=0.13437583251087243, aggregation=mean, treatment=relabeling\n",
      " - model_type=GINConv, rate_pairs=12, clusters=200, lr=0.007474076899142805\n"
     ]
    },
    {
     "name": "stderr",
     "output_type": "stream",
     "text": [
      "Computing METIS partitioning...\n",
      "Done!\n"
     ]
    },
    {
     "name": "stdout",
     "output_type": "stream",
     "text": [
      "Epoch 0, Loss: 6.7900\n",
      "Epoch 10, Loss: 2.7504\n",
      "Epoch 20, Loss: 1.3579\n",
      "Epoch 30, Loss: 0.7713\n",
      "Epoch 40, Loss: 0.4981\n"
     ]
    },
    {
     "name": "stderr",
     "output_type": "stream",
     "text": [
      "[I 2025-03-12 14:17:50,014] Trial 98 finished with value: 0.6462585034013606 and parameters: {'K': 2, 'layers': 2, 'hidden_channels': 256, 'out_channels': 256, 'ratio': 0.13437583251087243, 'aggregation': 'mean', 'treatment': 'relabeling', 'model_type': 'GINConv', 'rate_pairs': 12, 'batch_size': 10, 'lr': 0.007474076899142805, 'clusters': 200}. Best is trial 8 with value: 0.8606204067072518.\n"
     ]
    },
    {
     "name": "stdout",
     "output_type": "stream",
     "text": [
      " - Metrics: Accuracy=0.8437, F1=0.6463, Recall=0.6776, Precision=0.6177\n",
      "F1 = 0.65 < 0.835, skipping ...\n",
      "Done. Results written to citeseer_experimentations\\citeseer_scar_sampling_nnif_batch_cluster_1203141701.csv.\n",
      "Average F1 over valid seeds: 0.6463 ± 0.0000\n",
      "Running experiment with seed=654:\n",
      " - K=4, layers=1, hidden=256, out=256\n",
      " - norm=None, dropout=0, batch_size=5, reliable_mini_batch=True\n",
      " - ratio=0.14018022443752418, aggregation=mean, treatment=removal\n",
      " - model_type=GATConv, rate_pairs=13, clusters=100, lr=0.007862632856086921\n"
     ]
    },
    {
     "name": "stderr",
     "output_type": "stream",
     "text": [
      "Computing METIS partitioning...\n",
      "Done!\n"
     ]
    },
    {
     "name": "stdout",
     "output_type": "stream",
     "text": [
      "Epoch 0, Loss: 15.3298\n",
      "Epoch 10, Loss: 6.0675\n",
      "Epoch 20, Loss: 2.5350\n",
      "Epoch 30, Loss: 1.5222\n",
      "Epoch 40, Loss: 0.9193\n",
      " - Metrics: Accuracy=0.9339, F1=0.8401, Recall=0.8245, Precision=0.8563\n",
      "Running experiment with seed=114:\n",
      " - K=4, layers=1, hidden=256, out=256\n",
      " - norm=None, dropout=0, batch_size=5, reliable_mini_batch=True\n",
      " - ratio=0.14018022443752418, aggregation=mean, treatment=removal\n",
      " - model_type=GATConv, rate_pairs=13, clusters=100, lr=0.007862632856086921\n"
     ]
    },
    {
     "name": "stderr",
     "output_type": "stream",
     "text": [
      "Computing METIS partitioning...\n",
      "Done!\n"
     ]
    },
    {
     "name": "stdout",
     "output_type": "stream",
     "text": [
      "Epoch 0, Loss: 15.0061\n",
      "Epoch 10, Loss: 5.7755\n",
      "Epoch 20, Loss: 2.4393\n",
      "Epoch 30, Loss: 1.4132\n",
      "Epoch 40, Loss: 0.8426\n",
      " - Metrics: Accuracy=0.9354, F1=0.8436, Recall=0.8274, Precision=0.8605\n",
      "Running experiment with seed=25:\n",
      " - K=4, layers=1, hidden=256, out=256\n",
      " - norm=None, dropout=0, batch_size=5, reliable_mini_batch=True\n",
      " - ratio=0.14018022443752418, aggregation=mean, treatment=removal\n",
      " - model_type=GATConv, rate_pairs=13, clusters=100, lr=0.007862632856086921\n"
     ]
    },
    {
     "name": "stderr",
     "output_type": "stream",
     "text": [
      "Computing METIS partitioning...\n",
      "Done!\n"
     ]
    },
    {
     "name": "stdout",
     "output_type": "stream",
     "text": [
      "Epoch 0, Loss: 15.0298\n",
      "Epoch 10, Loss: 5.7891\n",
      "Epoch 20, Loss: 2.4439\n",
      "Epoch 30, Loss: 1.4145\n",
      "Epoch 40, Loss: 0.8436\n",
      " - Metrics: Accuracy=0.9384, F1=0.8530, Recall=0.8488, Precision=0.8573\n",
      "Running experiment with seed=759:\n",
      " - K=4, layers=1, hidden=256, out=256\n",
      " - norm=None, dropout=0, batch_size=5, reliable_mini_batch=True\n",
      " - ratio=0.14018022443752418, aggregation=mean, treatment=removal\n",
      " - model_type=GATConv, rate_pairs=13, clusters=100, lr=0.007862632856086921\n"
     ]
    },
    {
     "name": "stderr",
     "output_type": "stream",
     "text": [
      "Computing METIS partitioning...\n",
      "Done!\n"
     ]
    },
    {
     "name": "stdout",
     "output_type": "stream",
     "text": [
      "Epoch 0, Loss: 14.9787\n",
      "Epoch 10, Loss: 5.7720\n",
      "Epoch 20, Loss: 2.4356\n",
      "Epoch 30, Loss: 1.4104\n",
      "Epoch 40, Loss: 0.8413\n",
      " - Metrics: Accuracy=0.9366, F1=0.8479, Recall=0.8388, Precision=0.8571\n",
      "Running experiment with seed=281:\n",
      " - K=4, layers=1, hidden=256, out=256\n",
      " - norm=None, dropout=0, batch_size=5, reliable_mini_batch=True\n",
      " - ratio=0.14018022443752418, aggregation=mean, treatment=removal\n",
      " - model_type=GATConv, rate_pairs=13, clusters=100, lr=0.007862632856086921\n"
     ]
    },
    {
     "name": "stderr",
     "output_type": "stream",
     "text": [
      "Computing METIS partitioning...\n",
      "Done!\n"
     ]
    },
    {
     "name": "stdout",
     "output_type": "stream",
     "text": [
      "Epoch 0, Loss: 15.0063\n",
      "Epoch 10, Loss: 5.7813\n",
      "Epoch 20, Loss: 2.4394\n",
      "Epoch 30, Loss: 1.4130\n",
      "Epoch 40, Loss: 0.8423\n"
     ]
    },
    {
     "name": "stderr",
     "output_type": "stream",
     "text": [
      "[I 2025-03-12 14:21:58,255] Trial 99 finished with value: 0.8475740039065828 and parameters: {'K': 4, 'layers': 1, 'hidden_channels': 256, 'out_channels': 256, 'ratio': 0.14018022443752418, 'aggregation': 'mean', 'treatment': 'removal', 'model_type': 'GATConv', 'rate_pairs': 13, 'batch_size': 5, 'lr': 0.007862632856086921, 'clusters': 100}. Best is trial 8 with value: 0.8606204067072518.\n"
     ]
    },
    {
     "name": "stdout",
     "output_type": "stream",
     "text": [
      " - Metrics: Accuracy=0.9393, F1=0.8532, Recall=0.8374, Precision=0.8696\n",
      "Done. Results written to citeseer_experimentations\\citeseer_scar_sampling_nnif_batch_cluster_1203141750.csv.\n",
      "Average F1 over valid seeds: 0.8476 ± 0.0052\n",
      "Running experiment with seed=654:\n",
      " - K=3, layers=1, hidden=256, out=256\n",
      " - norm=None, dropout=0, batch_size=10, reliable_mini_batch=True\n",
      " - ratio=0.13768039348918398, aggregation=mean, treatment=removal\n",
      " - model_type=SAGEConv, rate_pairs=13, clusters=100, lr=0.006517642211561937\n"
     ]
    },
    {
     "name": "stderr",
     "output_type": "stream",
     "text": [
      "Computing METIS partitioning...\n",
      "Done!\n"
     ]
    },
    {
     "name": "stdout",
     "output_type": "stream",
     "text": [
      "Epoch 0, Loss: 6.9964\n",
      "Epoch 10, Loss: 4.7118\n",
      "Epoch 20, Loss: 3.0009\n",
      "Epoch 30, Loss: 1.9829\n",
      "Epoch 40, Loss: 1.3847\n",
      " - Metrics: Accuracy=0.9336, F1=0.8390, Recall=0.8217, Precision=0.8571\n",
      "Running experiment with seed=114:\n",
      " - K=3, layers=1, hidden=256, out=256\n",
      " - norm=None, dropout=0, batch_size=10, reliable_mini_batch=True\n",
      " - ratio=0.13768039348918398, aggregation=mean, treatment=removal\n",
      " - model_type=SAGEConv, rate_pairs=13, clusters=100, lr=0.006517642211561937\n"
     ]
    },
    {
     "name": "stderr",
     "output_type": "stream",
     "text": [
      "Computing METIS partitioning...\n",
      "Done!\n"
     ]
    },
    {
     "name": "stdout",
     "output_type": "stream",
     "text": [
      "Epoch 0, Loss: 6.8775\n",
      "Epoch 10, Loss: 4.6304\n",
      "Epoch 20, Loss: 2.9217\n",
      "Epoch 30, Loss: 1.9142\n",
      "Epoch 40, Loss: 1.3295\n",
      " - Metrics: Accuracy=0.9411, F1=0.8539, Recall=0.8174, Precision=0.8939\n",
      "Running experiment with seed=25:\n",
      " - K=3, layers=1, hidden=256, out=256\n",
      " - norm=None, dropout=0, batch_size=10, reliable_mini_batch=True\n",
      " - ratio=0.13768039348918398, aggregation=mean, treatment=removal\n",
      " - model_type=SAGEConv, rate_pairs=13, clusters=100, lr=0.006517642211561937\n"
     ]
    },
    {
     "name": "stderr",
     "output_type": "stream",
     "text": [
      "Computing METIS partitioning...\n",
      "Done!\n"
     ]
    },
    {
     "name": "stdout",
     "output_type": "stream",
     "text": [
      "Epoch 0, Loss: 6.8775\n",
      "Epoch 10, Loss: 4.6304\n",
      "Epoch 20, Loss: 2.9217\n",
      "Epoch 30, Loss: 1.9142\n",
      "Epoch 40, Loss: 1.3295\n",
      " - Metrics: Accuracy=0.9411, F1=0.8539, Recall=0.8174, Precision=0.8939\n",
      "Running experiment with seed=759:\n",
      " - K=3, layers=1, hidden=256, out=256\n",
      " - norm=None, dropout=0, batch_size=10, reliable_mini_batch=True\n",
      " - ratio=0.13768039348918398, aggregation=mean, treatment=removal\n",
      " - model_type=SAGEConv, rate_pairs=13, clusters=100, lr=0.006517642211561937\n"
     ]
    },
    {
     "name": "stderr",
     "output_type": "stream",
     "text": [
      "Computing METIS partitioning...\n",
      "Done!\n"
     ]
    },
    {
     "name": "stdout",
     "output_type": "stream",
     "text": [
      "Epoch 0, Loss: 6.8775\n",
      "Epoch 10, Loss: 4.6304\n",
      "Epoch 20, Loss: 2.9217\n",
      "Epoch 30, Loss: 1.9142\n",
      "Epoch 40, Loss: 1.3295\n",
      " - Metrics: Accuracy=0.9411, F1=0.8539, Recall=0.8174, Precision=0.8939\n",
      "Running experiment with seed=281:\n",
      " - K=3, layers=1, hidden=256, out=256\n",
      " - norm=None, dropout=0, batch_size=10, reliable_mini_batch=True\n",
      " - ratio=0.13768039348918398, aggregation=mean, treatment=removal\n",
      " - model_type=SAGEConv, rate_pairs=13, clusters=100, lr=0.006517642211561937\n"
     ]
    },
    {
     "name": "stderr",
     "output_type": "stream",
     "text": [
      "Computing METIS partitioning...\n",
      "Done!\n"
     ]
    },
    {
     "name": "stdout",
     "output_type": "stream",
     "text": [
      "Epoch 0, Loss: 6.8775\n",
      "Epoch 10, Loss: 4.6304\n",
      "Epoch 20, Loss: 2.9217\n",
      "Epoch 30, Loss: 1.9142\n",
      "Epoch 40, Loss: 1.3295\n"
     ]
    },
    {
     "name": "stderr",
     "output_type": "stream",
     "text": [
      "[I 2025-03-12 14:24:33,146] Trial 100 finished with value: 0.8509671838077985 and parameters: {'K': 3, 'layers': 1, 'hidden_channels': 256, 'out_channels': 256, 'ratio': 0.13768039348918398, 'aggregation': 'mean', 'treatment': 'removal', 'model_type': 'SAGEConv', 'rate_pairs': 13, 'batch_size': 10, 'lr': 0.006517642211561937, 'clusters': 100}. Best is trial 8 with value: 0.8606204067072518.\n"
     ]
    },
    {
     "name": "stdout",
     "output_type": "stream",
     "text": [
      " - Metrics: Accuracy=0.9411, F1=0.8539, Recall=0.8174, Precision=0.8939\n",
      "Done. Results written to citeseer_experimentations\\citeseer_scar_sampling_nnif_batch_cluster_1203142158.csv.\n",
      "Average F1 over valid seeds: 0.8510 ± 0.0060\n",
      "Running experiment with seed=654:\n",
      " - K=3, layers=1, hidden=256, out=256\n",
      " - norm=None, dropout=0, batch_size=10, reliable_mini_batch=True\n",
      " - ratio=0.14321867024353185, aggregation=mean, treatment=removal\n",
      " - model_type=GATConv, rate_pairs=13, clusters=100, lr=0.008185860510701293\n"
     ]
    },
    {
     "name": "stderr",
     "output_type": "stream",
     "text": [
      "Computing METIS partitioning...\n",
      "Done!\n"
     ]
    },
    {
     "name": "stdout",
     "output_type": "stream",
     "text": [
      "Epoch 0, Loss: 6.8513\n",
      "Epoch 10, Loss: 4.0815\n",
      "Epoch 20, Loss: 2.3253\n",
      "Epoch 30, Loss: 1.5216\n",
      "Epoch 40, Loss: 0.9913\n",
      " - Metrics: Accuracy=0.9375, F1=0.8477, Recall=0.8260, Precision=0.8707\n",
      "Running experiment with seed=114:\n",
      " - K=3, layers=1, hidden=256, out=256\n",
      " - norm=None, dropout=0, batch_size=10, reliable_mini_batch=True\n",
      " - ratio=0.14321867024353185, aggregation=mean, treatment=removal\n",
      " - model_type=GATConv, rate_pairs=13, clusters=100, lr=0.008185860510701293\n"
     ]
    },
    {
     "name": "stderr",
     "output_type": "stream",
     "text": [
      "Computing METIS partitioning...\n",
      "Done!\n"
     ]
    },
    {
     "name": "stdout",
     "output_type": "stream",
     "text": [
      "Epoch 0, Loss: 6.6347\n",
      "Epoch 10, Loss: 3.9209\n",
      "Epoch 20, Loss: 2.2894\n",
      "Epoch 30, Loss: 1.4662\n",
      "Epoch 40, Loss: 0.9544\n",
      " - Metrics: Accuracy=0.9414, F1=0.8569, Recall=0.8331, Precision=0.8822\n",
      "Running experiment with seed=25:\n",
      " - K=3, layers=1, hidden=256, out=256\n",
      " - norm=None, dropout=0, batch_size=10, reliable_mini_batch=True\n",
      " - ratio=0.14321867024353185, aggregation=mean, treatment=removal\n",
      " - model_type=GATConv, rate_pairs=13, clusters=100, lr=0.008185860510701293\n"
     ]
    },
    {
     "name": "stderr",
     "output_type": "stream",
     "text": [
      "Computing METIS partitioning...\n",
      "Done!\n"
     ]
    },
    {
     "name": "stdout",
     "output_type": "stream",
     "text": [
      "Epoch 0, Loss: 6.6340\n",
      "Epoch 10, Loss: 3.9210\n",
      "Epoch 20, Loss: 2.2906\n",
      "Epoch 30, Loss: 1.4671\n",
      "Epoch 40, Loss: 0.9539\n",
      " - Metrics: Accuracy=0.9447, F1=0.8623, Recall=0.8217, Precision=0.9071\n",
      "Running experiment with seed=759:\n",
      " - K=3, layers=1, hidden=256, out=256\n",
      " - norm=None, dropout=0, batch_size=10, reliable_mini_batch=True\n",
      " - ratio=0.14321867024353185, aggregation=mean, treatment=removal\n",
      " - model_type=GATConv, rate_pairs=13, clusters=100, lr=0.008185860510701293\n"
     ]
    },
    {
     "name": "stderr",
     "output_type": "stream",
     "text": [
      "Computing METIS partitioning...\n",
      "Done!\n"
     ]
    },
    {
     "name": "stdout",
     "output_type": "stream",
     "text": [
      "Epoch 0, Loss: 6.6635\n",
      "Epoch 10, Loss: 3.9275\n",
      "Epoch 20, Loss: 2.2927\n",
      "Epoch 30, Loss: 1.4674\n",
      "Epoch 40, Loss: 0.9549\n",
      " - Metrics: Accuracy=0.9426, F1=0.8582, Recall=0.8245, Precision=0.8947\n",
      "Running experiment with seed=281:\n",
      " - K=3, layers=1, hidden=256, out=256\n",
      " - norm=None, dropout=0, batch_size=10, reliable_mini_batch=True\n",
      " - ratio=0.14321867024353185, aggregation=mean, treatment=removal\n",
      " - model_type=GATConv, rate_pairs=13, clusters=100, lr=0.008185860510701293\n"
     ]
    },
    {
     "name": "stderr",
     "output_type": "stream",
     "text": [
      "Computing METIS partitioning...\n",
      "Done!\n"
     ]
    },
    {
     "name": "stdout",
     "output_type": "stream",
     "text": [
      "Epoch 0, Loss: 6.6433\n",
      "Epoch 10, Loss: 3.9274\n",
      "Epoch 20, Loss: 2.2928\n",
      "Epoch 30, Loss: 1.4686\n",
      "Epoch 40, Loss: 0.9545\n"
     ]
    },
    {
     "name": "stderr",
     "output_type": "stream",
     "text": [
      "[I 2025-03-12 14:27:08,040] Trial 101 finished with value: 0.8571318610133734 and parameters: {'K': 3, 'layers': 1, 'hidden_channels': 256, 'out_channels': 256, 'ratio': 0.14321867024353185, 'aggregation': 'mean', 'treatment': 'removal', 'model_type': 'GATConv', 'rate_pairs': 13, 'batch_size': 10, 'lr': 0.008185860510701293, 'clusters': 100}. Best is trial 8 with value: 0.8606204067072518.\n"
     ]
    },
    {
     "name": "stdout",
     "output_type": "stream",
     "text": [
      " - Metrics: Accuracy=0.9432, F1=0.8605, Recall=0.8317, Precision=0.8914\n",
      "Done. Results written to citeseer_experimentations\\citeseer_scar_sampling_nnif_batch_cluster_1203142433.csv.\n",
      "Average F1 over valid seeds: 0.8571 ± 0.0050\n",
      "Running experiment with seed=654:\n",
      " - K=3, layers=1, hidden=256, out=256\n",
      " - norm=None, dropout=0, batch_size=10, reliable_mini_batch=True\n",
      " - ratio=0.14362045216422123, aggregation=mean, treatment=removal\n",
      " - model_type=GATConv, rate_pairs=13, clusters=100, lr=0.007252253744603938\n"
     ]
    },
    {
     "name": "stderr",
     "output_type": "stream",
     "text": [
      "Computing METIS partitioning...\n",
      "Done!\n"
     ]
    },
    {
     "name": "stdout",
     "output_type": "stream",
     "text": [
      "Epoch 0, Loss: 6.8572\n",
      "Epoch 10, Loss: 4.3490\n",
      "Epoch 20, Loss: 2.6347\n",
      "Epoch 30, Loss: 1.7788\n",
      "Epoch 40, Loss: 1.1763\n",
      " - Metrics: Accuracy=0.9414, F1=0.8561, Recall=0.8274, Precision=0.8869\n",
      "Running experiment with seed=114:\n",
      " - K=3, layers=1, hidden=256, out=256\n",
      " - norm=None, dropout=0, batch_size=10, reliable_mini_batch=True\n",
      " - ratio=0.14362045216422123, aggregation=mean, treatment=removal\n",
      " - model_type=GATConv, rate_pairs=13, clusters=100, lr=0.007252253744603938\n"
     ]
    },
    {
     "name": "stderr",
     "output_type": "stream",
     "text": [
      "Computing METIS partitioning...\n",
      "Done!\n"
     ]
    },
    {
     "name": "stdout",
     "output_type": "stream",
     "text": [
      "Epoch 0, Loss: 6.6311\n",
      "Epoch 10, Loss: 4.1706\n",
      "Epoch 20, Loss: 2.5912\n",
      "Epoch 30, Loss: 1.7098\n",
      "Epoch 40, Loss: 1.1282\n",
      " - Metrics: Accuracy=0.9432, F1=0.8603, Recall=0.8302, Precision=0.8926\n",
      "Running experiment with seed=25:\n",
      " - K=3, layers=1, hidden=256, out=256\n",
      " - norm=None, dropout=0, batch_size=10, reliable_mini_batch=True\n",
      " - ratio=0.14362045216422123, aggregation=mean, treatment=removal\n",
      " - model_type=GATConv, rate_pairs=13, clusters=100, lr=0.007252253744603938\n"
     ]
    },
    {
     "name": "stderr",
     "output_type": "stream",
     "text": [
      "Computing METIS partitioning...\n",
      "Done!\n"
     ]
    },
    {
     "name": "stdout",
     "output_type": "stream",
     "text": [
      "Epoch 0, Loss: 6.6692\n",
      "Epoch 10, Loss: 4.1927\n",
      "Epoch 20, Loss: 2.6059\n",
      "Epoch 30, Loss: 1.7208\n",
      "Epoch 40, Loss: 1.1360\n",
      " - Metrics: Accuracy=0.9423, F1=0.8565, Recall=0.8174, Precision=0.8995\n",
      "Running experiment with seed=759:\n",
      " - K=3, layers=1, hidden=256, out=256\n",
      " - norm=None, dropout=0, batch_size=10, reliable_mini_batch=True\n",
      " - ratio=0.14362045216422123, aggregation=mean, treatment=removal\n",
      " - model_type=GATConv, rate_pairs=13, clusters=100, lr=0.007252253744603938\n"
     ]
    },
    {
     "name": "stderr",
     "output_type": "stream",
     "text": [
      "Computing METIS partitioning...\n",
      "Done!\n"
     ]
    },
    {
     "name": "stdout",
     "output_type": "stream",
     "text": [
      "Epoch 0, Loss: 6.6541\n",
      "Epoch 10, Loss: 4.1850\n",
      "Epoch 20, Loss: 2.6009\n",
      "Epoch 30, Loss: 1.7159\n",
      "Epoch 40, Loss: 1.1330\n",
      " - Metrics: Accuracy=0.9450, F1=0.8647, Recall=0.8345, Precision=0.8972\n",
      "Running experiment with seed=281:\n",
      " - K=3, layers=1, hidden=256, out=256\n",
      " - norm=None, dropout=0, batch_size=10, reliable_mini_batch=True\n",
      " - ratio=0.14362045216422123, aggregation=mean, treatment=removal\n",
      " - model_type=GATConv, rate_pairs=13, clusters=100, lr=0.007252253744603938\n"
     ]
    },
    {
     "name": "stderr",
     "output_type": "stream",
     "text": [
      "Computing METIS partitioning...\n",
      "Done!\n"
     ]
    },
    {
     "name": "stdout",
     "output_type": "stream",
     "text": [
      "Epoch 0, Loss: 6.6307\n",
      "Epoch 10, Loss: 4.1693\n",
      "Epoch 20, Loss: 2.5900\n",
      "Epoch 30, Loss: 1.7109\n",
      "Epoch 40, Loss: 1.1288\n"
     ]
    },
    {
     "name": "stderr",
     "output_type": "stream",
     "text": [
      "[I 2025-03-12 14:29:43,266] Trial 102 finished with value: 0.8592523693207023 and parameters: {'K': 3, 'layers': 1, 'hidden_channels': 256, 'out_channels': 256, 'ratio': 0.14362045216422123, 'aggregation': 'mean', 'treatment': 'removal', 'model_type': 'GATConv', 'rate_pairs': 13, 'batch_size': 10, 'lr': 0.007252253744603938, 'clusters': 100}. Best is trial 8 with value: 0.8606204067072518.\n"
     ]
    },
    {
     "name": "stdout",
     "output_type": "stream",
     "text": [
      " - Metrics: Accuracy=0.9423, F1=0.8586, Recall=0.8317, Precision=0.8874\n",
      "Done. Results written to citeseer_experimentations\\citeseer_scar_sampling_nnif_batch_cluster_1203142708.csv.\n",
      "Average F1 over valid seeds: 0.8593 ± 0.0031\n",
      "Running experiment with seed=654:\n",
      " - K=3, layers=1, hidden=256, out=256\n",
      " - norm=None, dropout=0, batch_size=10, reliable_mini_batch=True\n",
      " - ratio=0.14284798418674413, aggregation=mean, treatment=removal\n",
      " - model_type=GATConv, rate_pairs=12, clusters=100, lr=0.008151720451909237\n"
     ]
    },
    {
     "name": "stderr",
     "output_type": "stream",
     "text": [
      "Computing METIS partitioning...\n",
      "Done!\n"
     ]
    },
    {
     "name": "stdout",
     "output_type": "stream",
     "text": [
      "Epoch 0, Loss: 6.8530\n",
      "Epoch 10, Loss: 4.0964\n",
      "Epoch 20, Loss: 2.3378\n",
      "Epoch 30, Loss: 1.5328\n",
      "Epoch 40, Loss: 0.9986\n",
      " - Metrics: Accuracy=0.9393, F1=0.8521, Recall=0.8302, Precision=0.8752\n",
      "Running experiment with seed=114:\n",
      " - K=3, layers=1, hidden=256, out=256\n",
      " - norm=None, dropout=0, batch_size=10, reliable_mini_batch=True\n",
      " - ratio=0.14284798418674413, aggregation=mean, treatment=removal\n",
      " - model_type=GATConv, rate_pairs=12, clusters=100, lr=0.008151720451909237\n"
     ]
    },
    {
     "name": "stderr",
     "output_type": "stream",
     "text": [
      "Computing METIS partitioning...\n",
      "Done!\n"
     ]
    },
    {
     "name": "stdout",
     "output_type": "stream",
     "text": [
      "Epoch 0, Loss: 6.6206\n",
      "Epoch 10, Loss: 3.9182\n",
      "Epoch 20, Loss: 2.2938\n",
      "Epoch 30, Loss: 1.4711\n",
      "Epoch 40, Loss: 0.9571\n",
      " - Metrics: Accuracy=0.9414, F1=0.8571, Recall=0.8345, Precision=0.8810\n",
      "Running experiment with seed=25:\n",
      " - K=3, layers=1, hidden=256, out=256\n",
      " - norm=None, dropout=0, batch_size=10, reliable_mini_batch=True\n",
      " - ratio=0.14284798418674413, aggregation=mean, treatment=removal\n",
      " - model_type=GATConv, rate_pairs=12, clusters=100, lr=0.008151720451909237\n"
     ]
    },
    {
     "name": "stderr",
     "output_type": "stream",
     "text": [
      "Computing METIS partitioning...\n",
      "Done!\n"
     ]
    },
    {
     "name": "stdout",
     "output_type": "stream",
     "text": [
      "Epoch 0, Loss: 6.6372\n",
      "Epoch 10, Loss: 3.9306\n",
      "Epoch 20, Loss: 2.3006\n",
      "Epoch 30, Loss: 1.4759\n",
      "Epoch 40, Loss: 0.9598\n",
      " - Metrics: Accuracy=0.9423, F1=0.8582, Recall=0.8288, Precision=0.8897\n",
      "Running experiment with seed=759:\n",
      " - K=3, layers=1, hidden=256, out=256\n",
      " - norm=None, dropout=0, batch_size=10, reliable_mini_batch=True\n",
      " - ratio=0.14284798418674413, aggregation=mean, treatment=removal\n",
      " - model_type=GATConv, rate_pairs=12, clusters=100, lr=0.008151720451909237\n"
     ]
    },
    {
     "name": "stderr",
     "output_type": "stream",
     "text": [
      "Computing METIS partitioning...\n",
      "Done!\n"
     ]
    },
    {
     "name": "stdout",
     "output_type": "stream",
     "text": [
      "Epoch 0, Loss: 6.6297\n",
      "Epoch 10, Loss: 3.9265\n",
      "Epoch 20, Loss: 2.2984\n",
      "Epoch 30, Loss: 1.4730\n",
      "Epoch 40, Loss: 0.9587\n",
      " - Metrics: Accuracy=0.9429, F1=0.8603, Recall=0.8345, Precision=0.8877\n",
      "Running experiment with seed=281:\n",
      " - K=3, layers=1, hidden=256, out=256\n",
      " - norm=None, dropout=0, batch_size=10, reliable_mini_batch=True\n",
      " - ratio=0.14284798418674413, aggregation=mean, treatment=removal\n",
      " - model_type=GATConv, rate_pairs=12, clusters=100, lr=0.008151720451909237\n"
     ]
    },
    {
     "name": "stderr",
     "output_type": "stream",
     "text": [
      "Computing METIS partitioning...\n",
      "Done!\n"
     ]
    },
    {
     "name": "stdout",
     "output_type": "stream",
     "text": [
      "Epoch 0, Loss: 6.5987\n",
      "Epoch 10, Loss: 3.9091\n",
      "Epoch 20, Loss: 2.2874\n",
      "Epoch 30, Loss: 1.4663\n",
      "Epoch 40, Loss: 0.9542\n"
     ]
    },
    {
     "name": "stderr",
     "output_type": "stream",
     "text": [
      "[I 2025-03-12 14:32:18,470] Trial 103 finished with value: 0.8570226039932161 and parameters: {'K': 3, 'layers': 1, 'hidden_channels': 256, 'out_channels': 256, 'ratio': 0.14284798418674413, 'aggregation': 'mean', 'treatment': 'removal', 'model_type': 'GATConv', 'rate_pairs': 12, 'batch_size': 10, 'lr': 0.008151720451909237, 'clusters': 100}. Best is trial 8 with value: 0.8606204067072518.\n"
     ]
    },
    {
     "name": "stdout",
     "output_type": "stream",
     "text": [
      " - Metrics: Accuracy=0.9423, F1=0.8574, Recall=0.8231, Precision=0.8946\n",
      "Done. Results written to citeseer_experimentations\\citeseer_scar_sampling_nnif_batch_cluster_1203142943.csv.\n",
      "Average F1 over valid seeds: 0.8570 ± 0.0027\n",
      "Running experiment with seed=654:\n",
      " - K=3, layers=1, hidden=256, out=256\n",
      " - norm=None, dropout=0, batch_size=10, reliable_mini_batch=True\n",
      " - ratio=0.14519634728729075, aggregation=mean, treatment=removal\n",
      " - model_type=GATConv, rate_pairs=11, clusters=100, lr=0.007725208247120892\n"
     ]
    },
    {
     "name": "stderr",
     "output_type": "stream",
     "text": [
      "Computing METIS partitioning...\n",
      "Done!\n"
     ]
    },
    {
     "name": "stdout",
     "output_type": "stream",
     "text": [
      "Epoch 0, Loss: 6.8388\n",
      "Epoch 10, Loss: 4.2034\n",
      "Epoch 20, Loss: 2.4656\n",
      "Epoch 30, Loss: 1.6395\n",
      "Epoch 40, Loss: 1.0753\n",
      " - Metrics: Accuracy=0.9405, F1=0.8553, Recall=0.8345, Precision=0.8771\n",
      "Running experiment with seed=114:\n",
      " - K=3, layers=1, hidden=256, out=256\n",
      " - norm=None, dropout=0, batch_size=10, reliable_mini_batch=True\n",
      " - ratio=0.14519634728729075, aggregation=mean, treatment=removal\n",
      " - model_type=GATConv, rate_pairs=11, clusters=100, lr=0.007725208247120892\n"
     ]
    },
    {
     "name": "stderr",
     "output_type": "stream",
     "text": [
      "Computing METIS partitioning...\n",
      "Done!\n"
     ]
    },
    {
     "name": "stdout",
     "output_type": "stream",
     "text": [
      "Epoch 0, Loss: 6.6411\n",
      "Epoch 10, Loss: 4.0468\n",
      "Epoch 20, Loss: 2.4348\n",
      "Epoch 30, Loss: 1.5814\n",
      "Epoch 40, Loss: 1.0353\n",
      " - Metrics: Accuracy=0.9402, F1=0.8527, Recall=0.8217, Precision=0.8862\n",
      "Running experiment with seed=25:\n",
      " - K=3, layers=1, hidden=256, out=256\n",
      " - norm=None, dropout=0, batch_size=10, reliable_mini_batch=True\n",
      " - ratio=0.14519634728729075, aggregation=mean, treatment=removal\n",
      " - model_type=GATConv, rate_pairs=11, clusters=100, lr=0.007725208247120892\n"
     ]
    },
    {
     "name": "stderr",
     "output_type": "stream",
     "text": [
      "Computing METIS partitioning...\n",
      "Done!\n"
     ]
    },
    {
     "name": "stdout",
     "output_type": "stream",
     "text": [
      "Epoch 0, Loss: 6.6233\n",
      "Epoch 10, Loss: 4.0345\n",
      "Epoch 20, Loss: 2.4289\n",
      "Epoch 30, Loss: 1.5777\n",
      "Epoch 40, Loss: 1.0324\n",
      " - Metrics: Accuracy=0.9420, F1=0.8574, Recall=0.8274, Precision=0.8896\n",
      "Running experiment with seed=759:\n",
      " - K=3, layers=1, hidden=256, out=256\n",
      " - norm=None, dropout=0, batch_size=10, reliable_mini_batch=True\n",
      " - ratio=0.14519634728729075, aggregation=mean, treatment=removal\n",
      " - model_type=GATConv, rate_pairs=11, clusters=100, lr=0.007725208247120892\n"
     ]
    },
    {
     "name": "stderr",
     "output_type": "stream",
     "text": [
      "Computing METIS partitioning...\n",
      "Done!\n"
     ]
    },
    {
     "name": "stdout",
     "output_type": "stream",
     "text": [
      "Epoch 0, Loss: 6.6363\n",
      "Epoch 10, Loss: 4.0409\n",
      "Epoch 20, Loss: 2.4315\n",
      "Epoch 30, Loss: 1.5801\n",
      "Epoch 40, Loss: 1.0350\n",
      " - Metrics: Accuracy=0.9417, F1=0.8565, Recall=0.8260, Precision=0.8894\n",
      "Running experiment with seed=281:\n",
      " - K=3, layers=1, hidden=256, out=256\n",
      " - norm=None, dropout=0, batch_size=10, reliable_mini_batch=True\n",
      " - ratio=0.14519634728729075, aggregation=mean, treatment=removal\n",
      " - model_type=GATConv, rate_pairs=11, clusters=100, lr=0.007725208247120892\n"
     ]
    },
    {
     "name": "stderr",
     "output_type": "stream",
     "text": [
      "Computing METIS partitioning...\n",
      "Done!\n"
     ]
    },
    {
     "name": "stdout",
     "output_type": "stream",
     "text": [
      "Epoch 0, Loss: 6.6204\n",
      "Epoch 10, Loss: 4.0325\n",
      "Epoch 20, Loss: 2.4270\n",
      "Epoch 30, Loss: 1.5767\n",
      "Epoch 40, Loss: 1.0322\n"
     ]
    },
    {
     "name": "stderr",
     "output_type": "stream",
     "text": [
      "[I 2025-03-12 14:34:54,377] Trial 104 finished with value: 0.8563832258811515 and parameters: {'K': 3, 'layers': 1, 'hidden_channels': 256, 'out_channels': 256, 'ratio': 0.14519634728729075, 'aggregation': 'mean', 'treatment': 'removal', 'model_type': 'GATConv', 'rate_pairs': 11, 'batch_size': 10, 'lr': 0.007725208247120892, 'clusters': 100}. Best is trial 8 with value: 0.8606204067072518.\n"
     ]
    },
    {
     "name": "stdout",
     "output_type": "stream",
     "text": [
      " - Metrics: Accuracy=0.9429, F1=0.8601, Recall=0.8331, Precision=0.8889\n",
      "Done. Results written to citeseer_experimentations\\citeseer_scar_sampling_nnif_batch_cluster_1203143218.csv.\n",
      "Average F1 over valid seeds: 0.8564 ± 0.0024\n",
      "Running experiment with seed=654:\n",
      " - K=3, layers=1, hidden=256, out=256\n",
      " - norm=None, dropout=0, batch_size=10, reliable_mini_batch=True\n",
      " - ratio=0.14131729813566332, aggregation=mean, treatment=removal\n",
      " - model_type=GATConv, rate_pairs=13, clusters=300, lr=0.006989333746481038\n"
     ]
    },
    {
     "name": "stderr",
     "output_type": "stream",
     "text": [
      "Computing METIS partitioning...\n",
      "Done!\n"
     ]
    },
    {
     "name": "stdout",
     "output_type": "stream",
     "text": [
      "Epoch 0, Loss: 20.1895\n",
      "Epoch 10, Loss: 5.5836\n",
      "Epoch 20, Loss: 2.3442\n",
      "Epoch 30, Loss: 1.2122\n",
      "Epoch 40, Loss: 0.7821\n",
      " - Metrics: Accuracy=0.9354, F1=0.8372, Recall=0.7889, Precision=0.8919\n",
      "Running experiment with seed=114:\n",
      " - K=3, layers=1, hidden=256, out=256\n",
      " - norm=None, dropout=0, batch_size=10, reliable_mini_batch=True\n",
      " - ratio=0.14131729813566332, aggregation=mean, treatment=removal\n",
      " - model_type=GATConv, rate_pairs=13, clusters=300, lr=0.006989333746481038\n"
     ]
    },
    {
     "name": "stderr",
     "output_type": "stream",
     "text": [
      "Computing METIS partitioning...\n",
      "Done!\n"
     ]
    },
    {
     "name": "stdout",
     "output_type": "stream",
     "text": [
      "Epoch 0, Loss: 20.6281\n",
      "Epoch 10, Loss: 5.6628\n",
      "Epoch 20, Loss: 2.4216\n",
      "Epoch 30, Loss: 1.2435\n",
      "Epoch 40, Loss: 0.7920\n",
      " - Metrics: Accuracy=0.9387, F1=0.8511, Recall=0.8317, Precision=0.8714\n",
      "Running experiment with seed=25:\n",
      " - K=3, layers=1, hidden=256, out=256\n",
      " - norm=None, dropout=0, batch_size=10, reliable_mini_batch=True\n",
      " - ratio=0.14131729813566332, aggregation=mean, treatment=removal\n",
      " - model_type=GATConv, rate_pairs=13, clusters=300, lr=0.006989333746481038\n"
     ]
    },
    {
     "name": "stderr",
     "output_type": "stream",
     "text": [
      "Computing METIS partitioning...\n",
      "Done!\n"
     ]
    },
    {
     "name": "stdout",
     "output_type": "stream",
     "text": [
      "Epoch 0, Loss: 20.5979\n",
      "Epoch 10, Loss: 5.6688\n",
      "Epoch 20, Loss: 2.4188\n",
      "Epoch 30, Loss: 1.2479\n",
      "Epoch 40, Loss: 0.7912\n",
      " - Metrics: Accuracy=0.9381, F1=0.8496, Recall=0.8302, Precision=0.8700\n",
      "Running experiment with seed=759:\n",
      " - K=3, layers=1, hidden=256, out=256\n",
      " - norm=None, dropout=0, batch_size=10, reliable_mini_batch=True\n",
      " - ratio=0.14131729813566332, aggregation=mean, treatment=removal\n",
      " - model_type=GATConv, rate_pairs=13, clusters=300, lr=0.006989333746481038\n"
     ]
    },
    {
     "name": "stderr",
     "output_type": "stream",
     "text": [
      "Computing METIS partitioning...\n",
      "Done!\n"
     ]
    },
    {
     "name": "stdout",
     "output_type": "stream",
     "text": [
      "Epoch 0, Loss: 20.5479\n",
      "Epoch 10, Loss: 5.6455\n",
      "Epoch 20, Loss: 2.4123\n",
      "Epoch 30, Loss: 1.2386\n",
      "Epoch 40, Loss: 0.7892\n",
      " - Metrics: Accuracy=0.9369, F1=0.8465, Recall=0.8260, Precision=0.8681\n",
      "Running experiment with seed=281:\n",
      " - K=3, layers=1, hidden=256, out=256\n",
      " - norm=None, dropout=0, batch_size=10, reliable_mini_batch=True\n",
      " - ratio=0.14131729813566332, aggregation=mean, treatment=removal\n",
      " - model_type=GATConv, rate_pairs=13, clusters=300, lr=0.006989333746481038\n"
     ]
    },
    {
     "name": "stderr",
     "output_type": "stream",
     "text": [
      "Computing METIS partitioning...\n",
      "Done!\n"
     ]
    },
    {
     "name": "stdout",
     "output_type": "stream",
     "text": [
      "Epoch 0, Loss: 20.5912\n",
      "Epoch 10, Loss: 5.6593\n",
      "Epoch 20, Loss: 2.4184\n",
      "Epoch 30, Loss: 1.2418\n",
      "Epoch 40, Loss: 0.7914\n"
     ]
    },
    {
     "name": "stderr",
     "output_type": "stream",
     "text": [
      "[I 2025-03-12 14:40:41,071] Trial 105 finished with value: 0.846474323663451 and parameters: {'K': 3, 'layers': 1, 'hidden_channels': 256, 'out_channels': 256, 'ratio': 0.14131729813566332, 'aggregation': 'mean', 'treatment': 'removal', 'model_type': 'GATConv', 'rate_pairs': 13, 'batch_size': 10, 'lr': 0.006989333746481038, 'clusters': 300}. Best is trial 8 with value: 0.8606204067072518.\n"
     ]
    },
    {
     "name": "stdout",
     "output_type": "stream",
     "text": [
      " - Metrics: Accuracy=0.9378, F1=0.8479, Recall=0.8231, Precision=0.8742\n",
      "Done. Results written to citeseer_experimentations\\citeseer_scar_sampling_nnif_batch_cluster_1203143454.csv.\n",
      "Average F1 over valid seeds: 0.8465 ± 0.0049\n",
      "Running experiment with seed=654:\n",
      " - K=3, layers=1, hidden=128, out=256\n",
      " - norm=None, dropout=0, batch_size=10, reliable_mini_batch=True\n",
      " - ratio=0.1342079135065879, aggregation=sum, treatment=removal\n",
      " - model_type=GATConv, rate_pairs=1, clusters=100, lr=0.007511688559799455\n"
     ]
    },
    {
     "name": "stderr",
     "output_type": "stream",
     "text": [
      "Computing METIS partitioning...\n",
      "Done!\n"
     ]
    },
    {
     "name": "stdout",
     "output_type": "stream",
     "text": [
      "Epoch 0, Loss: 6.8831\n",
      "Epoch 10, Loss: 4.2802\n",
      "Epoch 20, Loss: 2.5484\n",
      "Epoch 30, Loss: 1.7066\n",
      "Epoch 40, Loss: 1.1223\n",
      " - Metrics: Accuracy=0.9441, F1=0.8628, Recall=0.8345, Precision=0.8931\n",
      "Running experiment with seed=114:\n",
      " - K=3, layers=1, hidden=128, out=256\n",
      " - norm=None, dropout=0, batch_size=10, reliable_mini_batch=True\n",
      " - ratio=0.1342079135065879, aggregation=sum, treatment=removal\n",
      " - model_type=GATConv, rate_pairs=1, clusters=100, lr=0.007511688559799455\n"
     ]
    },
    {
     "name": "stderr",
     "output_type": "stream",
     "text": [
      "Computing METIS partitioning...\n",
      "Done!\n"
     ]
    },
    {
     "name": "stdout",
     "output_type": "stream",
     "text": [
      "Epoch 0, Loss: 6.6445\n",
      "Epoch 10, Loss: 4.0953\n",
      "Epoch 20, Loss: 2.4992\n",
      "Epoch 30, Loss: 1.6341\n",
      "Epoch 40, Loss: 1.0739\n",
      " - Metrics: Accuracy=0.9408, F1=0.8515, Recall=0.8060, Precision=0.9026\n",
      "Running experiment with seed=25:\n",
      " - K=3, layers=1, hidden=128, out=256\n",
      " - norm=None, dropout=0, batch_size=10, reliable_mini_batch=True\n",
      " - ratio=0.1342079135065879, aggregation=sum, treatment=removal\n",
      " - model_type=GATConv, rate_pairs=1, clusters=100, lr=0.007511688559799455\n"
     ]
    },
    {
     "name": "stderr",
     "output_type": "stream",
     "text": [
      "Computing METIS partitioning...\n",
      "Done!\n"
     ]
    },
    {
     "name": "stdout",
     "output_type": "stream",
     "text": [
      "Epoch 0, Loss: 6.6692\n",
      "Epoch 10, Loss: 4.1101\n",
      "Epoch 20, Loss: 2.5070\n",
      "Epoch 30, Loss: 1.6408\n",
      "Epoch 40, Loss: 1.0780\n",
      " - Metrics: Accuracy=0.9402, F1=0.8498, Recall=0.8031, Precision=0.9022\n",
      "Running experiment with seed=759:\n",
      " - K=3, layers=1, hidden=128, out=256\n",
      " - norm=None, dropout=0, batch_size=10, reliable_mini_batch=True\n",
      " - ratio=0.1342079135065879, aggregation=sum, treatment=removal\n",
      " - model_type=GATConv, rate_pairs=1, clusters=100, lr=0.007511688559799455\n"
     ]
    },
    {
     "name": "stderr",
     "output_type": "stream",
     "text": [
      "Computing METIS partitioning...\n",
      "Done!\n"
     ]
    },
    {
     "name": "stdout",
     "output_type": "stream",
     "text": [
      "Epoch 0, Loss: 6.6695\n",
      "Epoch 10, Loss: 4.1114\n",
      "Epoch 20, Loss: 2.5085\n",
      "Epoch 30, Loss: 1.6408\n",
      "Epoch 40, Loss: 1.0780\n",
      " - Metrics: Accuracy=0.9429, F1=0.8580, Recall=0.8188, Precision=0.9011\n",
      "Running experiment with seed=281:\n",
      " - K=3, layers=1, hidden=128, out=256\n",
      " - norm=None, dropout=0, batch_size=10, reliable_mini_batch=True\n",
      " - ratio=0.1342079135065879, aggregation=sum, treatment=removal\n",
      " - model_type=GATConv, rate_pairs=1, clusters=100, lr=0.007511688559799455\n"
     ]
    },
    {
     "name": "stderr",
     "output_type": "stream",
     "text": [
      "Computing METIS partitioning...\n",
      "Done!\n"
     ]
    },
    {
     "name": "stdout",
     "output_type": "stream",
     "text": [
      "Epoch 0, Loss: 6.6835\n",
      "Epoch 10, Loss: 4.1213\n",
      "Epoch 20, Loss: 2.5139\n",
      "Epoch 30, Loss: 1.6457\n",
      "Epoch 40, Loss: 1.0798\n"
     ]
    },
    {
     "name": "stderr",
     "output_type": "stream",
     "text": [
      "[I 2025-03-12 14:43:16,778] Trial 106 finished with value: 0.8573057972186702 and parameters: {'K': 3, 'layers': 1, 'hidden_channels': 128, 'out_channels': 256, 'ratio': 0.1342079135065879, 'aggregation': 'sum', 'treatment': 'removal', 'model_type': 'GATConv', 'rate_pairs': 1, 'batch_size': 10, 'lr': 0.007511688559799455, 'clusters': 100}. Best is trial 8 with value: 0.8606204067072518.\n"
     ]
    },
    {
     "name": "stdout",
     "output_type": "stream",
     "text": [
      " - Metrics: Accuracy=0.9450, F1=0.8643, Recall=0.8317, Precision=0.8997\n",
      "Done. Results written to citeseer_experimentations\\citeseer_scar_sampling_nnif_batch_cluster_1203144041.csv.\n",
      "Average F1 over valid seeds: 0.8573 ± 0.0058\n",
      "Running experiment with seed=654:\n",
      " - K=3, layers=1, hidden=128, out=64\n",
      " - norm=None, dropout=0, batch_size=10, reliable_mini_batch=True\n",
      " - ratio=0.12436987155653662, aggregation=sum, treatment=removal\n",
      " - model_type=GATConv, rate_pairs=2, clusters=100, lr=0.0075367305731294685\n"
     ]
    },
    {
     "name": "stderr",
     "output_type": "stream",
     "text": [
      "Computing METIS partitioning...\n",
      "Done!\n"
     ]
    },
    {
     "name": "stdout",
     "output_type": "stream",
     "text": [
      "Epoch 0, Loss: 7.1154\n",
      "Epoch 10, Loss: 4.5752\n",
      "Epoch 20, Loss: 2.6332\n",
      "Epoch 30, Loss: 1.6988\n",
      "Epoch 40, Loss: 1.1557\n",
      " - Metrics: Accuracy=0.9339, F1=0.8408, Recall=0.8288, Precision=0.8532\n",
      "Running experiment with seed=114:\n",
      " - K=3, layers=1, hidden=128, out=64\n",
      " - norm=None, dropout=0, batch_size=10, reliable_mini_batch=True\n",
      " - ratio=0.12436987155653662, aggregation=sum, treatment=removal\n",
      " - model_type=GATConv, rate_pairs=2, clusters=100, lr=0.0075367305731294685\n"
     ]
    },
    {
     "name": "stderr",
     "output_type": "stream",
     "text": [
      "Computing METIS partitioning...\n",
      "Done!\n"
     ]
    },
    {
     "name": "stdout",
     "output_type": "stream",
     "text": [
      "Epoch 0, Loss: 6.8153\n",
      "Epoch 10, Loss: 4.3771\n",
      "Epoch 20, Loss: 2.5584\n",
      "Epoch 30, Loss: 1.6069\n",
      "Epoch 40, Loss: 1.1281\n",
      " - Metrics: Accuracy=0.9405, F1=0.8548, Recall=0.8317, Precision=0.8793\n",
      "Running experiment with seed=25:\n",
      " - K=3, layers=1, hidden=128, out=64\n",
      " - norm=None, dropout=0, batch_size=10, reliable_mini_batch=True\n",
      " - ratio=0.12436987155653662, aggregation=sum, treatment=removal\n",
      " - model_type=GATConv, rate_pairs=2, clusters=100, lr=0.0075367305731294685\n"
     ]
    },
    {
     "name": "stderr",
     "output_type": "stream",
     "text": [
      "Computing METIS partitioning...\n",
      "Done!\n"
     ]
    },
    {
     "name": "stdout",
     "output_type": "stream",
     "text": [
      "Epoch 0, Loss: 6.7924\n",
      "Epoch 10, Loss: 4.3624\n",
      "Epoch 20, Loss: 2.5496\n",
      "Epoch 30, Loss: 1.6018\n",
      "Epoch 40, Loss: 1.1239\n",
      " - Metrics: Accuracy=0.9417, F1=0.8580, Recall=0.8359, Precision=0.8812\n",
      "Running experiment with seed=759:\n",
      " - K=3, layers=1, hidden=128, out=64\n",
      " - norm=None, dropout=0, batch_size=10, reliable_mini_batch=True\n",
      " - ratio=0.12436987155653662, aggregation=sum, treatment=removal\n",
      " - model_type=GATConv, rate_pairs=2, clusters=100, lr=0.0075367305731294685\n"
     ]
    },
    {
     "name": "stderr",
     "output_type": "stream",
     "text": [
      "Computing METIS partitioning...\n",
      "Done!\n"
     ]
    },
    {
     "name": "stdout",
     "output_type": "stream",
     "text": [
      "Epoch 0, Loss: 6.8166\n",
      "Epoch 10, Loss: 4.3800\n",
      "Epoch 20, Loss: 2.5586\n",
      "Epoch 30, Loss: 1.6067\n",
      "Epoch 40, Loss: 1.1271\n",
      " - Metrics: Accuracy=0.9405, F1=0.8544, Recall=0.8288, Precision=0.8816\n",
      "Running experiment with seed=281:\n",
      " - K=3, layers=1, hidden=128, out=64\n",
      " - norm=None, dropout=0, batch_size=10, reliable_mini_batch=True\n",
      " - ratio=0.12436987155653662, aggregation=sum, treatment=removal\n",
      " - model_type=GATConv, rate_pairs=2, clusters=100, lr=0.0075367305731294685\n"
     ]
    },
    {
     "name": "stderr",
     "output_type": "stream",
     "text": [
      "Computing METIS partitioning...\n",
      "Done!\n"
     ]
    },
    {
     "name": "stdout",
     "output_type": "stream",
     "text": [
      "Epoch 0, Loss: 6.8129\n",
      "Epoch 10, Loss: 4.3700\n",
      "Epoch 20, Loss: 2.5500\n",
      "Epoch 30, Loss: 1.6017\n",
      "Epoch 40, Loss: 1.1236\n"
     ]
    },
    {
     "name": "stderr",
     "output_type": "stream",
     "text": [
      "[I 2025-03-12 14:45:29,546] Trial 107 finished with value: 0.8509747950106915 and parameters: {'K': 3, 'layers': 1, 'hidden_channels': 128, 'out_channels': 64, 'ratio': 0.12436987155653662, 'aggregation': 'sum', 'treatment': 'removal', 'model_type': 'GATConv', 'rate_pairs': 2, 'batch_size': 10, 'lr': 0.0075367305731294685, 'clusters': 100}. Best is trial 8 with value: 0.8606204067072518.\n"
     ]
    },
    {
     "name": "stdout",
     "output_type": "stream",
     "text": [
      " - Metrics: Accuracy=0.9375, F1=0.8468, Recall=0.8203, Precision=0.8752\n",
      "Done. Results written to citeseer_experimentations\\citeseer_scar_sampling_nnif_batch_cluster_1203144316.csv.\n",
      "Average F1 over valid seeds: 0.8510 ± 0.0063\n",
      "Running experiment with seed=654:\n",
      " - K=3, layers=1, hidden=128, out=256\n",
      " - norm=None, dropout=0, batch_size=10, reliable_mini_batch=True\n",
      " - ratio=0.13363867443718572, aggregation=sum, treatment=removal\n",
      " - model_type=GATConv, rate_pairs=1, clusters=100, lr=0.007232746655733197\n"
     ]
    },
    {
     "name": "stderr",
     "output_type": "stream",
     "text": [
      "Computing METIS partitioning...\n",
      "Done!\n"
     ]
    },
    {
     "name": "stdout",
     "output_type": "stream",
     "text": [
      "Epoch 0, Loss: 6.8899\n",
      "Epoch 10, Loss: 4.3682\n",
      "Epoch 20, Loss: 2.6494\n",
      "Epoch 30, Loss: 1.7905\n",
      "Epoch 40, Loss: 1.1840\n",
      " - Metrics: Accuracy=0.9417, F1=0.8554, Recall=0.8188, Precision=0.8955\n",
      "Running experiment with seed=114:\n",
      " - K=3, layers=1, hidden=128, out=256\n",
      " - norm=None, dropout=0, batch_size=10, reliable_mini_batch=True\n",
      " - ratio=0.13363867443718572, aggregation=sum, treatment=removal\n",
      " - model_type=GATConv, rate_pairs=1, clusters=100, lr=0.007232746655733197\n"
     ]
    },
    {
     "name": "stderr",
     "output_type": "stream",
     "text": [
      "Computing METIS partitioning...\n",
      "Done!\n"
     ]
    },
    {
     "name": "stdout",
     "output_type": "stream",
     "text": [
      "Epoch 0, Loss: 6.6526\n",
      "Epoch 10, Loss: 4.1850\n",
      "Epoch 20, Loss: 2.6039\n",
      "Epoch 30, Loss: 1.7208\n",
      "Epoch 40, Loss: 1.1367\n",
      " - Metrics: Accuracy=0.9450, F1=0.8635, Recall=0.8260, Precision=0.9047\n",
      "Running experiment with seed=25:\n",
      " - K=3, layers=1, hidden=128, out=256\n",
      " - norm=None, dropout=0, batch_size=10, reliable_mini_batch=True\n",
      " - ratio=0.13363867443718572, aggregation=sum, treatment=removal\n",
      " - model_type=GATConv, rate_pairs=1, clusters=100, lr=0.007232746655733197\n"
     ]
    },
    {
     "name": "stderr",
     "output_type": "stream",
     "text": [
      "Computing METIS partitioning...\n",
      "Done!\n"
     ]
    },
    {
     "name": "stdout",
     "output_type": "stream",
     "text": [
      "Epoch 0, Loss: 6.6471\n",
      "Epoch 10, Loss: 4.1792\n",
      "Epoch 20, Loss: 2.6021\n",
      "Epoch 30, Loss: 1.7185\n",
      "Epoch 40, Loss: 1.1350\n",
      " - Metrics: Accuracy=0.9426, F1=0.8574, Recall=0.8188, Precision=0.8997\n",
      "Running experiment with seed=759:\n",
      " - K=3, layers=1, hidden=128, out=256\n",
      " - norm=None, dropout=0, batch_size=10, reliable_mini_batch=True\n",
      " - ratio=0.13363867443718572, aggregation=sum, treatment=removal\n",
      " - model_type=GATConv, rate_pairs=1, clusters=100, lr=0.007232746655733197\n"
     ]
    },
    {
     "name": "stderr",
     "output_type": "stream",
     "text": [
      "Computing METIS partitioning...\n",
      "Done!\n"
     ]
    },
    {
     "name": "stdout",
     "output_type": "stream",
     "text": [
      "Epoch 0, Loss: 6.6825\n",
      "Epoch 10, Loss: 4.1948\n",
      "Epoch 20, Loss: 2.6087\n",
      "Epoch 30, Loss: 1.7235\n",
      "Epoch 40, Loss: 1.1371\n",
      " - Metrics: Accuracy=0.9435, F1=0.8595, Recall=0.8203, Precision=0.9027\n",
      "Running experiment with seed=281:\n",
      " - K=3, layers=1, hidden=128, out=256\n",
      " - norm=None, dropout=0, batch_size=10, reliable_mini_batch=True\n",
      " - ratio=0.13363867443718572, aggregation=sum, treatment=removal\n",
      " - model_type=GATConv, rate_pairs=1, clusters=100, lr=0.007232746655733197\n"
     ]
    },
    {
     "name": "stderr",
     "output_type": "stream",
     "text": [
      "Computing METIS partitioning...\n",
      "Done!\n"
     ]
    },
    {
     "name": "stdout",
     "output_type": "stream",
     "text": [
      "Epoch 0, Loss: 6.6574\n",
      "Epoch 10, Loss: 4.1850\n",
      "Epoch 20, Loss: 2.6023\n",
      "Epoch 30, Loss: 1.7185\n",
      "Epoch 40, Loss: 1.1335\n"
     ]
    },
    {
     "name": "stderr",
     "output_type": "stream",
     "text": [
      "[I 2025-03-12 14:48:03,311] Trial 108 finished with value: 0.8585502343325428 and parameters: {'K': 3, 'layers': 1, 'hidden_channels': 128, 'out_channels': 256, 'ratio': 0.13363867443718572, 'aggregation': 'sum', 'treatment': 'removal', 'model_type': 'GATConv', 'rate_pairs': 1, 'batch_size': 10, 'lr': 0.007232746655733197, 'clusters': 100}. Best is trial 8 with value: 0.8606204067072518.\n"
     ]
    },
    {
     "name": "stdout",
     "output_type": "stream",
     "text": [
      " - Metrics: Accuracy=0.9426, F1=0.8569, Recall=0.8160, Precision=0.9022\n",
      "Done. Results written to citeseer_experimentations\\citeseer_scar_sampling_nnif_batch_cluster_1203144529.csv.\n",
      "Average F1 over valid seeds: 0.8586 ± 0.0028\n",
      "Running experiment with seed=654:\n",
      " - K=4, layers=1, hidden=128, out=256\n",
      " - norm=None, dropout=0, batch_size=10, reliable_mini_batch=True\n",
      " - ratio=0.13175820415873093, aggregation=sum, treatment=removal\n",
      " - model_type=GATConv, rate_pairs=2, clusters=100, lr=0.006469845581402529\n"
     ]
    },
    {
     "name": "stderr",
     "output_type": "stream",
     "text": [
      "Computing METIS partitioning...\n",
      "Done!\n"
     ]
    },
    {
     "name": "stdout",
     "output_type": "stream",
     "text": [
      "Epoch 0, Loss: 7.9183\n",
      "Epoch 10, Loss: 5.5458\n",
      "Epoch 20, Loss: 3.6065\n",
      "Epoch 30, Loss: 2.4699\n",
      "Epoch 40, Loss: 1.6281\n",
      " - Metrics: Accuracy=0.9420, F1=0.8571, Recall=0.8260, Precision=0.8908\n",
      "Running experiment with seed=114:\n",
      " - K=4, layers=1, hidden=128, out=256\n",
      " - norm=None, dropout=0, batch_size=10, reliable_mini_batch=True\n",
      " - ratio=0.13175820415873093, aggregation=sum, treatment=removal\n",
      " - model_type=GATConv, rate_pairs=2, clusters=100, lr=0.006469845581402529\n"
     ]
    },
    {
     "name": "stderr",
     "output_type": "stream",
     "text": [
      "Computing METIS partitioning...\n",
      "Done!\n"
     ]
    },
    {
     "name": "stdout",
     "output_type": "stream",
     "text": [
      "Epoch 0, Loss: 7.5815\n",
      "Epoch 10, Loss: 5.3169\n",
      "Epoch 20, Loss: 3.5343\n",
      "Epoch 30, Loss: 2.3620\n",
      "Epoch 40, Loss: 1.5500\n",
      " - Metrics: Accuracy=0.9408, F1=0.8529, Recall=0.8146, Precision=0.8950\n",
      "Running experiment with seed=25:\n",
      " - K=4, layers=1, hidden=128, out=256\n",
      " - norm=None, dropout=0, batch_size=10, reliable_mini_batch=True\n",
      " - ratio=0.13175820415873093, aggregation=sum, treatment=removal\n",
      " - model_type=GATConv, rate_pairs=2, clusters=100, lr=0.006469845581402529\n"
     ]
    },
    {
     "name": "stderr",
     "output_type": "stream",
     "text": [
      "Computing METIS partitioning...\n",
      "Done!\n"
     ]
    },
    {
     "name": "stdout",
     "output_type": "stream",
     "text": [
      "Epoch 0, Loss: 7.5935\n",
      "Epoch 10, Loss: 5.3307\n",
      "Epoch 20, Loss: 3.5409\n",
      "Epoch 30, Loss: 2.3632\n",
      "Epoch 40, Loss: 1.5507\n",
      " - Metrics: Accuracy=0.9414, F1=0.8539, Recall=0.8131, Precision=0.8991\n",
      "Running experiment with seed=759:\n",
      " - K=4, layers=1, hidden=128, out=256\n",
      " - norm=None, dropout=0, batch_size=10, reliable_mini_batch=True\n",
      " - ratio=0.13175820415873093, aggregation=sum, treatment=removal\n",
      " - model_type=GATConv, rate_pairs=2, clusters=100, lr=0.006469845581402529\n"
     ]
    },
    {
     "name": "stderr",
     "output_type": "stream",
     "text": [
      "Computing METIS partitioning...\n",
      "Done!\n"
     ]
    },
    {
     "name": "stdout",
     "output_type": "stream",
     "text": [
      "Epoch 0, Loss: 7.6399\n",
      "Epoch 10, Loss: 5.3476\n",
      "Epoch 20, Loss: 3.5524\n",
      "Epoch 30, Loss: 2.3719\n",
      "Epoch 40, Loss: 1.5572\n",
      " - Metrics: Accuracy=0.9429, F1=0.8571, Recall=0.8131, Precision=0.9062\n",
      "Running experiment with seed=281:\n",
      " - K=4, layers=1, hidden=128, out=256\n",
      " - norm=None, dropout=0, batch_size=10, reliable_mini_batch=True\n",
      " - ratio=0.13175820415873093, aggregation=sum, treatment=removal\n",
      " - model_type=GATConv, rate_pairs=2, clusters=100, lr=0.006469845581402529\n"
     ]
    },
    {
     "name": "stderr",
     "output_type": "stream",
     "text": [
      "Computing METIS partitioning...\n",
      "Done!\n"
     ]
    },
    {
     "name": "stdout",
     "output_type": "stream",
     "text": [
      "Epoch 0, Loss: 7.6507\n",
      "Epoch 10, Loss: 5.3483\n",
      "Epoch 20, Loss: 3.5560\n",
      "Epoch 30, Loss: 2.3739\n",
      "Epoch 40, Loss: 1.5576\n"
     ]
    },
    {
     "name": "stderr",
     "output_type": "stream",
     "text": [
      "[I 2025-03-12 14:50:42,939] Trial 109 finished with value: 0.8566792123370203 and parameters: {'K': 4, 'layers': 1, 'hidden_channels': 128, 'out_channels': 256, 'ratio': 0.13175820415873093, 'aggregation': 'sum', 'treatment': 'removal', 'model_type': 'GATConv', 'rate_pairs': 2, 'batch_size': 10, 'lr': 0.006469845581402529, 'clusters': 100}. Best is trial 8 with value: 0.8606204067072518.\n"
     ]
    },
    {
     "name": "stdout",
     "output_type": "stream",
     "text": [
      " - Metrics: Accuracy=0.9450, F1=0.8623, Recall=0.8174, Precision=0.9124\n",
      "Done. Results written to citeseer_experimentations\\citeseer_scar_sampling_nnif_batch_cluster_1203144803.csv.\n",
      "Average F1 over valid seeds: 0.8567 ± 0.0033\n",
      "Running experiment with seed=654:\n",
      " - K=2, layers=2, hidden=128, out=256\n",
      " - norm=None, dropout=0, batch_size=1, reliable_mini_batch=True\n",
      " - ratio=0.13630270117312412, aggregation=sum, treatment=removal\n",
      " - model_type=GATConv, rate_pairs=5, clusters=200, lr=0.007191594638029486\n"
     ]
    },
    {
     "name": "stderr",
     "output_type": "stream",
     "text": [
      "Computing METIS partitioning...\n",
      "Done!\n",
      "[I 2025-03-12 14:50:44,812] Trial 110 finished with value: 0.0 and parameters: {'K': 2, 'layers': 2, 'hidden_channels': 128, 'out_channels': 256, 'ratio': 0.13630270117312412, 'aggregation': 'sum', 'treatment': 'removal', 'model_type': 'GATConv', 'rate_pairs': 5, 'batch_size': 1, 'lr': 0.007191594638029486, 'clusters': 200}. Best is trial 8 with value: 0.8606204067072518.\n"
     ]
    },
    {
     "name": "stdout",
     "output_type": "stream",
     "text": [
      "Error: Labels must be in {0,1}, got [0].\n",
      "Done. Results written to citeseer_experimentations\\citeseer_scar_sampling_nnif_batch_cluster_1203145043.csv.\n",
      "Average F1 over valid seeds: 0.0000 ± 0.0000\n",
      "Running experiment with seed=654:\n",
      " - K=3, layers=1, hidden=128, out=256\n",
      " - norm=None, dropout=0, batch_size=10, reliable_mini_batch=True\n",
      " - ratio=0.13366632271831674, aggregation=sum, treatment=removal\n",
      " - model_type=GATConv, rate_pairs=1, clusters=100, lr=0.006710673754668615\n"
     ]
    },
    {
     "name": "stderr",
     "output_type": "stream",
     "text": [
      "Computing METIS partitioning...\n",
      "Done!\n"
     ]
    },
    {
     "name": "stdout",
     "output_type": "stream",
     "text": [
      "Epoch 0, Loss: 6.8779\n",
      "Epoch 10, Loss: 4.5085\n",
      "Epoch 20, Loss: 2.8375\n",
      "Epoch 30, Loss: 1.9571\n",
      "Epoch 40, Loss: 1.3078\n",
      " - Metrics: Accuracy=0.9408, F1=0.8537, Recall=0.8203, Precision=0.8901\n",
      "Running experiment with seed=114:\n",
      " - K=3, layers=1, hidden=128, out=256\n",
      " - norm=None, dropout=0, batch_size=10, reliable_mini_batch=True\n",
      " - ratio=0.13366632271831674, aggregation=sum, treatment=removal\n",
      " - model_type=GATConv, rate_pairs=1, clusters=100, lr=0.006710673754668615\n"
     ]
    },
    {
     "name": "stderr",
     "output_type": "stream",
     "text": [
      "Computing METIS partitioning...\n",
      "Done!\n"
     ]
    },
    {
     "name": "stdout",
     "output_type": "stream",
     "text": [
      "Epoch 0, Loss: 6.7098\n",
      "Epoch 10, Loss: 4.3580\n",
      "Epoch 20, Loss: 2.8112\n",
      "Epoch 30, Loss: 1.8957\n",
      "Epoch 40, Loss: 1.2641\n",
      " - Metrics: Accuracy=0.9423, F1=0.8561, Recall=0.8146, Precision=0.9021\n",
      "Running experiment with seed=25:\n",
      " - K=3, layers=1, hidden=128, out=256\n",
      " - norm=None, dropout=0, batch_size=10, reliable_mini_batch=True\n",
      " - ratio=0.13366632271831674, aggregation=sum, treatment=removal\n",
      " - model_type=GATConv, rate_pairs=1, clusters=100, lr=0.006710673754668615\n"
     ]
    },
    {
     "name": "stderr",
     "output_type": "stream",
     "text": [
      "Computing METIS partitioning...\n",
      "Done!\n"
     ]
    },
    {
     "name": "stdout",
     "output_type": "stream",
     "text": [
      "Epoch 0, Loss: 6.6876\n",
      "Epoch 10, Loss: 4.3451\n",
      "Epoch 20, Loss: 2.8035\n",
      "Epoch 30, Loss: 1.8909\n",
      "Epoch 40, Loss: 1.2611\n",
      " - Metrics: Accuracy=0.9384, F1=0.8467, Recall=0.8074, Precision=0.8899\n",
      "Running experiment with seed=759:\n",
      " - K=3, layers=1, hidden=128, out=256\n",
      " - norm=None, dropout=0, batch_size=10, reliable_mini_batch=True\n",
      " - ratio=0.13366632271831674, aggregation=sum, treatment=removal\n",
      " - model_type=GATConv, rate_pairs=1, clusters=100, lr=0.006710673754668615\n"
     ]
    },
    {
     "name": "stderr",
     "output_type": "stream",
     "text": [
      "Computing METIS partitioning...\n",
      "Done!\n"
     ]
    },
    {
     "name": "stdout",
     "output_type": "stream",
     "text": [
      "Epoch 0, Loss: 6.6944\n",
      "Epoch 10, Loss: 4.3479\n",
      "Epoch 20, Loss: 2.8037\n",
      "Epoch 30, Loss: 1.8923\n",
      "Epoch 40, Loss: 1.2609\n",
      " - Metrics: Accuracy=0.9435, F1=0.8595, Recall=0.8203, Precision=0.9027\n",
      "Running experiment with seed=281:\n",
      " - K=3, layers=1, hidden=128, out=256\n",
      " - norm=None, dropout=0, batch_size=10, reliable_mini_batch=True\n",
      " - ratio=0.13366632271831674, aggregation=sum, treatment=removal\n",
      " - model_type=GATConv, rate_pairs=1, clusters=100, lr=0.006710673754668615\n"
     ]
    },
    {
     "name": "stderr",
     "output_type": "stream",
     "text": [
      "Computing METIS partitioning...\n",
      "Done!\n"
     ]
    },
    {
     "name": "stdout",
     "output_type": "stream",
     "text": [
      "Epoch 0, Loss: 6.6908\n",
      "Epoch 10, Loss: 4.3444\n",
      "Epoch 20, Loss: 2.8028\n",
      "Epoch 30, Loss: 1.8901\n",
      "Epoch 40, Loss: 1.2604\n"
     ]
    },
    {
     "name": "stderr",
     "output_type": "stream",
     "text": [
      "[I 2025-03-12 14:53:19,160] Trial 111 finished with value: 0.8550109865052301 and parameters: {'K': 3, 'layers': 1, 'hidden_channels': 128, 'out_channels': 256, 'ratio': 0.13366632271831674, 'aggregation': 'sum', 'treatment': 'removal', 'model_type': 'GATConv', 'rate_pairs': 1, 'batch_size': 10, 'lr': 0.006710673754668615, 'clusters': 100}. Best is trial 8 with value: 0.8606204067072518.\n"
     ]
    },
    {
     "name": "stdout",
     "output_type": "stream",
     "text": [
      " - Metrics: Accuracy=0.9435, F1=0.8591, Recall=0.8174, Precision=0.9052\n",
      "Done. Results written to citeseer_experimentations\\citeseer_scar_sampling_nnif_batch_cluster_1203145044.csv.\n",
      "Average F1 over valid seeds: 0.8550 ± 0.0047\n",
      "Running experiment with seed=654:\n",
      " - K=3, layers=1, hidden=128, out=256\n",
      " - norm=None, dropout=0, batch_size=10, reliable_mini_batch=True\n",
      " - ratio=0.1297867671340542, aggregation=sum, treatment=removal\n",
      " - model_type=GATConv, rate_pairs=1, clusters=100, lr=0.007888361725499194\n"
     ]
    },
    {
     "name": "stderr",
     "output_type": "stream",
     "text": [
      "Computing METIS partitioning...\n",
      "Done!\n"
     ]
    },
    {
     "name": "stdout",
     "output_type": "stream",
     "text": [
      "Epoch 0, Loss: 6.8752\n",
      "Epoch 10, Loss: 4.1597\n",
      "Epoch 20, Loss: 2.4143\n",
      "Epoch 30, Loss: 1.5959\n",
      "Epoch 40, Loss: 1.0433\n",
      " - Metrics: Accuracy=0.9408, F1=0.8542, Recall=0.8231, Precision=0.8877\n",
      "Running experiment with seed=114:\n",
      " - K=3, layers=1, hidden=128, out=256\n",
      " - norm=None, dropout=0, batch_size=10, reliable_mini_batch=True\n",
      " - ratio=0.1297867671340542, aggregation=sum, treatment=removal\n",
      " - model_type=GATConv, rate_pairs=1, clusters=100, lr=0.007888361725499194\n"
     ]
    },
    {
     "name": "stderr",
     "output_type": "stream",
     "text": [
      "Computing METIS partitioning...\n",
      "Done!\n"
     ]
    },
    {
     "name": "stdout",
     "output_type": "stream",
     "text": [
      "Epoch 0, Loss: 6.6885\n",
      "Epoch 10, Loss: 4.0172\n",
      "Epoch 20, Loss: 2.3923\n",
      "Epoch 30, Loss: 1.5447\n",
      "Epoch 40, Loss: 1.0092\n",
      " - Metrics: Accuracy=0.9432, F1=0.8586, Recall=0.8188, Precision=0.9025\n",
      "Running experiment with seed=25:\n",
      " - K=3, layers=1, hidden=128, out=256\n",
      " - norm=None, dropout=0, batch_size=10, reliable_mini_batch=True\n",
      " - ratio=0.1297867671340542, aggregation=sum, treatment=removal\n",
      " - model_type=GATConv, rate_pairs=1, clusters=100, lr=0.007888361725499194\n"
     ]
    },
    {
     "name": "stderr",
     "output_type": "stream",
     "text": [
      "Computing METIS partitioning...\n",
      "Done!\n"
     ]
    },
    {
     "name": "stdout",
     "output_type": "stream",
     "text": [
      "Epoch 0, Loss: 6.6705\n",
      "Epoch 10, Loss: 4.0199\n",
      "Epoch 20, Loss: 2.3937\n",
      "Epoch 30, Loss: 1.5473\n",
      "Epoch 40, Loss: 1.0108\n",
      " - Metrics: Accuracy=0.9411, F1=0.8522, Recall=0.8060, Precision=0.9040\n",
      "Running experiment with seed=759:\n",
      " - K=3, layers=1, hidden=128, out=256\n",
      " - norm=None, dropout=0, batch_size=10, reliable_mini_batch=True\n",
      " - ratio=0.1297867671340542, aggregation=sum, treatment=removal\n",
      " - model_type=GATConv, rate_pairs=1, clusters=100, lr=0.007888361725499194\n"
     ]
    },
    {
     "name": "stderr",
     "output_type": "stream",
     "text": [
      "Computing METIS partitioning...\n",
      "Done!\n"
     ]
    },
    {
     "name": "stdout",
     "output_type": "stream",
     "text": [
      "Epoch 0, Loss: 6.6336\n",
      "Epoch 10, Loss: 3.9966\n",
      "Epoch 20, Loss: 2.3786\n",
      "Epoch 30, Loss: 1.5387\n",
      "Epoch 40, Loss: 1.0043\n",
      " - Metrics: Accuracy=0.9423, F1=0.8567, Recall=0.8188, Precision=0.8983\n",
      "Running experiment with seed=281:\n",
      " - K=3, layers=1, hidden=128, out=256\n",
      " - norm=None, dropout=0, batch_size=10, reliable_mini_batch=True\n",
      " - ratio=0.1297867671340542, aggregation=sum, treatment=removal\n",
      " - model_type=GATConv, rate_pairs=1, clusters=100, lr=0.007888361725499194\n"
     ]
    },
    {
     "name": "stderr",
     "output_type": "stream",
     "text": [
      "Computing METIS partitioning...\n",
      "Done!\n"
     ]
    },
    {
     "name": "stdout",
     "output_type": "stream",
     "text": [
      "Epoch 0, Loss: 6.7020\n",
      "Epoch 10, Loss: 4.0281\n",
      "Epoch 20, Loss: 2.3979\n",
      "Epoch 30, Loss: 1.5485\n",
      "Epoch 40, Loss: 1.0113\n"
     ]
    },
    {
     "name": "stderr",
     "output_type": "stream",
     "text": [
      "[I 2025-03-12 14:55:57,110] Trial 112 finished with value: 0.8558595502735556 and parameters: {'K': 3, 'layers': 1, 'hidden_channels': 128, 'out_channels': 256, 'ratio': 0.1297867671340542, 'aggregation': 'sum', 'treatment': 'removal', 'model_type': 'GATConv', 'rate_pairs': 1, 'batch_size': 10, 'lr': 0.007888361725499194, 'clusters': 100}. Best is trial 8 with value: 0.8606204067072518.\n"
     ]
    },
    {
     "name": "stdout",
     "output_type": "stream",
     "text": [
      " - Metrics: Accuracy=0.9432, F1=0.8576, Recall=0.8117, Precision=0.9089\n",
      "Done. Results written to citeseer_experimentations\\citeseer_scar_sampling_nnif_batch_cluster_1203145319.csv.\n",
      "Average F1 over valid seeds: 0.8559 ± 0.0024\n",
      "Running experiment with seed=654:\n",
      " - K=3, layers=1, hidden=128, out=256\n",
      " - norm=None, dropout=0, batch_size=10, reliable_mini_batch=True\n",
      " - ratio=0.13990997525423696, aggregation=sum, treatment=removal\n",
      " - model_type=GATConv, rate_pairs=1, clusters=100, lr=0.0072627713566471765\n"
     ]
    },
    {
     "name": "stderr",
     "output_type": "stream",
     "text": [
      "Computing METIS partitioning...\n",
      "Done!\n"
     ]
    },
    {
     "name": "stdout",
     "output_type": "stream",
     "text": [
      "Epoch 0, Loss: 6.8526\n",
      "Epoch 10, Loss: 4.3424\n",
      "Epoch 20, Loss: 2.6274\n",
      "Epoch 30, Loss: 1.7740\n",
      "Epoch 40, Loss: 1.1730\n",
      " - Metrics: Accuracy=0.9387, F1=0.8507, Recall=0.8288, Precision=0.8737\n",
      "Running experiment with seed=114:\n",
      " - K=3, layers=1, hidden=128, out=256\n",
      " - norm=None, dropout=0, batch_size=10, reliable_mini_batch=True\n",
      " - ratio=0.13990997525423696, aggregation=sum, treatment=removal\n",
      " - model_type=GATConv, rate_pairs=1, clusters=100, lr=0.0072627713566471765\n"
     ]
    },
    {
     "name": "stderr",
     "output_type": "stream",
     "text": [
      "Computing METIS partitioning...\n",
      "Done!\n"
     ]
    },
    {
     "name": "stdout",
     "output_type": "stream",
     "text": [
      "Epoch 0, Loss: 6.6582\n",
      "Epoch 10, Loss: 4.1725\n",
      "Epoch 20, Loss: 2.5884\n",
      "Epoch 30, Loss: 1.7093\n",
      "Epoch 40, Loss: 1.1273\n",
      " - Metrics: Accuracy=0.9432, F1=0.8599, Recall=0.8274, Precision=0.8951\n",
      "Running experiment with seed=25:\n",
      " - K=3, layers=1, hidden=128, out=256\n",
      " - norm=None, dropout=0, batch_size=10, reliable_mini_batch=True\n",
      " - ratio=0.13990997525423696, aggregation=sum, treatment=removal\n",
      " - model_type=GATConv, rate_pairs=1, clusters=100, lr=0.0072627713566471765\n"
     ]
    },
    {
     "name": "stderr",
     "output_type": "stream",
     "text": [
      "Computing METIS partitioning...\n",
      "Done!\n"
     ]
    },
    {
     "name": "stdout",
     "output_type": "stream",
     "text": [
      "Epoch 0, Loss: 6.6443\n",
      "Epoch 10, Loss: 4.1753\n",
      "Epoch 20, Loss: 2.5916\n",
      "Epoch 30, Loss: 1.7100\n",
      "Epoch 40, Loss: 1.1287\n",
      " - Metrics: Accuracy=0.9450, F1=0.8645, Recall=0.8331, Precision=0.8985\n",
      "Running experiment with seed=759:\n",
      " - K=3, layers=1, hidden=128, out=256\n",
      " - norm=None, dropout=0, batch_size=10, reliable_mini_batch=True\n",
      " - ratio=0.13990997525423696, aggregation=sum, treatment=removal\n",
      " - model_type=GATConv, rate_pairs=1, clusters=100, lr=0.0072627713566471765\n"
     ]
    },
    {
     "name": "stderr",
     "output_type": "stream",
     "text": [
      "Computing METIS partitioning...\n",
      "Done!\n"
     ]
    },
    {
     "name": "stdout",
     "output_type": "stream",
     "text": [
      "Epoch 0, Loss: 6.6544\n",
      "Epoch 10, Loss: 4.1808\n",
      "Epoch 20, Loss: 2.5950\n",
      "Epoch 30, Loss: 1.7133\n",
      "Epoch 40, Loss: 1.1308\n",
      " - Metrics: Accuracy=0.9423, F1=0.8576, Recall=0.8245, Precision=0.8934\n",
      "Running experiment with seed=281:\n",
      " - K=3, layers=1, hidden=128, out=256\n",
      " - norm=None, dropout=0, batch_size=10, reliable_mini_batch=True\n",
      " - ratio=0.13990997525423696, aggregation=sum, treatment=removal\n",
      " - model_type=GATConv, rate_pairs=1, clusters=100, lr=0.0072627713566471765\n"
     ]
    },
    {
     "name": "stderr",
     "output_type": "stream",
     "text": [
      "Computing METIS partitioning...\n",
      "Done!\n"
     ]
    },
    {
     "name": "stdout",
     "output_type": "stream",
     "text": [
      "Epoch 0, Loss: 6.6226\n",
      "Epoch 10, Loss: 4.1606\n",
      "Epoch 20, Loss: 2.5832\n",
      "Epoch 30, Loss: 1.7066\n",
      "Epoch 40, Loss: 1.1257\n"
     ]
    },
    {
     "name": "stderr",
     "output_type": "stream",
     "text": [
      "[I 2025-03-12 14:58:27,669] Trial 113 finished with value: 0.8570736654131588 and parameters: {'K': 3, 'layers': 1, 'hidden_channels': 128, 'out_channels': 256, 'ratio': 0.13990997525423696, 'aggregation': 'sum', 'treatment': 'removal', 'model_type': 'GATConv', 'rate_pairs': 1, 'batch_size': 10, 'lr': 0.0072627713566471765, 'clusters': 100}. Best is trial 8 with value: 0.8606204067072518.\n"
     ]
    },
    {
     "name": "stdout",
     "output_type": "stream",
     "text": [
      " - Metrics: Accuracy=0.9402, F1=0.8527, Recall=0.8217, Precision=0.8862\n",
      "Done. Results written to citeseer_experimentations\\citeseer_scar_sampling_nnif_batch_cluster_1203145557.csv.\n",
      "Average F1 over valid seeds: 0.8571 ± 0.0050\n",
      "Running experiment with seed=654:\n",
      " - K=3, layers=1, hidden=128, out=256\n",
      " - norm=None, dropout=0, batch_size=10, reliable_mini_batch=True\n",
      " - ratio=0.1350048481014863, aggregation=sum, treatment=removal\n",
      " - model_type=GATConv, rate_pairs=1, clusters=100, lr=0.0038852084538444696\n"
     ]
    },
    {
     "name": "stderr",
     "output_type": "stream",
     "text": [
      "Computing METIS partitioning...\n",
      "Done!\n"
     ]
    },
    {
     "name": "stdout",
     "output_type": "stream",
     "text": [
      "Epoch 0, Loss: 6.9823\n",
      "Epoch 10, Loss: 5.3602\n",
      "Epoch 20, Loss: 4.1878\n",
      "Epoch 30, Loss: 3.4013\n",
      "Epoch 40, Loss: 2.5208\n",
      " - Metrics: Accuracy=0.9441, F1=0.8626, Recall=0.8331, Precision=0.8943\n",
      "Running experiment with seed=114:\n",
      " - K=3, layers=1, hidden=128, out=256\n",
      " - norm=None, dropout=0, batch_size=10, reliable_mini_batch=True\n",
      " - ratio=0.1350048481014863, aggregation=sum, treatment=removal\n",
      " - model_type=GATConv, rate_pairs=1, clusters=100, lr=0.0038852084538444696\n"
     ]
    },
    {
     "name": "stderr",
     "output_type": "stream",
     "text": [
      "Computing METIS partitioning...\n",
      "Done!\n"
     ]
    },
    {
     "name": "stdout",
     "output_type": "stream",
     "text": [
      "Epoch 0, Loss: 6.7561\n",
      "Epoch 10, Loss: 5.1968\n",
      "Epoch 20, Loss: 4.1623\n",
      "Epoch 30, Loss: 3.3006\n",
      "Epoch 40, Loss: 2.4435\n",
      " - Metrics: Accuracy=0.9435, F1=0.8589, Recall=0.8160, Precision=0.9065\n",
      "Running experiment with seed=25:\n",
      " - K=3, layers=1, hidden=128, out=256\n",
      " - norm=None, dropout=0, batch_size=10, reliable_mini_batch=True\n",
      " - ratio=0.1350048481014863, aggregation=sum, treatment=removal\n",
      " - model_type=GATConv, rate_pairs=1, clusters=100, lr=0.0038852084538444696\n"
     ]
    },
    {
     "name": "stderr",
     "output_type": "stream",
     "text": [
      "Computing METIS partitioning...\n",
      "Done!\n"
     ]
    },
    {
     "name": "stdout",
     "output_type": "stream",
     "text": [
      "Epoch 0, Loss: 6.7535\n",
      "Epoch 10, Loss: 5.1932\n",
      "Epoch 20, Loss: 4.1589\n",
      "Epoch 30, Loss: 3.2980\n",
      "Epoch 40, Loss: 2.4384\n",
      " - Metrics: Accuracy=0.9447, F1=0.8629, Recall=0.8260, Precision=0.9033\n",
      "Running experiment with seed=759:\n",
      " - K=3, layers=1, hidden=128, out=256\n",
      " - norm=None, dropout=0, batch_size=10, reliable_mini_batch=True\n",
      " - ratio=0.1350048481014863, aggregation=sum, treatment=removal\n",
      " - model_type=GATConv, rate_pairs=1, clusters=100, lr=0.0038852084538444696\n"
     ]
    },
    {
     "name": "stderr",
     "output_type": "stream",
     "text": [
      "Computing METIS partitioning...\n",
      "Done!\n"
     ]
    },
    {
     "name": "stdout",
     "output_type": "stream",
     "text": [
      "Epoch 0, Loss: 6.7550\n",
      "Epoch 10, Loss: 5.1936\n",
      "Epoch 20, Loss: 4.1556\n",
      "Epoch 30, Loss: 3.2974\n",
      "Epoch 40, Loss: 2.4390\n",
      " - Metrics: Accuracy=0.9444, F1=0.8614, Recall=0.8203, Precision=0.9069\n",
      "Running experiment with seed=281:\n",
      " - K=3, layers=1, hidden=128, out=256\n",
      " - norm=None, dropout=0, batch_size=10, reliable_mini_batch=True\n",
      " - ratio=0.1350048481014863, aggregation=sum, treatment=removal\n",
      " - model_type=GATConv, rate_pairs=1, clusters=100, lr=0.0038852084538444696\n"
     ]
    },
    {
     "name": "stderr",
     "output_type": "stream",
     "text": [
      "Computing METIS partitioning...\n",
      "Done!\n"
     ]
    },
    {
     "name": "stdout",
     "output_type": "stream",
     "text": [
      "Epoch 0, Loss: 6.7679\n",
      "Epoch 10, Loss: 5.2000\n",
      "Epoch 20, Loss: 4.1686\n",
      "Epoch 30, Loss: 3.3062\n",
      "Epoch 40, Loss: 2.4435\n"
     ]
    },
    {
     "name": "stderr",
     "output_type": "stream",
     "text": [
      "[I 2025-03-12 15:00:56,312] Trial 114 finished with value: 0.8613578161495719 and parameters: {'K': 3, 'layers': 1, 'hidden_channels': 128, 'out_channels': 256, 'ratio': 0.1350048481014863, 'aggregation': 'sum', 'treatment': 'removal', 'model_type': 'GATConv', 'rate_pairs': 1, 'batch_size': 10, 'lr': 0.0038852084538444696, 'clusters': 100}. Best is trial 114 with value: 0.8613578161495719.\n"
     ]
    },
    {
     "name": "stdout",
     "output_type": "stream",
     "text": [
      " - Metrics: Accuracy=0.9441, F1=0.8610, Recall=0.8217, Precision=0.9042\n",
      "Done. Results written to citeseer_experimentations\\citeseer_scar_sampling_nnif_batch_cluster_1203145827.csv.\n",
      "Average F1 over valid seeds: 0.8614 ± 0.0014\n",
      "Running experiment with seed=654:\n",
      " - K=3, layers=1, hidden=128, out=256\n",
      " - norm=None, dropout=0, batch_size=10, reliable_mini_batch=True\n",
      " - ratio=0.13687211298651533, aggregation=sum, treatment=removal\n",
      " - model_type=GATConv, rate_pairs=2, clusters=100, lr=0.0034447058273610583\n"
     ]
    },
    {
     "name": "stderr",
     "output_type": "stream",
     "text": [
      "Computing METIS partitioning...\n",
      "Done!\n"
     ]
    },
    {
     "name": "stdout",
     "output_type": "stream",
     "text": [
      "Epoch 0, Loss: 7.0295\n",
      "Epoch 10, Loss: 5.5057\n",
      "Epoch 20, Loss: 4.4431\n",
      "Epoch 30, Loss: 3.7342\n",
      "Epoch 40, Loss: 2.8407\n",
      " - Metrics: Accuracy=0.9423, F1=0.8576, Recall=0.8245, Precision=0.8934\n",
      "Running experiment with seed=114:\n",
      " - K=3, layers=1, hidden=128, out=256\n",
      " - norm=None, dropout=0, batch_size=10, reliable_mini_batch=True\n",
      " - ratio=0.13687211298651533, aggregation=sum, treatment=removal\n",
      " - model_type=GATConv, rate_pairs=2, clusters=100, lr=0.0034447058273610583\n"
     ]
    },
    {
     "name": "stderr",
     "output_type": "stream",
     "text": [
      "Computing METIS partitioning...\n",
      "Done!\n"
     ]
    },
    {
     "name": "stdout",
     "output_type": "stream",
     "text": [
      "Epoch 0, Loss: 6.7967\n",
      "Epoch 10, Loss: 5.3292\n",
      "Epoch 20, Loss: 4.4166\n",
      "Epoch 30, Loss: 3.6167\n",
      "Epoch 40, Loss: 2.7465\n",
      " - Metrics: Accuracy=0.9438, F1=0.8608, Recall=0.8245, Precision=0.9003\n",
      "Running experiment with seed=25:\n",
      " - K=3, layers=1, hidden=128, out=256\n",
      " - norm=None, dropout=0, batch_size=10, reliable_mini_batch=True\n",
      " - ratio=0.13687211298651533, aggregation=sum, treatment=removal\n",
      " - model_type=GATConv, rate_pairs=2, clusters=100, lr=0.0034447058273610583\n"
     ]
    },
    {
     "name": "stderr",
     "output_type": "stream",
     "text": [
      "Computing METIS partitioning...\n",
      "Done!\n"
     ]
    },
    {
     "name": "stdout",
     "output_type": "stream",
     "text": [
      "Epoch 0, Loss: 6.7693\n",
      "Epoch 10, Loss: 5.3221\n",
      "Epoch 20, Loss: 4.4131\n",
      "Epoch 30, Loss: 3.6124\n",
      "Epoch 40, Loss: 2.7431\n",
      " - Metrics: Accuracy=0.9453, F1=0.8642, Recall=0.8260, Precision=0.9061\n",
      "Running experiment with seed=759:\n",
      " - K=3, layers=1, hidden=128, out=256\n",
      " - norm=None, dropout=0, batch_size=10, reliable_mini_batch=True\n",
      " - ratio=0.13687211298651533, aggregation=sum, treatment=removal\n",
      " - model_type=GATConv, rate_pairs=2, clusters=100, lr=0.0034447058273610583\n"
     ]
    },
    {
     "name": "stderr",
     "output_type": "stream",
     "text": [
      "Computing METIS partitioning...\n",
      "Done!\n"
     ]
    },
    {
     "name": "stdout",
     "output_type": "stream",
     "text": [
      "Epoch 0, Loss: 6.7856\n",
      "Epoch 10, Loss: 5.3198\n",
      "Epoch 20, Loss: 4.4078\n",
      "Epoch 30, Loss: 3.6103\n",
      "Epoch 40, Loss: 2.7442\n",
      " - Metrics: Accuracy=0.9441, F1=0.8624, Recall=0.8317, Precision=0.8955\n",
      "Running experiment with seed=281:\n",
      " - K=3, layers=1, hidden=128, out=256\n",
      " - norm=None, dropout=0, batch_size=10, reliable_mini_batch=True\n",
      " - ratio=0.13687211298651533, aggregation=sum, treatment=removal\n",
      " - model_type=GATConv, rate_pairs=2, clusters=100, lr=0.0034447058273610583\n"
     ]
    },
    {
     "name": "stderr",
     "output_type": "stream",
     "text": [
      "Computing METIS partitioning...\n",
      "Done!\n"
     ]
    },
    {
     "name": "stdout",
     "output_type": "stream",
     "text": [
      "Epoch 0, Loss: 6.7819\n",
      "Epoch 10, Loss: 5.3278\n",
      "Epoch 20, Loss: 4.4176\n",
      "Epoch 30, Loss: 3.6164\n",
      "Epoch 40, Loss: 2.7476\n"
     ]
    },
    {
     "name": "stderr",
     "output_type": "stream",
     "text": [
      "[I 2025-03-12 15:03:26,581] Trial 115 finished with value: 0.8627056562380006 and parameters: {'K': 3, 'layers': 1, 'hidden_channels': 128, 'out_channels': 256, 'ratio': 0.13687211298651533, 'aggregation': 'sum', 'treatment': 'removal', 'model_type': 'GATConv', 'rate_pairs': 2, 'batch_size': 10, 'lr': 0.0034447058273610583, 'clusters': 100}. Best is trial 115 with value: 0.8627056562380006.\n"
     ]
    },
    {
     "name": "stdout",
     "output_type": "stream",
     "text": [
      " - Metrics: Accuracy=0.9468, F1=0.8686, Recall=0.8345, Precision=0.9056\n",
      "Done. Results written to citeseer_experimentations\\citeseer_scar_sampling_nnif_batch_cluster_1203150056.csv.\n",
      "Average F1 over valid seeds: 0.8627 ± 0.0037\n",
      "Running experiment with seed=654:\n",
      " - K=3, layers=1, hidden=128, out=256\n",
      " - norm=None, dropout=0, batch_size=10, reliable_mini_batch=True\n",
      " - ratio=0.13677254816901468, aggregation=sum, treatment=removal\n",
      " - model_type=GINConv, rate_pairs=2, clusters=400, lr=0.0037247204667161158\n"
     ]
    },
    {
     "name": "stderr",
     "output_type": "stream",
     "text": [
      "Computing METIS partitioning...\n",
      "Done!\n"
     ]
    },
    {
     "name": "stdout",
     "output_type": "stream",
     "text": [
      "Epoch 0, Loss: 29.4148\n",
      "Epoch 10, Loss: 12.5883\n",
      "Epoch 20, Loss: 5.3456\n",
      "Epoch 30, Loss: 2.9813\n",
      "Epoch 40, Loss: 1.9861\n"
     ]
    },
    {
     "name": "stderr",
     "output_type": "stream",
     "text": [
      "[I 2025-03-12 15:04:42,840] Trial 116 finished with value: 0.8288564850345357 and parameters: {'K': 3, 'layers': 1, 'hidden_channels': 128, 'out_channels': 256, 'ratio': 0.13677254816901468, 'aggregation': 'sum', 'treatment': 'removal', 'model_type': 'GINConv', 'rate_pairs': 2, 'batch_size': 10, 'lr': 0.0037247204667161158, 'clusters': 400}. Best is trial 115 with value: 0.8627056562380006.\n"
     ]
    },
    {
     "name": "stdout",
     "output_type": "stream",
     "text": [
      " - Metrics: Accuracy=0.9330, F1=0.8289, Recall=0.7703, Precision=0.8970\n",
      "F1 = 0.83 < 0.835, skipping ...\n",
      "Done. Results written to citeseer_experimentations\\citeseer_scar_sampling_nnif_batch_cluster_1203150326.csv.\n",
      "Average F1 over valid seeds: 0.8289 ± 0.0000\n",
      "Running experiment with seed=654:\n",
      " - K=3, layers=1, hidden=128, out=256\n",
      " - norm=None, dropout=0, batch_size=10, reliable_mini_batch=True\n",
      " - ratio=0.1390250480963578, aggregation=sum, treatment=removal\n",
      " - model_type=GATConv, rate_pairs=3, clusters=100, lr=0.003239483352683624\n"
     ]
    },
    {
     "name": "stderr",
     "output_type": "stream",
     "text": [
      "Computing METIS partitioning...\n",
      "Done!\n"
     ]
    },
    {
     "name": "stdout",
     "output_type": "stream",
     "text": [
      "Epoch 0, Loss: 7.0142\n",
      "Epoch 10, Loss: 5.5687\n",
      "Epoch 20, Loss: 4.5699\n",
      "Epoch 30, Loss: 3.8951\n",
      "Epoch 40, Loss: 3.0032\n",
      " - Metrics: Accuracy=0.9438, F1=0.8620, Recall=0.8331, Precision=0.8930\n",
      "Running experiment with seed=114:\n",
      " - K=3, layers=1, hidden=128, out=256\n",
      " - norm=None, dropout=0, batch_size=10, reliable_mini_batch=True\n",
      " - ratio=0.1390250480963578, aggregation=sum, treatment=removal\n",
      " - model_type=GATConv, rate_pairs=3, clusters=100, lr=0.003239483352683624\n"
     ]
    },
    {
     "name": "stderr",
     "output_type": "stream",
     "text": [
      "Computing METIS partitioning...\n",
      "Done!\n"
     ]
    },
    {
     "name": "stdout",
     "output_type": "stream",
     "text": [
      "Epoch 0, Loss: 6.7708\n",
      "Epoch 10, Loss: 5.3737\n",
      "Epoch 20, Loss: 4.5196\n",
      "Epoch 30, Loss: 3.7616\n",
      "Epoch 40, Loss: 2.8973\n",
      " - Metrics: Accuracy=0.9447, F1=0.8633, Recall=0.8288, Precision=0.9008\n",
      "Running experiment with seed=25:\n",
      " - K=3, layers=1, hidden=128, out=256\n",
      " - norm=None, dropout=0, batch_size=10, reliable_mini_batch=True\n",
      " - ratio=0.1390250480963578, aggregation=sum, treatment=removal\n",
      " - model_type=GATConv, rate_pairs=3, clusters=100, lr=0.003239483352683624\n"
     ]
    },
    {
     "name": "stderr",
     "output_type": "stream",
     "text": [
      "Computing METIS partitioning...\n",
      "Done!\n"
     ]
    },
    {
     "name": "stdout",
     "output_type": "stream",
     "text": [
      "Epoch 0, Loss: 6.7631\n",
      "Epoch 10, Loss: 5.3702\n",
      "Epoch 20, Loss: 4.5202\n",
      "Epoch 30, Loss: 3.7621\n",
      "Epoch 40, Loss: 2.8956\n",
      " - Metrics: Accuracy=0.9462, F1=0.8669, Recall=0.8317, Precision=0.9053\n",
      "Running experiment with seed=759:\n",
      " - K=3, layers=1, hidden=128, out=256\n",
      " - norm=None, dropout=0, batch_size=10, reliable_mini_batch=True\n",
      " - ratio=0.1390250480963578, aggregation=sum, treatment=removal\n",
      " - model_type=GATConv, rate_pairs=3, clusters=100, lr=0.003239483352683624\n"
     ]
    },
    {
     "name": "stderr",
     "output_type": "stream",
     "text": [
      "Computing METIS partitioning...\n",
      "Done!\n"
     ]
    },
    {
     "name": "stdout",
     "output_type": "stream",
     "text": [
      "Epoch 0, Loss: 6.7800\n",
      "Epoch 10, Loss: 5.3743\n",
      "Epoch 20, Loss: 4.5284\n",
      "Epoch 30, Loss: 3.7679\n",
      "Epoch 40, Loss: 2.8996\n",
      " - Metrics: Accuracy=0.9444, F1=0.8637, Recall=0.8359, Precision=0.8933\n",
      "Running experiment with seed=281:\n",
      " - K=3, layers=1, hidden=128, out=256\n",
      " - norm=None, dropout=0, batch_size=10, reliable_mini_batch=True\n",
      " - ratio=0.1390250480963578, aggregation=sum, treatment=removal\n",
      " - model_type=GATConv, rate_pairs=3, clusters=100, lr=0.003239483352683624\n"
     ]
    },
    {
     "name": "stderr",
     "output_type": "stream",
     "text": [
      "Computing METIS partitioning...\n",
      "Done!\n"
     ]
    },
    {
     "name": "stdout",
     "output_type": "stream",
     "text": [
      "Epoch 0, Loss: 6.7691\n",
      "Epoch 10, Loss: 5.3766\n",
      "Epoch 20, Loss: 4.5267\n",
      "Epoch 30, Loss: 3.7658\n",
      "Epoch 40, Loss: 2.8990\n"
     ]
    },
    {
     "name": "stderr",
     "output_type": "stream",
     "text": [
      "[I 2025-03-12 15:07:12,097] Trial 117 finished with value: 0.8637880075000375 and parameters: {'K': 3, 'layers': 1, 'hidden_channels': 128, 'out_channels': 256, 'ratio': 0.1390250480963578, 'aggregation': 'sum', 'treatment': 'removal', 'model_type': 'GATConv', 'rate_pairs': 3, 'batch_size': 10, 'lr': 0.003239483352683624, 'clusters': 100}. Best is trial 117 with value: 0.8637880075000375.\n"
     ]
    },
    {
     "name": "stdout",
     "output_type": "stream",
     "text": [
      " - Metrics: Accuracy=0.9444, F1=0.8631, Recall=0.8317, Precision=0.8969\n",
      "Done. Results written to citeseer_experimentations\\citeseer_scar_sampling_nnif_batch_cluster_1203150442.csv.\n",
      "Average F1 over valid seeds: 0.8638 ± 0.0017\n",
      "Running experiment with seed=654:\n",
      " - K=3, layers=1, hidden=128, out=256\n",
      " - norm=None, dropout=0, batch_size=10, reliable_mini_batch=True\n",
      " - ratio=0.13505010941449697, aggregation=sum, treatment=relabeling\n",
      " - model_type=GATConv, rate_pairs=3, clusters=500, lr=0.0031975506524265364\n"
     ]
    },
    {
     "name": "stderr",
     "output_type": "stream",
     "text": [
      "Computing METIS partitioning...\n",
      "Done!\n"
     ]
    },
    {
     "name": "stdout",
     "output_type": "stream",
     "text": [
      "Epoch 0, Loss: 34.1116\n",
      "Epoch 10, Loss: 13.0822\n",
      "Epoch 20, Loss: 6.1314\n",
      "Epoch 30, Loss: 3.4243\n",
      "Epoch 40, Loss: 2.1311\n"
     ]
    },
    {
     "name": "stderr",
     "output_type": "stream",
     "text": [
      "[I 2025-03-12 15:08:52,821] Trial 118 finished with value: 0.7549759780370625 and parameters: {'K': 3, 'layers': 1, 'hidden_channels': 128, 'out_channels': 256, 'ratio': 0.13505010941449697, 'aggregation': 'sum', 'treatment': 'relabeling', 'model_type': 'GATConv', 'rate_pairs': 3, 'batch_size': 10, 'lr': 0.0031975506524265364, 'clusters': 500}. Best is trial 117 with value: 0.8637880075000375.\n"
     ]
    },
    {
     "name": "stdout",
     "output_type": "stream",
     "text": [
      " - Metrics: Accuracy=0.8927, F1=0.7550, Recall=0.7846, Precision=0.7275\n",
      "F1 = 0.75 < 0.835, skipping ...\n",
      "Done. Results written to citeseer_experimentations\\citeseer_scar_sampling_nnif_batch_cluster_1203150712.csv.\n",
      "Average F1 over valid seeds: 0.7550 ± 0.0000\n",
      "Running experiment with seed=654:\n",
      " - K=3, layers=1, hidden=128, out=256\n",
      " - norm=None, dropout=0, batch_size=5, reliable_mini_batch=True\n",
      " - ratio=0.13944543831219205, aggregation=sum, treatment=removal\n",
      " - model_type=SAGEConv, rate_pairs=4, clusters=100, lr=0.0026898200200044103\n"
     ]
    },
    {
     "name": "stderr",
     "output_type": "stream",
     "text": [
      "Computing METIS partitioning...\n",
      "Done!\n"
     ]
    },
    {
     "name": "stdout",
     "output_type": "stream",
     "text": [
      "Epoch 0, Loss: 14.1681\n",
      "Epoch 10, Loss: 11.2617\n",
      "Epoch 20, Loss: 7.6953\n",
      "Epoch 30, Loss: 5.3574\n",
      "Epoch 40, Loss: 3.9044\n",
      " - Metrics: Accuracy=0.9372, F1=0.8446, Recall=0.8103, Precision=0.8820\n",
      "Running experiment with seed=114:\n",
      " - K=3, layers=1, hidden=128, out=256\n",
      " - norm=None, dropout=0, batch_size=5, reliable_mini_batch=True\n",
      " - ratio=0.13944543831219205, aggregation=sum, treatment=removal\n",
      " - model_type=SAGEConv, rate_pairs=4, clusters=100, lr=0.0026898200200044103\n"
     ]
    },
    {
     "name": "stderr",
     "output_type": "stream",
     "text": [
      "Computing METIS partitioning...\n",
      "Done!\n"
     ]
    },
    {
     "name": "stdout",
     "output_type": "stream",
     "text": [
      "Epoch 0, Loss: 13.8220\n",
      "Epoch 10, Loss: 11.0097\n",
      "Epoch 20, Loss: 7.6517\n",
      "Epoch 30, Loss: 5.1192\n",
      "Epoch 40, Loss: 3.7962\n",
      " - Metrics: Accuracy=0.9375, F1=0.8450, Recall=0.8088, Precision=0.8846\n",
      "Running experiment with seed=25:\n",
      " - K=3, layers=1, hidden=128, out=256\n",
      " - norm=None, dropout=0, batch_size=5, reliable_mini_batch=True\n",
      " - ratio=0.13944543831219205, aggregation=sum, treatment=removal\n",
      " - model_type=SAGEConv, rate_pairs=4, clusters=100, lr=0.0026898200200044103\n"
     ]
    },
    {
     "name": "stderr",
     "output_type": "stream",
     "text": [
      "Computing METIS partitioning...\n",
      "Done!\n"
     ]
    },
    {
     "name": "stdout",
     "output_type": "stream",
     "text": [
      "Epoch 0, Loss: 13.8220\n",
      "Epoch 10, Loss: 11.0097\n",
      "Epoch 20, Loss: 7.6517\n",
      "Epoch 30, Loss: 5.1192\n",
      "Epoch 40, Loss: 3.7962\n",
      " - Metrics: Accuracy=0.9375, F1=0.8450, Recall=0.8088, Precision=0.8846\n",
      "Running experiment with seed=759:\n",
      " - K=3, layers=1, hidden=128, out=256\n",
      " - norm=None, dropout=0, batch_size=5, reliable_mini_batch=True\n",
      " - ratio=0.13944543831219205, aggregation=sum, treatment=removal\n",
      " - model_type=SAGEConv, rate_pairs=4, clusters=100, lr=0.0026898200200044103\n"
     ]
    },
    {
     "name": "stderr",
     "output_type": "stream",
     "text": [
      "Computing METIS partitioning...\n",
      "Done!\n"
     ]
    },
    {
     "name": "stdout",
     "output_type": "stream",
     "text": [
      "Epoch 0, Loss: 13.8220\n",
      "Epoch 10, Loss: 11.0097\n",
      "Epoch 20, Loss: 7.6517\n",
      "Epoch 30, Loss: 5.1192\n",
      "Epoch 40, Loss: 3.7962\n",
      " - Metrics: Accuracy=0.9375, F1=0.8450, Recall=0.8088, Precision=0.8846\n",
      "Running experiment with seed=281:\n",
      " - K=3, layers=1, hidden=128, out=256\n",
      " - norm=None, dropout=0, batch_size=5, reliable_mini_batch=True\n",
      " - ratio=0.13944543831219205, aggregation=sum, treatment=removal\n",
      " - model_type=SAGEConv, rate_pairs=4, clusters=100, lr=0.0026898200200044103\n"
     ]
    },
    {
     "name": "stderr",
     "output_type": "stream",
     "text": [
      "Computing METIS partitioning...\n",
      "Done!\n"
     ]
    },
    {
     "name": "stdout",
     "output_type": "stream",
     "text": [
      "Epoch 0, Loss: 13.8220\n",
      "Epoch 10, Loss: 11.0097\n",
      "Epoch 20, Loss: 7.6517\n",
      "Epoch 30, Loss: 5.1192\n",
      "Epoch 40, Loss: 3.7962\n"
     ]
    },
    {
     "name": "stderr",
     "output_type": "stream",
     "text": [
      "[I 2025-03-12 15:12:39,070] Trial 119 finished with value: 0.8449278943373647 and parameters: {'K': 3, 'layers': 1, 'hidden_channels': 128, 'out_channels': 256, 'ratio': 0.13944543831219205, 'aggregation': 'sum', 'treatment': 'removal', 'model_type': 'SAGEConv', 'rate_pairs': 4, 'batch_size': 5, 'lr': 0.0026898200200044103, 'clusters': 100}. Best is trial 117 with value: 0.8637880075000375.\n"
     ]
    },
    {
     "name": "stdout",
     "output_type": "stream",
     "text": [
      " - Metrics: Accuracy=0.9375, F1=0.8450, Recall=0.8088, Precision=0.8846\n",
      "Done. Results written to citeseer_experimentations\\citeseer_scar_sampling_nnif_batch_cluster_1203150852.csv.\n",
      "Average F1 over valid seeds: 0.8449 ± 0.0002\n",
      "Running experiment with seed=654:\n",
      " - K=5, layers=1, hidden=128, out=256\n",
      " - norm=None, dropout=0, batch_size=10, reliable_mini_batch=True\n",
      " - ratio=0.13147355828709006, aggregation=sum, treatment=removal\n",
      " - model_type=GATConv, rate_pairs=2, clusters=100, lr=0.0034203310877836367\n"
     ]
    },
    {
     "name": "stderr",
     "output_type": "stream",
     "text": [
      "Computing METIS partitioning...\n",
      "Done!\n"
     ]
    },
    {
     "name": "stdout",
     "output_type": "stream",
     "text": [
      "Epoch 0, Loss: 8.7987\n",
      "Epoch 10, Loss: 7.2880\n",
      "Epoch 20, Loss: 6.1898\n",
      "Epoch 30, Loss: 5.3650\n",
      "Epoch 40, Loss: 4.1025\n",
      " - Metrics: Accuracy=0.9456, F1=0.8656, Recall=0.8317, Precision=0.9025\n",
      "Running experiment with seed=114:\n",
      " - K=5, layers=1, hidden=128, out=256\n",
      " - norm=None, dropout=0, batch_size=10, reliable_mini_batch=True\n",
      " - ratio=0.13147355828709006, aggregation=sum, treatment=removal\n",
      " - model_type=GATConv, rate_pairs=2, clusters=100, lr=0.0034203310877836367\n"
     ]
    },
    {
     "name": "stderr",
     "output_type": "stream",
     "text": [
      "Computing METIS partitioning...\n",
      "Done!\n"
     ]
    },
    {
     "name": "stdout",
     "output_type": "stream",
     "text": [
      "Epoch 0, Loss: 8.4858\n",
      "Epoch 10, Loss: 7.0481\n",
      "Epoch 20, Loss: 6.1499\n",
      "Epoch 30, Loss: 5.1883\n",
      "Epoch 40, Loss: 3.9375\n",
      " - Metrics: Accuracy=0.9411, F1=0.8557, Recall=0.8288, Precision=0.8843\n",
      "Running experiment with seed=25:\n",
      " - K=5, layers=1, hidden=128, out=256\n",
      " - norm=None, dropout=0, batch_size=10, reliable_mini_batch=True\n",
      " - ratio=0.13147355828709006, aggregation=sum, treatment=removal\n",
      " - model_type=GATConv, rate_pairs=2, clusters=100, lr=0.0034203310877836367\n"
     ]
    },
    {
     "name": "stderr",
     "output_type": "stream",
     "text": [
      "Computing METIS partitioning...\n",
      "Done!\n"
     ]
    },
    {
     "name": "stdout",
     "output_type": "stream",
     "text": [
      "Epoch 0, Loss: 8.4515\n",
      "Epoch 10, Loss: 7.0215\n",
      "Epoch 20, Loss: 6.1321\n",
      "Epoch 30, Loss: 5.1698\n",
      "Epoch 40, Loss: 3.9253\n",
      " - Metrics: Accuracy=0.9405, F1=0.8548, Recall=0.8317, Precision=0.8793\n",
      "Running experiment with seed=759:\n",
      " - K=5, layers=1, hidden=128, out=256\n",
      " - norm=None, dropout=0, batch_size=10, reliable_mini_batch=True\n",
      " - ratio=0.13147355828709006, aggregation=sum, treatment=removal\n",
      " - model_type=GATConv, rate_pairs=2, clusters=100, lr=0.0034203310877836367\n"
     ]
    },
    {
     "name": "stderr",
     "output_type": "stream",
     "text": [
      "Computing METIS partitioning...\n",
      "Done!\n"
     ]
    },
    {
     "name": "stdout",
     "output_type": "stream",
     "text": [
      "Epoch 0, Loss: 8.4368\n",
      "Epoch 10, Loss: 7.0040\n",
      "Epoch 20, Loss: 6.1138\n",
      "Epoch 30, Loss: 5.1488\n",
      "Epoch 40, Loss: 3.9119\n",
      " - Metrics: Accuracy=0.9426, F1=0.8592, Recall=0.8317, Precision=0.8887\n",
      "Running experiment with seed=281:\n",
      " - K=5, layers=1, hidden=128, out=256\n",
      " - norm=None, dropout=0, batch_size=10, reliable_mini_batch=True\n",
      " - ratio=0.13147355828709006, aggregation=sum, treatment=removal\n",
      " - model_type=GATConv, rate_pairs=2, clusters=100, lr=0.0034203310877836367\n"
     ]
    },
    {
     "name": "stderr",
     "output_type": "stream",
     "text": [
      "Computing METIS partitioning...\n",
      "Done!\n"
     ]
    },
    {
     "name": "stdout",
     "output_type": "stream",
     "text": [
      "Epoch 0, Loss: 8.4761\n",
      "Epoch 10, Loss: 7.0457\n",
      "Epoch 20, Loss: 6.1457\n",
      "Epoch 30, Loss: 5.1736\n",
      "Epoch 40, Loss: 3.9338\n"
     ]
    },
    {
     "name": "stderr",
     "output_type": "stream",
     "text": [
      "[I 2025-03-12 15:15:13,109] Trial 120 finished with value: 0.8589287467860993 and parameters: {'K': 5, 'layers': 1, 'hidden_channels': 128, 'out_channels': 256, 'ratio': 0.13147355828709006, 'aggregation': 'sum', 'treatment': 'removal', 'model_type': 'GATConv', 'rate_pairs': 2, 'batch_size': 10, 'lr': 0.0034203310877836367, 'clusters': 100}. Best is trial 117 with value: 0.8637880075000375.\n"
     ]
    },
    {
     "name": "stdout",
     "output_type": "stream",
     "text": [
      " - Metrics: Accuracy=0.9429, F1=0.8593, Recall=0.8274, Precision=0.8937\n",
      "Done. Results written to citeseer_experimentations\\citeseer_scar_sampling_nnif_batch_cluster_1203151239.csv.\n",
      "Average F1 over valid seeds: 0.8589 ± 0.0038\n",
      "Running experiment with seed=654:\n",
      " - K=5, layers=1, hidden=128, out=256\n",
      " - norm=None, dropout=0, batch_size=10, reliable_mini_batch=True\n",
      " - ratio=0.13093949401643334, aggregation=sum, treatment=removal\n",
      " - model_type=GATConv, rate_pairs=2, clusters=100, lr=0.0034639252839786068\n"
     ]
    },
    {
     "name": "stderr",
     "output_type": "stream",
     "text": [
      "Computing METIS partitioning...\n",
      "Done!\n"
     ]
    },
    {
     "name": "stdout",
     "output_type": "stream",
     "text": [
      "Epoch 0, Loss: 8.8234\n",
      "Epoch 10, Loss: 7.2707\n",
      "Epoch 20, Loss: 6.1638\n",
      "Epoch 30, Loss: 5.3246\n",
      "Epoch 40, Loss: 4.0582\n",
      " - Metrics: Accuracy=0.9456, F1=0.8644, Recall=0.8231, Precision=0.9101\n",
      "Running experiment with seed=114:\n",
      " - K=5, layers=1, hidden=128, out=256\n",
      " - norm=None, dropout=0, batch_size=10, reliable_mini_batch=True\n",
      " - ratio=0.13093949401643334, aggregation=sum, treatment=removal\n",
      " - model_type=GATConv, rate_pairs=2, clusters=100, lr=0.0034639252839786068\n"
     ]
    },
    {
     "name": "stderr",
     "output_type": "stream",
     "text": [
      "Computing METIS partitioning...\n",
      "Done!\n"
     ]
    },
    {
     "name": "stdout",
     "output_type": "stream",
     "text": [
      "Epoch 0, Loss: 8.4763\n",
      "Epoch 10, Loss: 7.0331\n",
      "Epoch 20, Loss: 6.1226\n",
      "Epoch 30, Loss: 5.1377\n",
      "Epoch 40, Loss: 3.8919\n",
      " - Metrics: Accuracy=0.9408, F1=0.8542, Recall=0.8231, Precision=0.8877\n",
      "Running experiment with seed=25:\n",
      " - K=5, layers=1, hidden=128, out=256\n",
      " - norm=None, dropout=0, batch_size=10, reliable_mini_batch=True\n",
      " - ratio=0.13093949401643334, aggregation=sum, treatment=removal\n",
      " - model_type=GATConv, rate_pairs=2, clusters=100, lr=0.0034639252839786068\n"
     ]
    },
    {
     "name": "stderr",
     "output_type": "stream",
     "text": [
      "Computing METIS partitioning...\n",
      "Done!\n"
     ]
    },
    {
     "name": "stdout",
     "output_type": "stream",
     "text": [
      "Epoch 0, Loss: 8.4959\n",
      "Epoch 10, Loss: 7.0335\n",
      "Epoch 20, Loss: 6.1217\n",
      "Epoch 30, Loss: 5.1350\n",
      "Epoch 40, Loss: 3.8905\n",
      " - Metrics: Accuracy=0.9435, F1=0.8605, Recall=0.8274, Precision=0.8964\n",
      "Running experiment with seed=759:\n",
      " - K=5, layers=1, hidden=128, out=256\n",
      " - norm=None, dropout=0, batch_size=10, reliable_mini_batch=True\n",
      " - ratio=0.13093949401643334, aggregation=sum, treatment=removal\n",
      " - model_type=GATConv, rate_pairs=2, clusters=100, lr=0.0034639252839786068\n"
     ]
    },
    {
     "name": "stderr",
     "output_type": "stream",
     "text": [
      "Computing METIS partitioning...\n",
      "Done!\n"
     ]
    },
    {
     "name": "stdout",
     "output_type": "stream",
     "text": [
      "Epoch 0, Loss: 8.4614\n",
      "Epoch 10, Loss: 7.0124\n",
      "Epoch 20, Loss: 6.1025\n",
      "Epoch 30, Loss: 5.1166\n",
      "Epoch 40, Loss: 3.8761\n",
      " - Metrics: Accuracy=0.9423, F1=0.8569, Recall=0.8203, Precision=0.8970\n",
      "Running experiment with seed=281:\n",
      " - K=5, layers=1, hidden=128, out=256\n",
      " - norm=None, dropout=0, batch_size=10, reliable_mini_batch=True\n",
      " - ratio=0.13093949401643334, aggregation=sum, treatment=removal\n",
      " - model_type=GATConv, rate_pairs=2, clusters=100, lr=0.0034639252839786068\n"
     ]
    },
    {
     "name": "stderr",
     "output_type": "stream",
     "text": [
      "Computing METIS partitioning...\n",
      "Done!\n"
     ]
    },
    {
     "name": "stdout",
     "output_type": "stream",
     "text": [
      "Epoch 0, Loss: 8.4578\n",
      "Epoch 10, Loss: 7.0136\n",
      "Epoch 20, Loss: 6.1074\n",
      "Epoch 30, Loss: 5.1238\n",
      "Epoch 40, Loss: 3.8785\n"
     ]
    },
    {
     "name": "stderr",
     "output_type": "stream",
     "text": [
      "[I 2025-03-12 15:17:43,925] Trial 121 finished with value: 0.8593985590471422 and parameters: {'K': 5, 'layers': 1, 'hidden_channels': 128, 'out_channels': 256, 'ratio': 0.13093949401643334, 'aggregation': 'sum', 'treatment': 'removal', 'model_type': 'GATConv', 'rate_pairs': 2, 'batch_size': 10, 'lr': 0.0034639252839786068, 'clusters': 100}. Best is trial 117 with value: 0.8637880075000375.\n"
     ]
    },
    {
     "name": "stdout",
     "output_type": "stream",
     "text": [
      " - Metrics: Accuracy=0.9432, F1=0.8609, Recall=0.8345, Precision=0.8891\n",
      "Done. Results written to citeseer_experimentations\\citeseer_scar_sampling_nnif_batch_cluster_1203151513.csv.\n",
      "Average F1 over valid seeds: 0.8594 ± 0.0035\n",
      "Running experiment with seed=654:\n",
      " - K=5, layers=1, hidden=128, out=256\n",
      " - norm=None, dropout=0, batch_size=10, reliable_mini_batch=True\n",
      " - ratio=0.13098498892744354, aggregation=sum, treatment=removal\n",
      " - model_type=GATConv, rate_pairs=2, clusters=100, lr=0.003597681536409482\n"
     ]
    },
    {
     "name": "stderr",
     "output_type": "stream",
     "text": [
      "Computing METIS partitioning...\n",
      "Done!\n"
     ]
    },
    {
     "name": "stdout",
     "output_type": "stream",
     "text": [
      "Epoch 0, Loss: 8.8256\n",
      "Epoch 10, Loss: 7.2383\n",
      "Epoch 20, Loss: 6.0799\n",
      "Epoch 30, Loss: 5.1911\n",
      "Epoch 40, Loss: 3.9142\n",
      " - Metrics: Accuracy=0.9477, F1=0.8705, Recall=0.8345, Precision=0.9098\n",
      "Running experiment with seed=114:\n",
      " - K=5, layers=1, hidden=128, out=256\n",
      " - norm=None, dropout=0, batch_size=10, reliable_mini_batch=True\n",
      " - ratio=0.13098498892744354, aggregation=sum, treatment=removal\n",
      " - model_type=GATConv, rate_pairs=2, clusters=100, lr=0.003597681536409482\n"
     ]
    },
    {
     "name": "stderr",
     "output_type": "stream",
     "text": [
      "Computing METIS partitioning...\n",
      "Done!\n"
     ]
    },
    {
     "name": "stdout",
     "output_type": "stream",
     "text": [
      "Epoch 0, Loss: 8.4702\n",
      "Epoch 10, Loss: 6.9933\n",
      "Epoch 20, Loss: 6.0246\n",
      "Epoch 30, Loss: 4.9902\n",
      "Epoch 40, Loss: 3.7383\n",
      " - Metrics: Accuracy=0.9414, F1=0.8557, Recall=0.8245, Precision=0.8892\n",
      "Running experiment with seed=25:\n",
      " - K=5, layers=1, hidden=128, out=256\n",
      " - norm=None, dropout=0, batch_size=10, reliable_mini_batch=True\n",
      " - ratio=0.13098498892744354, aggregation=sum, treatment=removal\n",
      " - model_type=GATConv, rate_pairs=2, clusters=100, lr=0.003597681536409482\n"
     ]
    },
    {
     "name": "stderr",
     "output_type": "stream",
     "text": [
      "Computing METIS partitioning...\n",
      "Done!\n"
     ]
    },
    {
     "name": "stdout",
     "output_type": "stream",
     "text": [
      "Epoch 0, Loss: 8.4228\n",
      "Epoch 10, Loss: 6.9705\n",
      "Epoch 20, Loss: 6.0059\n",
      "Epoch 30, Loss: 4.9752\n",
      "Epoch 40, Loss: 3.7242\n",
      " - Metrics: Accuracy=0.9402, F1=0.8529, Recall=0.8231, Precision=0.8850\n",
      "Running experiment with seed=759:\n",
      " - K=5, layers=1, hidden=128, out=256\n",
      " - norm=None, dropout=0, batch_size=10, reliable_mini_batch=True\n",
      " - ratio=0.13098498892744354, aggregation=sum, treatment=removal\n",
      " - model_type=GATConv, rate_pairs=2, clusters=100, lr=0.003597681536409482\n"
     ]
    },
    {
     "name": "stderr",
     "output_type": "stream",
     "text": [
      "Computing METIS partitioning...\n",
      "Done!\n"
     ]
    },
    {
     "name": "stdout",
     "output_type": "stream",
     "text": [
      "Epoch 0, Loss: 8.5003\n",
      "Epoch 10, Loss: 7.0216\n",
      "Epoch 20, Loss: 6.0494\n",
      "Epoch 30, Loss: 5.0101\n",
      "Epoch 40, Loss: 3.7518\n",
      " - Metrics: Accuracy=0.9417, F1=0.8557, Recall=0.8203, Precision=0.8942\n",
      "Running experiment with seed=281:\n",
      " - K=5, layers=1, hidden=128, out=256\n",
      " - norm=None, dropout=0, batch_size=10, reliable_mini_batch=True\n",
      " - ratio=0.13098498892744354, aggregation=sum, treatment=removal\n",
      " - model_type=GATConv, rate_pairs=2, clusters=100, lr=0.003597681536409482\n"
     ]
    },
    {
     "name": "stderr",
     "output_type": "stream",
     "text": [
      "Computing METIS partitioning...\n",
      "Done!\n"
     ]
    },
    {
     "name": "stdout",
     "output_type": "stream",
     "text": [
      "Epoch 0, Loss: 8.4287\n",
      "Epoch 10, Loss: 6.9604\n",
      "Epoch 20, Loss: 6.0031\n",
      "Epoch 30, Loss: 4.9813\n",
      "Epoch 40, Loss: 3.7255\n"
     ]
    },
    {
     "name": "stderr",
     "output_type": "stream",
     "text": [
      "[I 2025-03-12 15:20:18,092] Trial 122 finished with value: 0.8583406893526057 and parameters: {'K': 5, 'layers': 1, 'hidden_channels': 128, 'out_channels': 256, 'ratio': 0.13098498892744354, 'aggregation': 'sum', 'treatment': 'removal', 'model_type': 'GATConv', 'rate_pairs': 2, 'batch_size': 10, 'lr': 0.003597681536409482, 'clusters': 100}. Best is trial 117 with value: 0.8637880075000375.\n"
     ]
    },
    {
     "name": "stdout",
     "output_type": "stream",
     "text": [
      " - Metrics: Accuracy=0.9420, F1=0.8569, Recall=0.8245, Precision=0.8920\n",
      "Done. Results written to citeseer_experimentations\\citeseer_scar_sampling_nnif_batch_cluster_1203151744.csv.\n",
      "Average F1 over valid seeds: 0.8583 ± 0.0062\n",
      "Running experiment with seed=654:\n",
      " - K=5, layers=1, hidden=128, out=256\n",
      " - norm=None, dropout=0, batch_size=10, reliable_mini_batch=True\n",
      " - ratio=0.13092699790454154, aggregation=sum, treatment=removal\n",
      " - model_type=GATConv, rate_pairs=2, clusters=100, lr=0.003489952747545999\n"
     ]
    },
    {
     "name": "stderr",
     "output_type": "stream",
     "text": [
      "Computing METIS partitioning...\n",
      "Done!\n"
     ]
    },
    {
     "name": "stdout",
     "output_type": "stream",
     "text": [
      "Epoch 0, Loss: 8.8306\n",
      "Epoch 10, Loss: 7.2779\n",
      "Epoch 20, Loss: 6.1539\n",
      "Epoch 30, Loss: 5.3013\n",
      "Epoch 40, Loss: 4.0298\n",
      " - Metrics: Accuracy=0.9414, F1=0.8554, Recall=0.8231, Precision=0.8904\n",
      "Running experiment with seed=114:\n",
      " - K=5, layers=1, hidden=128, out=256\n",
      " - norm=None, dropout=0, batch_size=10, reliable_mini_batch=True\n",
      " - ratio=0.13092699790454154, aggregation=sum, treatment=removal\n",
      " - model_type=GATConv, rate_pairs=2, clusters=100, lr=0.003489952747545999\n"
     ]
    },
    {
     "name": "stderr",
     "output_type": "stream",
     "text": [
      "Computing METIS partitioning...\n",
      "Done!\n"
     ]
    },
    {
     "name": "stdout",
     "output_type": "stream",
     "text": [
      "Epoch 0, Loss: 8.4378\n",
      "Epoch 10, Loss: 6.9988\n",
      "Epoch 20, Loss: 6.0816\n",
      "Epoch 30, Loss: 5.0869\n",
      "Epoch 40, Loss: 3.8427\n",
      " - Metrics: Accuracy=0.9405, F1=0.8533, Recall=0.8217, Precision=0.8875\n",
      "Running experiment with seed=25:\n",
      " - K=5, layers=1, hidden=128, out=256\n",
      " - norm=None, dropout=0, batch_size=10, reliable_mini_batch=True\n",
      " - ratio=0.13092699790454154, aggregation=sum, treatment=removal\n",
      " - model_type=GATConv, rate_pairs=2, clusters=100, lr=0.003489952747545999\n"
     ]
    },
    {
     "name": "stderr",
     "output_type": "stream",
     "text": [
      "Computing METIS partitioning...\n",
      "Done!\n"
     ]
    },
    {
     "name": "stdout",
     "output_type": "stream",
     "text": [
      "Epoch 0, Loss: 8.4938\n",
      "Epoch 10, Loss: 7.0253\n",
      "Epoch 20, Loss: 6.1057\n",
      "Epoch 30, Loss: 5.1120\n",
      "Epoch 40, Loss: 3.8608\n",
      " - Metrics: Accuracy=0.9408, F1=0.8537, Recall=0.8203, Precision=0.8901\n",
      "Running experiment with seed=759:\n",
      " - K=5, layers=1, hidden=128, out=256\n",
      " - norm=None, dropout=0, batch_size=10, reliable_mini_batch=True\n",
      " - ratio=0.13092699790454154, aggregation=sum, treatment=removal\n",
      " - model_type=GATConv, rate_pairs=2, clusters=100, lr=0.003489952747545999\n"
     ]
    },
    {
     "name": "stderr",
     "output_type": "stream",
     "text": [
      "Computing METIS partitioning...\n",
      "Done!\n"
     ]
    },
    {
     "name": "stdout",
     "output_type": "stream",
     "text": [
      "Epoch 0, Loss: 8.4404\n",
      "Epoch 10, Loss: 6.9960\n",
      "Epoch 20, Loss: 6.0771\n",
      "Epoch 30, Loss: 5.0896\n",
      "Epoch 40, Loss: 3.8458\n",
      " - Metrics: Accuracy=0.9390, F1=0.8508, Recall=0.8260, Precision=0.8773\n",
      "Running experiment with seed=281:\n",
      " - K=5, layers=1, hidden=128, out=256\n",
      " - norm=None, dropout=0, batch_size=10, reliable_mini_batch=True\n",
      " - ratio=0.13092699790454154, aggregation=sum, treatment=removal\n",
      " - model_type=GATConv, rate_pairs=2, clusters=100, lr=0.003489952747545999\n"
     ]
    },
    {
     "name": "stderr",
     "output_type": "stream",
     "text": [
      "Computing METIS partitioning...\n",
      "Done!\n"
     ]
    },
    {
     "name": "stdout",
     "output_type": "stream",
     "text": [
      "Epoch 0, Loss: 8.4647\n",
      "Epoch 10, Loss: 7.0088\n",
      "Epoch 20, Loss: 6.0909\n",
      "Epoch 30, Loss: 5.0977\n",
      "Epoch 40, Loss: 3.8513\n"
     ]
    },
    {
     "name": "stderr",
     "output_type": "stream",
     "text": [
      "[I 2025-03-12 15:22:52,040] Trial 123 finished with value: 0.8526309879059191 and parameters: {'K': 5, 'layers': 1, 'hidden_channels': 128, 'out_channels': 256, 'ratio': 0.13092699790454154, 'aggregation': 'sum', 'treatment': 'removal', 'model_type': 'GATConv', 'rate_pairs': 2, 'batch_size': 10, 'lr': 0.003489952747545999, 'clusters': 100}. Best is trial 117 with value: 0.8637880075000375.\n"
     ]
    },
    {
     "name": "stdout",
     "output_type": "stream",
     "text": [
      " - Metrics: Accuracy=0.9387, F1=0.8498, Recall=0.8231, Precision=0.8782\n",
      "Done. Results written to citeseer_experimentations\\citeseer_scar_sampling_nnif_batch_cluster_1203152018.csv.\n",
      "Average F1 over valid seeds: 0.8526 ± 0.0020\n",
      "Running experiment with seed=654:\n",
      " - K=5, layers=1, hidden=128, out=256\n",
      " - norm=None, dropout=0, batch_size=10, reliable_mini_batch=True\n",
      " - ratio=0.1246432905859431, aggregation=sum, treatment=removal\n",
      " - model_type=GATConv, rate_pairs=3, clusters=100, lr=0.0038536238847586743\n"
     ]
    },
    {
     "name": "stderr",
     "output_type": "stream",
     "text": [
      "Computing METIS partitioning...\n",
      "Done!\n"
     ]
    },
    {
     "name": "stdout",
     "output_type": "stream",
     "text": [
      "Epoch 0, Loss: 8.8615\n",
      "Epoch 10, Loss: 7.2017\n",
      "Epoch 20, Loss: 5.9434\n",
      "Epoch 30, Loss: 4.9641\n",
      "Epoch 40, Loss: 3.6668\n",
      " - Metrics: Accuracy=0.9444, F1=0.8608, Recall=0.8160, Precision=0.9108\n",
      "Running experiment with seed=114:\n",
      " - K=5, layers=1, hidden=128, out=256\n",
      " - norm=None, dropout=0, batch_size=10, reliable_mini_batch=True\n",
      " - ratio=0.1246432905859431, aggregation=sum, treatment=removal\n",
      " - model_type=GATConv, rate_pairs=3, clusters=100, lr=0.0038536238847586743\n"
     ]
    },
    {
     "name": "stderr",
     "output_type": "stream",
     "text": [
      "Computing METIS partitioning...\n",
      "Done!\n"
     ]
    },
    {
     "name": "stdout",
     "output_type": "stream",
     "text": [
      "Epoch 0, Loss: 8.4464\n",
      "Epoch 10, Loss: 6.9099\n",
      "Epoch 20, Loss: 5.8528\n",
      "Epoch 30, Loss: 4.7354\n",
      "Epoch 40, Loss: 3.4704\n",
      " - Metrics: Accuracy=0.9426, F1=0.8574, Recall=0.8188, Precision=0.8997\n",
      "Running experiment with seed=25:\n",
      " - K=5, layers=1, hidden=128, out=256\n",
      " - norm=None, dropout=0, batch_size=10, reliable_mini_batch=True\n",
      " - ratio=0.1246432905859431, aggregation=sum, treatment=removal\n",
      " - model_type=GATConv, rate_pairs=3, clusters=100, lr=0.0038536238847586743\n"
     ]
    },
    {
     "name": "stderr",
     "output_type": "stream",
     "text": [
      "Computing METIS partitioning...\n",
      "Done!\n"
     ]
    },
    {
     "name": "stdout",
     "output_type": "stream",
     "text": [
      "Epoch 0, Loss: 8.4426\n",
      "Epoch 10, Loss: 6.9047\n",
      "Epoch 20, Loss: 5.8472\n",
      "Epoch 30, Loss: 4.7351\n",
      "Epoch 40, Loss: 3.4746\n",
      " - Metrics: Accuracy=0.9429, F1=0.8593, Recall=0.8274, Precision=0.8937\n",
      "Running experiment with seed=759:\n",
      " - K=5, layers=1, hidden=128, out=256\n",
      " - norm=None, dropout=0, batch_size=10, reliable_mini_batch=True\n",
      " - ratio=0.1246432905859431, aggregation=sum, treatment=removal\n",
      " - model_type=GATConv, rate_pairs=3, clusters=100, lr=0.0038536238847586743\n"
     ]
    },
    {
     "name": "stderr",
     "output_type": "stream",
     "text": [
      "Computing METIS partitioning...\n",
      "Done!\n"
     ]
    },
    {
     "name": "stdout",
     "output_type": "stream",
     "text": [
      "Epoch 0, Loss: 8.4579\n",
      "Epoch 10, Loss: 6.9201\n",
      "Epoch 20, Loss: 5.8625\n",
      "Epoch 30, Loss: 4.7397\n",
      "Epoch 40, Loss: 3.4775\n",
      " - Metrics: Accuracy=0.9432, F1=0.8588, Recall=0.8203, Precision=0.9013\n",
      "Running experiment with seed=281:\n",
      " - K=5, layers=1, hidden=128, out=256\n",
      " - norm=None, dropout=0, batch_size=10, reliable_mini_batch=True\n",
      " - ratio=0.1246432905859431, aggregation=sum, treatment=removal\n",
      " - model_type=GATConv, rate_pairs=3, clusters=100, lr=0.0038536238847586743\n"
     ]
    },
    {
     "name": "stderr",
     "output_type": "stream",
     "text": [
      "Computing METIS partitioning...\n",
      "Done!\n"
     ]
    },
    {
     "name": "stdout",
     "output_type": "stream",
     "text": [
      "Epoch 0, Loss: 8.4038\n",
      "Epoch 10, Loss: 6.8847\n",
      "Epoch 20, Loss: 5.8298\n",
      "Epoch 30, Loss: 4.7269\n",
      "Epoch 40, Loss: 3.4628\n"
     ]
    },
    {
     "name": "stderr",
     "output_type": "stream",
     "text": [
      "[I 2025-03-12 15:25:25,649] Trial 124 finished with value: 0.8582973712007911 and parameters: {'K': 5, 'layers': 1, 'hidden_channels': 128, 'out_channels': 256, 'ratio': 0.1246432905859431, 'aggregation': 'sum', 'treatment': 'removal', 'model_type': 'GATConv', 'rate_pairs': 3, 'batch_size': 10, 'lr': 0.0038536238847586743, 'clusters': 100}. Best is trial 117 with value: 0.8637880075000375.\n"
     ]
    },
    {
     "name": "stdout",
     "output_type": "stream",
     "text": [
      " - Metrics: Accuracy=0.9417, F1=0.8552, Recall=0.8174, Precision=0.8967\n",
      "Done. Results written to citeseer_experimentations\\citeseer_scar_sampling_nnif_batch_cluster_1203152252.csv.\n",
      "Average F1 over valid seeds: 0.8583 ± 0.0019\n",
      "Running experiment with seed=654:\n",
      " - K=5, layers=1, hidden=128, out=256\n",
      " - norm=None, dropout=0, batch_size=10, reliable_mini_batch=True\n",
      " - ratio=0.12470452584186656, aggregation=sum, treatment=removal\n",
      " - model_type=GATConv, rate_pairs=2, clusters=100, lr=0.004128766895698162\n"
     ]
    },
    {
     "name": "stderr",
     "output_type": "stream",
     "text": [
      "Computing METIS partitioning...\n",
      "Done!\n"
     ]
    },
    {
     "name": "stdout",
     "output_type": "stream",
     "text": [
      "Epoch 0, Loss: 8.8197\n",
      "Epoch 10, Loss: 7.1046\n",
      "Epoch 20, Loss: 5.7502\n",
      "Epoch 30, Loss: 4.6832\n",
      "Epoch 40, Loss: 3.3844\n",
      " - Metrics: Accuracy=0.9420, F1=0.8548, Recall=0.8103, Precision=0.9045\n",
      "Running experiment with seed=114:\n",
      " - K=5, layers=1, hidden=128, out=256\n",
      " - norm=None, dropout=0, batch_size=10, reliable_mini_batch=True\n",
      " - ratio=0.12470452584186656, aggregation=sum, treatment=removal\n",
      " - model_type=GATConv, rate_pairs=2, clusters=100, lr=0.004128766895698162\n"
     ]
    },
    {
     "name": "stderr",
     "output_type": "stream",
     "text": [
      "Computing METIS partitioning...\n",
      "Done!\n"
     ]
    },
    {
     "name": "stdout",
     "output_type": "stream",
     "text": [
      "Epoch 0, Loss: 8.4213\n",
      "Epoch 10, Loss: 6.8187\n",
      "Epoch 20, Loss: 5.6554\n",
      "Epoch 30, Loss: 4.4680\n",
      "Epoch 40, Loss: 3.2127\n",
      " - Metrics: Accuracy=0.9429, F1=0.8571, Recall=0.8131, Precision=0.9062\n",
      "Running experiment with seed=25:\n",
      " - K=5, layers=1, hidden=128, out=256\n",
      " - norm=None, dropout=0, batch_size=10, reliable_mini_batch=True\n",
      " - ratio=0.12470452584186656, aggregation=sum, treatment=removal\n",
      " - model_type=GATConv, rate_pairs=2, clusters=100, lr=0.004128766895698162\n"
     ]
    },
    {
     "name": "stderr",
     "output_type": "stream",
     "text": [
      "Computing METIS partitioning...\n",
      "Done!\n"
     ]
    },
    {
     "name": "stdout",
     "output_type": "stream",
     "text": [
      "Epoch 0, Loss: 8.4632\n",
      "Epoch 10, Loss: 6.8566\n",
      "Epoch 20, Loss: 5.6820\n",
      "Epoch 30, Loss: 4.4898\n",
      "Epoch 40, Loss: 3.2235\n",
      " - Metrics: Accuracy=0.9402, F1=0.8509, Recall=0.8103, Precision=0.8959\n",
      "Running experiment with seed=759:\n",
      " - K=5, layers=1, hidden=128, out=256\n",
      " - norm=None, dropout=0, batch_size=10, reliable_mini_batch=True\n",
      " - ratio=0.12470452584186656, aggregation=sum, treatment=removal\n",
      " - model_type=GATConv, rate_pairs=2, clusters=100, lr=0.004128766895698162\n"
     ]
    },
    {
     "name": "stderr",
     "output_type": "stream",
     "text": [
      "Computing METIS partitioning...\n",
      "Done!\n"
     ]
    },
    {
     "name": "stdout",
     "output_type": "stream",
     "text": [
      "Epoch 0, Loss: 8.4352\n",
      "Epoch 10, Loss: 6.8397\n",
      "Epoch 20, Loss: 5.6674\n",
      "Epoch 30, Loss: 4.4711\n",
      "Epoch 40, Loss: 3.2124\n",
      " - Metrics: Accuracy=0.9408, F1=0.8524, Recall=0.8117, Precision=0.8975\n",
      "Running experiment with seed=281:\n",
      " - K=5, layers=1, hidden=128, out=256\n",
      " - norm=None, dropout=0, batch_size=10, reliable_mini_batch=True\n",
      " - ratio=0.12470452584186656, aggregation=sum, treatment=removal\n",
      " - model_type=GATConv, rate_pairs=2, clusters=100, lr=0.004128766895698162\n"
     ]
    },
    {
     "name": "stderr",
     "output_type": "stream",
     "text": [
      "Computing METIS partitioning...\n",
      "Done!\n"
     ]
    },
    {
     "name": "stdout",
     "output_type": "stream",
     "text": [
      "Epoch 0, Loss: 8.4153\n",
      "Epoch 10, Loss: 6.8236\n",
      "Epoch 20, Loss: 5.6596\n",
      "Epoch 30, Loss: 4.4714\n",
      "Epoch 40, Loss: 3.2137\n"
     ]
    },
    {
     "name": "stderr",
     "output_type": "stream",
     "text": [
      "[I 2025-03-12 15:28:01,255] Trial 125 finished with value: 0.8527734768793133 and parameters: {'K': 5, 'layers': 1, 'hidden_channels': 128, 'out_channels': 256, 'ratio': 0.12470452584186656, 'aggregation': 'sum', 'treatment': 'removal', 'model_type': 'GATConv', 'rate_pairs': 2, 'batch_size': 10, 'lr': 0.004128766895698162, 'clusters': 100}. Best is trial 117 with value: 0.8637880075000375.\n"
     ]
    },
    {
     "name": "stdout",
     "output_type": "stream",
     "text": [
      " - Metrics: Accuracy=0.9393, F1=0.8486, Recall=0.8074, Precision=0.8942\n",
      "Done. Results written to citeseer_experimentations\\citeseer_scar_sampling_nnif_batch_cluster_1203152525.csv.\n",
      "Average F1 over valid seeds: 0.8528 ± 0.0030\n",
      "Running experiment with seed=654:\n",
      " - K=5, layers=1, hidden=128, out=256\n",
      " - norm=None, dropout=0, batch_size=10, reliable_mini_batch=True\n",
      " - ratio=0.12827247537311096, aggregation=sum, treatment=removal\n",
      " - model_type=GATConv, rate_pairs=3, clusters=100, lr=0.0032830003225746847\n"
     ]
    },
    {
     "name": "stderr",
     "output_type": "stream",
     "text": [
      "Computing METIS partitioning...\n",
      "Done!\n"
     ]
    },
    {
     "name": "stdout",
     "output_type": "stream",
     "text": [
      "Epoch 0, Loss: 8.8189\n",
      "Epoch 10, Loss: 7.3069\n",
      "Epoch 20, Loss: 6.2647\n",
      "Epoch 30, Loss: 5.5018\n",
      "Epoch 40, Loss: 4.2531\n",
      " - Metrics: Accuracy=0.9450, F1=0.8619, Recall=0.8146, Precision=0.9151\n",
      "Running experiment with seed=114:\n",
      " - K=5, layers=1, hidden=128, out=256\n",
      " - norm=None, dropout=0, batch_size=10, reliable_mini_batch=True\n",
      " - ratio=0.12827247537311096, aggregation=sum, treatment=removal\n",
      " - model_type=GATConv, rate_pairs=3, clusters=100, lr=0.0032830003225746847\n"
     ]
    },
    {
     "name": "stderr",
     "output_type": "stream",
     "text": [
      "Computing METIS partitioning...\n",
      "Done!\n"
     ]
    },
    {
     "name": "stdout",
     "output_type": "stream",
     "text": [
      "Epoch 0, Loss: 8.4213\n",
      "Epoch 10, Loss: 7.0241\n",
      "Epoch 20, Loss: 6.1910\n",
      "Epoch 30, Loss: 5.2785\n",
      "Epoch 40, Loss: 4.0602\n",
      " - Metrics: Accuracy=0.9408, F1=0.8540, Recall=0.8217, Precision=0.8889\n",
      "Running experiment with seed=25:\n",
      " - K=5, layers=1, hidden=128, out=256\n",
      " - norm=None, dropout=0, batch_size=10, reliable_mini_batch=True\n",
      " - ratio=0.12827247537311096, aggregation=sum, treatment=removal\n",
      " - model_type=GATConv, rate_pairs=3, clusters=100, lr=0.0032830003225746847\n"
     ]
    },
    {
     "name": "stderr",
     "output_type": "stream",
     "text": [
      "Computing METIS partitioning...\n",
      "Done!\n"
     ]
    },
    {
     "name": "stdout",
     "output_type": "stream",
     "text": [
      "Epoch 0, Loss: 8.4871\n",
      "Epoch 10, Loss: 7.0727\n",
      "Epoch 20, Loss: 6.2271\n",
      "Epoch 30, Loss: 5.3100\n",
      "Epoch 40, Loss: 4.0838\n",
      " - Metrics: Accuracy=0.9396, F1=0.8512, Recall=0.8203, Precision=0.8846\n",
      "Running experiment with seed=759:\n",
      " - K=5, layers=1, hidden=128, out=256\n",
      " - norm=None, dropout=0, batch_size=10, reliable_mini_batch=True\n",
      " - ratio=0.12827247537311096, aggregation=sum, treatment=removal\n",
      " - model_type=GATConv, rate_pairs=3, clusters=100, lr=0.0032830003225746847\n"
     ]
    },
    {
     "name": "stderr",
     "output_type": "stream",
     "text": [
      "Computing METIS partitioning...\n",
      "Done!\n"
     ]
    },
    {
     "name": "stdout",
     "output_type": "stream",
     "text": [
      "Epoch 0, Loss: 8.4773\n",
      "Epoch 10, Loss: 7.0620\n",
      "Epoch 20, Loss: 6.2239\n",
      "Epoch 30, Loss: 5.3034\n",
      "Epoch 40, Loss: 4.0797\n",
      " - Metrics: Accuracy=0.9393, F1=0.8506, Recall=0.8203, Precision=0.8833\n",
      "Running experiment with seed=281:\n",
      " - K=5, layers=1, hidden=128, out=256\n",
      " - norm=None, dropout=0, batch_size=10, reliable_mini_batch=True\n",
      " - ratio=0.12827247537311096, aggregation=sum, treatment=removal\n",
      " - model_type=GATConv, rate_pairs=3, clusters=100, lr=0.0032830003225746847\n"
     ]
    },
    {
     "name": "stderr",
     "output_type": "stream",
     "text": [
      "Computing METIS partitioning...\n",
      "Done!\n"
     ]
    },
    {
     "name": "stdout",
     "output_type": "stream",
     "text": [
      "Epoch 0, Loss: 8.4380\n",
      "Epoch 10, Loss: 7.0437\n",
      "Epoch 20, Loss: 6.2058\n",
      "Epoch 30, Loss: 5.2912\n",
      "Epoch 40, Loss: 4.0660\n"
     ]
    },
    {
     "name": "stderr",
     "output_type": "stream",
     "text": [
      "[I 2025-03-12 15:30:36,522] Trial 126 finished with value: 0.8546656397763334 and parameters: {'K': 5, 'layers': 1, 'hidden_channels': 128, 'out_channels': 256, 'ratio': 0.12827247537311096, 'aggregation': 'sum', 'treatment': 'removal', 'model_type': 'GATConv', 'rate_pairs': 3, 'batch_size': 10, 'lr': 0.0032830003225746847, 'clusters': 100}. Best is trial 117 with value: 0.8637880075000375.\n"
     ]
    },
    {
     "name": "stdout",
     "output_type": "stream",
     "text": [
      " - Metrics: Accuracy=0.9414, F1=0.8557, Recall=0.8245, Precision=0.8892\n",
      "Done. Results written to citeseer_experimentations\\citeseer_scar_sampling_nnif_batch_cluster_1203152801.csv.\n",
      "Average F1 over valid seeds: 0.8547 ± 0.0041\n",
      "Running experiment with seed=654:\n",
      " - K=5, layers=1, hidden=128, out=256\n",
      " - norm=None, dropout=0, batch_size=10, reliable_mini_batch=True\n",
      " - ratio=0.12230995858618356, aggregation=sum, treatment=removal\n",
      " - model_type=GATConv, rate_pairs=3, clusters=100, lr=0.003929426554198516\n"
     ]
    },
    {
     "name": "stderr",
     "output_type": "stream",
     "text": [
      "Computing METIS partitioning...\n",
      "Done!\n"
     ]
    },
    {
     "name": "stdout",
     "output_type": "stream",
     "text": [
      "Epoch 0, Loss: 8.8317\n",
      "Epoch 10, Loss: 7.1322\n",
      "Epoch 20, Loss: 5.8556\n",
      "Epoch 30, Loss: 4.8560\n",
      "Epoch 40, Loss: 3.5605\n",
      " - Metrics: Accuracy=0.9453, F1=0.8642, Recall=0.8260, Precision=0.9061\n",
      "Running experiment with seed=114:\n",
      " - K=5, layers=1, hidden=128, out=256\n",
      " - norm=None, dropout=0, batch_size=10, reliable_mini_batch=True\n",
      " - ratio=0.12230995858618356, aggregation=sum, treatment=removal\n",
      " - model_type=GATConv, rate_pairs=3, clusters=100, lr=0.003929426554198516\n"
     ]
    },
    {
     "name": "stderr",
     "output_type": "stream",
     "text": [
      "Computing METIS partitioning...\n",
      "Done!\n"
     ]
    },
    {
     "name": "stdout",
     "output_type": "stream",
     "text": [
      "Epoch 0, Loss: 8.4421\n",
      "Epoch 10, Loss: 6.8932\n",
      "Epoch 20, Loss: 5.7970\n",
      "Epoch 30, Loss: 4.6587\n",
      "Epoch 40, Loss: 3.3977\n",
      " - Metrics: Accuracy=0.9411, F1=0.8537, Recall=0.8160, Precision=0.8951\n",
      "Running experiment with seed=25:\n",
      " - K=5, layers=1, hidden=128, out=256\n",
      " - norm=None, dropout=0, batch_size=10, reliable_mini_batch=True\n",
      " - ratio=0.12230995858618356, aggregation=sum, treatment=removal\n",
      " - model_type=GATConv, rate_pairs=3, clusters=100, lr=0.003929426554198516\n"
     ]
    },
    {
     "name": "stderr",
     "output_type": "stream",
     "text": [
      "Computing METIS partitioning...\n",
      "Done!\n"
     ]
    },
    {
     "name": "stdout",
     "output_type": "stream",
     "text": [
      "Epoch 0, Loss: 8.4575\n",
      "Epoch 10, Loss: 6.8844\n",
      "Epoch 20, Loss: 5.8025\n",
      "Epoch 30, Loss: 4.6694\n",
      "Epoch 40, Loss: 3.4035\n",
      " - Metrics: Accuracy=0.9405, F1=0.8520, Recall=0.8131, Precision=0.8948\n",
      "Running experiment with seed=759:\n",
      " - K=5, layers=1, hidden=128, out=256\n",
      " - norm=None, dropout=0, batch_size=10, reliable_mini_batch=True\n",
      " - ratio=0.12230995858618356, aggregation=sum, treatment=removal\n",
      " - model_type=GATConv, rate_pairs=3, clusters=100, lr=0.003929426554198516\n"
     ]
    },
    {
     "name": "stderr",
     "output_type": "stream",
     "text": [
      "Computing METIS partitioning...\n",
      "Done!\n"
     ]
    },
    {
     "name": "stdout",
     "output_type": "stream",
     "text": [
      "Epoch 0, Loss: 8.4330\n",
      "Epoch 10, Loss: 6.8703\n",
      "Epoch 20, Loss: 5.7902\n",
      "Epoch 30, Loss: 4.6595\n",
      "Epoch 40, Loss: 3.3943\n",
      " - Metrics: Accuracy=0.9405, F1=0.8516, Recall=0.8103, Precision=0.8973\n",
      "Running experiment with seed=281:\n",
      " - K=5, layers=1, hidden=128, out=256\n",
      " - norm=None, dropout=0, batch_size=10, reliable_mini_batch=True\n",
      " - ratio=0.12230995858618356, aggregation=sum, treatment=removal\n",
      " - model_type=GATConv, rate_pairs=3, clusters=100, lr=0.003929426554198516\n"
     ]
    },
    {
     "name": "stderr",
     "output_type": "stream",
     "text": [
      "Computing METIS partitioning...\n",
      "Done!\n"
     ]
    },
    {
     "name": "stdout",
     "output_type": "stream",
     "text": [
      "Epoch 0, Loss: 8.4418\n",
      "Epoch 10, Loss: 6.8945\n",
      "Epoch 20, Loss: 5.7992\n",
      "Epoch 30, Loss: 4.6694\n",
      "Epoch 40, Loss: 3.4011\n"
     ]
    },
    {
     "name": "stderr",
     "output_type": "stream",
     "text": [
      "[I 2025-03-12 15:33:09,271] Trial 127 finished with value: 0.8552610556880751 and parameters: {'K': 5, 'layers': 1, 'hidden_channels': 128, 'out_channels': 256, 'ratio': 0.12230995858618356, 'aggregation': 'sum', 'treatment': 'removal', 'model_type': 'GATConv', 'rate_pairs': 3, 'batch_size': 10, 'lr': 0.003929426554198516, 'clusters': 100}. Best is trial 117 with value: 0.8637880075000375.\n"
     ]
    },
    {
     "name": "stdout",
     "output_type": "stream",
     "text": [
      " - Metrics: Accuracy=0.9414, F1=0.8548, Recall=0.8188, Precision=0.8941\n",
      "Done. Results written to citeseer_experimentations\\citeseer_scar_sampling_nnif_batch_cluster_1203153036.csv.\n",
      "Average F1 over valid seeds: 0.8553 ± 0.0046\n",
      "Running experiment with seed=654:\n",
      " - K=5, layers=1, hidden=128, out=64\n",
      " - norm=None, dropout=0, batch_size=10, reliable_mini_batch=True\n",
      " - ratio=0.12626891347973132, aggregation=sum, treatment=removal\n",
      " - model_type=GATConv, rate_pairs=2, clusters=100, lr=0.0023516533471276617\n"
     ]
    },
    {
     "name": "stderr",
     "output_type": "stream",
     "text": [
      "Computing METIS partitioning...\n",
      "Done!\n"
     ]
    },
    {
     "name": "stdout",
     "output_type": "stream",
     "text": [
      "Epoch 0, Loss: 9.0192\n",
      "Epoch 10, Loss: 8.1418\n",
      "Epoch 20, Loss: 7.0022\n",
      "Epoch 30, Loss: 6.4349\n",
      "Epoch 40, Loss: 5.6416\n",
      " - Metrics: Accuracy=0.9369, F1=0.8433, Recall=0.8060, Precision=0.8842\n",
      "Running experiment with seed=114:\n",
      " - K=5, layers=1, hidden=128, out=64\n",
      " - norm=None, dropout=0, batch_size=10, reliable_mini_batch=True\n",
      " - ratio=0.12626891347973132, aggregation=sum, treatment=removal\n",
      " - model_type=GATConv, rate_pairs=2, clusters=100, lr=0.0023516533471276617\n"
     ]
    },
    {
     "name": "stderr",
     "output_type": "stream",
     "text": [
      "Computing METIS partitioning...\n",
      "Done!\n"
     ]
    },
    {
     "name": "stdout",
     "output_type": "stream",
     "text": [
      "Epoch 0, Loss: 8.7209\n",
      "Epoch 10, Loss: 7.8735\n",
      "Epoch 20, Loss: 6.9032\n",
      "Epoch 30, Loss: 6.1042\n",
      "Epoch 40, Loss: 5.5070\n"
     ]
    },
    {
     "name": "stderr",
     "output_type": "stream",
     "text": [
      "[I 2025-03-12 15:34:03,083] Trial 128 finished with value: 0.8371772359919858 and parameters: {'K': 5, 'layers': 1, 'hidden_channels': 128, 'out_channels': 64, 'ratio': 0.12626891347973132, 'aggregation': 'sum', 'treatment': 'removal', 'model_type': 'GATConv', 'rate_pairs': 2, 'batch_size': 10, 'lr': 0.0023516533471276617, 'clusters': 100}. Best is trial 117 with value: 0.8637880075000375.\n"
     ]
    },
    {
     "name": "stdout",
     "output_type": "stream",
     "text": [
      " - Metrics: Accuracy=0.9327, F1=0.8311, Recall=0.7860, Precision=0.8816\n",
      "F1 = 0.83 < 0.835, skipping ...\n",
      "Done. Results written to citeseer_experimentations\\citeseer_scar_sampling_nnif_batch_cluster_1203153309.csv.\n",
      "Average F1 over valid seeds: 0.8372 ± 0.0061\n",
      "Running experiment with seed=654:\n",
      " - K=5, layers=1, hidden=128, out=256\n",
      " - norm=None, dropout=0, batch_size=10, reliable_mini_batch=True\n",
      " - ratio=0.1294690923341643, aggregation=sum, treatment=removal\n",
      " - model_type=GATConv, rate_pairs=1, clusters=100, lr=0.0035890944082857023\n"
     ]
    },
    {
     "name": "stderr",
     "output_type": "stream",
     "text": [
      "Computing METIS partitioning...\n",
      "Done!\n"
     ]
    },
    {
     "name": "stdout",
     "output_type": "stream",
     "text": [
      "Epoch 0, Loss: 8.8166\n",
      "Epoch 10, Loss: 7.2444\n",
      "Epoch 20, Loss: 6.0925\n",
      "Epoch 30, Loss: 5.2029\n",
      "Epoch 40, Loss: 3.9221\n",
      " - Metrics: Accuracy=0.9420, F1=0.8563, Recall=0.8203, Precision=0.8956\n",
      "Running experiment with seed=114:\n",
      " - K=5, layers=1, hidden=128, out=256\n",
      " - norm=None, dropout=0, batch_size=10, reliable_mini_batch=True\n",
      " - ratio=0.1294690923341643, aggregation=sum, treatment=removal\n",
      " - model_type=GATConv, rate_pairs=1, clusters=100, lr=0.0035890944082857023\n"
     ]
    },
    {
     "name": "stderr",
     "output_type": "stream",
     "text": [
      "Computing METIS partitioning...\n",
      "Done!\n"
     ]
    },
    {
     "name": "stdout",
     "output_type": "stream",
     "text": [
      "Epoch 0, Loss: 8.4292\n",
      "Epoch 10, Loss: 6.9698\n",
      "Epoch 20, Loss: 6.0066\n",
      "Epoch 30, Loss: 4.9894\n",
      "Epoch 40, Loss: 3.7359\n",
      " - Metrics: Accuracy=0.9402, F1=0.8536, Recall=0.8274, Precision=0.8815\n",
      "Running experiment with seed=25:\n",
      " - K=5, layers=1, hidden=128, out=256\n",
      " - norm=None, dropout=0, batch_size=10, reliable_mini_batch=True\n",
      " - ratio=0.1294690923341643, aggregation=sum, treatment=removal\n",
      " - model_type=GATConv, rate_pairs=1, clusters=100, lr=0.0035890944082857023\n"
     ]
    },
    {
     "name": "stderr",
     "output_type": "stream",
     "text": [
      "Computing METIS partitioning...\n",
      "Done!\n"
     ]
    },
    {
     "name": "stdout",
     "output_type": "stream",
     "text": [
      "Epoch 0, Loss: 8.4052\n",
      "Epoch 10, Loss: 6.9588\n",
      "Epoch 20, Loss: 6.0070\n",
      "Epoch 30, Loss: 4.9780\n",
      "Epoch 40, Loss: 3.7315\n",
      " - Metrics: Accuracy=0.9393, F1=0.8506, Recall=0.8203, Precision=0.8833\n",
      "Running experiment with seed=759:\n",
      " - K=5, layers=1, hidden=128, out=256\n",
      " - norm=None, dropout=0, batch_size=10, reliable_mini_batch=True\n",
      " - ratio=0.1294690923341643, aggregation=sum, treatment=removal\n",
      " - model_type=GATConv, rate_pairs=1, clusters=100, lr=0.0035890944082857023\n"
     ]
    },
    {
     "name": "stderr",
     "output_type": "stream",
     "text": [
      "Computing METIS partitioning...\n",
      "Done!\n"
     ]
    },
    {
     "name": "stdout",
     "output_type": "stream",
     "text": [
      "Epoch 0, Loss: 8.4273\n",
      "Epoch 10, Loss: 6.9693\n",
      "Epoch 20, Loss: 6.0081\n",
      "Epoch 30, Loss: 4.9841\n",
      "Epoch 40, Loss: 3.7348\n",
      " - Metrics: Accuracy=0.9399, F1=0.8525, Recall=0.8245, Precision=0.8824\n",
      "Running experiment with seed=281:\n",
      " - K=5, layers=1, hidden=128, out=256\n",
      " - norm=None, dropout=0, batch_size=10, reliable_mini_batch=True\n",
      " - ratio=0.1294690923341643, aggregation=sum, treatment=removal\n",
      " - model_type=GATConv, rate_pairs=1, clusters=100, lr=0.0035890944082857023\n"
     ]
    },
    {
     "name": "stderr",
     "output_type": "stream",
     "text": [
      "Computing METIS partitioning...\n",
      "Done!\n"
     ]
    },
    {
     "name": "stdout",
     "output_type": "stream",
     "text": [
      "Epoch 0, Loss: 8.4519\n",
      "Epoch 10, Loss: 6.9843\n",
      "Epoch 20, Loss: 6.0213\n",
      "Epoch 30, Loss: 4.9916\n",
      "Epoch 40, Loss: 3.7384\n"
     ]
    },
    {
     "name": "stderr",
     "output_type": "stream",
     "text": [
      "[I 2025-03-12 15:36:38,590] Trial 129 finished with value: 0.8532586216743491 and parameters: {'K': 5, 'layers': 1, 'hidden_channels': 128, 'out_channels': 256, 'ratio': 0.1294690923341643, 'aggregation': 'sum', 'treatment': 'removal', 'model_type': 'GATConv', 'rate_pairs': 1, 'batch_size': 10, 'lr': 0.0035890944082857023, 'clusters': 100}. Best is trial 117 with value: 0.8637880075000375.\n"
     ]
    },
    {
     "name": "stdout",
     "output_type": "stream",
     "text": [
      " - Metrics: Accuracy=0.9405, F1=0.8533, Recall=0.8217, Precision=0.8875\n",
      "Done. Results written to citeseer_experimentations\\citeseer_scar_sampling_nnif_batch_cluster_1203153403.csv.\n",
      "Average F1 over valid seeds: 0.8533 ± 0.0018\n",
      "Running experiment with seed=654:\n",
      " - K=5, layers=1, hidden=128, out=256\n",
      " - norm=None, dropout=0, batch_size=10, reliable_mini_batch=True\n",
      " - ratio=0.132412529456743, aggregation=sum, treatment=removal\n",
      " - model_type=GATConv, rate_pairs=4, clusters=100, lr=0.0038591828003087724\n"
     ]
    },
    {
     "name": "stderr",
     "output_type": "stream",
     "text": [
      "Computing METIS partitioning...\n",
      "Done!\n"
     ]
    },
    {
     "name": "stdout",
     "output_type": "stream",
     "text": [
      "Epoch 0, Loss: 8.8035\n",
      "Epoch 10, Loss: 7.1585\n",
      "Epoch 20, Loss: 5.9057\n",
      "Epoch 30, Loss: 4.9311\n",
      "Epoch 40, Loss: 3.6369\n",
      " - Metrics: Accuracy=0.9456, F1=0.8654, Recall=0.8302, Precision=0.9037\n",
      "Running experiment with seed=114:\n",
      " - K=5, layers=1, hidden=128, out=256\n",
      " - norm=None, dropout=0, batch_size=10, reliable_mini_batch=True\n",
      " - ratio=0.132412529456743, aggregation=sum, treatment=removal\n",
      " - model_type=GATConv, rate_pairs=4, clusters=100, lr=0.0038591828003087724\n"
     ]
    },
    {
     "name": "stderr",
     "output_type": "stream",
     "text": [
      "Computing METIS partitioning...\n",
      "Done!\n"
     ]
    },
    {
     "name": "stdout",
     "output_type": "stream",
     "text": [
      "Epoch 0, Loss: 8.4790\n",
      "Epoch 10, Loss: 6.9275\n",
      "Epoch 20, Loss: 5.8649\n",
      "Epoch 30, Loss: 4.7456\n",
      "Epoch 40, Loss: 3.4827\n",
      " - Metrics: Accuracy=0.9417, F1=0.8571, Recall=0.8302, Precision=0.8858\n",
      "Running experiment with seed=25:\n",
      " - K=5, layers=1, hidden=128, out=256\n",
      " - norm=None, dropout=0, batch_size=10, reliable_mini_batch=True\n",
      " - ratio=0.132412529456743, aggregation=sum, treatment=removal\n",
      " - model_type=GATConv, rate_pairs=4, clusters=100, lr=0.0038591828003087724\n"
     ]
    },
    {
     "name": "stderr",
     "output_type": "stream",
     "text": [
      "Computing METIS partitioning...\n",
      "Done!\n"
     ]
    },
    {
     "name": "stdout",
     "output_type": "stream",
     "text": [
      "Epoch 0, Loss: 8.4048\n",
      "Epoch 10, Loss: 6.8935\n",
      "Epoch 20, Loss: 5.8344\n",
      "Epoch 30, Loss: 4.7233\n",
      "Epoch 40, Loss: 3.4622\n",
      " - Metrics: Accuracy=0.9399, F1=0.8523, Recall=0.8231, Precision=0.8836\n",
      "Running experiment with seed=759:\n",
      " - K=5, layers=1, hidden=128, out=256\n",
      " - norm=None, dropout=0, batch_size=10, reliable_mini_batch=True\n",
      " - ratio=0.132412529456743, aggregation=sum, treatment=removal\n",
      " - model_type=GATConv, rate_pairs=4, clusters=100, lr=0.0038591828003087724\n"
     ]
    },
    {
     "name": "stderr",
     "output_type": "stream",
     "text": [
      "Computing METIS partitioning...\n",
      "Done!\n"
     ]
    },
    {
     "name": "stdout",
     "output_type": "stream",
     "text": [
      "Epoch 0, Loss: 8.3940\n",
      "Epoch 10, Loss: 6.8917\n",
      "Epoch 20, Loss: 5.8297\n",
      "Epoch 30, Loss: 4.7172\n",
      "Epoch 40, Loss: 3.4554\n",
      " - Metrics: Accuracy=0.9438, F1=0.8616, Recall=0.8302, Precision=0.8954\n",
      "Running experiment with seed=281:\n",
      " - K=5, layers=1, hidden=128, out=256\n",
      " - norm=None, dropout=0, batch_size=10, reliable_mini_batch=True\n",
      " - ratio=0.132412529456743, aggregation=sum, treatment=removal\n",
      " - model_type=GATConv, rate_pairs=4, clusters=100, lr=0.0038591828003087724\n"
     ]
    },
    {
     "name": "stderr",
     "output_type": "stream",
     "text": [
      "Computing METIS partitioning...\n",
      "Done!\n"
     ]
    },
    {
     "name": "stdout",
     "output_type": "stream",
     "text": [
      "Epoch 0, Loss: 8.4402\n",
      "Epoch 10, Loss: 6.9121\n",
      "Epoch 20, Loss: 5.8426\n",
      "Epoch 30, Loss: 4.7308\n",
      "Epoch 40, Loss: 3.4677\n"
     ]
    },
    {
     "name": "stderr",
     "output_type": "stream",
     "text": [
      "[I 2025-03-12 15:39:10,390] Trial 130 finished with value: 0.8584626266068233 and parameters: {'K': 5, 'layers': 1, 'hidden_channels': 128, 'out_channels': 256, 'ratio': 0.132412529456743, 'aggregation': 'sum', 'treatment': 'removal', 'model_type': 'GATConv', 'rate_pairs': 4, 'batch_size': 10, 'lr': 0.0038591828003087724, 'clusters': 100}. Best is trial 117 with value: 0.8637880075000375.\n"
     ]
    },
    {
     "name": "stdout",
     "output_type": "stream",
     "text": [
      " - Metrics: Accuracy=0.9417, F1=0.8559, Recall=0.8217, Precision=0.8930\n",
      "Done. Results written to citeseer_experimentations\\citeseer_scar_sampling_nnif_batch_cluster_1203153638.csv.\n",
      "Average F1 over valid seeds: 0.8585 ± 0.0046\n",
      "Running experiment with seed=654:\n",
      " - K=5, layers=1, hidden=128, out=256\n",
      " - norm=None, dropout=0, batch_size=10, reliable_mini_batch=True\n",
      " - ratio=0.1322151298325399, aggregation=sum, treatment=removal\n",
      " - model_type=GATConv, rate_pairs=4, clusters=100, lr=0.0038961553117173035\n"
     ]
    },
    {
     "name": "stderr",
     "output_type": "stream",
     "text": [
      "Computing METIS partitioning...\n",
      "Done!\n"
     ]
    },
    {
     "name": "stdout",
     "output_type": "stream",
     "text": [
      "Epoch 0, Loss: 8.7952\n",
      "Epoch 10, Loss: 7.1429\n",
      "Epoch 20, Loss: 5.8808\n",
      "Epoch 30, Loss: 4.8961\n",
      "Epoch 40, Loss: 3.6004\n",
      " - Metrics: Accuracy=0.9420, F1=0.8565, Recall=0.8217, Precision=0.8944\n",
      "Running experiment with seed=114:\n",
      " - K=5, layers=1, hidden=128, out=256\n",
      " - norm=None, dropout=0, batch_size=10, reliable_mini_batch=True\n",
      " - ratio=0.1322151298325399, aggregation=sum, treatment=removal\n",
      " - model_type=GATConv, rate_pairs=4, clusters=100, lr=0.0038961553117173035\n"
     ]
    },
    {
     "name": "stderr",
     "output_type": "stream",
     "text": [
      "Computing METIS partitioning...\n",
      "Done!\n"
     ]
    },
    {
     "name": "stdout",
     "output_type": "stream",
     "text": [
      "Epoch 0, Loss: 8.4518\n",
      "Epoch 10, Loss: 6.9013\n",
      "Epoch 20, Loss: 5.8224\n",
      "Epoch 30, Loss: 4.6961\n",
      "Epoch 40, Loss: 3.4349\n",
      " - Metrics: Accuracy=0.9435, F1=0.8607, Recall=0.8288, Precision=0.8952\n",
      "Running experiment with seed=25:\n",
      " - K=5, layers=1, hidden=128, out=256\n",
      " - norm=None, dropout=0, batch_size=10, reliable_mini_batch=True\n",
      " - ratio=0.1322151298325399, aggregation=sum, treatment=removal\n",
      " - model_type=GATConv, rate_pairs=4, clusters=100, lr=0.0038961553117173035\n"
     ]
    },
    {
     "name": "stderr",
     "output_type": "stream",
     "text": [
      "Computing METIS partitioning...\n",
      "Done!\n"
     ]
    },
    {
     "name": "stdout",
     "output_type": "stream",
     "text": [
      "Epoch 0, Loss: 8.4549\n",
      "Epoch 10, Loss: 6.9098\n",
      "Epoch 20, Loss: 5.8255\n",
      "Epoch 30, Loss: 4.6999\n",
      "Epoch 40, Loss: 3.4360\n",
      " - Metrics: Accuracy=0.9414, F1=0.8550, Recall=0.8203, Precision=0.8929\n",
      "Running experiment with seed=759:\n",
      " - K=5, layers=1, hidden=128, out=256\n",
      " - norm=None, dropout=0, batch_size=10, reliable_mini_batch=True\n",
      " - ratio=0.1322151298325399, aggregation=sum, treatment=removal\n",
      " - model_type=GATConv, rate_pairs=4, clusters=100, lr=0.0038961553117173035\n"
     ]
    },
    {
     "name": "stderr",
     "output_type": "stream",
     "text": [
      "Computing METIS partitioning...\n",
      "Done!\n"
     ]
    },
    {
     "name": "stdout",
     "output_type": "stream",
     "text": [
      "Epoch 0, Loss: 8.4224\n",
      "Epoch 10, Loss: 6.8995\n",
      "Epoch 20, Loss: 5.8177\n",
      "Epoch 30, Loss: 4.6925\n",
      "Epoch 40, Loss: 3.4331\n",
      " - Metrics: Accuracy=0.9393, F1=0.8506, Recall=0.8203, Precision=0.8833\n",
      "Running experiment with seed=281:\n",
      " - K=5, layers=1, hidden=128, out=256\n",
      " - norm=None, dropout=0, batch_size=10, reliable_mini_batch=True\n",
      " - ratio=0.1322151298325399, aggregation=sum, treatment=removal\n",
      " - model_type=GATConv, rate_pairs=4, clusters=100, lr=0.0038961553117173035\n"
     ]
    },
    {
     "name": "stderr",
     "output_type": "stream",
     "text": [
      "Computing METIS partitioning...\n",
      "Done!\n"
     ]
    },
    {
     "name": "stdout",
     "output_type": "stream",
     "text": [
      "Epoch 0, Loss: 8.4405\n",
      "Epoch 10, Loss: 6.9091\n",
      "Epoch 20, Loss: 5.8258\n",
      "Epoch 30, Loss: 4.6962\n",
      "Epoch 40, Loss: 3.4336\n"
     ]
    },
    {
     "name": "stderr",
     "output_type": "stream",
     "text": [
      "[I 2025-03-12 15:41:45,169] Trial 131 finished with value: 0.8559998954857404 and parameters: {'K': 5, 'layers': 1, 'hidden_channels': 128, 'out_channels': 256, 'ratio': 0.1322151298325399, 'aggregation': 'sum', 'treatment': 'removal', 'model_type': 'GATConv', 'rate_pairs': 4, 'batch_size': 10, 'lr': 0.0038961553117173035, 'clusters': 100}. Best is trial 117 with value: 0.8637880075000375.\n"
     ]
    },
    {
     "name": "stdout",
     "output_type": "stream",
     "text": [
      " - Metrics: Accuracy=0.9417, F1=0.8571, Recall=0.8302, Precision=0.8858\n",
      "Done. Results written to citeseer_experimentations\\citeseer_scar_sampling_nnif_batch_cluster_1203153910.csv.\n",
      "Average F1 over valid seeds: 0.8560 ± 0.0033\n",
      "Running experiment with seed=654:\n",
      " - K=5, layers=1, hidden=128, out=256\n",
      " - norm=None, dropout=0, batch_size=10, reliable_mini_batch=True\n",
      " - ratio=0.13261863193500523, aggregation=sum, treatment=removal\n",
      " - model_type=GATConv, rate_pairs=2, clusters=100, lr=0.004482323626778513\n"
     ]
    },
    {
     "name": "stderr",
     "output_type": "stream",
     "text": [
      "Computing METIS partitioning...\n",
      "Done!\n"
     ]
    },
    {
     "name": "stdout",
     "output_type": "stream",
     "text": [
      "Epoch 0, Loss: 8.7379\n",
      "Epoch 10, Loss: 6.9581\n",
      "Epoch 20, Loss: 5.4836\n",
      "Epoch 30, Loss: 4.3286\n",
      "Epoch 40, Loss: 3.0512\n",
      " - Metrics: Accuracy=0.9432, F1=0.8578, Recall=0.8131, Precision=0.9076\n",
      "Running experiment with seed=114:\n",
      " - K=5, layers=1, hidden=128, out=256\n",
      " - norm=None, dropout=0, batch_size=10, reliable_mini_batch=True\n",
      " - ratio=0.13261863193500523, aggregation=sum, treatment=removal\n",
      " - model_type=GATConv, rate_pairs=2, clusters=100, lr=0.004482323626778513\n"
     ]
    },
    {
     "name": "stderr",
     "output_type": "stream",
     "text": [
      "Computing METIS partitioning...\n",
      "Done!\n"
     ]
    },
    {
     "name": "stdout",
     "output_type": "stream",
     "text": [
      "Epoch 0, Loss: 8.3641\n",
      "Epoch 10, Loss: 6.6950\n",
      "Epoch 20, Loss: 5.3971\n",
      "Epoch 30, Loss: 4.1346\n",
      "Epoch 40, Loss: 2.9021\n",
      " - Metrics: Accuracy=0.9417, F1=0.8574, Recall=0.8317, Precision=0.8847\n",
      "Running experiment with seed=25:\n",
      " - K=5, layers=1, hidden=128, out=256\n",
      " - norm=None, dropout=0, batch_size=10, reliable_mini_batch=True\n",
      " - ratio=0.13261863193500523, aggregation=sum, treatment=removal\n",
      " - model_type=GATConv, rate_pairs=2, clusters=100, lr=0.004482323626778513\n"
     ]
    },
    {
     "name": "stderr",
     "output_type": "stream",
     "text": [
      "Computing METIS partitioning...\n",
      "Done!\n"
     ]
    },
    {
     "name": "stdout",
     "output_type": "stream",
     "text": [
      "Epoch 0, Loss: 8.3889\n",
      "Epoch 10, Loss: 6.7277\n",
      "Epoch 20, Loss: 5.4243\n",
      "Epoch 30, Loss: 4.1471\n",
      "Epoch 40, Loss: 2.9115\n",
      " - Metrics: Accuracy=0.9414, F1=0.8559, Recall=0.8260, Precision=0.8880\n",
      "Running experiment with seed=759:\n",
      " - K=5, layers=1, hidden=128, out=256\n",
      " - norm=None, dropout=0, batch_size=10, reliable_mini_batch=True\n",
      " - ratio=0.13261863193500523, aggregation=sum, treatment=removal\n",
      " - model_type=GATConv, rate_pairs=2, clusters=100, lr=0.004482323626778513\n"
     ]
    },
    {
     "name": "stderr",
     "output_type": "stream",
     "text": [
      "Computing METIS partitioning...\n",
      "Done!\n"
     ]
    },
    {
     "name": "stdout",
     "output_type": "stream",
     "text": [
      "Epoch 0, Loss: 8.3526\n",
      "Epoch 10, Loss: 6.6880\n",
      "Epoch 20, Loss: 5.3920\n",
      "Epoch 30, Loss: 4.1297\n",
      "Epoch 40, Loss: 2.8993\n",
      " - Metrics: Accuracy=0.9393, F1=0.8501, Recall=0.8174, Precision=0.8856\n",
      "Running experiment with seed=281:\n",
      " - K=5, layers=1, hidden=128, out=256\n",
      " - norm=None, dropout=0, batch_size=10, reliable_mini_batch=True\n",
      " - ratio=0.13261863193500523, aggregation=sum, treatment=removal\n",
      " - model_type=GATConv, rate_pairs=2, clusters=100, lr=0.004482323626778513\n"
     ]
    },
    {
     "name": "stderr",
     "output_type": "stream",
     "text": [
      "Computing METIS partitioning...\n",
      "Done!\n"
     ]
    },
    {
     "name": "stdout",
     "output_type": "stream",
     "text": [
      "Epoch 0, Loss: 8.3664\n",
      "Epoch 10, Loss: 6.6904\n",
      "Epoch 20, Loss: 5.3988\n",
      "Epoch 30, Loss: 4.1329\n",
      "Epoch 40, Loss: 2.9037\n"
     ]
    },
    {
     "name": "stderr",
     "output_type": "stream",
     "text": [
      "[I 2025-03-12 15:44:20,231] Trial 132 finished with value: 0.8540192834936964 and parameters: {'K': 5, 'layers': 1, 'hidden_channels': 128, 'out_channels': 256, 'ratio': 0.13261863193500523, 'aggregation': 'sum', 'treatment': 'removal', 'model_type': 'GATConv', 'rate_pairs': 2, 'batch_size': 10, 'lr': 0.004482323626778513, 'clusters': 100}. Best is trial 117 with value: 0.8637880075000375.\n"
     ]
    },
    {
     "name": "stdout",
     "output_type": "stream",
     "text": [
      " - Metrics: Accuracy=0.9384, F1=0.8489, Recall=0.8217, Precision=0.8780\n",
      "Done. Results written to citeseer_experimentations\\citeseer_scar_sampling_nnif_batch_cluster_1203154145.csv.\n",
      "Average F1 over valid seeds: 0.8540 ± 0.0037\n",
      "Running experiment with seed=654:\n",
      " - K=5, layers=1, hidden=128, out=256\n",
      " - norm=None, dropout=0, batch_size=10, reliable_mini_batch=True\n",
      " - ratio=0.127040015466833, aggregation=sum, treatment=removal\n",
      " - model_type=GATConv, rate_pairs=3, clusters=100, lr=0.0028840131257263724\n"
     ]
    },
    {
     "name": "stderr",
     "output_type": "stream",
     "text": [
      "Computing METIS partitioning...\n",
      "Done!\n"
     ]
    },
    {
     "name": "stdout",
     "output_type": "stream",
     "text": [
      "Epoch 0, Loss: 8.9011\n",
      "Epoch 10, Loss: 7.4537\n",
      "Epoch 20, Loss: 6.5347\n",
      "Epoch 30, Loss: 5.9369\n",
      "Epoch 40, Loss: 4.7524\n",
      " - Metrics: Accuracy=0.9456, F1=0.8642, Recall=0.8217, Precision=0.9114\n",
      "Running experiment with seed=114:\n",
      " - K=5, layers=1, hidden=128, out=256\n",
      " - norm=None, dropout=0, batch_size=10, reliable_mini_batch=True\n",
      " - ratio=0.127040015466833, aggregation=sum, treatment=removal\n",
      " - model_type=GATConv, rate_pairs=3, clusters=100, lr=0.0028840131257263724\n"
     ]
    },
    {
     "name": "stderr",
     "output_type": "stream",
     "text": [
      "Computing METIS partitioning...\n",
      "Done!\n"
     ]
    },
    {
     "name": "stdout",
     "output_type": "stream",
     "text": [
      "Epoch 0, Loss: 8.4832\n",
      "Epoch 10, Loss: 7.1564\n",
      "Epoch 20, Loss: 6.4628\n",
      "Epoch 30, Loss: 5.7043\n",
      "Epoch 40, Loss: 4.5431\n",
      " - Metrics: Accuracy=0.9414, F1=0.8554, Recall=0.8231, Precision=0.8904\n",
      "Running experiment with seed=25:\n",
      " - K=5, layers=1, hidden=128, out=256\n",
      " - norm=None, dropout=0, batch_size=10, reliable_mini_batch=True\n",
      " - ratio=0.127040015466833, aggregation=sum, treatment=removal\n",
      " - model_type=GATConv, rate_pairs=3, clusters=100, lr=0.0028840131257263724\n"
     ]
    },
    {
     "name": "stderr",
     "output_type": "stream",
     "text": [
      "Computing METIS partitioning...\n",
      "Done!\n"
     ]
    },
    {
     "name": "stdout",
     "output_type": "stream",
     "text": [
      "Epoch 0, Loss: 8.4754\n",
      "Epoch 10, Loss: 7.1552\n",
      "Epoch 20, Loss: 6.4667\n",
      "Epoch 30, Loss: 5.7118\n",
      "Epoch 40, Loss: 4.5463\n",
      " - Metrics: Accuracy=0.9423, F1=0.8576, Recall=0.8245, Precision=0.8934\n",
      "Running experiment with seed=759:\n",
      " - K=5, layers=1, hidden=128, out=256\n",
      " - norm=None, dropout=0, batch_size=10, reliable_mini_batch=True\n",
      " - ratio=0.127040015466833, aggregation=sum, treatment=removal\n",
      " - model_type=GATConv, rate_pairs=3, clusters=100, lr=0.0028840131257263724\n"
     ]
    },
    {
     "name": "stderr",
     "output_type": "stream",
     "text": [
      "Computing METIS partitioning...\n",
      "Done!\n"
     ]
    },
    {
     "name": "stdout",
     "output_type": "stream",
     "text": [
      "Epoch 0, Loss: 8.4835\n",
      "Epoch 10, Loss: 7.1599\n",
      "Epoch 20, Loss: 6.4690\n",
      "Epoch 30, Loss: 5.7133\n",
      "Epoch 40, Loss: 4.5470\n",
      " - Metrics: Accuracy=0.9417, F1=0.8565, Recall=0.8260, Precision=0.8894\n",
      "Running experiment with seed=281:\n",
      " - K=5, layers=1, hidden=128, out=256\n",
      " - norm=None, dropout=0, batch_size=10, reliable_mini_batch=True\n",
      " - ratio=0.127040015466833, aggregation=sum, treatment=removal\n",
      " - model_type=GATConv, rate_pairs=3, clusters=100, lr=0.0028840131257263724\n"
     ]
    },
    {
     "name": "stderr",
     "output_type": "stream",
     "text": [
      "Computing METIS partitioning...\n",
      "Done!\n"
     ]
    },
    {
     "name": "stdout",
     "output_type": "stream",
     "text": [
      "Epoch 0, Loss: 8.5055\n",
      "Epoch 10, Loss: 7.1795\n",
      "Epoch 20, Loss: 6.4845\n",
      "Epoch 30, Loss: 5.7211\n",
      "Epoch 40, Loss: 4.5551\n"
     ]
    },
    {
     "name": "stderr",
     "output_type": "stream",
     "text": [
      "[I 2025-03-12 15:46:53,616] Trial 133 finished with value: 0.8574543548401227 and parameters: {'K': 5, 'layers': 1, 'hidden_channels': 128, 'out_channels': 256, 'ratio': 0.127040015466833, 'aggregation': 'sum', 'treatment': 'removal', 'model_type': 'GATConv', 'rate_pairs': 3, 'batch_size': 10, 'lr': 0.0028840131257263724, 'clusters': 100}. Best is trial 117 with value: 0.8637880075000375.\n"
     ]
    },
    {
     "name": "stdout",
     "output_type": "stream",
     "text": [
      " - Metrics: Accuracy=0.9408, F1=0.8535, Recall=0.8188, Precision=0.8913\n",
      "Done. Results written to citeseer_experimentations\\citeseer_scar_sampling_nnif_batch_cluster_1203154420.csv.\n",
      "Average F1 over valid seeds: 0.8575 ± 0.0036\n",
      "Running experiment with seed=654:\n",
      " - K=5, layers=1, hidden=128, out=256\n",
      " - norm=None, dropout=0, batch_size=10, reliable_mini_batch=True\n",
      " - ratio=0.13063399037301276, aggregation=sum, treatment=removal\n",
      " - model_type=GATConv, rate_pairs=3, clusters=100, lr=0.0032853590220014816\n"
     ]
    },
    {
     "name": "stderr",
     "output_type": "stream",
     "text": [
      "Computing METIS partitioning...\n",
      "Done!\n"
     ]
    },
    {
     "name": "stdout",
     "output_type": "stream",
     "text": [
      "Epoch 0, Loss: 8.8477\n",
      "Epoch 10, Loss: 7.3308\n",
      "Epoch 20, Loss: 6.2757\n",
      "Epoch 30, Loss: 5.5123\n",
      "Epoch 40, Loss: 4.2660\n",
      " - Metrics: Accuracy=0.9459, F1=0.8659, Recall=0.8288, Precision=0.9064\n",
      "Running experiment with seed=114:\n",
      " - K=5, layers=1, hidden=128, out=256\n",
      " - norm=None, dropout=0, batch_size=10, reliable_mini_batch=True\n",
      " - ratio=0.13063399037301276, aggregation=sum, treatment=removal\n",
      " - model_type=GATConv, rate_pairs=3, clusters=100, lr=0.0032853590220014816\n"
     ]
    },
    {
     "name": "stderr",
     "output_type": "stream",
     "text": [
      "Computing METIS partitioning...\n",
      "Done!\n"
     ]
    },
    {
     "name": "stdout",
     "output_type": "stream",
     "text": [
      "Epoch 0, Loss: 8.4361\n",
      "Epoch 10, Loss: 7.0387\n",
      "Epoch 20, Loss: 6.2015\n",
      "Epoch 30, Loss: 5.2919\n",
      "Epoch 40, Loss: 4.0643\n",
      " - Metrics: Accuracy=0.9393, F1=0.8504, Recall=0.8188, Precision=0.8844\n",
      "Running experiment with seed=25:\n",
      " - K=5, layers=1, hidden=128, out=256\n",
      " - norm=None, dropout=0, batch_size=10, reliable_mini_batch=True\n",
      " - ratio=0.13063399037301276, aggregation=sum, treatment=removal\n",
      " - model_type=GATConv, rate_pairs=3, clusters=100, lr=0.0032853590220014816\n"
     ]
    },
    {
     "name": "stderr",
     "output_type": "stream",
     "text": [
      "Computing METIS partitioning...\n",
      "Done!\n"
     ]
    },
    {
     "name": "stdout",
     "output_type": "stream",
     "text": [
      "Epoch 0, Loss: 8.4476\n",
      "Epoch 10, Loss: 7.0559\n",
      "Epoch 20, Loss: 6.2180\n",
      "Epoch 30, Loss: 5.2977\n",
      "Epoch 40, Loss: 4.0709\n",
      " - Metrics: Accuracy=0.9402, F1=0.8534, Recall=0.8260, Precision=0.8826\n",
      "Running experiment with seed=759:\n",
      " - K=5, layers=1, hidden=128, out=256\n",
      " - norm=None, dropout=0, batch_size=10, reliable_mini_batch=True\n",
      " - ratio=0.13063399037301276, aggregation=sum, treatment=removal\n",
      " - model_type=GATConv, rate_pairs=3, clusters=100, lr=0.0032853590220014816\n"
     ]
    },
    {
     "name": "stderr",
     "output_type": "stream",
     "text": [
      "Computing METIS partitioning...\n",
      "Done!\n"
     ]
    },
    {
     "name": "stdout",
     "output_type": "stream",
     "text": [
      "Epoch 0, Loss: 8.4950\n",
      "Epoch 10, Loss: 7.0853\n",
      "Epoch 20, Loss: 6.2424\n",
      "Epoch 30, Loss: 5.3132\n",
      "Epoch 40, Loss: 4.0851\n",
      " - Metrics: Accuracy=0.9384, F1=0.8494, Recall=0.8245, Precision=0.8758\n",
      "Running experiment with seed=281:\n",
      " - K=5, layers=1, hidden=128, out=256\n",
      " - norm=None, dropout=0, batch_size=10, reliable_mini_batch=True\n",
      " - ratio=0.13063399037301276, aggregation=sum, treatment=removal\n",
      " - model_type=GATConv, rate_pairs=3, clusters=100, lr=0.0032853590220014816\n"
     ]
    },
    {
     "name": "stderr",
     "output_type": "stream",
     "text": [
      "Computing METIS partitioning...\n",
      "Done!\n"
     ]
    },
    {
     "name": "stdout",
     "output_type": "stream",
     "text": [
      "Epoch 0, Loss: 8.4874\n",
      "Epoch 10, Loss: 7.0748\n",
      "Epoch 20, Loss: 6.2341\n",
      "Epoch 30, Loss: 5.3062\n",
      "Epoch 40, Loss: 4.0784\n"
     ]
    },
    {
     "name": "stderr",
     "output_type": "stream",
     "text": [
      "[I 2025-03-12 15:49:29,532] Trial 134 finished with value: 0.8550551265076818 and parameters: {'K': 5, 'layers': 1, 'hidden_channels': 128, 'out_channels': 256, 'ratio': 0.13063399037301276, 'aggregation': 'sum', 'treatment': 'removal', 'model_type': 'GATConv', 'rate_pairs': 3, 'batch_size': 10, 'lr': 0.0032853590220014816, 'clusters': 100}. Best is trial 117 with value: 0.8637880075000375.\n"
     ]
    },
    {
     "name": "stdout",
     "output_type": "stream",
     "text": [
      " - Metrics: Accuracy=0.9411, F1=0.8563, Recall=0.8331, Precision=0.8808\n",
      "Done. Results written to citeseer_experimentations\\citeseer_scar_sampling_nnif_batch_cluster_1203154653.csv.\n",
      "Average F1 over valid seeds: 0.8551 ± 0.0059\n",
      "Running experiment with seed=654:\n",
      " - K=5, layers=1, hidden=128, out=256\n",
      " - norm=None, dropout=0, batch_size=10, reliable_mini_batch=True\n",
      " - ratio=0.13341094408643978, aggregation=sum, treatment=removal\n",
      " - model_type=GATConv, rate_pairs=1, clusters=100, lr=0.0036564073693405434\n"
     ]
    },
    {
     "name": "stderr",
     "output_type": "stream",
     "text": [
      "Computing METIS partitioning...\n",
      "Done!\n"
     ]
    },
    {
     "name": "stdout",
     "output_type": "stream",
     "text": [
      "Epoch 0, Loss: 8.8158\n",
      "Epoch 10, Loss: 7.2251\n",
      "Epoch 20, Loss: 6.0433\n",
      "Epoch 30, Loss: 5.1337\n",
      "Epoch 40, Loss: 3.8509\n",
      " - Metrics: Accuracy=0.9426, F1=0.8588, Recall=0.8288, Precision=0.8911\n",
      "Running experiment with seed=114:\n",
      " - K=5, layers=1, hidden=128, out=256\n",
      " - norm=None, dropout=0, batch_size=10, reliable_mini_batch=True\n",
      " - ratio=0.13341094408643978, aggregation=sum, treatment=removal\n",
      " - model_type=GATConv, rate_pairs=1, clusters=100, lr=0.0036564073693405434\n"
     ]
    },
    {
     "name": "stderr",
     "output_type": "stream",
     "text": [
      "Computing METIS partitioning...\n",
      "Done!\n"
     ]
    },
    {
     "name": "stdout",
     "output_type": "stream",
     "text": [
      "Epoch 0, Loss: 8.4445\n",
      "Epoch 10, Loss: 6.9710\n",
      "Epoch 20, Loss: 5.9811\n",
      "Epoch 30, Loss: 4.9298\n",
      "Epoch 40, Loss: 3.6685\n",
      " - Metrics: Accuracy=0.9384, F1=0.8476, Recall=0.8131, Precision=0.8851\n",
      "Running experiment with seed=25:\n",
      " - K=5, layers=1, hidden=128, out=256\n",
      " - norm=None, dropout=0, batch_size=10, reliable_mini_batch=True\n",
      " - ratio=0.13341094408643978, aggregation=sum, treatment=removal\n",
      " - model_type=GATConv, rate_pairs=1, clusters=100, lr=0.0036564073693405434\n"
     ]
    },
    {
     "name": "stderr",
     "output_type": "stream",
     "text": [
      "Computing METIS partitioning...\n",
      "Done!\n"
     ]
    },
    {
     "name": "stdout",
     "output_type": "stream",
     "text": [
      "Epoch 0, Loss: 8.4907\n",
      "Epoch 10, Loss: 7.0057\n",
      "Epoch 20, Loss: 6.0100\n",
      "Epoch 30, Loss: 4.9526\n",
      "Epoch 40, Loss: 3.6898\n",
      " - Metrics: Accuracy=0.9414, F1=0.8544, Recall=0.8160, Precision=0.8966\n",
      "Running experiment with seed=759:\n",
      " - K=5, layers=1, hidden=128, out=256\n",
      " - norm=None, dropout=0, batch_size=10, reliable_mini_batch=True\n",
      " - ratio=0.13341094408643978, aggregation=sum, treatment=removal\n",
      " - model_type=GATConv, rate_pairs=1, clusters=100, lr=0.0036564073693405434\n"
     ]
    },
    {
     "name": "stderr",
     "output_type": "stream",
     "text": [
      "Computing METIS partitioning...\n",
      "Done!\n"
     ]
    },
    {
     "name": "stdout",
     "output_type": "stream",
     "text": [
      "Epoch 0, Loss: 8.4147\n",
      "Epoch 10, Loss: 6.9451\n",
      "Epoch 20, Loss: 5.9632\n",
      "Epoch 30, Loss: 4.9115\n",
      "Epoch 40, Loss: 3.6590\n",
      " - Metrics: Accuracy=0.9429, F1=0.8588, Recall=0.8245, Precision=0.8961\n",
      "Running experiment with seed=281:\n",
      " - K=5, layers=1, hidden=128, out=256\n",
      " - norm=None, dropout=0, batch_size=10, reliable_mini_batch=True\n",
      " - ratio=0.13341094408643978, aggregation=sum, treatment=removal\n",
      " - model_type=GATConv, rate_pairs=1, clusters=100, lr=0.0036564073693405434\n"
     ]
    },
    {
     "name": "stderr",
     "output_type": "stream",
     "text": [
      "Computing METIS partitioning...\n",
      "Done!\n"
     ]
    },
    {
     "name": "stdout",
     "output_type": "stream",
     "text": [
      "Epoch 0, Loss: 8.4495\n",
      "Epoch 10, Loss: 6.9727\n",
      "Epoch 20, Loss: 5.9865\n",
      "Epoch 30, Loss: 4.9342\n",
      "Epoch 40, Loss: 3.6753\n"
     ]
    },
    {
     "name": "stderr",
     "output_type": "stream",
     "text": [
      "[I 2025-03-12 15:52:05,154] Trial 135 finished with value: 0.8552275903057873 and parameters: {'K': 5, 'layers': 1, 'hidden_channels': 128, 'out_channels': 256, 'ratio': 0.13341094408643978, 'aggregation': 'sum', 'treatment': 'removal', 'model_type': 'GATConv', 'rate_pairs': 1, 'batch_size': 10, 'lr': 0.0036564073693405434, 'clusters': 100}. Best is trial 117 with value: 0.8637880075000375.\n"
     ]
    },
    {
     "name": "stdout",
     "output_type": "stream",
     "text": [
      " - Metrics: Accuracy=0.9414, F1=0.8565, Recall=0.8302, Precision=0.8845\n",
      "Done. Results written to citeseer_experimentations\\citeseer_scar_sampling_nnif_batch_cluster_1203154929.csv.\n",
      "Average F1 over valid seeds: 0.8552 ± 0.0042\n",
      "Running experiment with seed=654:\n",
      " - K=5, layers=1, hidden=128, out=256\n",
      " - norm=None, dropout=0, batch_size=10, reliable_mini_batch=True\n",
      " - ratio=0.11768902320356686, aggregation=sum, treatment=removal\n",
      " - model_type=GATConv, rate_pairs=2, clusters=100, lr=0.003417885632558384\n"
     ]
    },
    {
     "name": "stderr",
     "output_type": "stream",
     "text": [
      "Computing METIS partitioning...\n",
      "Done!\n"
     ]
    },
    {
     "name": "stdout",
     "output_type": "stream",
     "text": [
      "Epoch 0, Loss: 8.8859\n",
      "Epoch 10, Loss: 7.2981\n",
      "Epoch 20, Loss: 6.1942\n",
      "Epoch 30, Loss: 5.3809\n",
      "Epoch 40, Loss: 4.1092\n",
      " - Metrics: Accuracy=0.9432, F1=0.8593, Recall=0.8231, Precision=0.8988\n",
      "Running experiment with seed=114:\n",
      " - K=5, layers=1, hidden=128, out=256\n",
      " - norm=None, dropout=0, batch_size=10, reliable_mini_batch=True\n",
      " - ratio=0.11768902320356686, aggregation=sum, treatment=removal\n",
      " - model_type=GATConv, rate_pairs=2, clusters=100, lr=0.003417885632558384\n"
     ]
    },
    {
     "name": "stderr",
     "output_type": "stream",
     "text": [
      "Computing METIS partitioning...\n",
      "Done!\n"
     ]
    },
    {
     "name": "stdout",
     "output_type": "stream",
     "text": [
      "Epoch 0, Loss: 8.4679\n",
      "Epoch 10, Loss: 7.0120\n",
      "Epoch 20, Loss: 6.1192\n",
      "Epoch 30, Loss: 5.1618\n",
      "Epoch 40, Loss: 3.9204\n",
      " - Metrics: Accuracy=0.9402, F1=0.8518, Recall=0.8160, Precision=0.8910\n",
      "Running experiment with seed=25:\n",
      " - K=5, layers=1, hidden=128, out=256\n",
      " - norm=None, dropout=0, batch_size=10, reliable_mini_batch=True\n",
      " - ratio=0.11768902320356686, aggregation=sum, treatment=removal\n",
      " - model_type=GATConv, rate_pairs=2, clusters=100, lr=0.003417885632558384\n"
     ]
    },
    {
     "name": "stderr",
     "output_type": "stream",
     "text": [
      "Computing METIS partitioning...\n",
      "Done!\n"
     ]
    },
    {
     "name": "stdout",
     "output_type": "stream",
     "text": [
      "Epoch 0, Loss: 8.4681\n",
      "Epoch 10, Loss: 7.0240\n",
      "Epoch 20, Loss: 6.1327\n",
      "Epoch 30, Loss: 5.1647\n",
      "Epoch 40, Loss: 3.9237\n",
      " - Metrics: Accuracy=0.9420, F1=0.8559, Recall=0.8174, Precision=0.8981\n",
      "Running experiment with seed=759:\n",
      " - K=5, layers=1, hidden=128, out=256\n",
      " - norm=None, dropout=0, batch_size=10, reliable_mini_batch=True\n",
      " - ratio=0.11768902320356686, aggregation=sum, treatment=removal\n",
      " - model_type=GATConv, rate_pairs=2, clusters=100, lr=0.003417885632558384\n"
     ]
    },
    {
     "name": "stderr",
     "output_type": "stream",
     "text": [
      "Computing METIS partitioning...\n",
      "Done!\n"
     ]
    },
    {
     "name": "stdout",
     "output_type": "stream",
     "text": [
      "Epoch 0, Loss: 8.4566\n",
      "Epoch 10, Loss: 7.0115\n",
      "Epoch 20, Loss: 6.1216\n",
      "Epoch 30, Loss: 5.1580\n",
      "Epoch 40, Loss: 3.9155\n",
      " - Metrics: Accuracy=0.9411, F1=0.8537, Recall=0.8160, Precision=0.8951\n",
      "Running experiment with seed=281:\n",
      " - K=5, layers=1, hidden=128, out=256\n",
      " - norm=None, dropout=0, batch_size=10, reliable_mini_batch=True\n",
      " - ratio=0.11768902320356686, aggregation=sum, treatment=removal\n",
      " - model_type=GATConv, rate_pairs=2, clusters=100, lr=0.003417885632558384\n"
     ]
    },
    {
     "name": "stderr",
     "output_type": "stream",
     "text": [
      "Computing METIS partitioning...\n",
      "Done!\n"
     ]
    },
    {
     "name": "stdout",
     "output_type": "stream",
     "text": [
      "Epoch 0, Loss: 8.4383\n",
      "Epoch 10, Loss: 6.9999\n",
      "Epoch 20, Loss: 6.1098\n",
      "Epoch 30, Loss: 5.1426\n",
      "Epoch 40, Loss: 3.9119\n"
     ]
    },
    {
     "name": "stderr",
     "output_type": "stream",
     "text": [
      "[I 2025-03-12 15:54:39,603] Trial 136 finished with value: 0.8549308784753418 and parameters: {'K': 5, 'layers': 1, 'hidden_channels': 128, 'out_channels': 256, 'ratio': 0.11768902320356686, 'aggregation': 'sum', 'treatment': 'removal', 'model_type': 'GATConv', 'rate_pairs': 2, 'batch_size': 10, 'lr': 0.003417885632558384, 'clusters': 100}. Best is trial 117 with value: 0.8637880075000375.\n"
     ]
    },
    {
     "name": "stdout",
     "output_type": "stream",
     "text": [
      " - Metrics: Accuracy=0.9408, F1=0.8540, Recall=0.8217, Precision=0.8889\n",
      "Done. Results written to citeseer_experimentations\\citeseer_scar_sampling_nnif_batch_cluster_1203155205.csv.\n",
      "Average F1 over valid seeds: 0.8549 ± 0.0025\n",
      "Running experiment with seed=654:\n",
      " - K=5, layers=2, hidden=128, out=256\n",
      " - norm=None, dropout=0, batch_size=10, reliable_mini_batch=True\n",
      " - ratio=0.12421866792059673, aggregation=sum, treatment=removal\n",
      " - model_type=GATConv, rate_pairs=3, clusters=100, lr=0.004067223765730248\n"
     ]
    },
    {
     "name": "stderr",
     "output_type": "stream",
     "text": [
      "Computing METIS partitioning...\n",
      "Done!\n"
     ]
    },
    {
     "name": "stdout",
     "output_type": "stream",
     "text": [
      "Epoch 0, Loss: 8.3007\n",
      "Epoch 10, Loss: 6.7202\n",
      "Epoch 20, Loss: 5.8945\n",
      "Epoch 30, Loss: 4.5251\n",
      "Epoch 40, Loss: 3.4520\n",
      " - Metrics: Accuracy=0.9390, F1=0.8475, Recall=0.8046, Precision=0.8952\n",
      "Running experiment with seed=114:\n",
      " - K=5, layers=2, hidden=128, out=256\n",
      " - norm=None, dropout=0, batch_size=10, reliable_mini_batch=True\n",
      " - ratio=0.12421866792059673, aggregation=sum, treatment=removal\n",
      " - model_type=GATConv, rate_pairs=3, clusters=100, lr=0.004067223765730248\n"
     ]
    },
    {
     "name": "stderr",
     "output_type": "stream",
     "text": [
      "Computing METIS partitioning...\n",
      "Done!\n"
     ]
    },
    {
     "name": "stdout",
     "output_type": "stream",
     "text": [
      "Epoch 0, Loss: 8.0758\n",
      "Epoch 10, Loss: 6.6138\n",
      "Epoch 20, Loss: 5.7322\n",
      "Epoch 30, Loss: 4.3568\n",
      "Epoch 40, Loss: 3.3719\n",
      " - Metrics: Accuracy=0.9435, F1=0.8586, Recall=0.8146, Precision=0.9078\n",
      "Running experiment with seed=25:\n",
      " - K=5, layers=2, hidden=128, out=256\n",
      " - norm=None, dropout=0, batch_size=10, reliable_mini_batch=True\n",
      " - ratio=0.12421866792059673, aggregation=sum, treatment=removal\n",
      " - model_type=GATConv, rate_pairs=3, clusters=100, lr=0.004067223765730248\n"
     ]
    },
    {
     "name": "stderr",
     "output_type": "stream",
     "text": [
      "Computing METIS partitioning...\n",
      "Done!\n"
     ]
    },
    {
     "name": "stdout",
     "output_type": "stream",
     "text": [
      "Epoch 0, Loss: 8.0480\n",
      "Epoch 10, Loss: 6.5923\n",
      "Epoch 20, Loss: 5.7162\n",
      "Epoch 30, Loss: 4.3400\n",
      "Epoch 40, Loss: 3.3589\n",
      " - Metrics: Accuracy=0.9450, F1=0.8633, Recall=0.8245, Precision=0.9060\n",
      "Running experiment with seed=759:\n",
      " - K=5, layers=2, hidden=128, out=256\n",
      " - norm=None, dropout=0, batch_size=10, reliable_mini_batch=True\n",
      " - ratio=0.12421866792059673, aggregation=sum, treatment=removal\n",
      " - model_type=GATConv, rate_pairs=3, clusters=100, lr=0.004067223765730248\n"
     ]
    },
    {
     "name": "stderr",
     "output_type": "stream",
     "text": [
      "Computing METIS partitioning...\n",
      "Done!\n"
     ]
    },
    {
     "name": "stdout",
     "output_type": "stream",
     "text": [
      "Epoch 0, Loss: 8.0353\n",
      "Epoch 10, Loss: 6.5791\n",
      "Epoch 20, Loss: 5.7046\n",
      "Epoch 30, Loss: 4.3358\n",
      "Epoch 40, Loss: 3.3562\n",
      " - Metrics: Accuracy=0.9396, F1=0.8488, Recall=0.8046, Precision=0.8981\n",
      "Running experiment with seed=281:\n",
      " - K=5, layers=2, hidden=128, out=256\n",
      " - norm=None, dropout=0, batch_size=10, reliable_mini_batch=True\n",
      " - ratio=0.12421866792059673, aggregation=sum, treatment=removal\n",
      " - model_type=GATConv, rate_pairs=3, clusters=100, lr=0.004067223765730248\n"
     ]
    },
    {
     "name": "stderr",
     "output_type": "stream",
     "text": [
      "Computing METIS partitioning...\n",
      "Done!\n"
     ]
    },
    {
     "name": "stdout",
     "output_type": "stream",
     "text": [
      "Epoch 0, Loss: 8.0552\n",
      "Epoch 10, Loss: 6.5953\n",
      "Epoch 20, Loss: 5.7156\n",
      "Epoch 30, Loss: 4.3436\n",
      "Epoch 40, Loss: 3.3622\n"
     ]
    },
    {
     "name": "stderr",
     "output_type": "stream",
     "text": [
      "[I 2025-03-12 15:57:23,859] Trial 137 finished with value: 0.8551155022898053 and parameters: {'K': 5, 'layers': 2, 'hidden_channels': 128, 'out_channels': 256, 'ratio': 0.12421866792059673, 'aggregation': 'sum', 'treatment': 'removal', 'model_type': 'GATConv', 'rate_pairs': 3, 'batch_size': 10, 'lr': 0.004067223765730248, 'clusters': 100}. Best is trial 117 with value: 0.8637880075000375.\n"
     ]
    },
    {
     "name": "stdout",
     "output_type": "stream",
     "text": [
      " - Metrics: Accuracy=0.9432, F1=0.8574, Recall=0.8103, Precision=0.9103\n",
      "Done. Results written to citeseer_experimentations\\citeseer_scar_sampling_nnif_batch_cluster_1203155439.csv.\n",
      "Average F1 over valid seeds: 0.8551 ± 0.0061\n",
      "Running experiment with seed=654:\n",
      " - K=5, layers=1, hidden=128, out=256\n",
      " - norm=None, dropout=0, batch_size=10, reliable_mini_batch=True\n",
      " - ratio=0.1358328507545869, aggregation=sum, treatment=removal\n",
      " - model_type=GATConv, rate_pairs=1, clusters=300, lr=0.0024080008970883728\n"
     ]
    },
    {
     "name": "stderr",
     "output_type": "stream",
     "text": [
      "Computing METIS partitioning...\n",
      "Done!\n"
     ]
    },
    {
     "name": "stdout",
     "output_type": "stream",
     "text": [
      "Epoch 0, Loss: 27.1270\n",
      "Epoch 10, Loss: 19.3814\n",
      "Epoch 20, Loss: 13.6490\n",
      "Epoch 30, Loss: 8.3202\n",
      "Epoch 40, Loss: 5.6818\n"
     ]
    },
    {
     "name": "stderr",
     "output_type": "stream",
     "text": [
      "[I 2025-03-12 15:58:32,717] Trial 138 finished with value: 0.8339483394833949 and parameters: {'K': 5, 'layers': 1, 'hidden_channels': 128, 'out_channels': 256, 'ratio': 0.1358328507545869, 'aggregation': 'sum', 'treatment': 'removal', 'model_type': 'GATConv', 'rate_pairs': 1, 'batch_size': 10, 'lr': 0.0024080008970883728, 'clusters': 300}. Best is trial 117 with value: 0.8637880075000375.\n"
     ]
    },
    {
     "name": "stdout",
     "output_type": "stream",
     "text": [
      " - Metrics: Accuracy=0.9324, F1=0.8339, Recall=0.8060, Precision=0.8639\n",
      "F1 = 0.83 < 0.835, skipping ...\n",
      "Done. Results written to citeseer_experimentations\\citeseer_scar_sampling_nnif_batch_cluster_1203155723.csv.\n",
      "Average F1 over valid seeds: 0.8339 ± 0.0000\n",
      "Running experiment with seed=654:\n",
      " - K=5, layers=1, hidden=128, out=256\n",
      " - norm=None, dropout=0, batch_size=1, reliable_mini_batch=True\n",
      " - ratio=0.12870212591238367, aggregation=sum, treatment=removal\n",
      " - model_type=GATConv, rate_pairs=4, clusters=100, lr=0.0030149755811083325\n"
     ]
    },
    {
     "name": "stderr",
     "output_type": "stream",
     "text": [
      "Computing METIS partitioning...\n",
      "Done!\n",
      "[I 2025-03-12 15:58:34,311] Trial 139 finished with value: 0.0 and parameters: {'K': 5, 'layers': 1, 'hidden_channels': 128, 'out_channels': 256, 'ratio': 0.12870212591238367, 'aggregation': 'sum', 'treatment': 'removal', 'model_type': 'GATConv', 'rate_pairs': 4, 'batch_size': 1, 'lr': 0.0030149755811083325, 'clusters': 100}. Best is trial 117 with value: 0.8637880075000375.\n"
     ]
    },
    {
     "name": "stdout",
     "output_type": "stream",
     "text": [
      "Error: Labels must be in {0,1}, got [0].\n",
      "Done. Results written to citeseer_experimentations\\citeseer_scar_sampling_nnif_batch_cluster_1203155832.csv.\n",
      "Average F1 over valid seeds: 0.0000 ± 0.0000\n",
      "Running experiment with seed=654:\n",
      " - K=5, layers=1, hidden=128, out=256\n",
      " - norm=None, dropout=0, batch_size=10, reliable_mini_batch=True\n",
      " - ratio=0.13481546397359956, aggregation=sum, treatment=relabeling\n",
      " - model_type=GATConv, rate_pairs=2, clusters=100, lr=0.004255717504411667\n"
     ]
    },
    {
     "name": "stderr",
     "output_type": "stream",
     "text": [
      "Computing METIS partitioning...\n",
      "Done!\n"
     ]
    },
    {
     "name": "stdout",
     "output_type": "stream",
     "text": [
      "Epoch 0, Loss: 6.1619\n",
      "Epoch 10, Loss: 4.5033\n",
      "Epoch 20, Loss: 3.7790\n",
      "Epoch 30, Loss: 3.0298\n",
      "Epoch 40, Loss: 2.1292\n"
     ]
    },
    {
     "name": "stderr",
     "output_type": "stream",
     "text": [
      "[I 2025-03-12 15:59:05,060] Trial 140 finished with value: 0.7925824175824175 and parameters: {'K': 5, 'layers': 1, 'hidden_channels': 128, 'out_channels': 256, 'ratio': 0.13481546397359956, 'aggregation': 'sum', 'treatment': 'relabeling', 'model_type': 'GATConv', 'rate_pairs': 2, 'batch_size': 10, 'lr': 0.004255717504411667, 'clusters': 100}. Best is trial 117 with value: 0.8637880075000375.\n"
     ]
    },
    {
     "name": "stdout",
     "output_type": "stream",
     "text": [
      " - Metrics: Accuracy=0.9092, F1=0.7926, Recall=0.8231, Precision=0.7642\n",
      "F1 = 0.79 < 0.835, skipping ...\n",
      "Done. Results written to citeseer_experimentations\\citeseer_scar_sampling_nnif_batch_cluster_1203155834.csv.\n",
      "Average F1 over valid seeds: 0.7926 ± 0.0000\n",
      "Running experiment with seed=654:\n",
      " - K=5, layers=1, hidden=128, out=256\n",
      " - norm=None, dropout=0, batch_size=10, reliable_mini_batch=True\n",
      " - ratio=0.14108282640918005, aggregation=sum, treatment=removal\n",
      " - model_type=GCNConv, rate_pairs=2, clusters=200, lr=0.0037284313485696544\n"
     ]
    },
    {
     "name": "stderr",
     "output_type": "stream",
     "text": [
      "Computing METIS partitioning...\n",
      "Done!\n"
     ]
    },
    {
     "name": "stdout",
     "output_type": "stream",
     "text": [
      "Epoch 0, Loss: 17.4931\n",
      "Epoch 10, Loss: 12.6635\n",
      "Epoch 20, Loss: 8.1746\n",
      "Epoch 30, Loss: 4.9876\n",
      "Epoch 40, Loss: 3.2553\n",
      " - Metrics: Accuracy=0.9393, F1=0.8540, Recall=0.8431, Precision=0.8653\n",
      "Running experiment with seed=114:\n",
      " - K=5, layers=1, hidden=128, out=256\n",
      " - norm=None, dropout=0, batch_size=10, reliable_mini_batch=True\n",
      " - ratio=0.14108282640918005, aggregation=sum, treatment=removal\n",
      " - model_type=GCNConv, rate_pairs=2, clusters=200, lr=0.0037284313485696544\n"
     ]
    },
    {
     "name": "stderr",
     "output_type": "stream",
     "text": [
      "Computing METIS partitioning...\n",
      "Done!\n"
     ]
    },
    {
     "name": "stdout",
     "output_type": "stream",
     "text": [
      "Epoch 0, Loss: 16.3978\n",
      "Epoch 10, Loss: 11.9224\n",
      "Epoch 20, Loss: 7.3970\n",
      "Epoch 30, Loss: 4.7897\n",
      "Epoch 40, Loss: 3.0048\n",
      " - Metrics: Accuracy=0.9387, F1=0.8515, Recall=0.8345, Precision=0.8692\n",
      "Running experiment with seed=25:\n",
      " - K=5, layers=1, hidden=128, out=256\n",
      " - norm=None, dropout=0, batch_size=10, reliable_mini_batch=True\n",
      " - ratio=0.14108282640918005, aggregation=sum, treatment=removal\n",
      " - model_type=GCNConv, rate_pairs=2, clusters=200, lr=0.0037284313485696544\n"
     ]
    },
    {
     "name": "stderr",
     "output_type": "stream",
     "text": [
      "Computing METIS partitioning...\n",
      "Done!\n"
     ]
    },
    {
     "name": "stdout",
     "output_type": "stream",
     "text": [
      "Epoch 0, Loss: 16.3978\n",
      "Epoch 10, Loss: 11.9224\n",
      "Epoch 20, Loss: 7.3970\n",
      "Epoch 30, Loss: 4.7897\n",
      "Epoch 40, Loss: 3.0048\n",
      " - Metrics: Accuracy=0.9396, F1=0.8536, Recall=0.8359, Precision=0.8720\n",
      "Running experiment with seed=759:\n",
      " - K=5, layers=1, hidden=128, out=256\n",
      " - norm=None, dropout=0, batch_size=10, reliable_mini_batch=True\n",
      " - ratio=0.14108282640918005, aggregation=sum, treatment=removal\n",
      " - model_type=GCNConv, rate_pairs=2, clusters=200, lr=0.0037284313485696544\n"
     ]
    },
    {
     "name": "stderr",
     "output_type": "stream",
     "text": [
      "Computing METIS partitioning...\n",
      "Done!\n"
     ]
    },
    {
     "name": "stdout",
     "output_type": "stream",
     "text": [
      "Epoch 0, Loss: 16.3978\n",
      "Epoch 10, Loss: 11.9224\n",
      "Epoch 20, Loss: 7.3970\n",
      "Epoch 30, Loss: 4.7897\n",
      "Epoch 40, Loss: 3.0048\n",
      " - Metrics: Accuracy=0.9375, F1=0.8497, Recall=0.8388, Precision=0.8609\n",
      "Running experiment with seed=281:\n",
      " - K=5, layers=1, hidden=128, out=256\n",
      " - norm=None, dropout=0, batch_size=10, reliable_mini_batch=True\n",
      " - ratio=0.14108282640918005, aggregation=sum, treatment=removal\n",
      " - model_type=GCNConv, rate_pairs=2, clusters=200, lr=0.0037284313485696544\n"
     ]
    },
    {
     "name": "stderr",
     "output_type": "stream",
     "text": [
      "Computing METIS partitioning...\n",
      "Done!\n"
     ]
    },
    {
     "name": "stdout",
     "output_type": "stream",
     "text": [
      "Epoch 0, Loss: 16.3978\n",
      "Epoch 10, Loss: 11.9224\n",
      "Epoch 20, Loss: 7.3970\n",
      "Epoch 30, Loss: 4.7897\n",
      "Epoch 40, Loss: 3.0048\n"
     ]
    },
    {
     "name": "stderr",
     "output_type": "stream",
     "text": [
      "[I 2025-03-12 16:03:09,584] Trial 141 finished with value: 0.8517203672726442 and parameters: {'K': 5, 'layers': 1, 'hidden_channels': 128, 'out_channels': 256, 'ratio': 0.14108282640918005, 'aggregation': 'sum', 'treatment': 'removal', 'model_type': 'GCNConv', 'rate_pairs': 2, 'batch_size': 10, 'lr': 0.0037284313485696544, 'clusters': 200}. Best is trial 117 with value: 0.8637880075000375.\n"
     ]
    },
    {
     "name": "stdout",
     "output_type": "stream",
     "text": [
      " - Metrics: Accuracy=0.9375, F1=0.8497, Recall=0.8388, Precision=0.8609\n",
      "Done. Results written to citeseer_experimentations\\citeseer_scar_sampling_nnif_batch_cluster_1203155905.csv.\n",
      "Average F1 over valid seeds: 0.8517 ± 0.0018\n",
      "Running experiment with seed=654:\n",
      " - K=5, layers=1, hidden=128, out=256\n",
      " - norm=None, dropout=0, batch_size=10, reliable_mini_batch=True\n",
      " - ratio=0.14425627789096598, aggregation=sum, treatment=removal\n",
      " - model_type=GATConv, rate_pairs=3, clusters=100, lr=0.002020947234551289\n"
     ]
    },
    {
     "name": "stderr",
     "output_type": "stream",
     "text": [
      "Computing METIS partitioning...\n",
      "Done!\n"
     ]
    },
    {
     "name": "stdout",
     "output_type": "stream",
     "text": [
      "Epoch 0, Loss: 8.9834\n",
      "Epoch 10, Loss: 7.7019\n",
      "Epoch 20, Loss: 7.0771\n",
      "Epoch 30, Loss: 6.8346\n",
      "Epoch 40, Loss: 5.8867\n",
      " - Metrics: Accuracy=0.9453, F1=0.8664, Recall=0.8417, Precision=0.8926\n",
      "Running experiment with seed=114:\n",
      " - K=5, layers=1, hidden=128, out=256\n",
      " - norm=None, dropout=0, batch_size=10, reliable_mini_batch=True\n",
      " - ratio=0.14425627789096598, aggregation=sum, treatment=removal\n",
      " - model_type=GATConv, rate_pairs=3, clusters=100, lr=0.002020947234551289\n"
     ]
    },
    {
     "name": "stderr",
     "output_type": "stream",
     "text": [
      "Computing METIS partitioning...\n",
      "Done!\n"
     ]
    },
    {
     "name": "stdout",
     "output_type": "stream",
     "text": [
      "Epoch 0, Loss: 8.5781\n",
      "Epoch 10, Loss: 7.3920\n",
      "Epoch 20, Loss: 7.0101\n",
      "Epoch 30, Loss: 6.5849\n",
      "Epoch 40, Loss: 5.6626\n",
      " - Metrics: Accuracy=0.9426, F1=0.8615, Recall=0.8474, Precision=0.8761\n",
      "Running experiment with seed=25:\n",
      " - K=5, layers=1, hidden=128, out=256\n",
      " - norm=None, dropout=0, batch_size=10, reliable_mini_batch=True\n",
      " - ratio=0.14425627789096598, aggregation=sum, treatment=removal\n",
      " - model_type=GATConv, rate_pairs=3, clusters=100, lr=0.002020947234551289\n"
     ]
    },
    {
     "name": "stderr",
     "output_type": "stream",
     "text": [
      "Computing METIS partitioning...\n",
      "Done!\n"
     ]
    },
    {
     "name": "stdout",
     "output_type": "stream",
     "text": [
      "Epoch 0, Loss: 8.5881\n",
      "Epoch 10, Loss: 7.4088\n",
      "Epoch 20, Loss: 7.0246\n",
      "Epoch 30, Loss: 6.6029\n",
      "Epoch 40, Loss: 5.6732\n",
      " - Metrics: Accuracy=0.9405, F1=0.8557, Recall=0.8374, Precision=0.8748\n",
      "Running experiment with seed=759:\n",
      " - K=5, layers=1, hidden=128, out=256\n",
      " - norm=None, dropout=0, batch_size=10, reliable_mini_batch=True\n",
      " - ratio=0.14425627789096598, aggregation=sum, treatment=removal\n",
      " - model_type=GATConv, rate_pairs=3, clusters=100, lr=0.002020947234551289\n"
     ]
    },
    {
     "name": "stderr",
     "output_type": "stream",
     "text": [
      "Computing METIS partitioning...\n",
      "Done!\n"
     ]
    },
    {
     "name": "stdout",
     "output_type": "stream",
     "text": [
      "Epoch 0, Loss: 8.5593\n",
      "Epoch 10, Loss: 7.3815\n",
      "Epoch 20, Loss: 6.9988\n",
      "Epoch 30, Loss: 6.5833\n",
      "Epoch 40, Loss: 5.6561\n",
      " - Metrics: Accuracy=0.9444, F1=0.8655, Recall=0.8488, Precision=0.8828\n",
      "Running experiment with seed=281:\n",
      " - K=5, layers=1, hidden=128, out=256\n",
      " - norm=None, dropout=0, batch_size=10, reliable_mini_batch=True\n",
      " - ratio=0.14425627789096598, aggregation=sum, treatment=removal\n",
      " - model_type=GATConv, rate_pairs=3, clusters=100, lr=0.002020947234551289\n"
     ]
    },
    {
     "name": "stderr",
     "output_type": "stream",
     "text": [
      "Computing METIS partitioning...\n",
      "Done!\n"
     ]
    },
    {
     "name": "stdout",
     "output_type": "stream",
     "text": [
      "Epoch 0, Loss: 8.5838\n",
      "Epoch 10, Loss: 7.4024\n",
      "Epoch 20, Loss: 7.0177\n",
      "Epoch 30, Loss: 6.5998\n",
      "Epoch 40, Loss: 5.6715\n"
     ]
    },
    {
     "name": "stderr",
     "output_type": "stream",
     "text": [
      "[I 2025-03-12 16:05:44,626] Trial 142 finished with value: 0.8620154810791147 and parameters: {'K': 5, 'layers': 1, 'hidden_channels': 128, 'out_channels': 256, 'ratio': 0.14425627789096598, 'aggregation': 'sum', 'treatment': 'removal', 'model_type': 'GATConv', 'rate_pairs': 3, 'batch_size': 10, 'lr': 0.002020947234551289, 'clusters': 100}. Best is trial 117 with value: 0.8637880075000375.\n"
     ]
    },
    {
     "name": "stdout",
     "output_type": "stream",
     "text": [
      " - Metrics: Accuracy=0.9423, F1=0.8611, Recall=0.8488, Precision=0.8737\n",
      "Done. Results written to citeseer_experimentations\\citeseer_scar_sampling_nnif_batch_cluster_1203160309.csv.\n",
      "Average F1 over valid seeds: 0.8620 ± 0.0038\n",
      "Running experiment with seed=654:\n",
      " - K=5, layers=1, hidden=128, out=256\n",
      " - norm=None, dropout=0, batch_size=10, reliable_mini_batch=True\n",
      " - ratio=0.14457561998919324, aggregation=sum, treatment=removal\n",
      " - model_type=GATConv, rate_pairs=2, clusters=100, lr=0.002639013498141723\n"
     ]
    },
    {
     "name": "stderr",
     "output_type": "stream",
     "text": [
      "Computing METIS partitioning...\n",
      "Done!\n"
     ]
    },
    {
     "name": "stdout",
     "output_type": "stream",
     "text": [
      "Epoch 0, Loss: 8.8288\n",
      "Epoch 10, Loss: 7.4939\n",
      "Epoch 20, Loss: 6.6726\n",
      "Epoch 30, Loss: 6.1672\n",
      "Epoch 40, Loss: 5.0495\n",
      " - Metrics: Accuracy=0.9441, F1=0.8630, Recall=0.8359, Precision=0.8919\n",
      "Running experiment with seed=114:\n",
      " - K=5, layers=1, hidden=128, out=256\n",
      " - norm=None, dropout=0, batch_size=10, reliable_mini_batch=True\n",
      " - ratio=0.14457561998919324, aggregation=sum, treatment=removal\n",
      " - model_type=GATConv, rate_pairs=2, clusters=100, lr=0.002639013498141723\n"
     ]
    },
    {
     "name": "stderr",
     "output_type": "stream",
     "text": [
      "Computing METIS partitioning...\n",
      "Done!\n"
     ]
    },
    {
     "name": "stdout",
     "output_type": "stream",
     "text": [
      "Epoch 0, Loss: 8.4966\n",
      "Epoch 10, Loss: 7.2397\n",
      "Epoch 20, Loss: 6.6445\n",
      "Epoch 30, Loss: 5.9688\n",
      "Epoch 40, Loss: 4.8671\n",
      " - Metrics: Accuracy=0.9414, F1=0.8582, Recall=0.8417, Precision=0.8754\n",
      "Running experiment with seed=25:\n",
      " - K=5, layers=1, hidden=128, out=256\n",
      " - norm=None, dropout=0, batch_size=10, reliable_mini_batch=True\n",
      " - ratio=0.14457561998919324, aggregation=sum, treatment=removal\n",
      " - model_type=GATConv, rate_pairs=2, clusters=100, lr=0.002639013498141723\n"
     ]
    },
    {
     "name": "stderr",
     "output_type": "stream",
     "text": [
      "Computing METIS partitioning...\n",
      "Done!\n"
     ]
    },
    {
     "name": "stdout",
     "output_type": "stream",
     "text": [
      "Epoch 0, Loss: 8.5247\n",
      "Epoch 10, Loss: 7.2513\n",
      "Epoch 20, Loss: 6.6549\n",
      "Epoch 30, Loss: 5.9828\n",
      "Epoch 40, Loss: 4.8791\n",
      " - Metrics: Accuracy=0.9435, F1=0.8626, Recall=0.8417, Precision=0.8846\n",
      "Running experiment with seed=759:\n",
      " - K=5, layers=1, hidden=128, out=256\n",
      " - norm=None, dropout=0, batch_size=10, reliable_mini_batch=True\n",
      " - ratio=0.14457561998919324, aggregation=sum, treatment=removal\n",
      " - model_type=GATConv, rate_pairs=2, clusters=100, lr=0.002639013498141723\n"
     ]
    },
    {
     "name": "stderr",
     "output_type": "stream",
     "text": [
      "Computing METIS partitioning...\n",
      "Done!\n"
     ]
    },
    {
     "name": "stdout",
     "output_type": "stream",
     "text": [
      "Epoch 0, Loss: 8.4991\n",
      "Epoch 10, Loss: 7.2338\n",
      "Epoch 20, Loss: 6.6397\n",
      "Epoch 30, Loss: 5.9715\n",
      "Epoch 40, Loss: 4.8662\n",
      " - Metrics: Accuracy=0.9405, F1=0.8563, Recall=0.8417, Precision=0.8715\n",
      "Running experiment with seed=281:\n",
      " - K=5, layers=1, hidden=128, out=256\n",
      " - norm=None, dropout=0, batch_size=10, reliable_mini_batch=True\n",
      " - ratio=0.14457561998919324, aggregation=sum, treatment=removal\n",
      " - model_type=GATConv, rate_pairs=2, clusters=100, lr=0.002639013498141723\n"
     ]
    },
    {
     "name": "stderr",
     "output_type": "stream",
     "text": [
      "Computing METIS partitioning...\n",
      "Done!\n"
     ]
    },
    {
     "name": "stdout",
     "output_type": "stream",
     "text": [
      "Epoch 0, Loss: 8.4884\n",
      "Epoch 10, Loss: 7.2342\n",
      "Epoch 20, Loss: 6.6373\n",
      "Epoch 30, Loss: 5.9631\n",
      "Epoch 40, Loss: 4.8626\n"
     ]
    },
    {
     "name": "stderr",
     "output_type": "stream",
     "text": [
      "[I 2025-03-12 16:08:17,355] Trial 143 finished with value: 0.8599554651381457 and parameters: {'K': 5, 'layers': 1, 'hidden_channels': 128, 'out_channels': 256, 'ratio': 0.14457561998919324, 'aggregation': 'sum', 'treatment': 'removal', 'model_type': 'GATConv', 'rate_pairs': 2, 'batch_size': 10, 'lr': 0.002639013498141723, 'clusters': 100}. Best is trial 117 with value: 0.8637880075000375.\n"
     ]
    },
    {
     "name": "stdout",
     "output_type": "stream",
     "text": [
      " - Metrics: Accuracy=0.9429, F1=0.8597, Recall=0.8302, Precision=0.8913\n",
      "Done. Results written to citeseer_experimentations\\citeseer_scar_sampling_nnif_batch_cluster_1203160544.csv.\n",
      "Average F1 over valid seeds: 0.8600 ± 0.0026\n",
      "Running experiment with seed=654:\n",
      " - K=5, layers=1, hidden=128, out=256\n",
      " - norm=None, dropout=0, batch_size=10, reliable_mini_batch=True\n",
      " - ratio=0.14459838610141607, aggregation=sum, treatment=removal\n",
      " - model_type=GATConv, rate_pairs=2, clusters=100, lr=0.0020363833992119848\n"
     ]
    },
    {
     "name": "stderr",
     "output_type": "stream",
     "text": [
      "Computing METIS partitioning...\n",
      "Done!\n"
     ]
    },
    {
     "name": "stdout",
     "output_type": "stream",
     "text": [
      "Epoch 0, Loss: 8.9594\n",
      "Epoch 10, Loss: 7.7066\n",
      "Epoch 20, Loss: 7.0714\n",
      "Epoch 30, Loss: 6.8207\n",
      "Epoch 40, Loss: 5.8713\n",
      " - Metrics: Accuracy=0.9480, F1=0.8725, Recall=0.8445, Precision=0.9024\n",
      "Running experiment with seed=114:\n",
      " - K=5, layers=1, hidden=128, out=256\n",
      " - norm=None, dropout=0, batch_size=10, reliable_mini_batch=True\n",
      " - ratio=0.14459838610141607, aggregation=sum, treatment=removal\n",
      " - model_type=GATConv, rate_pairs=2, clusters=100, lr=0.0020363833992119848\n"
     ]
    },
    {
     "name": "stderr",
     "output_type": "stream",
     "text": [
      "Computing METIS partitioning...\n",
      "Done!\n"
     ]
    },
    {
     "name": "stdout",
     "output_type": "stream",
     "text": [
      "Epoch 0, Loss: 8.5841\n",
      "Epoch 10, Loss: 7.3978\n",
      "Epoch 20, Loss: 7.0088\n",
      "Epoch 30, Loss: 6.5839\n",
      "Epoch 40, Loss: 5.6564\n",
      " - Metrics: Accuracy=0.9441, F1=0.8646, Recall=0.8474, Precision=0.8826\n",
      "Running experiment with seed=25:\n",
      " - K=5, layers=1, hidden=128, out=256\n",
      " - norm=None, dropout=0, batch_size=10, reliable_mini_batch=True\n",
      " - ratio=0.14459838610141607, aggregation=sum, treatment=removal\n",
      " - model_type=GATConv, rate_pairs=2, clusters=100, lr=0.0020363833992119848\n"
     ]
    },
    {
     "name": "stderr",
     "output_type": "stream",
     "text": [
      "Computing METIS partitioning...\n",
      "Done!\n"
     ]
    },
    {
     "name": "stdout",
     "output_type": "stream",
     "text": [
      "Epoch 0, Loss: 8.5769\n",
      "Epoch 10, Loss: 7.3964\n",
      "Epoch 20, Loss: 6.9977\n",
      "Epoch 30, Loss: 6.5780\n",
      "Epoch 40, Loss: 5.6490\n",
      " - Metrics: Accuracy=0.9405, F1=0.8567, Recall=0.8445, Precision=0.8693\n",
      "Running experiment with seed=759:\n",
      " - K=5, layers=1, hidden=128, out=256\n",
      " - norm=None, dropout=0, batch_size=10, reliable_mini_batch=True\n",
      " - ratio=0.14459838610141607, aggregation=sum, treatment=removal\n",
      " - model_type=GATConv, rate_pairs=2, clusters=100, lr=0.0020363833992119848\n"
     ]
    },
    {
     "name": "stderr",
     "output_type": "stream",
     "text": [
      "Computing METIS partitioning...\n",
      "Done!\n"
     ]
    },
    {
     "name": "stdout",
     "output_type": "stream",
     "text": [
      "Epoch 0, Loss: 8.5769\n",
      "Epoch 10, Loss: 7.3893\n",
      "Epoch 20, Loss: 7.0016\n",
      "Epoch 30, Loss: 6.5812\n",
      "Epoch 40, Loss: 5.6450\n",
      " - Metrics: Accuracy=0.9417, F1=0.8592, Recall=0.8445, Precision=0.8744\n",
      "Running experiment with seed=281:\n",
      " - K=5, layers=1, hidden=128, out=256\n",
      " - norm=None, dropout=0, batch_size=10, reliable_mini_batch=True\n",
      " - ratio=0.14459838610141607, aggregation=sum, treatment=removal\n",
      " - model_type=GATConv, rate_pairs=2, clusters=100, lr=0.0020363833992119848\n"
     ]
    },
    {
     "name": "stderr",
     "output_type": "stream",
     "text": [
      "Computing METIS partitioning...\n",
      "Done!\n"
     ]
    },
    {
     "name": "stdout",
     "output_type": "stream",
     "text": [
      "Epoch 0, Loss: 8.5475\n",
      "Epoch 10, Loss: 7.3734\n",
      "Epoch 20, Loss: 6.9884\n",
      "Epoch 30, Loss: 6.5569\n",
      "Epoch 40, Loss: 5.6349\n"
     ]
    },
    {
     "name": "stderr",
     "output_type": "stream",
     "text": [
      "[I 2025-03-12 16:10:49,526] Trial 144 finished with value: 0.8615898938448433 and parameters: {'K': 5, 'layers': 1, 'hidden_channels': 128, 'out_channels': 256, 'ratio': 0.14459838610141607, 'aggregation': 'sum', 'treatment': 'removal', 'model_type': 'GATConv', 'rate_pairs': 2, 'batch_size': 10, 'lr': 0.0020363833992119848, 'clusters': 100}. Best is trial 117 with value: 0.8637880075000375.\n"
     ]
    },
    {
     "name": "stdout",
     "output_type": "stream",
     "text": [
      " - Metrics: Accuracy=0.9399, F1=0.8549, Recall=0.8402, Precision=0.8700\n",
      "Done. Results written to citeseer_experimentations\\citeseer_scar_sampling_nnif_batch_cluster_1203160817.csv.\n",
      "Average F1 over valid seeds: 0.8616 ± 0.0064\n",
      "Running experiment with seed=654:\n",
      " - K=5, layers=1, hidden=128, out=256\n",
      " - norm=None, dropout=0, batch_size=10, reliable_mini_batch=True\n",
      " - ratio=0.14482204202424154, aggregation=sum, treatment=removal\n",
      " - model_type=GATConv, rate_pairs=1, clusters=100, lr=0.0020059058897677774\n"
     ]
    },
    {
     "name": "stderr",
     "output_type": "stream",
     "text": [
      "Computing METIS partitioning...\n",
      "Done!\n"
     ]
    },
    {
     "name": "stdout",
     "output_type": "stream",
     "text": [
      "Epoch 0, Loss: 8.9718\n",
      "Epoch 10, Loss: 7.7098\n",
      "Epoch 20, Loss: 7.0872\n",
      "Epoch 30, Loss: 6.8506\n",
      "Epoch 40, Loss: 5.9076\n",
      " - Metrics: Accuracy=0.9486, F1=0.8751, Recall=0.8545, Precision=0.8967\n",
      "Running experiment with seed=114:\n",
      " - K=5, layers=1, hidden=128, out=256\n",
      " - norm=None, dropout=0, batch_size=10, reliable_mini_batch=True\n",
      " - ratio=0.14482204202424154, aggregation=sum, treatment=removal\n",
      " - model_type=GATConv, rate_pairs=1, clusters=100, lr=0.0020059058897677774\n"
     ]
    },
    {
     "name": "stderr",
     "output_type": "stream",
     "text": [
      "Computing METIS partitioning...\n",
      "Done!\n"
     ]
    },
    {
     "name": "stdout",
     "output_type": "stream",
     "text": [
      "Epoch 0, Loss: 8.5984\n",
      "Epoch 10, Loss: 7.4178\n",
      "Epoch 20, Loss: 7.0276\n",
      "Epoch 30, Loss: 6.6144\n",
      "Epoch 40, Loss: 5.6978\n",
      " - Metrics: Accuracy=0.9417, F1=0.8592, Recall=0.8445, Precision=0.8744\n",
      "Running experiment with seed=25:\n",
      " - K=5, layers=1, hidden=128, out=256\n",
      " - norm=None, dropout=0, batch_size=10, reliable_mini_batch=True\n",
      " - ratio=0.14482204202424154, aggregation=sum, treatment=removal\n",
      " - model_type=GATConv, rate_pairs=1, clusters=100, lr=0.0020059058897677774\n"
     ]
    },
    {
     "name": "stderr",
     "output_type": "stream",
     "text": [
      "Computing METIS partitioning...\n",
      "Done!\n"
     ]
    },
    {
     "name": "stdout",
     "output_type": "stream",
     "text": [
      "Epoch 0, Loss: 8.5683\n",
      "Epoch 10, Loss: 7.3996\n",
      "Epoch 20, Loss: 7.0235\n",
      "Epoch 30, Loss: 6.6102\n",
      "Epoch 40, Loss: 5.6879\n",
      " - Metrics: Accuracy=0.9411, F1=0.8576, Recall=0.8417, Precision=0.8741\n",
      "Running experiment with seed=759:\n",
      " - K=5, layers=1, hidden=128, out=256\n",
      " - norm=None, dropout=0, batch_size=10, reliable_mini_batch=True\n",
      " - ratio=0.14482204202424154, aggregation=sum, treatment=removal\n",
      " - model_type=GATConv, rate_pairs=1, clusters=100, lr=0.0020059058897677774\n"
     ]
    },
    {
     "name": "stderr",
     "output_type": "stream",
     "text": [
      "Computing METIS partitioning...\n",
      "Done!\n"
     ]
    },
    {
     "name": "stdout",
     "output_type": "stream",
     "text": [
      "Epoch 0, Loss: 8.5525\n",
      "Epoch 10, Loss: 7.3682\n",
      "Epoch 20, Loss: 6.9902\n",
      "Epoch 30, Loss: 6.5847\n",
      "Epoch 40, Loss: 5.6708\n",
      " - Metrics: Accuracy=0.9417, F1=0.8590, Recall=0.8431, Precision=0.8756\n",
      "Running experiment with seed=281:\n",
      " - K=5, layers=1, hidden=128, out=256\n",
      " - norm=None, dropout=0, batch_size=10, reliable_mini_batch=True\n",
      " - ratio=0.14482204202424154, aggregation=sum, treatment=removal\n",
      " - model_type=GATConv, rate_pairs=1, clusters=100, lr=0.0020059058897677774\n"
     ]
    },
    {
     "name": "stderr",
     "output_type": "stream",
     "text": [
      "Computing METIS partitioning...\n",
      "Done!\n"
     ]
    },
    {
     "name": "stdout",
     "output_type": "stream",
     "text": [
      "Epoch 0, Loss: 8.5718\n",
      "Epoch 10, Loss: 7.3901\n",
      "Epoch 20, Loss: 7.0148\n",
      "Epoch 30, Loss: 6.6050\n",
      "Epoch 40, Loss: 5.6798\n"
     ]
    },
    {
     "name": "stderr",
     "output_type": "stream",
     "text": [
      "[I 2025-03-12 16:13:21,416] Trial 145 finished with value: 0.863422031519109 and parameters: {'K': 5, 'layers': 1, 'hidden_channels': 128, 'out_channels': 256, 'ratio': 0.14482204202424154, 'aggregation': 'sum', 'treatment': 'removal', 'model_type': 'GATConv', 'rate_pairs': 1, 'batch_size': 10, 'lr': 0.0020059058897677774, 'clusters': 100}. Best is trial 117 with value: 0.8637880075000375.\n"
     ]
    },
    {
     "name": "stdout",
     "output_type": "stream",
     "text": [
      " - Metrics: Accuracy=0.9444, F1=0.8662, Recall=0.8545, Precision=0.8783\n",
      "Done. Results written to citeseer_experimentations\\citeseer_scar_sampling_nnif_batch_cluster_1203161049.csv.\n",
      "Average F1 over valid seeds: 0.8634 ± 0.0066\n",
      "Running experiment with seed=654:\n",
      " - K=5, layers=1, hidden=128, out=256\n",
      " - norm=None, dropout=0, batch_size=10, reliable_mini_batch=True\n",
      " - ratio=0.14615098539114413, aggregation=sum, treatment=removal\n",
      " - model_type=GATConv, rate_pairs=1, clusters=100, lr=0.0021859284696679375\n"
     ]
    },
    {
     "name": "stderr",
     "output_type": "stream",
     "text": [
      "Computing METIS partitioning...\n",
      "Done!\n"
     ]
    },
    {
     "name": "stdout",
     "output_type": "stream",
     "text": [
      "Epoch 0, Loss: 8.9387\n",
      "Epoch 10, Loss: 7.6512\n",
      "Epoch 20, Loss: 6.9685\n",
      "Epoch 30, Loss: 6.6550\n",
      "Epoch 40, Loss: 5.6667\n",
      " - Metrics: Accuracy=0.9438, F1=0.8620, Recall=0.8331, Precision=0.8930\n",
      "Running experiment with seed=114:\n",
      " - K=5, layers=1, hidden=128, out=256\n",
      " - norm=None, dropout=0, batch_size=10, reliable_mini_batch=True\n",
      " - ratio=0.14615098539114413, aggregation=sum, treatment=removal\n",
      " - model_type=GATConv, rate_pairs=1, clusters=100, lr=0.0021859284696679375\n"
     ]
    },
    {
     "name": "stderr",
     "output_type": "stream",
     "text": [
      "Computing METIS partitioning...\n",
      "Done!\n"
     ]
    },
    {
     "name": "stdout",
     "output_type": "stream",
     "text": [
      "Epoch 0, Loss: 8.5568\n",
      "Epoch 10, Loss: 7.3486\n",
      "Epoch 20, Loss: 6.9099\n",
      "Epoch 30, Loss: 6.4175\n",
      "Epoch 40, Loss: 5.4489\n",
      " - Metrics: Accuracy=0.9441, F1=0.8638, Recall=0.8417, Precision=0.8872\n",
      "Running experiment with seed=25:\n",
      " - K=5, layers=1, hidden=128, out=256\n",
      " - norm=None, dropout=0, batch_size=10, reliable_mini_batch=True\n",
      " - ratio=0.14615098539114413, aggregation=sum, treatment=removal\n",
      " - model_type=GATConv, rate_pairs=1, clusters=100, lr=0.0021859284696679375\n"
     ]
    },
    {
     "name": "stderr",
     "output_type": "stream",
     "text": [
      "Computing METIS partitioning...\n",
      "Done!\n"
     ]
    },
    {
     "name": "stdout",
     "output_type": "stream",
     "text": [
      "Epoch 0, Loss: 8.5296\n",
      "Epoch 10, Loss: 7.3349\n",
      "Epoch 20, Loss: 6.8981\n",
      "Epoch 30, Loss: 6.4177\n",
      "Epoch 40, Loss: 5.4394\n",
      " - Metrics: Accuracy=0.9444, F1=0.8660, Recall=0.8531, Precision=0.8794\n",
      "Running experiment with seed=759:\n",
      " - K=5, layers=1, hidden=128, out=256\n",
      " - norm=None, dropout=0, batch_size=10, reliable_mini_batch=True\n",
      " - ratio=0.14615098539114413, aggregation=sum, treatment=removal\n",
      " - model_type=GATConv, rate_pairs=1, clusters=100, lr=0.0021859284696679375\n"
     ]
    },
    {
     "name": "stderr",
     "output_type": "stream",
     "text": [
      "Computing METIS partitioning...\n",
      "Done!\n"
     ]
    },
    {
     "name": "stdout",
     "output_type": "stream",
     "text": [
      "Epoch 0, Loss: 8.5631\n",
      "Epoch 10, Loss: 7.3625\n",
      "Epoch 20, Loss: 6.9244\n",
      "Epoch 30, Loss: 6.4345\n",
      "Epoch 40, Loss: 5.4587\n",
      " - Metrics: Accuracy=0.9453, F1=0.8677, Recall=0.8516, Precision=0.8844\n",
      "Running experiment with seed=281:\n",
      " - K=5, layers=1, hidden=128, out=256\n",
      " - norm=None, dropout=0, batch_size=10, reliable_mini_batch=True\n",
      " - ratio=0.14615098539114413, aggregation=sum, treatment=removal\n",
      " - model_type=GATConv, rate_pairs=1, clusters=100, lr=0.0021859284696679375\n"
     ]
    },
    {
     "name": "stderr",
     "output_type": "stream",
     "text": [
      "Computing METIS partitioning...\n",
      "Done!\n"
     ]
    },
    {
     "name": "stdout",
     "output_type": "stream",
     "text": [
      "Epoch 0, Loss: 8.5381\n",
      "Epoch 10, Loss: 7.3424\n",
      "Epoch 20, Loss: 6.9040\n",
      "Epoch 30, Loss: 6.4215\n",
      "Epoch 40, Loss: 5.4397\n"
     ]
    },
    {
     "name": "stderr",
     "output_type": "stream",
     "text": [
      "[I 2025-03-12 16:15:55,738] Trial 146 finished with value: 0.8640977725841866 and parameters: {'K': 5, 'layers': 1, 'hidden_channels': 128, 'out_channels': 256, 'ratio': 0.14615098539114413, 'aggregation': 'sum', 'treatment': 'removal', 'model_type': 'GATConv', 'rate_pairs': 1, 'batch_size': 10, 'lr': 0.0021859284696679375, 'clusters': 100}. Best is trial 146 with value: 0.8640977725841866.\n"
     ]
    },
    {
     "name": "stdout",
     "output_type": "stream",
     "text": [
      " - Metrics: Accuracy=0.9426, F1=0.8609, Recall=0.8431, Precision=0.8795\n",
      "Done. Results written to citeseer_experimentations\\citeseer_scar_sampling_nnif_batch_cluster_1203161321.csv.\n",
      "Average F1 over valid seeds: 0.8641 ± 0.0025\n",
      "Running experiment with seed=654:\n",
      " - K=5, layers=1, hidden=128, out=256\n",
      " - norm=None, dropout=0, batch_size=10, reliable_mini_batch=True\n",
      " - ratio=0.14650122936504217, aggregation=sum, treatment=removal\n",
      " - model_type=GATConv, rate_pairs=1, clusters=100, lr=0.0020024970451546047\n"
     ]
    },
    {
     "name": "stderr",
     "output_type": "stream",
     "text": [
      "Computing METIS partitioning...\n",
      "Done!\n"
     ]
    },
    {
     "name": "stdout",
     "output_type": "stream",
     "text": [
      "Epoch 0, Loss: 8.9392\n",
      "Epoch 10, Loss: 7.6757\n",
      "Epoch 20, Loss: 7.0603\n",
      "Epoch 30, Loss: 6.8283\n",
      "Epoch 40, Loss: 5.8911\n",
      " - Metrics: Accuracy=0.9447, F1=0.8653, Recall=0.8431, Precision=0.8887\n",
      "Running experiment with seed=114:\n",
      " - K=5, layers=1, hidden=128, out=256\n",
      " - norm=None, dropout=0, batch_size=10, reliable_mini_batch=True\n",
      " - ratio=0.14650122936504217, aggregation=sum, treatment=removal\n",
      " - model_type=GATConv, rate_pairs=1, clusters=100, lr=0.0020024970451546047\n"
     ]
    },
    {
     "name": "stderr",
     "output_type": "stream",
     "text": [
      "Computing METIS partitioning...\n",
      "Done!\n"
     ]
    },
    {
     "name": "stdout",
     "output_type": "stream",
     "text": [
      "Epoch 0, Loss: 8.5652\n",
      "Epoch 10, Loss: 7.3915\n",
      "Epoch 20, Loss: 7.0125\n",
      "Epoch 30, Loss: 6.6006\n",
      "Epoch 40, Loss: 5.6824\n",
      " - Metrics: Accuracy=0.9438, F1=0.8642, Recall=0.8488, Precision=0.8802\n",
      "Running experiment with seed=25:\n",
      " - K=5, layers=1, hidden=128, out=256\n",
      " - norm=None, dropout=0, batch_size=10, reliable_mini_batch=True\n",
      " - ratio=0.14650122936504217, aggregation=sum, treatment=removal\n",
      " - model_type=GATConv, rate_pairs=1, clusters=100, lr=0.0020024970451546047\n"
     ]
    },
    {
     "name": "stderr",
     "output_type": "stream",
     "text": [
      "Computing METIS partitioning...\n",
      "Done!\n"
     ]
    },
    {
     "name": "stdout",
     "output_type": "stream",
     "text": [
      "Epoch 0, Loss: 8.5460\n",
      "Epoch 10, Loss: 7.3817\n",
      "Epoch 20, Loss: 7.0040\n",
      "Epoch 30, Loss: 6.5894\n",
      "Epoch 40, Loss: 5.6817\n",
      " - Metrics: Accuracy=0.9441, F1=0.8658, Recall=0.8559, Precision=0.8759\n",
      "Running experiment with seed=759:\n",
      " - K=5, layers=1, hidden=128, out=256\n",
      " - norm=None, dropout=0, batch_size=10, reliable_mini_batch=True\n",
      " - ratio=0.14650122936504217, aggregation=sum, treatment=removal\n",
      " - model_type=GATConv, rate_pairs=1, clusters=100, lr=0.0020024970451546047\n"
     ]
    },
    {
     "name": "stderr",
     "output_type": "stream",
     "text": [
      "Computing METIS partitioning...\n",
      "Done!\n"
     ]
    },
    {
     "name": "stdout",
     "output_type": "stream",
     "text": [
      "Epoch 0, Loss: 8.5383\n",
      "Epoch 10, Loss: 7.3725\n",
      "Epoch 20, Loss: 6.9958\n",
      "Epoch 30, Loss: 6.5895\n",
      "Epoch 40, Loss: 5.6747\n",
      " - Metrics: Accuracy=0.9417, F1=0.8608, Recall=0.8559, Precision=0.8658\n",
      "Running experiment with seed=281:\n",
      " - K=5, layers=1, hidden=128, out=256\n",
      " - norm=None, dropout=0, batch_size=10, reliable_mini_batch=True\n",
      " - ratio=0.14650122936504217, aggregation=sum, treatment=removal\n",
      " - model_type=GATConv, rate_pairs=1, clusters=100, lr=0.0020024970451546047\n"
     ]
    },
    {
     "name": "stderr",
     "output_type": "stream",
     "text": [
      "Computing METIS partitioning...\n",
      "Done!\n"
     ]
    },
    {
     "name": "stdout",
     "output_type": "stream",
     "text": [
      "Epoch 0, Loss: 8.5760\n",
      "Epoch 10, Loss: 7.3933\n",
      "Epoch 20, Loss: 7.0164\n",
      "Epoch 30, Loss: 6.6115\n",
      "Epoch 40, Loss: 5.6871\n"
     ]
    },
    {
     "name": "stderr",
     "output_type": "stream",
     "text": [
      "[I 2025-03-12 16:18:28,873] Trial 147 finished with value: 0.86339628756813 and parameters: {'K': 5, 'layers': 1, 'hidden_channels': 128, 'out_channels': 256, 'ratio': 0.14650122936504217, 'aggregation': 'sum', 'treatment': 'removal', 'model_type': 'GATConv', 'rate_pairs': 1, 'batch_size': 10, 'lr': 0.0020024970451546047, 'clusters': 100}. Best is trial 146 with value: 0.8640977725841866.\n"
     ]
    },
    {
     "name": "stdout",
     "output_type": "stream",
     "text": [
      " - Metrics: Accuracy=0.9420, F1=0.8609, Recall=0.8516, Precision=0.8703\n",
      "Done. Results written to citeseer_experimentations\\citeseer_scar_sampling_nnif_batch_cluster_1203161555.csv.\n",
      "Average F1 over valid seeds: 0.8634 ± 0.0021\n",
      "Running experiment with seed=654:\n",
      " - K=5, layers=1, hidden=128, out=256\n",
      " - norm=None, dropout=0, batch_size=5, reliable_mini_batch=True\n",
      " - ratio=0.14496628335103331, aggregation=sum, treatment=removal\n",
      " - model_type=GATConv, rate_pairs=1, clusters=400, lr=0.001729356778915814\n"
     ]
    },
    {
     "name": "stderr",
     "output_type": "stream",
     "text": [
      "Computing METIS partitioning...\n",
      "Done!\n",
      "[I 2025-03-12 16:18:30,078] Trial 148 finished with value: 0.0 and parameters: {'K': 5, 'layers': 1, 'hidden_channels': 128, 'out_channels': 256, 'ratio': 0.14496628335103331, 'aggregation': 'sum', 'treatment': 'removal', 'model_type': 'GATConv', 'rate_pairs': 1, 'batch_size': 5, 'lr': 0.001729356778915814, 'clusters': 400}. Best is trial 146 with value: 0.8640977725841866.\n"
     ]
    },
    {
     "name": "stdout",
     "output_type": "stream",
     "text": [
      "Error: Labels must be in {0,1}, got [0].\n",
      "Done. Results written to citeseer_experimentations\\citeseer_scar_sampling_nnif_batch_cluster_1203161828.csv.\n",
      "Average F1 over valid seeds: 0.0000 ± 0.0000\n",
      "Running experiment with seed=654:\n",
      " - K=5, layers=1, hidden=128, out=256\n",
      " - norm=None, dropout=0, batch_size=15, reliable_mini_batch=True\n",
      " - ratio=0.14731107515810776, aggregation=sum, treatment=removal\n",
      " - model_type=GINConv, rate_pairs=1, clusters=100, lr=0.0021383680718685912\n"
     ]
    },
    {
     "name": "stderr",
     "output_type": "stream",
     "text": [
      "Computing METIS partitioning...\n",
      "Done!\n"
     ]
    },
    {
     "name": "stdout",
     "output_type": "stream",
     "text": [
      "Epoch 0, Loss: 5.8679\n",
      "Epoch 10, Loss: 5.5892\n",
      "Epoch 20, Loss: 5.2875\n",
      "Epoch 30, Loss: 4.9419\n",
      "Epoch 40, Loss: 4.5953\n"
     ]
    },
    {
     "name": "stderr",
     "output_type": "stream",
     "text": [
      "[I 2025-03-12 16:18:53,484] Trial 149 finished with value: 0.8116169544740973 and parameters: {'K': 5, 'layers': 1, 'hidden_channels': 128, 'out_channels': 256, 'ratio': 0.14731107515810776, 'aggregation': 'sum', 'treatment': 'removal', 'model_type': 'GINConv', 'rate_pairs': 1, 'batch_size': 15, 'lr': 0.0021383680718685912, 'clusters': 100}. Best is trial 146 with value: 0.8640977725841866.\n"
     ]
    },
    {
     "name": "stdout",
     "output_type": "stream",
     "text": [
      " - Metrics: Accuracy=0.9279, F1=0.8116, Recall=0.7375, Precision=0.9023\n",
      "F1 = 0.81 < 0.835, skipping ...\n",
      "Done. Results written to citeseer_experimentations\\citeseer_scar_sampling_nnif_batch_cluster_1203161830.csv.\n",
      "Average F1 over valid seeds: 0.8116 ± 0.0000\n",
      "Running experiment with seed=654:\n",
      " - K=5, layers=1, hidden=128, out=256\n",
      " - norm=None, dropout=0, batch_size=10, reliable_mini_batch=True\n",
      " - ratio=0.1418083736910616, aggregation=sum, treatment=removal\n",
      " - model_type=GATConv, rate_pairs=1, clusters=100, lr=0.002004870159319033\n"
     ]
    },
    {
     "name": "stderr",
     "output_type": "stream",
     "text": [
      "Computing METIS partitioning...\n",
      "Done!\n"
     ]
    },
    {
     "name": "stdout",
     "output_type": "stream",
     "text": [
      "Epoch 0, Loss: 8.9572\n",
      "Epoch 10, Loss: 7.6998\n",
      "Epoch 20, Loss: 7.0813\n",
      "Epoch 30, Loss: 6.8516\n",
      "Epoch 40, Loss: 5.9127\n",
      " - Metrics: Accuracy=0.9453, F1=0.8654, Recall=0.8345, Precision=0.8986\n",
      "Running experiment with seed=114:\n",
      " - K=5, layers=1, hidden=128, out=256\n",
      " - norm=None, dropout=0, batch_size=10, reliable_mini_batch=True\n",
      " - ratio=0.1418083736910616, aggregation=sum, treatment=removal\n",
      " - model_type=GATConv, rate_pairs=1, clusters=100, lr=0.002004870159319033\n"
     ]
    },
    {
     "name": "stderr",
     "output_type": "stream",
     "text": [
      "Computing METIS partitioning...\n",
      "Done!\n"
     ]
    },
    {
     "name": "stdout",
     "output_type": "stream",
     "text": [
      "Epoch 0, Loss: 8.5717\n",
      "Epoch 10, Loss: 7.3934\n",
      "Epoch 20, Loss: 7.0162\n",
      "Epoch 30, Loss: 6.6022\n",
      "Epoch 40, Loss: 5.6795\n",
      " - Metrics: Accuracy=0.9450, F1=0.8659, Recall=0.8431, Precision=0.8901\n",
      "Running experiment with seed=25:\n",
      " - K=5, layers=1, hidden=128, out=256\n",
      " - norm=None, dropout=0, batch_size=10, reliable_mini_batch=True\n",
      " - ratio=0.1418083736910616, aggregation=sum, treatment=removal\n",
      " - model_type=GATConv, rate_pairs=1, clusters=100, lr=0.002004870159319033\n"
     ]
    },
    {
     "name": "stderr",
     "output_type": "stream",
     "text": [
      "Computing METIS partitioning...\n",
      "Done!\n"
     ]
    },
    {
     "name": "stdout",
     "output_type": "stream",
     "text": [
      "Epoch 0, Loss: 8.5699\n",
      "Epoch 10, Loss: 7.3928\n",
      "Epoch 20, Loss: 7.0155\n",
      "Epoch 30, Loss: 6.6021\n",
      "Epoch 40, Loss: 5.6817\n",
      " - Metrics: Accuracy=0.9429, F1=0.8617, Recall=0.8445, Precision=0.8796\n",
      "Running experiment with seed=759:\n",
      " - K=5, layers=1, hidden=128, out=256\n",
      " - norm=None, dropout=0, batch_size=10, reliable_mini_batch=True\n",
      " - ratio=0.1418083736910616, aggregation=sum, treatment=removal\n",
      " - model_type=GATConv, rate_pairs=1, clusters=100, lr=0.002004870159319033\n"
     ]
    },
    {
     "name": "stderr",
     "output_type": "stream",
     "text": [
      "Computing METIS partitioning...\n",
      "Done!\n"
     ]
    },
    {
     "name": "stdout",
     "output_type": "stream",
     "text": [
      "Epoch 0, Loss: 8.5529\n",
      "Epoch 10, Loss: 7.3816\n",
      "Epoch 20, Loss: 7.0019\n",
      "Epoch 30, Loss: 6.5907\n",
      "Epoch 40, Loss: 5.6717\n",
      " - Metrics: Accuracy=0.9414, F1=0.8580, Recall=0.8402, Precision=0.8765\n",
      "Running experiment with seed=281:\n",
      " - K=5, layers=1, hidden=128, out=256\n",
      " - norm=None, dropout=0, batch_size=10, reliable_mini_batch=True\n",
      " - ratio=0.1418083736910616, aggregation=sum, treatment=removal\n",
      " - model_type=GATConv, rate_pairs=1, clusters=100, lr=0.002004870159319033\n"
     ]
    },
    {
     "name": "stderr",
     "output_type": "stream",
     "text": [
      "Computing METIS partitioning...\n",
      "Done!\n"
     ]
    },
    {
     "name": "stdout",
     "output_type": "stream",
     "text": [
      "Epoch 0, Loss: 8.5304\n",
      "Epoch 10, Loss: 7.3610\n",
      "Epoch 20, Loss: 6.9771\n",
      "Epoch 30, Loss: 6.5784\n",
      "Epoch 40, Loss: 5.6560\n"
     ]
    },
    {
     "name": "stderr",
     "output_type": "stream",
     "text": [
      "[I 2025-03-12 16:21:39,697] Trial 150 finished with value: 0.8620027400066667 and parameters: {'K': 5, 'layers': 1, 'hidden_channels': 128, 'out_channels': 256, 'ratio': 0.1418083736910616, 'aggregation': 'sum', 'treatment': 'removal', 'model_type': 'GATConv', 'rate_pairs': 1, 'batch_size': 10, 'lr': 0.002004870159319033, 'clusters': 100}. Best is trial 146 with value: 0.8640977725841866.\n"
     ]
    },
    {
     "name": "stdout",
     "output_type": "stream",
     "text": [
      " - Metrics: Accuracy=0.9414, F1=0.8590, Recall=0.8474, Precision=0.8710\n",
      "Done. Results written to citeseer_experimentations\\citeseer_scar_sampling_nnif_batch_cluster_1203161853.csv.\n",
      "Average F1 over valid seeds: 0.8620 ± 0.0032\n",
      "Running experiment with seed=654:\n",
      " - K=5, layers=1, hidden=128, out=256\n",
      " - norm=None, dropout=0, batch_size=10, reliable_mini_batch=True\n",
      " - ratio=0.1435878992873894, aggregation=sum, treatment=removal\n",
      " - model_type=GATConv, rate_pairs=1, clusters=100, lr=0.0019162985582613981\n"
     ]
    },
    {
     "name": "stderr",
     "output_type": "stream",
     "text": [
      "Computing METIS partitioning...\n",
      "Done!\n"
     ]
    },
    {
     "name": "stdout",
     "output_type": "stream",
     "text": [
      "Epoch 0, Loss: 8.9762\n",
      "Epoch 10, Loss: 7.7076\n",
      "Epoch 20, Loss: 7.1142\n",
      "Epoch 30, Loss: 6.9214\n",
      "Epoch 40, Loss: 6.0112\n",
      " - Metrics: Accuracy=0.9465, F1=0.8685, Recall=0.8388, Precision=0.9005\n",
      "Running experiment with seed=114:\n",
      " - K=5, layers=1, hidden=128, out=256\n",
      " - norm=None, dropout=0, batch_size=10, reliable_mini_batch=True\n",
      " - ratio=0.1435878992873894, aggregation=sum, treatment=removal\n",
      " - model_type=GATConv, rate_pairs=1, clusters=100, lr=0.0019162985582613981\n"
     ]
    },
    {
     "name": "stderr",
     "output_type": "stream",
     "text": [
      "Computing METIS partitioning...\n",
      "Done!\n"
     ]
    },
    {
     "name": "stdout",
     "output_type": "stream",
     "text": [
      "Epoch 0, Loss: 8.5669\n",
      "Epoch 10, Loss: 7.4013\n",
      "Epoch 20, Loss: 7.0456\n",
      "Epoch 30, Loss: 6.6835\n",
      "Epoch 40, Loss: 5.7931\n",
      " - Metrics: Accuracy=0.9441, F1=0.8658, Recall=0.8559, Precision=0.8759\n",
      "Running experiment with seed=25:\n",
      " - K=5, layers=1, hidden=128, out=256\n",
      " - norm=None, dropout=0, batch_size=10, reliable_mini_batch=True\n",
      " - ratio=0.1435878992873894, aggregation=sum, treatment=removal\n",
      " - model_type=GATConv, rate_pairs=1, clusters=100, lr=0.0019162985582613981\n"
     ]
    },
    {
     "name": "stderr",
     "output_type": "stream",
     "text": [
      "Computing METIS partitioning...\n",
      "Done!\n"
     ]
    },
    {
     "name": "stdout",
     "output_type": "stream",
     "text": [
      "Epoch 0, Loss: 8.5453\n",
      "Epoch 10, Loss: 7.3796\n",
      "Epoch 20, Loss: 7.0362\n",
      "Epoch 30, Loss: 6.6607\n",
      "Epoch 40, Loss: 5.7703\n",
      " - Metrics: Accuracy=0.9438, F1=0.8646, Recall=0.8516, Precision=0.8779\n",
      "Running experiment with seed=759:\n",
      " - K=5, layers=1, hidden=128, out=256\n",
      " - norm=None, dropout=0, batch_size=10, reliable_mini_batch=True\n",
      " - ratio=0.1435878992873894, aggregation=sum, treatment=removal\n",
      " - model_type=GATConv, rate_pairs=1, clusters=100, lr=0.0019162985582613981\n"
     ]
    },
    {
     "name": "stderr",
     "output_type": "stream",
     "text": [
      "Computing METIS partitioning...\n",
      "Done!\n"
     ]
    },
    {
     "name": "stdout",
     "output_type": "stream",
     "text": [
      "Epoch 0, Loss: 8.5839\n",
      "Epoch 10, Loss: 7.4105\n",
      "Epoch 20, Loss: 7.0616\n",
      "Epoch 30, Loss: 6.6919\n",
      "Epoch 40, Loss: 5.8020\n",
      " - Metrics: Accuracy=0.9426, F1=0.8615, Recall=0.8474, Precision=0.8761\n",
      "Running experiment with seed=281:\n",
      " - K=5, layers=1, hidden=128, out=256\n",
      " - norm=None, dropout=0, batch_size=10, reliable_mini_batch=True\n",
      " - ratio=0.1435878992873894, aggregation=sum, treatment=removal\n",
      " - model_type=GATConv, rate_pairs=1, clusters=100, lr=0.0019162985582613981\n"
     ]
    },
    {
     "name": "stderr",
     "output_type": "stream",
     "text": [
      "Computing METIS partitioning...\n",
      "Done!\n"
     ]
    },
    {
     "name": "stdout",
     "output_type": "stream",
     "text": [
      "Epoch 0, Loss: 8.5827\n",
      "Epoch 10, Loss: 7.4036\n",
      "Epoch 20, Loss: 7.0558\n",
      "Epoch 30, Loss: 6.6857\n",
      "Epoch 40, Loss: 5.7979\n"
     ]
    },
    {
     "name": "stderr",
     "output_type": "stream",
     "text": [
      "[I 2025-03-12 16:24:19,376] Trial 151 finished with value: 0.8652924692729801 and parameters: {'K': 5, 'layers': 1, 'hidden_channels': 128, 'out_channels': 256, 'ratio': 0.1435878992873894, 'aggregation': 'sum', 'treatment': 'removal', 'model_type': 'GATConv', 'rate_pairs': 1, 'batch_size': 10, 'lr': 0.0019162985582613981, 'clusters': 100}. Best is trial 151 with value: 0.8652924692729801.\n"
     ]
    },
    {
     "name": "stdout",
     "output_type": "stream",
     "text": [
      " - Metrics: Accuracy=0.9444, F1=0.8660, Recall=0.8531, Precision=0.8794\n",
      "Done. Results written to citeseer_experimentations\\citeseer_scar_sampling_nnif_batch_cluster_1203162139.csv.\n",
      "Average F1 over valid seeds: 0.8653 ± 0.0023\n",
      "Running experiment with seed=654:\n",
      " - K=5, layers=1, hidden=128, out=256\n",
      " - norm=None, dropout=0, batch_size=10, reliable_mini_batch=True\n",
      " - ratio=0.14586463004951472, aggregation=sum, treatment=removal\n",
      " - model_type=GATConv, rate_pairs=1, clusters=100, lr=0.0021456833399502357\n"
     ]
    },
    {
     "name": "stderr",
     "output_type": "stream",
     "text": [
      "Computing METIS partitioning...\n",
      "Done!\n"
     ]
    },
    {
     "name": "stdout",
     "output_type": "stream",
     "text": [
      "Epoch 0, Loss: 8.8832\n",
      "Epoch 10, Loss: 7.6234\n",
      "Epoch 20, Loss: 6.9603\n",
      "Epoch 30, Loss: 6.6738\n",
      "Epoch 40, Loss: 5.6906\n",
      " - Metrics: Accuracy=0.9432, F1=0.8617, Recall=0.8402, Precision=0.8844\n",
      "Running experiment with seed=114:\n",
      " - K=5, layers=1, hidden=128, out=256\n",
      " - norm=None, dropout=0, batch_size=10, reliable_mini_batch=True\n",
      " - ratio=0.14586463004951472, aggregation=sum, treatment=removal\n",
      " - model_type=GATConv, rate_pairs=1, clusters=100, lr=0.0021456833399502357\n"
     ]
    },
    {
     "name": "stderr",
     "output_type": "stream",
     "text": [
      "Computing METIS partitioning...\n",
      "Done!\n"
     ]
    },
    {
     "name": "stdout",
     "output_type": "stream",
     "text": [
      "Epoch 0, Loss: 8.5698\n",
      "Epoch 10, Loss: 7.3689\n",
      "Epoch 20, Loss: 6.9469\n",
      "Epoch 30, Loss: 6.4675\n",
      "Epoch 40, Loss: 5.5072\n",
      " - Metrics: Accuracy=0.9456, F1=0.8686, Recall=0.8531, Precision=0.8846\n",
      "Running experiment with seed=25:\n",
      " - K=5, layers=1, hidden=128, out=256\n",
      " - norm=None, dropout=0, batch_size=10, reliable_mini_batch=True\n",
      " - ratio=0.14586463004951472, aggregation=sum, treatment=removal\n",
      " - model_type=GATConv, rate_pairs=1, clusters=100, lr=0.0021456833399502357\n"
     ]
    },
    {
     "name": "stderr",
     "output_type": "stream",
     "text": [
      "Computing METIS partitioning...\n",
      "Done!\n"
     ]
    },
    {
     "name": "stdout",
     "output_type": "stream",
     "text": [
      "Epoch 0, Loss: 8.5520\n",
      "Epoch 10, Loss: 7.3638\n",
      "Epoch 20, Loss: 6.9408\n",
      "Epoch 30, Loss: 6.4668\n",
      "Epoch 40, Loss: 5.5015\n",
      " - Metrics: Accuracy=0.9483, F1=0.8754, Recall=0.8616, Precision=0.8895\n",
      "Running experiment with seed=759:\n",
      " - K=5, layers=1, hidden=128, out=256\n",
      " - norm=None, dropout=0, batch_size=10, reliable_mini_batch=True\n",
      " - ratio=0.14586463004951472, aggregation=sum, treatment=removal\n",
      " - model_type=GATConv, rate_pairs=1, clusters=100, lr=0.0021456833399502357\n"
     ]
    },
    {
     "name": "stderr",
     "output_type": "stream",
     "text": [
      "Computing METIS partitioning...\n",
      "Done!\n"
     ]
    },
    {
     "name": "stdout",
     "output_type": "stream",
     "text": [
      "Epoch 0, Loss: 8.5557\n",
      "Epoch 10, Loss: 7.3503\n",
      "Epoch 20, Loss: 6.9247\n",
      "Epoch 30, Loss: 6.4636\n",
      "Epoch 40, Loss: 5.4950\n",
      " - Metrics: Accuracy=0.9459, F1=0.8680, Recall=0.8445, Precision=0.8929\n",
      "Running experiment with seed=281:\n",
      " - K=5, layers=1, hidden=128, out=256\n",
      " - norm=None, dropout=0, batch_size=10, reliable_mini_batch=True\n",
      " - ratio=0.14586463004951472, aggregation=sum, treatment=removal\n",
      " - model_type=GATConv, rate_pairs=1, clusters=100, lr=0.0021456833399502357\n"
     ]
    },
    {
     "name": "stderr",
     "output_type": "stream",
     "text": [
      "Computing METIS partitioning...\n",
      "Done!\n"
     ]
    },
    {
     "name": "stdout",
     "output_type": "stream",
     "text": [
      "Epoch 0, Loss: 8.5394\n",
      "Epoch 10, Loss: 7.3467\n",
      "Epoch 20, Loss: 6.9246\n",
      "Epoch 30, Loss: 6.4593\n",
      "Epoch 40, Loss: 5.4876\n"
     ]
    },
    {
     "name": "stderr",
     "output_type": "stream",
     "text": [
      "[I 2025-03-12 16:26:57,674] Trial 152 finished with value: 0.866872202363826 and parameters: {'K': 5, 'layers': 1, 'hidden_channels': 128, 'out_channels': 256, 'ratio': 0.14586463004951472, 'aggregation': 'sum', 'treatment': 'removal', 'model_type': 'GATConv', 'rate_pairs': 1, 'batch_size': 10, 'lr': 0.0021456833399502357, 'clusters': 100}. Best is trial 152 with value: 0.866872202363826.\n"
     ]
    },
    {
     "name": "stdout",
     "output_type": "stream",
     "text": [
      " - Metrics: Accuracy=0.9423, F1=0.8607, Recall=0.8459, Precision=0.8759\n",
      "Done. Results written to citeseer_experimentations\\citeseer_scar_sampling_nnif_batch_cluster_1203162419.csv.\n",
      "Average F1 over valid seeds: 0.8669 ± 0.0053\n",
      "Running experiment with seed=654:\n",
      " - K=5, layers=1, hidden=128, out=256\n",
      " - norm=None, dropout=0, batch_size=10, reliable_mini_batch=True\n",
      " - ratio=0.14540247401519102, aggregation=sum, treatment=removal\n",
      " - model_type=GATConv, rate_pairs=1, clusters=100, lr=0.0019327783858233362\n"
     ]
    },
    {
     "name": "stderr",
     "output_type": "stream",
     "text": [
      "Computing METIS partitioning...\n",
      "Done!\n"
     ]
    },
    {
     "name": "stdout",
     "output_type": "stream",
     "text": [
      "Epoch 0, Loss: 8.9467\n",
      "Epoch 10, Loss: 7.6839\n",
      "Epoch 20, Loss: 7.0856\n",
      "Epoch 30, Loss: 6.8814\n",
      "Epoch 40, Loss: 5.9726\n",
      " - Metrics: Accuracy=0.9459, F1=0.8680, Recall=0.8445, Precision=0.8929\n",
      "Running experiment with seed=114:\n",
      " - K=5, layers=1, hidden=128, out=256\n",
      " - norm=None, dropout=0, batch_size=10, reliable_mini_batch=True\n",
      " - ratio=0.14540247401519102, aggregation=sum, treatment=removal\n",
      " - model_type=GATConv, rate_pairs=1, clusters=100, lr=0.0019327783858233362\n"
     ]
    },
    {
     "name": "stderr",
     "output_type": "stream",
     "text": [
      "Computing METIS partitioning...\n",
      "Done!\n"
     ]
    },
    {
     "name": "stdout",
     "output_type": "stream",
     "text": [
      "Epoch 0, Loss: 8.5774\n",
      "Epoch 10, Loss: 7.4107\n",
      "Epoch 20, Loss: 7.0555\n",
      "Epoch 30, Loss: 6.6746\n",
      "Epoch 40, Loss: 5.7778\n",
      " - Metrics: Accuracy=0.9399, F1=0.8557, Recall=0.8459, Precision=0.8657\n",
      "Running experiment with seed=25:\n",
      " - K=5, layers=1, hidden=128, out=256\n",
      " - norm=None, dropout=0, batch_size=10, reliable_mini_batch=True\n",
      " - ratio=0.14540247401519102, aggregation=sum, treatment=removal\n",
      " - model_type=GATConv, rate_pairs=1, clusters=100, lr=0.0019327783858233362\n"
     ]
    },
    {
     "name": "stderr",
     "output_type": "stream",
     "text": [
      "Computing METIS partitioning...\n",
      "Done!\n"
     ]
    },
    {
     "name": "stdout",
     "output_type": "stream",
     "text": [
      "Epoch 0, Loss: 8.5760\n",
      "Epoch 10, Loss: 7.4109\n",
      "Epoch 20, Loss: 7.0582\n",
      "Epoch 30, Loss: 6.6711\n",
      "Epoch 40, Loss: 5.7771\n",
      " - Metrics: Accuracy=0.9417, F1=0.8592, Recall=0.8445, Precision=0.8744\n",
      "Running experiment with seed=759:\n",
      " - K=5, layers=1, hidden=128, out=256\n",
      " - norm=None, dropout=0, batch_size=10, reliable_mini_batch=True\n",
      " - ratio=0.14540247401519102, aggregation=sum, treatment=removal\n",
      " - model_type=GATConv, rate_pairs=1, clusters=100, lr=0.0019327783858233362\n"
     ]
    },
    {
     "name": "stderr",
     "output_type": "stream",
     "text": [
      "Computing METIS partitioning...\n",
      "Done!\n"
     ]
    },
    {
     "name": "stdout",
     "output_type": "stream",
     "text": [
      "Epoch 0, Loss: 8.5688\n",
      "Epoch 10, Loss: 7.3951\n",
      "Epoch 20, Loss: 7.0414\n",
      "Epoch 30, Loss: 6.6629\n",
      "Epoch 40, Loss: 5.7658\n",
      " - Metrics: Accuracy=0.9426, F1=0.8619, Recall=0.8502, Precision=0.8739\n",
      "Running experiment with seed=281:\n",
      " - K=5, layers=1, hidden=128, out=256\n",
      " - norm=None, dropout=0, batch_size=10, reliable_mini_batch=True\n",
      " - ratio=0.14540247401519102, aggregation=sum, treatment=removal\n",
      " - model_type=GATConv, rate_pairs=1, clusters=100, lr=0.0019327783858233362\n"
     ]
    },
    {
     "name": "stderr",
     "output_type": "stream",
     "text": [
      "Computing METIS partitioning...\n",
      "Done!\n"
     ]
    },
    {
     "name": "stdout",
     "output_type": "stream",
     "text": [
      "Epoch 0, Loss: 8.6001\n",
      "Epoch 10, Loss: 7.4222\n",
      "Epoch 20, Loss: 7.0687\n",
      "Epoch 30, Loss: 6.6818\n",
      "Epoch 40, Loss: 5.7850\n"
     ]
    },
    {
     "name": "stderr",
     "output_type": "stream",
     "text": [
      "[I 2025-03-12 16:29:43,097] Trial 153 finished with value: 0.8623695781746987 and parameters: {'K': 5, 'layers': 1, 'hidden_channels': 128, 'out_channels': 256, 'ratio': 0.14540247401519102, 'aggregation': 'sum', 'treatment': 'removal', 'model_type': 'GATConv', 'rate_pairs': 1, 'batch_size': 10, 'lr': 0.0019327783858233362, 'clusters': 100}. Best is trial 152 with value: 0.866872202363826.\n"
     ]
    },
    {
     "name": "stdout",
     "output_type": "stream",
     "text": [
      " - Metrics: Accuracy=0.9444, F1=0.8670, Recall=0.8602, Precision=0.8739\n",
      "Done. Results written to citeseer_experimentations\\citeseer_scar_sampling_nnif_batch_cluster_1203162657.csv.\n",
      "Average F1 over valid seeds: 0.8624 ± 0.0047\n",
      "Running experiment with seed=654:\n",
      " - K=5, layers=1, hidden=128, out=256\n",
      " - norm=None, dropout=0, batch_size=10, reliable_mini_batch=True\n",
      " - ratio=0.146326277680129, aggregation=sum, treatment=removal\n",
      " - model_type=GATConv, rate_pairs=1, clusters=100, lr=0.0019964646830883366\n"
     ]
    },
    {
     "name": "stderr",
     "output_type": "stream",
     "text": [
      "Computing METIS partitioning...\n",
      "Done!\n"
     ]
    },
    {
     "name": "stdout",
     "output_type": "stream",
     "text": [
      "Epoch 0, Loss: 8.9445\n",
      "Epoch 10, Loss: 7.6916\n",
      "Epoch 20, Loss: 7.0760\n",
      "Epoch 30, Loss: 6.8431\n",
      "Epoch 40, Loss: 5.9055\n",
      " - Metrics: Accuracy=0.9447, F1=0.8653, Recall=0.8431, Precision=0.8887\n",
      "Running experiment with seed=114:\n",
      " - K=5, layers=1, hidden=128, out=256\n",
      " - norm=None, dropout=0, batch_size=10, reliable_mini_batch=True\n",
      " - ratio=0.146326277680129, aggregation=sum, treatment=removal\n",
      " - model_type=GATConv, rate_pairs=1, clusters=100, lr=0.0019964646830883366\n"
     ]
    },
    {
     "name": "stderr",
     "output_type": "stream",
     "text": [
      "Computing METIS partitioning...\n",
      "Done!\n"
     ]
    },
    {
     "name": "stdout",
     "output_type": "stream",
     "text": [
      "Epoch 0, Loss: 8.5640\n",
      "Epoch 10, Loss: 7.3907\n",
      "Epoch 20, Loss: 7.0115\n",
      "Epoch 30, Loss: 6.6124\n",
      "Epoch 40, Loss: 5.6937\n",
      " - Metrics: Accuracy=0.9432, F1=0.8641, Recall=0.8573, Precision=0.8710\n",
      "Running experiment with seed=25:\n",
      " - K=5, layers=1, hidden=128, out=256\n",
      " - norm=None, dropout=0, batch_size=10, reliable_mini_batch=True\n",
      " - ratio=0.146326277680129, aggregation=sum, treatment=removal\n",
      " - model_type=GATConv, rate_pairs=1, clusters=100, lr=0.0019964646830883366\n"
     ]
    },
    {
     "name": "stderr",
     "output_type": "stream",
     "text": [
      "Computing METIS partitioning...\n",
      "Done!\n"
     ]
    },
    {
     "name": "stdout",
     "output_type": "stream",
     "text": [
      "Epoch 0, Loss: 8.5568\n",
      "Epoch 10, Loss: 7.3829\n",
      "Epoch 20, Loss: 7.0087\n",
      "Epoch 30, Loss: 6.6020\n",
      "Epoch 40, Loss: 5.6857\n",
      " - Metrics: Accuracy=0.9417, F1=0.8598, Recall=0.8488, Precision=0.8712\n",
      "Running experiment with seed=759:\n",
      " - K=5, layers=1, hidden=128, out=256\n",
      " - norm=None, dropout=0, batch_size=10, reliable_mini_batch=True\n",
      " - ratio=0.146326277680129, aggregation=sum, treatment=removal\n",
      " - model_type=GATConv, rate_pairs=1, clusters=100, lr=0.0019964646830883366\n"
     ]
    },
    {
     "name": "stderr",
     "output_type": "stream",
     "text": [
      "Computing METIS partitioning...\n",
      "Done!\n"
     ]
    },
    {
     "name": "stdout",
     "output_type": "stream",
     "text": [
      "Epoch 0, Loss: 8.5553\n",
      "Epoch 10, Loss: 7.3853\n",
      "Epoch 20, Loss: 7.0039\n",
      "Epoch 30, Loss: 6.6014\n",
      "Epoch 40, Loss: 5.6880\n",
      " - Metrics: Accuracy=0.9408, F1=0.8573, Recall=0.8445, Precision=0.8706\n",
      "Running experiment with seed=281:\n",
      " - K=5, layers=1, hidden=128, out=256\n",
      " - norm=None, dropout=0, batch_size=10, reliable_mini_batch=True\n",
      " - ratio=0.146326277680129, aggregation=sum, treatment=removal\n",
      " - model_type=GATConv, rate_pairs=1, clusters=100, lr=0.0019964646830883366\n"
     ]
    },
    {
     "name": "stderr",
     "output_type": "stream",
     "text": [
      "Computing METIS partitioning...\n",
      "Done!\n"
     ]
    },
    {
     "name": "stdout",
     "output_type": "stream",
     "text": [
      "Epoch 0, Loss: 8.5811\n"
     ]
    }
   ],
   "source": [
    "from train_NNIF_GNN import run_nnif_gnn_experiment\n",
    "import optuna\n",
    "from typing import Dict, Any\n",
    "\n",
    "def objective(trial: optuna.trial.Trial) -> float:\n",
    "    \"\"\"\n",
    "    Objective function for hyperparameter optimization using Optuna.\n",
    "    It builds a parameter dictionary, calls the experiment function, and\n",
    "    returns the average F1 score.\n",
    "    \"\"\"\n",
    "    params: Dict[str, Any] = {\n",
    "        \"dataset_name\": \"citeseer\",      \n",
    "        \"mechanism\": \"SCAR\",\n",
    "        \"train_pct\": 0.5,\n",
    "        \"K\": trial.suggest_int(\"K\", 2, 7),\n",
    "        \"layers\": trial.suggest_int(\"layers\", 1, 2),\n",
    "        \"hidden_channels\": trial.suggest_categorical(\"hidden_channels\", [64,128, 256]),\n",
    "        \"out_channels\": trial.suggest_categorical(\"out_channels\", [64,128, 256]),\n",
    "        \"norm\": None,\n",
    "        \"dropout\": 0,\n",
    "        \"ratio\": trial.suggest_float(\"ratio\", 0.09, 0.18),\n",
    "        \"aggregation\": trial.suggest_categorical(\"aggregation\", ['sum', 'mean']),\n",
    "        \"treatment\": trial.suggest_categorical(\"treatment\", [\"removal\", \"relabeling\"]),\n",
    "        \"model_type\": trial.suggest_categorical(\"model_type\", ['GCNConv', 'GATConv', 'SAGEConv', 'GINConv']),\n",
    "        \"rate_pairs\":trial.suggest_int(\"rate_pairs\",1,15),\n",
    "        \"batch_size\": trial.suggest_categorical(\"batch_size\", [1,5,10,15]),\n",
    "        \"lr\": trial.suggest_float(\"lr\", 1e-4, 1e-2),\n",
    "        \"reliable_mini_batch\":True,\n",
    "        \"seeds\": 5,\n",
    "        \"output_csv\": \"citeseer_scar_sampling_nnif_batch_cluster.csv\",\n",
    "        \"min\":0.835,\n",
    "        \"clusters\":trial.suggest_categorical(\"clusters\", [100,200,300,400,500]),\n",
    "       \n",
    "    }\n",
    "    \n",
    "    avg_f1, std_f1 = run_nnif_gnn_experiment(params)\n",
    "    \n",
    "    # We aim to maximize F1 score.\n",
    "    return avg_f1\n",
    "\n",
    "# Create an Optuna study to maximize the F1 score.\n",
    "study = optuna.create_study(direction=\"maximize\")\n",
    "study.optimize(objective, n_trials=200)\n",
    "\n",
    "# Print out the best hyperparameters and corresponding F1 score.\n",
    "print(\"Best trial:\")\n",
    "trial = study.best_trial\n",
    "print(\"  Average F1:\", trial.value)\n",
    "print(\"  Best parameters:\")\n",
    "for key, value in trial.params.items():\n",
    "    print(f\"    {key}: {value}\")\n"
   ]
  },
  {
   "cell_type": "markdown",
   "metadata": {},
   "source": [
    "### Hyperparameter Optimization Citeseer\n",
    "#### SAR "
   ]
  },
  {
   "cell_type": "code",
   "execution_count": null,
   "metadata": {},
   "outputs": [],
   "source": [
    "from train_NNIF_GNN import run_nnif_gnn_experiment\n",
    "import optuna\n",
    "from typing import Dict, Any\n",
    "\n",
    "def objective(trial: optuna.trial.Trial) -> float:\n",
    "    \"\"\"\n",
    "    Objective function for hyperparameter optimization using Optuna.\n",
    "    It builds a parameter dictionary, calls the experiment function, and\n",
    "    returns the average F1 score.\n",
    "    \"\"\"\n",
    "    params: Dict[str, Any] = {\n",
    "        \"dataset_name\": \"citeseer\",      \n",
    "        \"mechanism\": \"SAR\",\n",
    "        \"train_pct\": 0.5,\n",
    "        \"K\": trial.suggest_int(\"K\", 2, 7),\n",
    "        \"layers\": trial.suggest_int(\"layers\", 1, 2),\n",
    "        \"hidden_channels\": trial.suggest_categorical(\"hidden_channels\", [64,128, 256]),\n",
    "        \"out_channels\": trial.suggest_categorical(\"out_channels\", [64,128, 256]),\n",
    "        \"norm\": None,\n",
    "        \"dropout\": 0,\n",
    "        \"ratio\": trial.suggest_float(\"ratio\", 0.09, 0.18),\n",
    "        \"aggregation\": trial.suggest_categorical(\"aggregation\", ['sum', 'mean']),\n",
    "        \"treatment\": trial.suggest_categorical(\"treatment\", [\"removal\", \"relabeling\"]),\n",
    "        \"model_type\": trial.suggest_categorical(\"model_type\", ['GCNConv', 'GATConv', 'SAGEConv', 'GINConv']),\n",
    "        \"rate_pairs\":trial.suggest_int(\"rate_pairs\",1,10),\n",
    "        \"batch_size\": trial.suggest_categorical(\"batch_size\", [128,256,512,1024,2048]),\n",
    "        \"lr\": trial.suggest_float(\"lr\", 1e-4, 1e-2),\n",
    "        \"reliable_mini_batch\":True,\n",
    "        \"seeds\": 5,\n",
    "        \"output_csv\": \"citeseer_sar_sampling_nnif_batch_cluster.csv\",\n",
    "        \"min\":0.82\n",
    "    }\n",
    "    \n",
    "    avg_f1, std_f1 = run_nnif_gnn_experiment(params)\n",
    "    \n",
    "    # We aim to maximize F1 score.\n",
    "    return avg_f1\n",
    "\n",
    "# Create an Optuna study to maximize the F1 score.\n",
    "study = optuna.create_study(direction=\"maximize\")\n",
    "study.optimize(objective, n_trials=200)\n",
    "\n",
    "# Print out the best hyperparameters and corresponding F1 score.\n",
    "print(\"Best trial:\")\n",
    "trial = study.best_trial\n",
    "print(\"  Average F1:\", trial.value)\n",
    "print(\"  Best parameters:\")\n",
    "for key, value in trial.params.items():\n",
    "    print(f\"    {key}: {value}\")\n"
   ]
  },
  {
   "cell_type": "markdown",
   "metadata": {},
   "source": [
    "### Hyperparameter Optimization Cora\n",
    "#### SCAR "
   ]
  },
  {
   "cell_type": "code",
   "execution_count": null,
   "metadata": {},
   "outputs": [],
   "source": [
    "from train_NNIF_GNN import run_nnif_gnn_experiment\n",
    "import optuna\n",
    "from typing import Dict, Any\n",
    "\n",
    "def objective(trial: optuna.trial.Trial) -> float:\n",
    "    \"\"\"\n",
    "    Objective function for hyperparameter optimization using Optuna.\n",
    "    It builds a parameter dictionary, calls the experiment function, and\n",
    "    returns the average F1 score.\n",
    "    \"\"\"\n",
    "    params: Dict[str, Any] = {\n",
    "        \"dataset_name\": \"cora\",      \n",
    "        \"mechanism\": \"SCAR\",\n",
    "        \"train_pct\": 0.5,\n",
    "        \"K\": trial.suggest_int(\"K\", 4, 12),\n",
    "        \"layers\": trial.suggest_int(\"layers\", 1, 2),\n",
    "        \"hidden_channels\": trial.suggest_categorical(\"hidden_channels\", [64,128, 256]),\n",
    "        \"out_channels\": trial.suggest_categorical(\"out_channels\", [64,128, 256]),\n",
    "        \"norm\": None,\n",
    "        \"dropout\": 0,\n",
    "        \"ratio\": trial.suggest_float(\"ratio\", 0.16, 0.34),\n",
    "        \"aggregation\": trial.suggest_categorical(\"aggregation\", ['sum', 'mean']),\n",
    "        \"treatment\": trial.suggest_categorical(\"treatment\", [\"removal\", \"relabeling\"]),\n",
    "        \"model_type\": trial.suggest_categorical(\"model_type\", ['GCNConv', 'GATConv', 'SAGEConv', 'GINConv']),\n",
    "        \"rate_pairs\":trial.suggest_int(\"rate_pairs\",1,15),\n",
    "        \"batch_size\": trial.suggest_categorical(\"batch_size\", [1,5,10,15]),\n",
    "        \"lr\": trial.suggest_float(\"lr\", 1e-4, 1e-2),\n",
    "        \"reliable_mini_batch\":True,\n",
    "        \"seeds\": 5,\n",
    "        \"output_csv\": \"cora_scar_sampling_nnif_batch_cluster.csv\",\n",
    "        \"min\":0.84,\n",
    "        \"clusters\":trial.suggest_categorical(\"clusters\", [100,200,300,400,500]),\n",
    "       \n",
    "    }\n",
    "    \n",
    "    avg_f1, std_f1 = run_nnif_gnn_experiment(params)\n",
    "    \n",
    "    # We aim to maximize F1 score.\n",
    "    return avg_f1\n",
    "\n",
    "# Create an Optuna study to maximize the F1 score.\n",
    "study = optuna.create_study(direction=\"maximize\")\n",
    "study.optimize(objective, n_trials=200)\n",
    "\n",
    "# Print out the best hyperparameters and corresponding F1 score.\n",
    "print(\"Best trial:\")\n",
    "trial = study.best_trial\n",
    "print(\"  Average F1:\", trial.value)\n",
    "print(\"  Best parameters:\")\n",
    "for key, value in trial.params.items():\n",
    "    print(f\"    {key}: {value}\")\n"
   ]
  },
  {
   "cell_type": "markdown",
   "metadata": {},
   "source": [
    "### Hyperparameter Optimization Cora\n",
    "#### SAR "
   ]
  },
  {
   "cell_type": "code",
   "execution_count": null,
   "metadata": {},
   "outputs": [],
   "source": [
    "from train_NNIF_GNN import run_nnif_gnn_experiment\n",
    "import optuna\n",
    "from typing import Dict, Any\n",
    "\n",
    "def objective(trial: optuna.trial.Trial) -> float:\n",
    "    \"\"\"\n",
    "    Objective function for hyperparameter optimization using Optuna.\n",
    "    It builds a parameter dictionary, calls the experiment function, and\n",
    "    returns the average F1 score.\n",
    "    \"\"\"\n",
    "    params: Dict[str, Any] = {\n",
    "        \"dataset_name\": \"cora\",      \n",
    "        \"mechanism\": \"SAR\",\n",
    "        \"train_pct\": 0.5,\n",
    "        \"K\": trial.suggest_int(\"K\", 4, 12),\n",
    "        \"layers\": trial.suggest_int(\"layers\", 1, 2),\n",
    "        \"hidden_channels\": trial.suggest_categorical(\"hidden_channels\", [64,128, 256]),\n",
    "        \"out_channels\": trial.suggest_categorical(\"out_channels\", [64,128, 256]),\n",
    "        \"norm\": None,\n",
    "        \"dropout\": 0,\n",
    "        \"ratio\": trial.suggest_float(\"ratio\", 0.16, 0.34),\n",
    "        \"aggregation\": trial.suggest_categorical(\"aggregation\", ['sum', 'mean']),\n",
    "        \"treatment\": trial.suggest_categorical(\"treatment\", [\"removal\", \"relabeling\"]),\n",
    "        \"model_type\": trial.suggest_categorical(\"model_type\", ['GCNConv', 'GATConv', 'SAGEConv', 'GINConv']),\n",
    "        \"rate_pairs\":trial.suggest_int(\"rate_pairs\",1,10),\n",
    "        \"batch_size\": trial.suggest_categorical(\"batch_size\", [128,256,512,1024,2048]),\n",
    "        \"lr\": trial.suggest_float(\"lr\", 1e-4, 1e-2),\n",
    "        \"reliable_mini_batch\":True,\n",
    "        \"seeds\": 5,\n",
    "        \"output_csv\": \"cora_sar_sampling_nnif_batch_cluster.csv\",\n",
    "        \"min\":0.84\n",
    "    }\n",
    "    \n",
    "    avg_f1, std_f1 = run_nnif_gnn_experiment(params)\n",
    "    \n",
    "    # We aim to maximize F1 score.\n",
    "    return avg_f1\n",
    "\n",
    "# Create an Optuna study to maximize the F1 score.\n",
    "study = optuna.create_study(direction=\"maximize\")\n",
    "study.optimize(objective, n_trials=200)\n",
    "\n",
    "# Print out the best hyperparameters and corresponding F1 score.\n",
    "print(\"Best trial:\")\n",
    "trial = study.best_trial\n",
    "print(\"  Average F1:\", trial.value)\n",
    "print(\"  Best parameters:\")\n",
    "for key, value in trial.params.items():\n",
    "    print(f\"    {key}: {value}\")\n"
   ]
  },
  {
   "cell_type": "markdown",
   "metadata": {},
   "source": [
    "### Hyperparameter Optimization Pubmed\n",
    "#### SCAR "
   ]
  },
  {
   "cell_type": "code",
   "execution_count": null,
   "metadata": {},
   "outputs": [],
   "source": [
    "from train_NNIF_GNN import run_nnif_gnn_experiment\n",
    "import optuna\n",
    "from typing import Dict, Any\n",
    "\n",
    "def objective(trial: optuna.trial.Trial) -> float:\n",
    "    \"\"\"\n",
    "    Objective function for hyperparameter optimization using Optuna.\n",
    "    It builds a parameter dictionary, calls the experiment function, and\n",
    "    returns the average F1 score.\n",
    "    \"\"\"\n",
    "    params: Dict[str, Any] = {\n",
    "        \"dataset_name\": \"pubmed\",      \n",
    "        \"mechanism\": \"SCAR\",\n",
    "        \"train_pct\": 0.5,\n",
    "        \"K\": trial.suggest_int(\"K\", 5, 14),\n",
    "        \"layers\": trial.suggest_int(\"layers\", 1, 2),\n",
    "        \"hidden_channels\": trial.suggest_categorical(\"hidden_channels\", [64,128, 256]),\n",
    "        \"out_channels\": trial.suggest_categorical(\"out_channels\", [64,128, 256]),\n",
    "        \"norm\": None,\n",
    "        \"dropout\": 0,\n",
    "        \"ratio\": trial.suggest_float(\"ratio\", 0.2, 0.4),\n",
    "        \"aggregation\": trial.suggest_categorical(\"aggregation\", ['sum', 'mean']),\n",
    "        \"treatment\": trial.suggest_categorical(\"treatment\", [\"removal\", \"relabeling\"]),\n",
    "        \"model_type\": trial.suggest_categorical(\"model_type\", ['GCNConv', 'GATConv', 'SAGEConv', 'GINConv']),\n",
    "        \"rate_pairs\":trial.suggest_int(\"rate_pairs\",1,15),\n",
    "        \"batch_size\": trial.suggest_categorical(\"batch_size\", [1,5,10,15]),\n",
    "        \"lr\": trial.suggest_float(\"lr\", 1e-4, 1e-2),\n",
    "        \"reliable_mini_batch\":True,\n",
    "        \"seeds\": 5,\n",
    "        \"output_csv\": \"pubmed_scar_sampling_nnif_batch_cluster.csv\",\n",
    "        \"min\":0.84,\n",
    "        \"clusters\":trial.suggest_categorical(\"clusters\", [100,200,300,400,500]),\n",
    "       \n",
    "    }\n",
    "    \n",
    "    avg_f1, std_f1 = run_nnif_gnn_experiment(params)\n",
    "    \n",
    "    # We aim to maximize F1 score.\n",
    "    return avg_f1\n",
    "\n",
    "# Create an Optuna study to maximize the F1 score.\n",
    "study = optuna.create_study(direction=\"maximize\")\n",
    "study.optimize(objective, n_trials=200)\n",
    "\n",
    "# Print out the best hyperparameters and corresponding F1 score.\n",
    "print(\"Best trial:\")\n",
    "trial = study.best_trial\n",
    "print(\"  Average F1:\", trial.value)\n",
    "print(\"  Best parameters:\")\n",
    "for key, value in trial.params.items():\n",
    "    print(f\"    {key}: {value}\")\n"
   ]
  },
  {
   "cell_type": "markdown",
   "metadata": {},
   "source": [
    "### Hyperparameter Optimization Pubmed\n",
    "#### SAR "
   ]
  },
  {
   "cell_type": "code",
   "execution_count": null,
   "metadata": {},
   "outputs": [],
   "source": [
    "from train_NNIF_GNN import run_nnif_gnn_experiment\n",
    "import optuna\n",
    "from typing import Dict, Any\n",
    "\n",
    "def objective(trial: optuna.trial.Trial) -> float:\n",
    "    \"\"\"\n",
    "    Objective function for hyperparameter optimization using Optuna.\n",
    "    It builds a parameter dictionary, calls the experiment function, and\n",
    "    returns the average F1 score.\n",
    "    \"\"\"\n",
    "    params: Dict[str, Any] = {\n",
    "        \"dataset_name\": \"pubmed\",      \n",
    "        \"mechanism\": \"SAR\",\n",
    "        \"train_pct\": 0.5,\n",
    "        \"K\": trial.suggest_int(\"K\", 6, 14),\n",
    "        \"layers\": trial.suggest_int(\"layers\", 1, 2),\n",
    "        \"hidden_channels\": trial.suggest_categorical(\"hidden_channels\", [64, 128, 256]),\n",
    "        \"out_channels\": trial.suggest_categorical(\"out_channels\", [64, 128, 256]),\n",
    "        \"norm\": None,\n",
    "        \"dropout\": 0,\n",
    "        \"ratio\": trial.suggest_float(\"ratio\", 0.23, 0.27),\n",
    "        \"aggregation\": trial.suggest_categorical(\"aggregation\", ['sum', 'mean']),\n",
    "        \"treatment\": trial.suggest_categorical(\"treatment\", [\"removal\", \"relabeling\"]),\n",
    "        \"model_type\": trial.suggest_categorical(\"model_type\", ['GCNConv', 'GATConv', 'SAGEConv', 'GINConv']),\n",
    "        \"rate_pairs\":trial.suggest_int(\"rate_pairs\",1,10),\n",
    "        \"batch_size\": trial.suggest_categorical(\"batch_size\", [512,1024,2048,5096,10192]),\n",
    "        \"lr\": trial.suggest_float(\"lr\", 1e-5, 1e-2),\n",
    "        \"reliable_mini_batch\":True,\n",
    "        \"seeds\": 5,\n",
    "        \"output_csv\": \"pubmed_sar_sampling_nnif_batch_cluster.csv\",\n",
    "        \"min\": 0.82\n",
    "        }\n",
    "    \n",
    "    # Call the experiment function with these parameters.\n",
    "    # run_nnif_gnn_experiment returns (avg_f1, std_f1)\n",
    "    avg_f1, std_f1 = run_nnif_gnn_experiment(params)\n",
    "    \n",
    "    # We aim to maximize F1 score.\n",
    "    return avg_f1\n",
    "\n",
    "# Create an Optuna study to maximize the F1 score.\n",
    "study = optuna.create_study(direction=\"maximize\")\n",
    "study.optimize(objective, n_trials=200)\n",
    "\n",
    "# Print out the best hyperparameters and corresponding F1 score.\n",
    "print(\"Best trial:\")\n",
    "trial = study.best_trial\n",
    "print(\"  Average F1:\", trial.value)\n",
    "print(\"  Best parameters:\")\n",
    "for key, value in trial.params.items():\n",
    "    print(f\"    {key}: {value}\")\n"
   ]
  },
  {
   "cell_type": "markdown",
   "metadata": {},
   "source": [
    "### Hyperparameter Optimization WikiCS\n",
    "#### SCAR "
   ]
  },
  {
   "cell_type": "code",
   "execution_count": null,
   "metadata": {},
   "outputs": [],
   "source": [
    "from train_NNIF_GNN import run_nnif_gnn_experiment\n",
    "import optuna\n",
    "from typing import Dict, Any\n",
    "\n",
    "def objective(trial: optuna.trial.Trial) -> float:\n",
    "    \"\"\"\n",
    "    Objective function for hyperparameter optimization using Optuna.\n",
    "    It builds a parameter dictionary, calls the experiment function, and\n",
    "    returns the average F1 score.\n",
    "    \"\"\"\n",
    "    params: Dict[str, Any] = {\n",
    "        \"dataset_name\": \"wiki-cs\",      \n",
    "        \"mechanism\": \"SCAR\",\n",
    "        \"train_pct\": 0.5,\n",
    "        \"K\": trial.suggest_int(\"K\", 3, 40),\n",
    "        \"layers\": trial.suggest_int(\"layers\", 1, 2),\n",
    "        \"hidden_channels\": trial.suggest_categorical(\"hidden_channels\", [64,128, 256]),\n",
    "        \"out_channels\": trial.suggest_categorical(\"out_channels\", [64,128, 256]),\n",
    "        \"norm\": None,\n",
    "        \"dropout\": 0,\n",
    "        \"ratio\": trial.suggest_float(\"ratio\", 0.09, 0.18),\n",
    "        \"aggregation\": trial.suggest_categorical(\"aggregation\", ['sum', 'mean']),\n",
    "        \"treatment\": trial.suggest_categorical(\"treatment\", [\"removal\", \"relabeling\"]),\n",
    "        \"model_type\": trial.suggest_categorical(\"model_type\", ['GCNConv', 'GATConv', 'SAGEConv', 'GINConv']),\n",
    "        \"rate_pairs\":trial.suggest_int(\"rate_pairs\",1,10),\n",
    "        \"batch_size\": trial.suggest_categorical(\"batch_size\", [1,5,10,15]),\n",
    "        \"lr\": trial.suggest_float(\"lr\", 1e-4, 1e-2),\n",
    "        \"reliable_mini_batch\":True,\n",
    "        \"seeds\": 5,\n",
    "        \"output_csv\": \"wikics_scar_sampling_nnif_batch_cluster.csv\",\n",
    "        \"min\":0.88,\n",
    "        \"clusters\":trial.suggest_categorical(\"clusters\", [100,200,300,400,500]),\n",
    "       \n",
    "    }\n",
    "    \n",
    "    avg_f1, std_f1 = run_nnif_gnn_experiment(params)\n",
    "    \n",
    "    # We aim to maximize F1 score.\n",
    "    return avg_f1\n",
    "\n",
    "# Create an Optuna study to maximize the F1 score.\n",
    "study = optuna.create_study(direction=\"maximize\")\n",
    "study.optimize(objective, n_trials=200)\n",
    "\n",
    "# Print out the best hyperparameters and corresponding F1 score.\n",
    "print(\"Best trial:\")\n",
    "trial = study.best_trial\n",
    "print(\"  Average F1:\", trial.value)\n",
    "print(\"  Best parameters:\")\n",
    "for key, value in trial.params.items():\n",
    "    print(f\"    {key}: {value}\")\n"
   ]
  },
  {
   "cell_type": "markdown",
   "metadata": {},
   "source": [
    "### Hyperparameter Optimization WikiCS\n",
    "#### SAR "
   ]
  },
  {
   "cell_type": "code",
   "execution_count": null,
   "metadata": {},
   "outputs": [],
   "source": [
    "from train_NNIF_GNN import run_nnif_gnn_experiment\n",
    "import optuna\n",
    "from typing import Dict, Any\n",
    "\n",
    "def objective(trial: optuna.trial.Trial) -> float:\n",
    "    \"\"\"\n",
    "    Objective function for hyperparameter optimization using Optuna.\n",
    "    It builds a parameter dictionary, calls the experiment function, and\n",
    "    returns the average F1 score.\n",
    "    \"\"\"\n",
    "    params: Dict[str, Any] = {\n",
    "        \"dataset_name\": \"wiki-cs\",      \n",
    "        \"mechanism\": \"SAR\",\n",
    "        \"train_pct\": 0.5,\n",
    "        \"alpha\": 0.5,\n",
    "        \"K\": trial.suggest_int(\"K\", 23, 48),\n",
    "        \"layers\": trial.suggest_int(\"layers\", 1, 2),\n",
    "        \"hidden_channels\": trial.suggest_categorical(\"hidden_channels\", [64,128, 256]),\n",
    "        \"out_channels\": trial.suggest_categorical(\"out_channels\", [64,128, 256]),\n",
    "        \"norm\": None,\n",
    "        \"dropout\": 0,#trial.suggest_float(\"dropout\", 0, 0.5),\n",
    "        \"margin\": 0.5,\n",
    "        \"lpl_weight\": 0.5,#trial.suggest_float(\"lpl_weight\", 0.01, 0.99),\n",
    "        \"ratio\": trial.suggest_float(\"ratio\", 0.08, 0.48),\n",
    "        \"aggregation\": trial.suggest_categorical(\"aggregation\", ['sum', 'mean']),\n",
    "        \"treatment\": trial.suggest_categorical(\"treatment\", [\"removal\", \"relabeling\"]),\n",
    "        \"model_type\": trial.suggest_categorical(\"model_type\", ['GCNConv', 'GATConv', 'SAGEConv', 'GINConv', 'TransformerConv']),\n",
    "        \"sampling_mode\":trial.suggest_categorical(\"sampling_mode\", [None,'nn', 'random', 'feature']), #'weighted',\n",
    "        \"num_neighbors\": trial.suggest_int(\"num_neighbors\", 5, 20),\n",
    "        \"seeds\": 5,\n",
    "        \"output_csv\": \"wikics_sar_conv_sampling.csv\"\n",
    "    }\n",
    "    \n",
    "    # Call the experiment function with these parameters.\n",
    "    # run_nnif_gnn_experiment returns (avg_f1, std_f1)\n",
    "    avg_f1, std_f1 = run_nnif_gnn_experiment(params)\n",
    "    \n",
    "    # We aim to maximize F1 score.\n",
    "    return avg_f1\n",
    "\n",
    "# Create an Optuna study to maximize the F1 score.\n",
    "study = optuna.create_study(direction=\"maximize\")\n",
    "study.optimize(objective, n_trials=200)\n",
    "\n",
    "# Print out the best hyperparameters and corresponding F1 score.\n",
    "print(\"Best trial:\")\n",
    "trial = study.best_trial\n",
    "print(\"  Average F1:\", trial.value)\n",
    "print(\"  Best parameters:\")\n",
    "for key, value in trial.params.items():\n",
    "    print(f\"    {key}: {value}\")\n"
   ]
  },
  {
   "cell_type": "markdown",
   "metadata": {},
   "source": [
    "# Elliptic Bitcoin"
   ]
  },
  {
   "cell_type": "code",
   "execution_count": null,
   "metadata": {},
   "outputs": [
    {
     "name": "stderr",
     "output_type": "stream",
     "text": [
      "[I 2025-03-12 11:08:16,457] A new study created in memory with name: no-name-9f843de6-1c81-4682-859c-d54c36ea9fdb\n"
     ]
    },
    {
     "name": "stdout",
     "output_type": "stream",
     "text": [
      "Running experiment with seed=654:\n",
      " - K=16, layers=2, hidden=256, out=128\n",
      " - norm=None, dropout=0.38706779927156976, batch_size=40, reliable_mini_batch=True\n",
      " - ratio=0.01222827988140382, aggregation=sum, treatment=removal\n",
      " - model_type=SAGEConv, rate_pairs=3, clusters=2000, lr=0.005651409078608822\n",
      "165\n",
      "torch.Size([203769, 165])\n"
     ]
    },
    {
     "name": "stderr",
     "output_type": "stream",
     "text": [
      "Computing METIS partitioning...\n",
      "Done!\n"
     ]
    },
    {
     "name": "stdout",
     "output_type": "stream",
     "text": [
      "Epoch 0, Loss: 674.1356\n",
      "Epoch 10, Loss: 127.3564\n",
      "Epoch 20, Loss: 50.7907\n",
      "Epoch 30, Loss: 26.9527\n",
      "Epoch 40, Loss: 16.4045\n"
     ]
    },
    {
     "name": "stderr",
     "output_type": "stream",
     "text": [
      "[I 2025-03-12 11:19:05,538] Trial 0 finished with value: 0.6324221233312143 and parameters: {'K': 16, 'layers': 2, 'hidden_channels': 256, 'out_channels': 128, 'dropout': 0.38706779927156976, 'ratio': 0.01222827988140382, 'aggregation': 'sum', 'treatment': 'removal', 'model_type': 'SAGEConv', 'rate_pairs': 3, 'batch_size': 40, 'lr': 0.005651409078608822, 'clusters': 2000}. Best is trial 0 with value: 0.6324221233312143.\n"
     ]
    },
    {
     "name": "stdout",
     "output_type": "stream",
     "text": [
      " - Metrics: Accuracy=0.9379, F1=0.6324, Recall=0.5472, Precision=0.7491\n",
      "F1 = 0.63 < 0.65, skipping ...\n",
      "Done. Results written to elliptic-bitcoin_experimentations\\elliptic_bitcoin_cluster_1203110816.csv.\n",
      "Average F1 over valid seeds: 0.6324 ± 0.0000\n",
      "Running experiment with seed=654:\n",
      " - K=8, layers=1, hidden=64, out=64\n",
      " - norm=None, dropout=0.16686621113334402, batch_size=40, reliable_mini_batch=True\n",
      " - ratio=0.01494468463150106, aggregation=sum, treatment=relabeling\n",
      " - model_type=SAGEConv, rate_pairs=1, clusters=2000, lr=0.000584308231031967\n",
      "165\n",
      "torch.Size([203769, 165])\n"
     ]
    },
    {
     "name": "stderr",
     "output_type": "stream",
     "text": [
      "Computing METIS partitioning...\n"
     ]
    }
   ],
   "source": [
    "from train_NNIF_GNN import run_nnif_gnn_experiment\n",
    "import optuna\n",
    "from typing import Dict, Any\n",
    "\n",
    "def objective(trial: optuna.trial.Trial) -> float:\n",
    "    \"\"\"\n",
    "    Objective function for hyperparameter optimization using Optuna.\n",
    "    It builds a parameter dictionary, calls the experiment function, and\n",
    "    returns the average F1 score.\n",
    "    \"\"\"\n",
    "    params: Dict[str, Any] = {\n",
    "        \"dataset_name\": \"elliptic-bitcoin\",      \n",
    "        \"mechanism\": \"SAR2\",\n",
    "        \"train_pct\": 0.5,\n",
    "        \"alpha\": 0.5,\n",
    "        \"K\": trial.suggest_int(\"K\", 3, 20),\n",
    "        \"layers\": trial.suggest_int(\"layers\", 1, 3),\n",
    "        \"hidden_channels\": trial.suggest_categorical(\"hidden_channels\", [64,128, 256]),\n",
    "        \"out_channels\": trial.suggest_categorical(\"out_channels\", [64,128, 256]),\n",
    "        \"norm\": None,\n",
    "        \"dropout\": trial.suggest_float(\"dropout\", 0, 0.4),\n",
    "        \"ratio\": trial.suggest_float(\"ratio\", 0.001, 0.03),\n",
    "        \"aggregation\": trial.suggest_categorical(\"aggregation\", ['sum', 'mean']),\n",
    "        \"treatment\": trial.suggest_categorical(\"treatment\", [\"removal\", \"relabeling\"]),\n",
    "        \"model_type\": trial.suggest_categorical(\"model_type\", ['GCNConv', 'GATConv', 'SAGEConv', 'GINConv']),\n",
    "        \"rate_pairs\":trial.suggest_int(\"rate_pairs\",1,10),\n",
    "        \"batch_size\": trial.suggest_categorical(\"batch_size\", [10,20,30,40]),\n",
    "        \"lr\": trial.suggest_float(\"lr\", 1e-4, 1e-2),\n",
    "        \"reliable_mini_batch\":True,\n",
    "        \"seeds\": 1,\n",
    "        \"output_csv\": \"elliptic_bitcoin_cluster.csv\",\n",
    "        \"min\":0.65,\n",
    "        \"clusters\":trial.suggest_categorical(\"clusters\", [1300,1500,1700,2000])\n",
    "        }\n",
    "\n",
    "    \n",
    "    # Call the experiment function with these parameters.\n",
    "    # run_nnif_gnn_experiment returns (avg_f1, std_f1)\n",
    "    avg_f1, std_f1 = run_nnif_gnn_experiment(params)\n",
    "    \n",
    "    # We aim to maximize F1 score.\n",
    "    return avg_f1\n",
    "\n",
    "# Create an Optuna study to maximize the F1 score.\n",
    "study = optuna.create_study(direction=\"maximize\")\n",
    "study.optimize(objective, n_trials=200)\n",
    "\n",
    "# Print out the best hyperparameters and corresponding F1 score.\n",
    "print(\"Best trial:\")\n",
    "trial = study.best_trial\n",
    "print(\"  Average F1:\", trial.value)\n",
    "print(\"  Best parameters:\")\n",
    "for key, value in trial.params.items():\n",
    "    print(f\"    {key}: {value}\")\n"
   ]
  }
 ],
 "metadata": {
  "kernelspec": {
   "display_name": "Python 3",
   "language": "python",
   "name": "python3"
  },
  "language_info": {
   "codemirror_mode": {
    "name": "ipython",
    "version": 3
   },
   "file_extension": ".py",
   "mimetype": "text/x-python",
   "name": "python",
   "nbconvert_exporter": "python",
   "pygments_lexer": "ipython3",
   "version": "3.11.11"
  }
 },
 "nbformat": 4,
 "nbformat_minor": 2
}
